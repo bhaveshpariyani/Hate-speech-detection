{
  "nbformat": 4,
  "nbformat_minor": 0,
  "metadata": {
    "colab": {
      "name": "NLP_project",
      "provenance": [],
      "collapsed_sections": []
    },
    "kernelspec": {
      "name": "python3",
      "display_name": "Python 3"
    }
  },
  "cells": [
    {
      "cell_type": "markdown",
      "metadata": {
        "id": "xXTvqm1jKdvj",
        "colab_type": "text"
      },
      "source": [
        "Dataset Link\n",
        "https://www.kaggle.com/vkrahul/hate-speech-analysis/data"
      ]
    },
    {
      "cell_type": "markdown",
      "metadata": {
        "id": "J_xsB6jH-CuU",
        "colab_type": "text"
      },
      "source": [
        "# Import libraries"
      ]
    },
    {
      "cell_type": "code",
      "metadata": {
        "id": "tS1XjefOCxjV",
        "colab_type": "code",
        "outputId": "65cf7f9f-b40c-4a5f-efbf-6d259aba3ce0",
        "colab": {
          "base_uri": "https://localhost:8080/",
          "height": 243
        }
      },
      "source": [
        "import numpy as np \n",
        "import pandas as pd\n",
        "from functions import *\n",
        "from sklearn.svm import SVC\n",
        "from sklearn.linear_model import LogisticRegression\n",
        "from sklearn.ensemble import RandomForestClassifier\n",
        "from sklearn.metrics import f1_score\n",
        "from nltk.stem import WordNetLemmatizer\n",
        "from nltk import tokenize\n",
        "from sklearn.feature_extraction.text import TfidfVectorizer\n",
        "from sklearn.model_selection import train_test_split\n",
        "from sklearn.feature_extraction.text import CountVectorizer\n",
        "from prettytable import PrettyTable\n",
        "import re\n",
        "import nltk\n",
        "from nltk.corpus import stopwords\n",
        "from collections import Counter \n",
        "from sklearn.metrics import confusion_matrix \n",
        "\n",
        "nltk.download('wordnet')\n",
        "nltk.download('stopwords')\n",
        "nltk.download('punkt')"
      ],
      "execution_count": 0,
      "outputs": [
        {
          "output_type": "stream",
          "text": [
            "/usr/local/lib/python3.6/dist-packages/statsmodels/tools/_testing.py:19: FutureWarning: pandas.util.testing is deprecated. Use the functions in the public API at pandas.testing instead.\n",
            "  import pandas.util.testing as tm\n",
            "/usr/local/lib/python3.6/dist-packages/sklearn/utils/deprecation.py:144: FutureWarning: The sklearn.metrics.scorer module is  deprecated in version 0.22 and will be removed in version 0.24. The corresponding classes / functions should instead be imported from sklearn.metrics. Anything that cannot be imported from sklearn.metrics is now part of the private API.\n",
            "  warnings.warn(message, FutureWarning)\n"
          ],
          "name": "stderr"
        },
        {
          "output_type": "stream",
          "text": [
            "[nltk_data] Downloading package wordnet to /root/nltk_data...\n",
            "[nltk_data]   Unzipping corpora/wordnet.zip.\n",
            "[nltk_data] Downloading package stopwords to /root/nltk_data...\n",
            "[nltk_data]   Unzipping corpora/stopwords.zip.\n",
            "[nltk_data] Downloading package punkt to /root/nltk_data...\n",
            "[nltk_data]   Unzipping tokenizers/punkt.zip.\n"
          ],
          "name": "stdout"
        },
        {
          "output_type": "execute_result",
          "data": {
            "text/plain": [
              "True"
            ]
          },
          "metadata": {
            "tags": []
          },
          "execution_count": 1
        }
      ]
    },
    {
      "cell_type": "markdown",
      "metadata": {
        "id": "riEKQKIU-elG",
        "colab_type": "text"
      },
      "source": [
        "# Import dataset"
      ]
    },
    {
      "cell_type": "code",
      "metadata": {
        "id": "NJGdO9QY46MZ",
        "colab_type": "code",
        "colab": {}
      },
      "source": [
        "train = pd.read_csv(\"train_E6oV3lV.csv\")"
      ],
      "execution_count": 0,
      "outputs": []
    },
    {
      "cell_type": "markdown",
      "metadata": {
        "id": "QwWKbwne-rXS",
        "colab_type": "text"
      },
      "source": [
        "## dataset info"
      ]
    },
    {
      "cell_type": "markdown",
      "metadata": {
        "id": "BBMvfO6A-y7I",
        "colab_type": "text"
      },
      "source": [
        "classwise distribution of dataset                                          \n",
        "class 0 represents non hate speech                                         \n",
        "class 1 represents hate speech"
      ]
    },
    {
      "cell_type": "code",
      "metadata": {
        "id": "I6Vhj4WR5Z8H",
        "colab_type": "code",
        "outputId": "0639dcbb-0013-4fef-932e-5bd05ddec019",
        "colab": {
          "base_uri": "https://localhost:8080/",
          "height": 36
        }
      },
      "source": [
        "print(Counter(train['label']))"
      ],
      "execution_count": 0,
      "outputs": [
        {
          "output_type": "stream",
          "text": [
            "Counter({0: 29720, 1: 2242})\n"
          ],
          "name": "stdout"
        }
      ]
    },
    {
      "cell_type": "code",
      "metadata": {
        "id": "Ux-Ly5fDPIbV",
        "colab_type": "code",
        "outputId": "7b1ddddc-9276-48d7-8c2a-1b1fd0c2a95e",
        "colab": {
          "base_uri": "https://localhost:8080/",
          "height": 198
        }
      },
      "source": [
        "from wordcloud import WordCloud\n",
        "import matplotlib.pyplot as plt\n",
        "% matplotlib inline\n",
        "\n",
        "text = \"\"\n",
        "for i in train[train[\"label\"]==1][\"tweet\"].values:\n",
        "  text = text + i\n",
        "\n",
        "stop_words = list(stopwords.words('english'))\n",
        "stop_words.append('user')\n",
        "wordcloud = WordCloud(stopwords=stop_words).generate(text)\n",
        "\n",
        "# Display the generated image:\n",
        "plt.imshow(wordcloud, interpolation='bilinear')\n",
        "plt.axis(\"off\")\n",
        "plt.show()"
      ],
      "execution_count": 0,
      "outputs": [
        {
          "output_type": "display_data",
          "data": {
            "image/png": "[encoded data removed]",
            "text/plain": [
              "<Figure size 432x288 with 1 Axes>"
            ]
          },
          "metadata": {
            "tags": [],
            "needs_background": "light"
          }
        }
      ]
    },
    {
      "cell_type": "markdown",
      "metadata": {
        "id": "F4otSdaPPYUe",
        "colab_type": "text"
      },
      "source": [
        "Top 10 words in hate speech"
      ]
    },
    {
      "cell_type": "code",
      "metadata": {
        "id": "uVGnrzDzPQrq",
        "colab_type": "code",
        "outputId": "eabdcfae-797a-43e7-826e-244beca9254b",
        "colab": {
          "base_uri": "https://localhost:8080/",
          "height": 223
        }
      },
      "source": [
        "\n",
        "# Create a list of tuples sorted by index 1 i.e. value field     \n",
        "listofTuples = sorted(wordcloud.words_.items() , reverse=True, key=lambda x: x[1])\n",
        " \n",
        "# Iterate over the sorted sequence\n",
        "count = 0\n",
        "for elem in listofTuples :\n",
        "    if(count > 10):\n",
        "      break\n",
        "    print(elem[0])\n",
        "    count = count+1   "
      ],
      "execution_count": 0,
      "outputs": [
        {
          "output_type": "stream",
          "text": [
            "amp\n",
            "trump\n",
            "white\n",
            "allahsoil\n",
            "black\n",
            "racist\n",
            "hate\n",
            "women\n",
            "might libtard\n",
            "libtard libtard\n",
            "libtard sjw\n"
          ],
          "name": "stdout"
        }
      ]
    },
    {
      "cell_type": "markdown",
      "metadata": {
        "id": "aGnDRB1U-970",
        "colab_type": "text"
      },
      "source": [
        "sample tweet in class 0"
      ]
    },
    {
      "cell_type": "code",
      "metadata": {
        "id": "Tpy5vmvC8pn7",
        "colab_type": "code",
        "outputId": "98bbe3af-690f-493f-aec4-87890811ccc7",
        "colab": {
          "base_uri": "https://localhost:8080/",
          "height": 36
        }
      },
      "source": [
        "train[train[\"label\"]==0][\"tweet\"].values[0]"
      ],
      "execution_count": 0,
      "outputs": [
        {
          "output_type": "execute_result",
          "data": {
            "text/plain": [
              "' @user when a father is dysfunctional and is so selfish he drags his kids into his dysfunction.   #run'"
            ]
          },
          "metadata": {
            "tags": []
          },
          "execution_count": 30
        }
      ]
    },
    {
      "cell_type": "markdown",
      "metadata": {
        "id": "koYCYley_YUc",
        "colab_type": "text"
      },
      "source": [
        "Sample tweet in class 1"
      ]
    },
    {
      "cell_type": "code",
      "metadata": {
        "id": "H4gLD3zF88K7",
        "colab_type": "code",
        "outputId": "f7c30c3f-5c30-4202-f820-5c4dfc0a3de2",
        "colab": {
          "base_uri": "https://localhost:8080/",
          "height": 36
        }
      },
      "source": [
        "train[train[\"label\"]==1][\"tweet\"].values[0]"
      ],
      "execution_count": 0,
      "outputs": [
        {
          "output_type": "execute_result",
          "data": {
            "text/plain": [
              "\"@user #cnn calls #michigan middle school 'build the wall' chant '' #tcot  \""
            ]
          },
          "metadata": {
            "tags": []
          },
          "execution_count": 38
        }
      ]
    },
    {
      "cell_type": "markdown",
      "metadata": {
        "id": "Apm0eY0-_hKv",
        "colab_type": "text"
      },
      "source": [
        "#lemmatize tweets and split into train/test data"
      ]
    },
    {
      "cell_type": "code",
      "metadata": {
        "id": "ML6tZaQvc_99",
        "colab_type": "code",
        "outputId": "8b04af43-006c-46a6-fda4-b82c14d7e852",
        "colab": {
          "base_uri": "https://localhost:8080/",
          "height": 204
        }
      },
      "source": [
        "train['label'] = train['label'].astype('category')\n",
        "\n",
        "train.info()\n",
        "\n",
        "train['text_token'] = [''.join(re.sub('[^A-Za-z]',' ',text) for text in lis) for lis in train['tweet']]\n",
        "# test['text_lem'] = [''.join([WordNetLemmatizer().lemmatize(re.sub('[^A-Za-z]',' ',text)) for text in lis]) for lis in test['tweet']]\n",
        "\n",
        "X_train,X_test,y_train,y_test = train_test_split(train['text_token'],train['label'],test_size=0.2,stratify = train['label'],random_state=345)"
      ],
      "execution_count": 0,
      "outputs": [
        {
          "output_type": "stream",
          "text": [
            "<class 'pandas.core.frame.DataFrame'>\n",
            "RangeIndex: 31962 entries, 0 to 31961\n",
            "Data columns (total 3 columns):\n",
            " #   Column  Non-Null Count  Dtype   \n",
            "---  ------  --------------  -----   \n",
            " 0   id      31962 non-null  int64   \n",
            " 1   label   31962 non-null  category\n",
            " 2   tweet   31962 non-null  object  \n",
            "dtypes: category(1), int64(1), object(1)\n",
            "memory usage: 530.8+ KB\n"
          ],
          "name": "stdout"
        }
      ]
    },
    {
      "cell_type": "code",
      "metadata": {
        "id": "zJke4saJsdyE",
        "colab_type": "code",
        "outputId": "55ed35fc-b493-49ef-b445-018bfa44032e",
        "colab": {
          "base_uri": "https://localhost:8080/",
          "height": 73
        }
      },
      "source": [
        "print(Counter(y_train.values)),print(Counter(y_test.values))"
      ],
      "execution_count": 0,
      "outputs": [
        {
          "output_type": "stream",
          "text": [
            "Counter({0: 23775, 1: 1794})\n",
            "Counter({0: 5945, 1: 448})\n"
          ],
          "name": "stdout"
        },
        {
          "output_type": "execute_result",
          "data": {
            "text/plain": [
              "(None, None)"
            ]
          },
          "metadata": {
            "tags": []
          },
          "execution_count": 4
        }
      ]
    },
    {
      "cell_type": "markdown",
      "metadata": {
        "id": "wv8tgGnu_1Mf",
        "colab_type": "text"
      },
      "source": [
        "Initialize tfidf and bag of word vectorizer"
      ]
    },
    {
      "cell_type": "code",
      "metadata": {
        "id": "HKNnWd1J_xdj",
        "colab_type": "code",
        "colab": {}
      },
      "source": [
        "tfidf = TfidfVectorizer(ngram_range = (1,4)).fit(X_train)\n",
        "bow = CountVectorizer(min_df=2,lowercase=True)"
      ],
      "execution_count": 0,
      "outputs": []
    },
    {
      "cell_type": "markdown",
      "metadata": {
        "id": "fovbHVKeAChN",
        "colab_type": "text"
      },
      "source": [
        "we only fit both vectorizer on training data to make same vocabulary for both training and testing which makes the shape of training and testing same"
      ]
    },
    {
      "cell_type": "code",
      "metadata": {
        "id": "Djqa9Nu_ABvX",
        "colab_type": "code",
        "colab": {}
      },
      "source": [
        "X_train_bow= bow.fit_transform(X_train)\n",
        "X_test_bow = bow.transform(X_test)\n",
        "\n",
        "X_train_tfidf = tfidf.transform(X_train)\n",
        "X_test_tfidf = tfidf.transform(X_test)"
      ],
      "execution_count": 0,
      "outputs": []
    },
    {
      "cell_type": "code",
      "metadata": {
        "id": "G4h0AXkLlqhp",
        "colab_type": "code",
        "outputId": "eba25ece-034e-494d-d621-212d44954a72",
        "colab": {
          "base_uri": "https://localhost:8080/",
          "height": 36
        }
      },
      "source": [
        "print(X_train_tfidf[0].todense().shape)"
      ],
      "execution_count": 0,
      "outputs": [
        {
          "output_type": "stream",
          "text": [
            "(1, 588381)\n"
          ],
          "name": "stdout"
        }
      ]
    },
    {
      "cell_type": "code",
      "metadata": {
        "id": "L-n62MJdl1Xw",
        "colab_type": "code",
        "outputId": "bdb46b3e-1823-4e8b-9fde-9e02d5064d17",
        "colab": {
          "base_uri": "https://localhost:8080/",
          "height": 36
        }
      },
      "source": [
        "print(X_train_bow[0].todense().shape)"
      ],
      "execution_count": 0,
      "outputs": [
        {
          "output_type": "stream",
          "text": [
            "(1, 12514)\n"
          ],
          "name": "stdout"
        }
      ]
    },
    {
      "cell_type": "markdown",
      "metadata": {
        "id": "qAAtu60-ApD8",
        "colab_type": "text"
      },
      "source": [
        "initialize prettytable to store our required output"
      ]
    },
    {
      "cell_type": "code",
      "metadata": {
        "id": "3oujau0GApsv",
        "colab_type": "code",
        "colab": {}
      },
      "source": [
        "table = PrettyTable() \n",
        "table.field_names = ['Model','F1_score','Accuracy']"
      ],
      "execution_count": 0,
      "outputs": []
    },
    {
      "cell_type": "markdown",
      "metadata": {
        "id": "pBAPiWegA0uR",
        "colab_type": "text"
      },
      "source": [
        "#intialize & fit model , predict data\n",
        "using `SVC`,`Logistic Regression` and `Random Forest` machine learning model\n",
        "with default parameters"
      ]
    },
    {
      "cell_type": "code",
      "metadata": {
        "id": "La8YE_l2ytJ1",
        "colab_type": "code",
        "colab": {}
      },
      "source": [
        "import matplotlib.pyplot as plt\n",
        "import seaborn as sns\n",
        "def plt_confusion_matrix(y_train,y_pred):\n",
        "    df_cm = pd.DataFrame(confusion_matrix(y_train,y_pred), range(2), range(2))\n",
        "    # plt.figure(figsize=(10,7))\n",
        "    sns.set(font_scale=1.4) # for label size\n",
        "    sns.heatmap(df_cm, annot=True, annot_kws={\"size\": 8},fmt='g') # font size\n",
        "    plt.xlabel('Actual classes')\n",
        "    plt.ylabel('Predicted classes')\n",
        "    plt.show()"
      ],
      "execution_count": 0,
      "outputs": []
    },
    {
      "cell_type": "code",
      "metadata": {
        "id": "XVveXv3tDQlC",
        "colab_type": "code",
        "outputId": "9f53b491-6499-44b3-a51a-9c45a7499f24",
        "colab": {
          "base_uri": "https://localhost:8080/",
          "height": 1000
        }
      },
      "source": [
        "print(\"..Training SVM model\")\n",
        "clf1 = SVC(random_state=345).fit(X_train_tfidf,y_train)                                   #fit SVC on tfidf vector\n",
        "clf2 = SVC(random_state=345).fit(X_train_bow,y_train)                                     #fit SVC on bag of word vector\n",
        "print(\"..SVM Training Done\")\n",
        "\n",
        "y_pred = clf1.predict(X_test_tfidf)                                                       #predict using SVC on tfidf vector\n",
        "print(\"for svm tfidf\")\n",
        "plt_confusion_matrix(y_test,y_pred) \n",
        "table.add_row(['SVM-tfidf',f1_score(y_test,y_pred),clf1.score(X_test_tfidf,y_test)])\n",
        "y_pred = clf2.predict(X_test_bow)                                                         #predict using SVC on bag of word vector\n",
        "print(\"for svm bow\")\n",
        "plt_confusion_matrix(y_test,y_pred) \n",
        "table.add_row(['SVM-bow',f1_score(y_test,y_pred),clf2.score(X_test_bow,y_test)])\n",
        "\n",
        "print(\"..Training LogisticRegression\")\n",
        "clf1 = LogisticRegression(random_state=345).fit(X_train_tfidf,y_train)                     #fit logistic regression on tfidf vector\n",
        "clf2 = LogisticRegression(random_state=345).fit(X_train_bow,y_train)                       #fit logistic regression on bag of words vector\n",
        "print(\"..LR Training Done\")\n",
        "\n",
        "y_pred = clf1.predict(X_test_tfidf)                                                        #predict using logistic regression on tfidf vector\n",
        "print(\"for logistic-regression tfidf\")\n",
        "plt_confusion_matrix(y_test,y_pred) \n",
        "table.add_row(['LR-tfidf',f1_score(y_test,y_pred),clf1.score(X_test_tfidf,y_test)])\n",
        "\n",
        "y_pred = clf2.predict(X_test_bow)                                                          #predict using logistic regression on bag of words vector\n",
        "print(\"for logistic-regression bow\")\n",
        "plt_confusion_matrix(y_test,y_pred) \n",
        "table.add_row(['LR-bow',f1_score(y_test,y_pred),clf2.score(X_test_bow,y_test)])\n",
        "\n",
        "print(\"..Training RF\")\n",
        "clf1 = RandomForestClassifier(random_state=345).fit(X_train_tfidf,y_train)                  #fit random forest on tfidf vector\n",
        "clf2 = RandomForestClassifier(random_state=345).fit(X_train_bow,y_train)                    #fit random forest on bag of word vector\n",
        "print(\"..RF Training Done\")\n",
        "\n",
        "y_pred = clf1.predict(X_test_tfidf)                                                         #predict using random forest on tfidf vector\n",
        "print(\"for random forest tfidf\")\n",
        "plt_confusion_matrix(y_test,y_pred) \n",
        "table.add_row([\"RF-tfidf\",f1_score(y_test,y_pred),clf1.score(X_test_tfidf,y_test)])\n",
        "\n",
        "y_pred = clf2.predict(X_test_bow)                                                           #preedict using random forest on bag of words vector\n",
        "print(\"for random forest bow\")\n",
        "plt_confusion_matrix(y_test,y_pred) \n",
        "table.add_row([\"RF-tfidf\",f1_score(y_test,y_pred),clf2.score(X_test_bow,y_test)])\n",
        "\n",
        "print(table)"
      ],
      "execution_count": 0,
      "outputs": [
        {
          "output_type": "stream",
          "text": [
            "..Training SVM model\n",
            "..SVM Training Done\n",
            "for svm tfidf\n"
          ],
          "name": "stdout"
        },
        {
          "output_type": "display_data",
          "data": {
            "image/png": "[encoded data removed]",
            "text/plain": [
              "<Figure size 432x288 with 2 Axes>"
            ]
          },
          "metadata": {
            "tags": []
          }
        },
        {
          "output_type": "stream",
          "text": [
            "for svm bow\n"
          ],
          "name": "stdout"
        },
        {
          "output_type": "display_data",
          "data": {
            "image/png": "[encoded data removed]",
            "text/plain": [
              "<Figure size 432x288 with 2 Axes>"
            ]
          },
          "metadata": {
            "tags": []
          }
        },
        {
          "output_type": "stream",
          "text": [
            "..Training LogisticRegression\n"
          ],
          "name": "stdout"
        },
        {
          "output_type": "stream",
          "text": [
            "/usr/local/lib/python3.6/dist-packages/sklearn/linear_model/_logistic.py:940: ConvergenceWarning: lbfgs failed to converge (status=1):\n",
            "STOP: TOTAL NO. of ITERATIONS REACHED LIMIT.\n",
            "\n",
            "Increase the number of iterations (max_iter) or scale the data as shown in:\n",
            "    https://scikit-learn.org/stable/modules/preprocessing.html\n",
            "Please also refer to the documentation for alternative solver options:\n",
            "    https://scikit-learn.org/stable/modules/linear_model.html#logistic-regression\n",
            "  extra_warning_msg=_LOGISTIC_SOLVER_CONVERGENCE_MSG)\n"
          ],
          "name": "stderr"
        },
        {
          "output_type": "stream",
          "text": [
            "..LR Training Done\n",
            "for logistic-regression tfidf\n"
          ],
          "name": "stdout"
        },
        {
          "output_type": "display_data",
          "data": {
            "image/png": "[encoded data removed]",
            "text/plain": [
              "<Figure size 432x288 with 2 Axes>"
            ]
          },
          "metadata": {
            "tags": []
          }
        },
        {
          "output_type": "stream",
          "text": [
            "for logistic-regression bow\n"
          ],
          "name": "stdout"
        },
        {
          "output_type": "display_data",
          "data": {
            "image/png": "[encoded data removed]",
            "text/plain": [
              "<Figure size 432x288 with 2 Axes>"
            ]
          },
          "metadata": {
            "tags": []
          }
        },
        {
          "output_type": "stream",
          "text": [
            "..Training RF\n",
            "..RF Training Done\n",
            "for random forest tfidf\n"
          ],
          "name": "stdout"
        },
        {
          "output_type": "display_data",
          "data": {
            "image/png": "[encoded data removed]",
            "text/plain": [
              "<Figure size 432x288 with 2 Axes>"
            ]
          },
          "metadata": {
            "tags": []
          }
        },
        {
          "output_type": "stream",
          "text": [
            "for random forest bow\n"
          ],
          "name": "stdout"
        },
        {
          "output_type": "display_data",
          "data": {
            "image/png": "[encoded data removed]",
            "text/plain": [
              "<Figure size 432x288 with 2 Axes>"
            ]
          },
          "metadata": {
            "tags": []
          }
        },
        {
          "output_type": "stream",
          "text": [
            "+-----------+--------------------+--------------------+\n",
            "|   Model   |      F1_score      |      Accuracy      |\n",
            "+-----------+--------------------+--------------------+\n",
            "| SVM-tfidf | 0.4933333333333333 | 0.9524479899890506 |\n",
            "|  SVM-bow  | 0.5518341307814992 | 0.9560456749569842 |\n",
            "|  LR-tfidf | 0.2704761904761905 | 0.9400907242296261 |\n",
            "|   LR-bow  | 0.6538461538461537 | 0.9605818864382919 |\n",
            "|  RF-tfidf | 0.5475040257648953 | 0.9560456749569842 |\n",
            "|  RF-tfidf | 0.658008658008658  | 0.9629282027217269 |\n",
            "+-----------+--------------------+--------------------+\n"
          ],
          "name": "stdout"
        }
      ]
    },
    {
      "cell_type": "markdown",
      "metadata": {
        "id": "am2Q-srXChQe",
        "colab_type": "text"
      },
      "source": [
        "from above table we can conclude that Random forest shows best performance with bag of word vector"
      ]
    },
    {
      "cell_type": "markdown",
      "metadata": {
        "id": "QAmZ6Vlat2ji",
        "colab_type": "text"
      },
      "source": [
        "lets use some preprocessing to and evaluate the performance"
      ]
    },
    {
      "cell_type": "markdown",
      "metadata": {
        "id": "U4f650jQDE12",
        "colab_type": "text"
      },
      "source": [
        "#using preprocessing"
      ]
    },
    {
      "cell_type": "markdown",
      "metadata": {
        "id": "Igytle1sDNrw",
        "colab_type": "text"
      },
      "source": [
        "##`process`\n",
        "function replaces contracted word with its decontracted form and then removes the stopwords"
      ]
    },
    {
      "cell_type": "code",
      "metadata": {
        "id": "oy1E4MZmToBV",
        "colab_type": "code",
        "outputId": "1b373e68-0358-470d-9f74-350625f53999",
        "colab": {
          "base_uri": "https://localhost:8080/",
          "height": 36
        }
      },
      "source": [
        "X_train_processed=process(X_train.values)"
      ],
      "execution_count": 0,
      "outputs": [
        {
          "output_type": "stream",
          "text": [
            "100%|██████████| 25569/25569 [00:39<00:00, 645.74it/s]\n"
          ],
          "name": "stderr"
        }
      ]
    },
    {
      "cell_type": "code",
      "metadata": {
        "id": "JxNH1SCTTr1k",
        "colab_type": "code",
        "outputId": "5dae59a2-dca1-48c7-e98b-88deb71b4e02",
        "colab": {
          "base_uri": "https://localhost:8080/",
          "height": 36
        }
      },
      "source": [
        "X_test_proccessed=process(X_test.values)"
      ],
      "execution_count": 0,
      "outputs": [
        {
          "output_type": "stream",
          "text": [
            "100%|██████████| 6393/6393 [00:09<00:00, 658.53it/s]\n"
          ],
          "name": "stderr"
        }
      ]
    },
    {
      "cell_type": "markdown",
      "metadata": {
        "id": "pPTvfZB2DxtS",
        "colab_type": "text"
      },
      "source": [
        "##`stemming` \n",
        "used for stemming"
      ]
    },
    {
      "cell_type": "code",
      "metadata": {
        "id": "unDs8CRRUvKf",
        "colab_type": "code",
        "colab": {}
      },
      "source": [
        "X_train_stem = stemming(X_train_processed)\n",
        "X_test_stem = stemming(X_test_proccessed)"
      ],
      "execution_count": 0,
      "outputs": []
    },
    {
      "cell_type": "markdown",
      "metadata": {
        "id": "h9FaxSeuEEpi",
        "colab_type": "text"
      },
      "source": [
        "intialize tfidf vector and  bag of word vector as done above"
      ]
    },
    {
      "cell_type": "code",
      "metadata": {
        "id": "eDWvp6YGVBQ3",
        "colab_type": "code",
        "colab": {}
      },
      "source": [
        "tfidf = TfidfVectorizer(ngram_range = (1,4)).fit(X_train_stem)\n",
        "bow = CountVectorizer(min_df=2,lowercase=True)\n",
        "\n",
        "X_train_bow= bow.fit_transform(X_train_stem)\n",
        "X_test_bow = bow.transform(X_test_stem)\n",
        "\n",
        "X_train_tfidf = tfidf.transform(X_train_stem)\n",
        "X_test_tfidf = tfidf.transform(X_test_stem)"
      ],
      "execution_count": 0,
      "outputs": []
    },
    {
      "cell_type": "code",
      "metadata": {
        "id": "1FYUBLA9p9BE",
        "colab_type": "code",
        "outputId": "6268e023-4676-443e-acfa-bca2b8094327",
        "colab": {
          "base_uri": "https://localhost:8080/",
          "height": 36
        }
      },
      "source": [
        "X_train_tfidf[0].todense().shape, X_train_bow[0].todense().shape"
      ],
      "execution_count": 0,
      "outputs": [
        {
          "output_type": "execute_result",
          "data": {
            "text/plain": [
              "((1, 402289), (1, 10013))"
            ]
          },
          "metadata": {
            "tags": []
          },
          "execution_count": 31
        }
      ]
    },
    {
      "cell_type": "code",
      "metadata": {
        "id": "G1n0QpkH4WPz",
        "colab_type": "code",
        "colab": {}
      },
      "source": [
        "table = PrettyTable() \n",
        "table.field_names = ['Model','best_param','F1_score','Accuracy']\n",
        "scorer = make_scorer(f1_score, greater_is_better=True)"
      ],
      "execution_count": 0,
      "outputs": []
    },
    {
      "cell_type": "markdown",
      "metadata": {
        "id": "CY7eXhtTELRP",
        "colab_type": "text"
      },
      "source": [
        "##`gridsearch`\n",
        "used to obtain best parameter                                              \n",
        "here `F1 score` is used as score as there is large class imbalance it is easy obtain high accuracy, so to get best parameter F1 score is used       \n",
        "\n",
        "Formula for F1 score                                                      \n",
        "F1 Score = 2*((precision*recall)/(precision+recall))"
      ]
    },
    {
      "cell_type": "markdown",
      "metadata": {
        "id": "mgb5j8QbEVYO",
        "colab_type": "text"
      },
      "source": [
        "###`SVC`"
      ]
    },
    {
      "cell_type": "code",
      "metadata": {
        "id": "v_jn3GI1xClX",
        "colab_type": "code",
        "outputId": "8ecabefd-81b8-4782-e6c8-1caf648683ad",
        "colab": {
          "base_uri": "https://localhost:8080/",
          "height": 1000
        }
      },
      "source": [
        "\n",
        "grid = {\"C\":[1,2,20,30,40,50,100,130,160,200,300,350,400],\"kernel\":['linear']}\n",
        "\n",
        "clf_svm1=SVC(random_state=345)\n",
        "clf_svm2=SVC(random_state=345)\n",
        "\n",
        "#tfidf\n",
        "rf_cv=gridsearch(X_train_tfidf,y_train,clf_svm1,grid,scorer)\n",
        "params=rf_cv.best_params_\n",
        "clf_svm = SVC(random_state=345,kernel=params['kernel'],C=params['C']).fit(X_train_tfidf,y_train)\n",
        "print(\"..tfidf done\")\n",
        "y_pred = clf_svm.predict(X_test_tfidf)\n",
        "print(\"for svm tfidf\")\n",
        "plt_confusion_matrix(y_test,y_pred) \n",
        "table.add_row(['linear-svm-tfidf',rf_cv.best_params_,f1_score(y_test,y_pred),clf_svm.score(X_test_tfidf,y_test)])\n",
        "\n",
        "#bow\n",
        "rf_cv=gridsearch(X_train_bow,y_train,clf_svm2,grid,scorer)\n",
        "params=rf_cv.best_params_\n",
        "clf_svm = SVC(random_state=345,kernel=params['kernel'],C=params['C']).fit(X_train_bow,y_train)\n",
        "y_pred = clf_svm.predict(X_test_bow)\n",
        "print(\"for svm bow\")\n",
        "plt_confusion_matrix(y_test,y_pred) \n",
        "table.add_row(['linear-svm-bow',rf_cv.best_params_,f1_score(y_test,y_pred),clf_svm.score(X_test_bow,y_test)])\n",
        "print(table)"
      ],
      "execution_count": 0,
      "outputs": [
        {
          "output_type": "stream",
          "text": [
            "Fitting 2 folds for each of 13 candidates, totalling 26 fits\n",
            "[CV] C=1, kernel=linear ..............................................\n"
          ],
          "name": "stdout"
        },
        {
          "output_type": "stream",
          "text": [
            "[Parallel(n_jobs=1)]: Using backend SequentialBackend with 1 concurrent workers.\n"
          ],
          "name": "stderr"
        },
        {
          "output_type": "stream",
          "text": [
            "[CV]  C=1, kernel=linear, score=(train=0.971, test=0.419), total=  56.8s\n",
            "[CV] C=1, kernel=linear ..............................................\n"
          ],
          "name": "stdout"
        },
        {
          "output_type": "stream",
          "text": [
            "[Parallel(n_jobs=1)]: Done   1 out of   1 | elapsed:  1.2min remaining:    0.0s\n"
          ],
          "name": "stderr"
        },
        {
          "output_type": "stream",
          "text": [
            "[CV]  C=1, kernel=linear, score=(train=0.975, test=0.413), total=  56.2s\n",
            "[CV] C=2, kernel=linear ..............................................\n"
          ],
          "name": "stdout"
        },
        {
          "output_type": "stream",
          "text": [
            "[Parallel(n_jobs=1)]: Done   2 out of   2 | elapsed:  2.4min remaining:    0.0s\n"
          ],
          "name": "stderr"
        },
        {
          "output_type": "stream",
          "text": [
            "[CV]  C=2, kernel=linear, score=(train=0.998, test=0.477), total= 1.1min\n",
            "[CV] C=2, kernel=linear ..............................................\n"
          ],
          "name": "stdout"
        },
        {
          "output_type": "stream",
          "text": [
            "[Parallel(n_jobs=1)]: Done   3 out of   3 | elapsed:  3.8min remaining:    0.0s\n"
          ],
          "name": "stderr"
        },
        {
          "output_type": "stream",
          "text": [
            "[CV]  C=2, kernel=linear, score=(train=0.999, test=0.488), total= 1.1min\n",
            "[CV] C=20, kernel=linear .............................................\n"
          ],
          "name": "stdout"
        },
        {
          "output_type": "stream",
          "text": [
            "[Parallel(n_jobs=1)]: Done   4 out of   4 | elapsed:  5.1min remaining:    0.0s\n"
          ],
          "name": "stderr"
        },
        {
          "output_type": "stream",
          "text": [
            "[CV]  C=20, kernel=linear, score=(train=0.999, test=0.470), total= 1.0min\n",
            "[CV] C=20, kernel=linear .............................................\n"
          ],
          "name": "stdout"
        },
        {
          "output_type": "stream",
          "text": [
            "[Parallel(n_jobs=1)]: Done   5 out of   5 | elapsed:  6.4min remaining:    0.0s\n"
          ],
          "name": "stderr"
        },
        {
          "output_type": "stream",
          "text": [
            "[CV]  C=20, kernel=linear, score=(train=0.999, test=0.487), total= 1.0min\n",
            "[CV] C=30, kernel=linear .............................................\n"
          ],
          "name": "stdout"
        },
        {
          "output_type": "stream",
          "text": [
            "[Parallel(n_jobs=1)]: Done   6 out of   6 | elapsed:  7.7min remaining:    0.0s\n"
          ],
          "name": "stderr"
        },
        {
          "output_type": "stream",
          "text": [
            "[CV]  C=30, kernel=linear, score=(train=0.999, test=0.466), total=  57.1s\n",
            "[CV] C=30, kernel=linear .............................................\n"
          ],
          "name": "stdout"
        },
        {
          "output_type": "stream",
          "text": [
            "[Parallel(n_jobs=1)]: Done   7 out of   7 | elapsed:  8.9min remaining:    0.0s\n"
          ],
          "name": "stderr"
        },
        {
          "output_type": "stream",
          "text": [
            "[CV]  C=30, kernel=linear, score=(train=0.999, test=0.484), total= 1.0min\n",
            "[CV] C=40, kernel=linear .............................................\n"
          ],
          "name": "stdout"
        },
        {
          "output_type": "stream",
          "text": [
            "[Parallel(n_jobs=1)]: Done   8 out of   8 | elapsed: 10.2min remaining:    0.0s\n"
          ],
          "name": "stderr"
        },
        {
          "output_type": "stream",
          "text": [
            "[CV]  C=40, kernel=linear, score=(train=0.999, test=0.459), total=  55.6s\n",
            "[CV] C=40, kernel=linear .............................................\n"
          ],
          "name": "stdout"
        },
        {
          "output_type": "stream",
          "text": [
            "[Parallel(n_jobs=1)]: Done   9 out of   9 | elapsed: 11.3min remaining:    0.0s\n"
          ],
          "name": "stderr"
        },
        {
          "output_type": "stream",
          "text": [
            "[CV]  C=40, kernel=linear, score=(train=0.999, test=0.482), total= 1.0min\n",
            "[CV] C=50, kernel=linear .............................................\n",
            "[CV]  C=50, kernel=linear, score=(train=0.999, test=0.458), total=  57.5s\n",
            "[CV] C=50, kernel=linear .............................................\n",
            "[CV]  C=50, kernel=linear, score=(train=0.999, test=0.482), total=  59.8s\n",
            "[CV] C=100, kernel=linear ............................................\n",
            "[CV]  C=100, kernel=linear, score=(train=0.999, test=0.457), total=  55.7s\n",
            "[CV] C=100, kernel=linear ............................................\n",
            "[CV]  C=100, kernel=linear, score=(train=0.999, test=0.476), total=  53.4s\n",
            "[CV] C=130, kernel=linear ............................................\n",
            "[CV]  C=130, kernel=linear, score=(train=0.999, test=0.457), total=  55.3s\n",
            "[CV] C=130, kernel=linear ............................................\n",
            "[CV]  C=130, kernel=linear, score=(train=0.999, test=0.474), total=  52.4s\n",
            "[CV] C=160, kernel=linear ............................................\n",
            "[CV]  C=160, kernel=linear, score=(train=0.999, test=0.457), total=  55.4s\n",
            "[CV] C=160, kernel=linear ............................................\n",
            "[CV]  C=160, kernel=linear, score=(train=0.999, test=0.474), total=  52.2s\n",
            "[CV] C=200, kernel=linear ............................................\n",
            "[CV]  C=200, kernel=linear, score=(train=0.999, test=0.457), total=  55.7s\n",
            "[CV] C=200, kernel=linear ............................................\n",
            "[CV]  C=200, kernel=linear, score=(train=0.999, test=0.474), total=  51.5s\n",
            "[CV] C=300, kernel=linear ............................................\n",
            "[CV]  C=300, kernel=linear, score=(train=0.999, test=0.457), total=  55.8s\n",
            "[CV] C=300, kernel=linear ............................................\n",
            "[CV]  C=300, kernel=linear, score=(train=0.999, test=0.474), total=  51.9s\n",
            "[CV] C=350, kernel=linear ............................................\n",
            "[CV]  C=350, kernel=linear, score=(train=0.999, test=0.457), total=  56.1s\n",
            "[CV] C=350, kernel=linear ............................................\n",
            "[CV]  C=350, kernel=linear, score=(train=0.999, test=0.474), total=  51.9s\n",
            "[CV] C=400, kernel=linear ............................................\n",
            "[CV]  C=400, kernel=linear, score=(train=0.999, test=0.457), total=  56.1s\n",
            "[CV] C=400, kernel=linear ............................................\n",
            "[CV]  C=400, kernel=linear, score=(train=0.999, test=0.474), total=  52.2s\n"
          ],
          "name": "stdout"
        },
        {
          "output_type": "stream",
          "text": [
            "[Parallel(n_jobs=1)]: Done  26 out of  26 | elapsed: 30.6min finished\n"
          ],
          "name": "stderr"
        },
        {
          "output_type": "stream",
          "text": [
            "best parameters: {'C': 2, 'kernel': 'linear'}\n",
            "..tfidf done\n",
            "for svm tfidf\n"
          ],
          "name": "stdout"
        },
        {
          "output_type": "display_data",
          "data": {
            "image/png": "[encoded data removed]",
            "text/plain": [
              "<Figure size 432x288 with 2 Axes>"
            ]
          },
          "metadata": {
            "tags": []
          }
        },
        {
          "output_type": "stream",
          "text": [
            "Fitting 2 folds for each of 13 candidates, totalling 26 fits\n",
            "[CV] C=1, kernel=linear ..............................................\n"
          ],
          "name": "stdout"
        },
        {
          "output_type": "stream",
          "text": [
            "[Parallel(n_jobs=1)]: Using backend SequentialBackend with 1 concurrent workers.\n"
          ],
          "name": "stderr"
        },
        {
          "output_type": "stream",
          "text": [
            "[CV]  C=1, kernel=linear, score=(train=0.955, test=0.621), total=   6.3s\n",
            "[CV] C=1, kernel=linear ..............................................\n"
          ],
          "name": "stdout"
        },
        {
          "output_type": "stream",
          "text": [
            "[Parallel(n_jobs=1)]: Done   1 out of   1 | elapsed:    8.5s remaining:    0.0s\n"
          ],
          "name": "stderr"
        },
        {
          "output_type": "stream",
          "text": [
            "[CV]  C=1, kernel=linear, score=(train=0.963, test=0.615), total=   6.3s\n",
            "[CV] C=2, kernel=linear ..............................................\n"
          ],
          "name": "stdout"
        },
        {
          "output_type": "stream",
          "text": [
            "[Parallel(n_jobs=1)]: Done   2 out of   2 | elapsed:   17.0s remaining:    0.0s\n"
          ],
          "name": "stderr"
        },
        {
          "output_type": "stream",
          "text": [
            "[CV]  C=2, kernel=linear, score=(train=0.976, test=0.618), total=   6.8s\n",
            "[CV] C=2, kernel=linear ..............................................\n"
          ],
          "name": "stdout"
        },
        {
          "output_type": "stream",
          "text": [
            "[Parallel(n_jobs=1)]: Done   3 out of   3 | elapsed:   26.0s remaining:    0.0s\n"
          ],
          "name": "stderr"
        },
        {
          "output_type": "stream",
          "text": [
            "[CV]  C=2, kernel=linear, score=(train=0.981, test=0.604), total=   6.2s\n",
            "[CV] C=20, kernel=linear .............................................\n"
          ],
          "name": "stdout"
        },
        {
          "output_type": "stream",
          "text": [
            "[Parallel(n_jobs=1)]: Done   4 out of   4 | elapsed:   34.4s remaining:    0.0s\n"
          ],
          "name": "stderr"
        },
        {
          "output_type": "stream",
          "text": [
            "[CV]  C=20, kernel=linear, score=(train=0.992, test=0.540), total=   6.7s\n",
            "[CV] C=20, kernel=linear .............................................\n"
          ],
          "name": "stdout"
        },
        {
          "output_type": "stream",
          "text": [
            "[Parallel(n_jobs=1)]: Done   5 out of   5 | elapsed:   43.0s remaining:    0.0s\n"
          ],
          "name": "stderr"
        },
        {
          "output_type": "stream",
          "text": [
            "[CV]  C=20, kernel=linear, score=(train=0.998, test=0.560), total=   6.2s\n",
            "[CV] C=30, kernel=linear .............................................\n"
          ],
          "name": "stdout"
        },
        {
          "output_type": "stream",
          "text": [
            "[Parallel(n_jobs=1)]: Done   6 out of   6 | elapsed:   51.2s remaining:    0.0s\n"
          ],
          "name": "stderr"
        },
        {
          "output_type": "stream",
          "text": [
            "[CV]  C=30, kernel=linear, score=(train=0.993, test=0.524), total=   6.8s\n",
            "[CV] C=30, kernel=linear .............................................\n"
          ],
          "name": "stdout"
        },
        {
          "output_type": "stream",
          "text": [
            "[Parallel(n_jobs=1)]: Done   7 out of   7 | elapsed:   59.9s remaining:    0.0s\n"
          ],
          "name": "stderr"
        },
        {
          "output_type": "stream",
          "text": [
            "[CV]  C=30, kernel=linear, score=(train=0.998, test=0.553), total=   6.4s\n",
            "[CV] C=40, kernel=linear .............................................\n"
          ],
          "name": "stdout"
        },
        {
          "output_type": "stream",
          "text": [
            "[Parallel(n_jobs=1)]: Done   8 out of   8 | elapsed:  1.1min remaining:    0.0s\n"
          ],
          "name": "stderr"
        },
        {
          "output_type": "stream",
          "text": [
            "[CV]  C=40, kernel=linear, score=(train=0.993, test=0.518), total=   6.8s\n",
            "[CV] C=40, kernel=linear .............................................\n"
          ],
          "name": "stdout"
        },
        {
          "output_type": "stream",
          "text": [
            "[Parallel(n_jobs=1)]: Done   9 out of   9 | elapsed:  1.3min remaining:    0.0s\n"
          ],
          "name": "stderr"
        },
        {
          "output_type": "stream",
          "text": [
            "[CV]  C=40, kernel=linear, score=(train=0.999, test=0.550), total=   6.4s\n",
            "[CV] C=50, kernel=linear .............................................\n",
            "[CV]  C=50, kernel=linear, score=(train=0.993, test=0.511), total=   6.7s\n",
            "[CV] C=50, kernel=linear .............................................\n",
            "[CV]  C=50, kernel=linear, score=(train=0.999, test=0.550), total=   6.3s\n",
            "[CV] C=100, kernel=linear ............................................\n",
            "[CV]  C=100, kernel=linear, score=(train=0.997, test=0.495), total=   6.8s\n",
            "[CV] C=100, kernel=linear ............................................\n",
            "[CV]  C=100, kernel=linear, score=(train=0.999, test=0.548), total=   7.1s\n",
            "[CV] C=130, kernel=linear ............................................\n",
            "[CV]  C=130, kernel=linear, score=(train=0.998, test=0.488), total=   7.4s\n",
            "[CV] C=130, kernel=linear ............................................\n",
            "[CV]  C=130, kernel=linear, score=(train=0.999, test=0.546), total=   7.0s\n",
            "[CV] C=160, kernel=linear ............................................\n",
            "[CV]  C=160, kernel=linear, score=(train=0.998, test=0.489), total=   7.0s\n",
            "[CV] C=160, kernel=linear ............................................\n",
            "[CV]  C=160, kernel=linear, score=(train=0.999, test=0.548), total=   6.9s\n",
            "[CV] C=200, kernel=linear ............................................\n",
            "[CV]  C=200, kernel=linear, score=(train=0.998, test=0.494), total=   8.2s\n",
            "[CV] C=200, kernel=linear ............................................\n",
            "[CV]  C=200, kernel=linear, score=(train=0.999, test=0.543), total=   7.9s\n",
            "[CV] C=300, kernel=linear ............................................\n",
            "[CV]  C=300, kernel=linear, score=(train=0.998, test=0.491), total=   7.5s\n",
            "[CV] C=300, kernel=linear ............................................\n",
            "[CV]  C=300, kernel=linear, score=(train=0.999, test=0.540), total=  11.3s\n",
            "[CV] C=350, kernel=linear ............................................\n",
            "[CV]  C=350, kernel=linear, score=(train=0.998, test=0.490), total=   9.7s\n",
            "[CV] C=350, kernel=linear ............................................\n",
            "[CV]  C=350, kernel=linear, score=(train=0.999, test=0.534), total=   9.9s\n",
            "[CV] C=400, kernel=linear ............................................\n",
            "[CV]  C=400, kernel=linear, score=(train=0.998, test=0.486), total=   8.4s\n",
            "[CV] C=400, kernel=linear ............................................\n",
            "[CV]  C=400, kernel=linear, score=(train=0.999, test=0.534), total=   7.7s\n"
          ],
          "name": "stdout"
        },
        {
          "output_type": "stream",
          "text": [
            "[Parallel(n_jobs=1)]: Done  26 out of  26 | elapsed:  4.0min finished\n"
          ],
          "name": "stderr"
        },
        {
          "output_type": "stream",
          "text": [
            "best parameters: {'C': 1, 'kernel': 'linear'}\n",
            "for svm bow\n"
          ],
          "name": "stdout"
        },
        {
          "output_type": "display_data",
          "data": {
            "image/png": "[encoded data removed]",
            "text/plain": [
              "<Figure size 432x288 with 2 Axes>"
            ]
          },
          "metadata": {
            "tags": []
          }
        },
        {
          "output_type": "stream",
          "text": [
            "+------------------+------------------------------+--------------------+--------------------+\n",
            "|      Model       |          best_param          |      F1_score      |      Accuracy      |\n",
            "+------------------+------------------------------+--------------------+--------------------+\n",
            "| linear-svm-tfidf | {'C': 2, 'kernel': 'linear'} | 0.7488151658767774 | 0.9668387298607852 |\n",
            "|  linear-svm-bow  | {'C': 1, 'kernel': 'linear'} | 0.7100737100737101 | 0.9630846238072892 |\n",
            "+------------------+------------------------------+--------------------+--------------------+\n"
          ],
          "name": "stdout"
        }
      ]
    },
    {
      "cell_type": "markdown",
      "metadata": {
        "id": "QtnMzOMwEatx",
        "colab_type": "text"
      },
      "source": [
        "###`logistic regression`"
      ]
    },
    {
      "cell_type": "code",
      "metadata": {
        "id": "WVunZiEUyNI8",
        "colab_type": "code",
        "outputId": "907a957d-cc3a-4968-cf67-15962dae8ace",
        "colab": {
          "base_uri": "https://localhost:8080/",
          "height": 1000
        }
      },
      "source": [
        "grid = {\"C\":[0.5,1,2,4,10,20,30,40,50,70,80,100,130,160,180,190,200,250,300,350,400],\"max_iter\":[50,100,150,200,250,300,350,400]}\n",
        "\n",
        "#tfidf\n",
        "clf_LR = LogisticRegression(random_state=345)\n",
        "rf_cv=gridsearch(X_train_tfidf,y_train,clf_LR,grid,scorer)\n",
        "print(\"..tfidf done\")\n",
        "params=rf_cv.best_params_\n",
        "clf_LR = LogisticRegression(random_state=345,C=params['C'],max_iter=params['max_iter']).fit(X_train_tfidf,y_train)\n",
        "y_pred = clf_LR.predict(X_test_tfidf)\n",
        "print(\"for logistic-regression tfidf\")\n",
        "plt_confusion_matrix(y_test,y_pred) \n",
        "table.add_row(['LR-tfidf',rf_cv.best_params_,f1_score(y_test,y_pred),clf_LR.score(X_test_tfidf,y_test)])\n",
        "\n",
        "#bow\n",
        "clf_LR = LogisticRegression(random_state=345)\n",
        "rf_cv=gridsearch(X_train_bow,y_train,clf_LR,grid,scorer)\n",
        "params=rf_cv.best_params_\n",
        "clf_LR = LogisticRegression(random_state=345,C=params['C'],max_iter=params['max_iter']).fit(X_train_bow,y_train)\n",
        "y_pred = clf_LR.predict(X_test_bow)\n",
        "print(\"for logistic-regression bow\")\n",
        "plt_confusion_matrix(y_test,y_pred)\n",
        "table.add_row(['LR-tfidf',rf_cv.best_params_,f1_score(y_test,y_pred),clf_LR.score(X_test_bow,y_test)])\n",
        "print(table)"
      ],
      "execution_count": 0,
      "outputs": [
        {
          "output_type": "stream",
          "text": [
            "Fitting 2 folds for each of 168 candidates, totalling 336 fits\n",
            "[CV] C=0.5, max_iter=50 ..............................................\n"
          ],
          "name": "stdout"
        },
        {
          "output_type": "stream",
          "text": [
            "[Parallel(n_jobs=1)]: Using backend SequentialBackend with 1 concurrent workers.\n"
          ],
          "name": "stderr"
        },
        {
          "output_type": "stream",
          "text": [
            "[CV]  C=0.5, max_iter=50, score=(train=0.141, test=0.125), total=   2.1s\n",
            "[CV] C=0.5, max_iter=50 ..............................................\n"
          ],
          "name": "stdout"
        },
        {
          "output_type": "stream",
          "text": [
            "[Parallel(n_jobs=1)]: Done   1 out of   1 | elapsed:    2.1s remaining:    0.0s\n"
          ],
          "name": "stderr"
        },
        {
          "output_type": "stream",
          "text": [
            "[CV]  C=0.5, max_iter=50, score=(train=0.110, test=0.104), total=   2.4s\n",
            "[CV] C=0.5, max_iter=100 .............................................\n"
          ],
          "name": "stdout"
        },
        {
          "output_type": "stream",
          "text": [
            "[Parallel(n_jobs=1)]: Done   2 out of   2 | elapsed:    4.5s remaining:    0.0s\n"
          ],
          "name": "stderr"
        },
        {
          "output_type": "stream",
          "text": [
            "[CV]  C=0.5, max_iter=100, score=(train=0.141, test=0.125), total=   2.1s\n",
            "[CV] C=0.5, max_iter=100 .............................................\n"
          ],
          "name": "stdout"
        },
        {
          "output_type": "stream",
          "text": [
            "[Parallel(n_jobs=1)]: Done   3 out of   3 | elapsed:    6.6s remaining:    0.0s\n"
          ],
          "name": "stderr"
        },
        {
          "output_type": "stream",
          "text": [
            "[CV]  C=0.5, max_iter=100, score=(train=0.110, test=0.104), total=   2.3s\n",
            "[CV] C=0.5, max_iter=150 .............................................\n"
          ],
          "name": "stdout"
        },
        {
          "output_type": "stream",
          "text": [
            "[Parallel(n_jobs=1)]: Done   4 out of   4 | elapsed:    8.9s remaining:    0.0s\n"
          ],
          "name": "stderr"
        },
        {
          "output_type": "stream",
          "text": [
            "[CV]  C=0.5, max_iter=150, score=(train=0.141, test=0.125), total=   2.1s\n",
            "[CV] C=0.5, max_iter=150 .............................................\n"
          ],
          "name": "stdout"
        },
        {
          "output_type": "stream",
          "text": [
            "[Parallel(n_jobs=1)]: Done   5 out of   5 | elapsed:   11.0s remaining:    0.0s\n"
          ],
          "name": "stderr"
        },
        {
          "output_type": "stream",
          "text": [
            "[CV]  C=0.5, max_iter=150, score=(train=0.110, test=0.104), total=   2.4s\n",
            "[CV] C=0.5, max_iter=200 .............................................\n"
          ],
          "name": "stdout"
        },
        {
          "output_type": "stream",
          "text": [
            "[Parallel(n_jobs=1)]: Done   6 out of   6 | elapsed:   13.4s remaining:    0.0s\n"
          ],
          "name": "stderr"
        },
        {
          "output_type": "stream",
          "text": [
            "[CV]  C=0.5, max_iter=200, score=(train=0.141, test=0.125), total=   2.1s\n",
            "[CV] C=0.5, max_iter=200 .............................................\n"
          ],
          "name": "stdout"
        },
        {
          "output_type": "stream",
          "text": [
            "[Parallel(n_jobs=1)]: Done   7 out of   7 | elapsed:   15.5s remaining:    0.0s\n"
          ],
          "name": "stderr"
        },
        {
          "output_type": "stream",
          "text": [
            "[CV]  C=0.5, max_iter=200, score=(train=0.110, test=0.104), total=   2.3s\n",
            "[CV] C=0.5, max_iter=250 .............................................\n"
          ],
          "name": "stdout"
        },
        {
          "output_type": "stream",
          "text": [
            "[Parallel(n_jobs=1)]: Done   8 out of   8 | elapsed:   17.9s remaining:    0.0s\n"
          ],
          "name": "stderr"
        },
        {
          "output_type": "stream",
          "text": [
            "[CV]  C=0.5, max_iter=250, score=(train=0.141, test=0.125), total=   2.1s\n",
            "[CV] C=0.5, max_iter=250 .............................................\n"
          ],
          "name": "stdout"
        },
        {
          "output_type": "stream",
          "text": [
            "[Parallel(n_jobs=1)]: Done   9 out of   9 | elapsed:   20.0s remaining:    0.0s\n"
          ],
          "name": "stderr"
        },
        {
          "output_type": "stream",
          "text": [
            "[CV]  C=0.5, max_iter=250, score=(train=0.110, test=0.104), total=   2.3s\n",
            "[CV] C=0.5, max_iter=300 .............................................\n",
            "[CV]  C=0.5, max_iter=300, score=(train=0.141, test=0.125), total=   2.1s\n",
            "[CV] C=0.5, max_iter=300 .............................................\n",
            "[CV]  C=0.5, max_iter=300, score=(train=0.110, test=0.104), total=   2.3s\n",
            "[CV] C=0.5, max_iter=350 .............................................\n",
            "[CV]  C=0.5, max_iter=350, score=(train=0.141, test=0.125), total=   2.1s\n",
            "[CV] C=0.5, max_iter=350 .............................................\n",
            "[CV]  C=0.5, max_iter=350, score=(train=0.110, test=0.104), total=   2.3s\n",
            "[CV] C=0.5, max_iter=400 .............................................\n",
            "[CV]  C=0.5, max_iter=400, score=(train=0.141, test=0.125), total=   2.1s\n",
            "[CV] C=0.5, max_iter=400 .............................................\n",
            "[CV]  C=0.5, max_iter=400, score=(train=0.110, test=0.104), total=   2.4s\n",
            "[CV] C=1, max_iter=50 ................................................\n"
          ],
          "name": "stdout"
        },
        {
          "output_type": "stream",
          "text": [
            "/usr/local/lib/python3.6/dist-packages/sklearn/linear_model/_logistic.py:940: ConvergenceWarning: lbfgs failed to converge (status=1):\n",
            "STOP: TOTAL NO. of ITERATIONS REACHED LIMIT.\n",
            "\n",
            "Increase the number of iterations (max_iter) or scale the data as shown in:\n",
            "    https://scikit-learn.org/stable/modules/preprocessing.html\n",
            "Please also refer to the documentation for alternative solver options:\n",
            "    https://scikit-learn.org/stable/modules/linear_model.html#logistic-regression\n",
            "  extra_warning_msg=_LOGISTIC_SOLVER_CONVERGENCE_MSG)\n"
          ],
          "name": "stderr"
        },
        {
          "output_type": "stream",
          "text": [
            "[CV]  C=1, max_iter=50, score=(train=0.195, test=0.179), total=   3.2s\n",
            "[CV] C=1, max_iter=50 ................................................\n",
            "[CV]  C=1, max_iter=50, score=(train=0.186, test=0.186), total=   2.7s\n",
            "[CV] C=1, max_iter=100 ...............................................\n",
            "[CV]  C=1, max_iter=100, score=(train=0.195, test=0.179), total=   3.3s\n",
            "[CV] C=1, max_iter=100 ...............................................\n",
            "[CV]  C=1, max_iter=100, score=(train=0.186, test=0.186), total=   2.6s\n",
            "[CV] C=1, max_iter=150 ...............................................\n",
            "[CV]  C=1, max_iter=150, score=(train=0.195, test=0.179), total=   3.3s\n",
            "[CV] C=1, max_iter=150 ...............................................\n",
            "[CV]  C=1, max_iter=150, score=(train=0.186, test=0.186), total=   2.6s\n",
            "[CV] C=1, max_iter=200 ...............................................\n",
            "[CV]  C=1, max_iter=200, score=(train=0.195, test=0.179), total=   3.3s\n",
            "[CV] C=1, max_iter=200 ...............................................\n",
            "[CV]  C=1, max_iter=200, score=(train=0.186, test=0.186), total=   2.6s\n",
            "[CV] C=1, max_iter=250 ...............................................\n",
            "[CV]  C=1, max_iter=250, score=(train=0.195, test=0.179), total=   3.3s\n",
            "[CV] C=1, max_iter=250 ...............................................\n",
            "[CV]  C=1, max_iter=250, score=(train=0.186, test=0.186), total=   2.7s\n",
            "[CV] C=1, max_iter=300 ...............................................\n",
            "[CV]  C=1, max_iter=300, score=(train=0.195, test=0.179), total=   3.3s\n",
            "[CV] C=1, max_iter=300 ...............................................\n",
            "[CV]  C=1, max_iter=300, score=(train=0.186, test=0.186), total=   2.6s\n",
            "[CV] C=1, max_iter=350 ...............................................\n",
            "[CV]  C=1, max_iter=350, score=(train=0.195, test=0.179), total=   3.3s\n",
            "[CV] C=1, max_iter=350 ...............................................\n",
            "[CV]  C=1, max_iter=350, score=(train=0.186, test=0.186), total=   2.6s\n",
            "[CV] C=1, max_iter=400 ...............................................\n",
            "[CV]  C=1, max_iter=400, score=(train=0.195, test=0.179), total=   3.3s\n",
            "[CV] C=1, max_iter=400 ...............................................\n",
            "[CV]  C=1, max_iter=400, score=(train=0.186, test=0.186), total=   2.7s\n",
            "[CV] C=2, max_iter=50 ................................................\n"
          ],
          "name": "stdout"
        },
        {
          "output_type": "stream",
          "text": [
            "/usr/local/lib/python3.6/dist-packages/sklearn/linear_model/_logistic.py:940: ConvergenceWarning: lbfgs failed to converge (status=1):\n",
            "STOP: TOTAL NO. of ITERATIONS REACHED LIMIT.\n",
            "\n",
            "Increase the number of iterations (max_iter) or scale the data as shown in:\n",
            "    https://scikit-learn.org/stable/modules/preprocessing.html\n",
            "Please also refer to the documentation for alternative solver options:\n",
            "    https://scikit-learn.org/stable/modules/linear_model.html#logistic-regression\n",
            "  extra_warning_msg=_LOGISTIC_SOLVER_CONVERGENCE_MSG)\n"
          ],
          "name": "stderr"
        },
        {
          "output_type": "stream",
          "text": [
            "[CV]  C=2, max_iter=50, score=(train=0.321, test=0.222), total=   3.2s\n",
            "[CV] C=2, max_iter=50 ................................................\n"
          ],
          "name": "stdout"
        },
        {
          "output_type": "stream",
          "text": [
            "/usr/local/lib/python3.6/dist-packages/sklearn/linear_model/_logistic.py:940: ConvergenceWarning: lbfgs failed to converge (status=1):\n",
            "STOP: TOTAL NO. of ITERATIONS REACHED LIMIT.\n",
            "\n",
            "Increase the number of iterations (max_iter) or scale the data as shown in:\n",
            "    https://scikit-learn.org/stable/modules/preprocessing.html\n",
            "Please also refer to the documentation for alternative solver options:\n",
            "    https://scikit-learn.org/stable/modules/linear_model.html#logistic-regression\n",
            "  extra_warning_msg=_LOGISTIC_SOLVER_CONVERGENCE_MSG)\n"
          ],
          "name": "stderr"
        },
        {
          "output_type": "stream",
          "text": [
            "[CV]  C=2, max_iter=50, score=(train=0.323, test=0.221), total=   3.2s\n",
            "[CV] C=2, max_iter=100 ...............................................\n",
            "[CV]  C=2, max_iter=100, score=(train=0.321, test=0.222), total=   3.9s\n",
            "[CV] C=2, max_iter=100 ...............................................\n",
            "[CV]  C=2, max_iter=100, score=(train=0.323, test=0.221), total=   3.2s\n",
            "[CV] C=2, max_iter=150 ...............................................\n",
            "[CV]  C=2, max_iter=150, score=(train=0.321, test=0.222), total=   4.0s\n",
            "[CV] C=2, max_iter=150 ...............................................\n",
            "[CV]  C=2, max_iter=150, score=(train=0.323, test=0.221), total=   3.2s\n",
            "[CV] C=2, max_iter=200 ...............................................\n",
            "[CV]  C=2, max_iter=200, score=(train=0.321, test=0.222), total=   4.0s\n",
            "[CV] C=2, max_iter=200 ...............................................\n",
            "[CV]  C=2, max_iter=200, score=(train=0.323, test=0.221), total=   3.1s\n",
            "[CV] C=2, max_iter=250 ...............................................\n",
            "[CV]  C=2, max_iter=250, score=(train=0.321, test=0.222), total=   4.0s\n",
            "[CV] C=2, max_iter=250 ...............................................\n",
            "[CV]  C=2, max_iter=250, score=(train=0.323, test=0.221), total=   3.2s\n",
            "[CV] C=2, max_iter=300 ...............................................\n",
            "[CV]  C=2, max_iter=300, score=(train=0.321, test=0.222), total=   4.0s\n",
            "[CV] C=2, max_iter=300 ...............................................\n",
            "[CV]  C=2, max_iter=300, score=(train=0.323, test=0.221), total=   3.2s\n",
            "[CV] C=2, max_iter=350 ...............................................\n",
            "[CV]  C=2, max_iter=350, score=(train=0.321, test=0.222), total=   4.0s\n",
            "[CV] C=2, max_iter=350 ...............................................\n",
            "[CV]  C=2, max_iter=350, score=(train=0.323, test=0.221), total=   3.2s\n",
            "[CV] C=2, max_iter=400 ...............................................\n",
            "[CV]  C=2, max_iter=400, score=(train=0.321, test=0.222), total=   4.0s\n",
            "[CV] C=2, max_iter=400 ...............................................\n",
            "[CV]  C=2, max_iter=400, score=(train=0.323, test=0.221), total=   3.2s\n",
            "[CV] C=4, max_iter=50 ................................................\n"
          ],
          "name": "stdout"
        },
        {
          "output_type": "stream",
          "text": [
            "/usr/local/lib/python3.6/dist-packages/sklearn/linear_model/_logistic.py:940: ConvergenceWarning: lbfgs failed to converge (status=1):\n",
            "STOP: TOTAL NO. of ITERATIONS REACHED LIMIT.\n",
            "\n",
            "Increase the number of iterations (max_iter) or scale the data as shown in:\n",
            "    https://scikit-learn.org/stable/modules/preprocessing.html\n",
            "Please also refer to the documentation for alternative solver options:\n",
            "    https://scikit-learn.org/stable/modules/linear_model.html#logistic-regression\n",
            "  extra_warning_msg=_LOGISTIC_SOLVER_CONVERGENCE_MSG)\n"
          ],
          "name": "stderr"
        },
        {
          "output_type": "stream",
          "text": [
            "[CV]  C=4, max_iter=50, score=(train=0.703, test=0.279), total=   3.2s\n",
            "[CV] C=4, max_iter=50 ................................................\n"
          ],
          "name": "stdout"
        },
        {
          "output_type": "stream",
          "text": [
            "/usr/local/lib/python3.6/dist-packages/sklearn/linear_model/_logistic.py:940: ConvergenceWarning: lbfgs failed to converge (status=1):\n",
            "STOP: TOTAL NO. of ITERATIONS REACHED LIMIT.\n",
            "\n",
            "Increase the number of iterations (max_iter) or scale the data as shown in:\n",
            "    https://scikit-learn.org/stable/modules/preprocessing.html\n",
            "Please also refer to the documentation for alternative solver options:\n",
            "    https://scikit-learn.org/stable/modules/linear_model.html#logistic-regression\n",
            "  extra_warning_msg=_LOGISTIC_SOLVER_CONVERGENCE_MSG)\n"
          ],
          "name": "stderr"
        },
        {
          "output_type": "stream",
          "text": [
            "[CV]  C=4, max_iter=50, score=(train=0.695, test=0.305), total=   3.1s\n",
            "[CV] C=4, max_iter=100 ...............................................\n",
            "[CV]  C=4, max_iter=100, score=(train=0.703, test=0.279), total=   4.2s\n",
            "[CV] C=4, max_iter=100 ...............................................\n",
            "[CV]  C=4, max_iter=100, score=(train=0.699, test=0.305), total=   4.7s\n",
            "[CV] C=4, max_iter=150 ...............................................\n",
            "[CV]  C=4, max_iter=150, score=(train=0.703, test=0.279), total=   4.2s\n",
            "[CV] C=4, max_iter=150 ...............................................\n",
            "[CV]  C=4, max_iter=150, score=(train=0.699, test=0.305), total=   4.7s\n",
            "[CV] C=4, max_iter=200 ...............................................\n",
            "[CV]  C=4, max_iter=200, score=(train=0.703, test=0.279), total=   4.2s\n",
            "[CV] C=4, max_iter=200 ...............................................\n",
            "[CV]  C=4, max_iter=200, score=(train=0.699, test=0.305), total=   4.7s\n",
            "[CV] C=4, max_iter=250 ...............................................\n",
            "[CV]  C=4, max_iter=250, score=(train=0.703, test=0.279), total=   4.3s\n",
            "[CV] C=4, max_iter=250 ...............................................\n",
            "[CV]  C=4, max_iter=250, score=(train=0.699, test=0.305), total=   4.7s\n",
            "[CV] C=4, max_iter=300 ...............................................\n",
            "[CV]  C=4, max_iter=300, score=(train=0.703, test=0.279), total=   4.2s\n",
            "[CV] C=4, max_iter=300 ...............................................\n",
            "[CV]  C=4, max_iter=300, score=(train=0.699, test=0.305), total=   4.7s\n",
            "[CV] C=4, max_iter=350 ...............................................\n",
            "[CV]  C=4, max_iter=350, score=(train=0.703, test=0.279), total=   4.2s\n",
            "[CV] C=4, max_iter=350 ...............................................\n",
            "[CV]  C=4, max_iter=350, score=(train=0.699, test=0.305), total=   4.7s\n",
            "[CV] C=4, max_iter=400 ...............................................\n",
            "[CV]  C=4, max_iter=400, score=(train=0.703, test=0.279), total=   4.2s\n",
            "[CV] C=4, max_iter=400 ...............................................\n",
            "[CV]  C=4, max_iter=400, score=(train=0.699, test=0.305), total=   4.7s\n",
            "[CV] C=10, max_iter=50 ...............................................\n"
          ],
          "name": "stdout"
        },
        {
          "output_type": "stream",
          "text": [
            "/usr/local/lib/python3.6/dist-packages/sklearn/linear_model/_logistic.py:940: ConvergenceWarning: lbfgs failed to converge (status=1):\n",
            "STOP: TOTAL NO. of ITERATIONS REACHED LIMIT.\n",
            "\n",
            "Increase the number of iterations (max_iter) or scale the data as shown in:\n",
            "    https://scikit-learn.org/stable/modules/preprocessing.html\n",
            "Please also refer to the documentation for alternative solver options:\n",
            "    https://scikit-learn.org/stable/modules/linear_model.html#logistic-regression\n",
            "  extra_warning_msg=_LOGISTIC_SOLVER_CONVERGENCE_MSG)\n"
          ],
          "name": "stderr"
        },
        {
          "output_type": "stream",
          "text": [
            "[CV]  C=10, max_iter=50, score=(train=0.997, test=0.375), total=   3.2s\n",
            "[CV] C=10, max_iter=50 ...............................................\n"
          ],
          "name": "stdout"
        },
        {
          "output_type": "stream",
          "text": [
            "/usr/local/lib/python3.6/dist-packages/sklearn/linear_model/_logistic.py:940: ConvergenceWarning: lbfgs failed to converge (status=1):\n",
            "STOP: TOTAL NO. of ITERATIONS REACHED LIMIT.\n",
            "\n",
            "Increase the number of iterations (max_iter) or scale the data as shown in:\n",
            "    https://scikit-learn.org/stable/modules/preprocessing.html\n",
            "Please also refer to the documentation for alternative solver options:\n",
            "    https://scikit-learn.org/stable/modules/linear_model.html#logistic-regression\n",
            "  extra_warning_msg=_LOGISTIC_SOLVER_CONVERGENCE_MSG)\n"
          ],
          "name": "stderr"
        },
        {
          "output_type": "stream",
          "text": [
            "[CV]  C=10, max_iter=50, score=(train=0.998, test=0.389), total=   3.2s\n",
            "[CV] C=10, max_iter=100 ..............................................\n"
          ],
          "name": "stdout"
        },
        {
          "output_type": "stream",
          "text": [
            "/usr/local/lib/python3.6/dist-packages/sklearn/linear_model/_logistic.py:940: ConvergenceWarning: lbfgs failed to converge (status=1):\n",
            "STOP: TOTAL NO. of ITERATIONS REACHED LIMIT.\n",
            "\n",
            "Increase the number of iterations (max_iter) or scale the data as shown in:\n",
            "    https://scikit-learn.org/stable/modules/preprocessing.html\n",
            "Please also refer to the documentation for alternative solver options:\n",
            "    https://scikit-learn.org/stable/modules/linear_model.html#logistic-regression\n",
            "  extra_warning_msg=_LOGISTIC_SOLVER_CONVERGENCE_MSG)\n"
          ],
          "name": "stderr"
        },
        {
          "output_type": "stream",
          "text": [
            "[CV]  C=10, max_iter=100, score=(train=0.997, test=0.374), total=   6.3s\n",
            "[CV] C=10, max_iter=100 ..............................................\n",
            "[CV]  C=10, max_iter=100, score=(train=0.999, test=0.390), total=   6.0s\n",
            "[CV] C=10, max_iter=150 ..............................................\n",
            "[CV]  C=10, max_iter=150, score=(train=0.997, test=0.374), total=   6.7s\n",
            "[CV] C=10, max_iter=150 ..............................................\n",
            "[CV]  C=10, max_iter=150, score=(train=0.999, test=0.390), total=   5.9s\n",
            "[CV] C=10, max_iter=200 ..............................................\n",
            "[CV]  C=10, max_iter=200, score=(train=0.997, test=0.374), total=   6.7s\n",
            "[CV] C=10, max_iter=200 ..............................................\n",
            "[CV]  C=10, max_iter=200, score=(train=0.999, test=0.390), total=   5.9s\n",
            "[CV] C=10, max_iter=250 ..............................................\n",
            "[CV]  C=10, max_iter=250, score=(train=0.997, test=0.374), total=   6.7s\n",
            "[CV] C=10, max_iter=250 ..............................................\n",
            "[CV]  C=10, max_iter=250, score=(train=0.999, test=0.390), total=   6.0s\n",
            "[CV] C=10, max_iter=300 ..............................................\n",
            "[CV]  C=10, max_iter=300, score=(train=0.997, test=0.374), total=   6.7s\n",
            "[CV] C=10, max_iter=300 ..............................................\n",
            "[CV]  C=10, max_iter=300, score=(train=0.999, test=0.390), total=   6.0s\n",
            "[CV] C=10, max_iter=350 ..............................................\n",
            "[CV]  C=10, max_iter=350, score=(train=0.997, test=0.374), total=   6.7s\n",
            "[CV] C=10, max_iter=350 ..............................................\n",
            "[CV]  C=10, max_iter=350, score=(train=0.999, test=0.390), total=   6.0s\n",
            "[CV] C=10, max_iter=400 ..............................................\n",
            "[CV]  C=10, max_iter=400, score=(train=0.997, test=0.374), total=   6.7s\n",
            "[CV] C=10, max_iter=400 ..............................................\n",
            "[CV]  C=10, max_iter=400, score=(train=0.999, test=0.390), total=   5.9s\n",
            "[CV] C=20, max_iter=50 ...............................................\n"
          ],
          "name": "stdout"
        },
        {
          "output_type": "stream",
          "text": [
            "/usr/local/lib/python3.6/dist-packages/sklearn/linear_model/_logistic.py:940: ConvergenceWarning: lbfgs failed to converge (status=1):\n",
            "STOP: TOTAL NO. of ITERATIONS REACHED LIMIT.\n",
            "\n",
            "Increase the number of iterations (max_iter) or scale the data as shown in:\n",
            "    https://scikit-learn.org/stable/modules/preprocessing.html\n",
            "Please also refer to the documentation for alternative solver options:\n",
            "    https://scikit-learn.org/stable/modules/linear_model.html#logistic-regression\n",
            "  extra_warning_msg=_LOGISTIC_SOLVER_CONVERGENCE_MSG)\n"
          ],
          "name": "stderr"
        },
        {
          "output_type": "stream",
          "text": [
            "[CV]  C=20, max_iter=50, score=(train=0.999, test=0.390), total=   3.2s\n",
            "[CV] C=20, max_iter=50 ...............................................\n"
          ],
          "name": "stdout"
        },
        {
          "output_type": "stream",
          "text": [
            "/usr/local/lib/python3.6/dist-packages/sklearn/linear_model/_logistic.py:940: ConvergenceWarning: lbfgs failed to converge (status=1):\n",
            "STOP: TOTAL NO. of ITERATIONS REACHED LIMIT.\n",
            "\n",
            "Increase the number of iterations (max_iter) or scale the data as shown in:\n",
            "    https://scikit-learn.org/stable/modules/preprocessing.html\n",
            "Please also refer to the documentation for alternative solver options:\n",
            "    https://scikit-learn.org/stable/modules/linear_model.html#logistic-regression\n",
            "  extra_warning_msg=_LOGISTIC_SOLVER_CONVERGENCE_MSG)\n"
          ],
          "name": "stderr"
        },
        {
          "output_type": "stream",
          "text": [
            "[CV]  C=20, max_iter=50, score=(train=0.999, test=0.411), total=   3.2s\n",
            "[CV] C=20, max_iter=100 ..............................................\n"
          ],
          "name": "stdout"
        },
        {
          "output_type": "stream",
          "text": [
            "/usr/local/lib/python3.6/dist-packages/sklearn/linear_model/_logistic.py:940: ConvergenceWarning: lbfgs failed to converge (status=1):\n",
            "STOP: TOTAL NO. of ITERATIONS REACHED LIMIT.\n",
            "\n",
            "Increase the number of iterations (max_iter) or scale the data as shown in:\n",
            "    https://scikit-learn.org/stable/modules/preprocessing.html\n",
            "Please also refer to the documentation for alternative solver options:\n",
            "    https://scikit-learn.org/stable/modules/linear_model.html#logistic-regression\n",
            "  extra_warning_msg=_LOGISTIC_SOLVER_CONVERGENCE_MSG)\n"
          ],
          "name": "stderr"
        },
        {
          "output_type": "stream",
          "text": [
            "[CV]  C=20, max_iter=100, score=(train=0.999, test=0.394), total=   6.3s\n",
            "[CV] C=20, max_iter=100 ..............................................\n"
          ],
          "name": "stdout"
        },
        {
          "output_type": "stream",
          "text": [
            "/usr/local/lib/python3.6/dist-packages/sklearn/linear_model/_logistic.py:940: ConvergenceWarning: lbfgs failed to converge (status=1):\n",
            "STOP: TOTAL NO. of ITERATIONS REACHED LIMIT.\n",
            "\n",
            "Increase the number of iterations (max_iter) or scale the data as shown in:\n",
            "    https://scikit-learn.org/stable/modules/preprocessing.html\n",
            "Please also refer to the documentation for alternative solver options:\n",
            "    https://scikit-learn.org/stable/modules/linear_model.html#logistic-regression\n",
            "  extra_warning_msg=_LOGISTIC_SOLVER_CONVERGENCE_MSG)\n"
          ],
          "name": "stderr"
        },
        {
          "output_type": "stream",
          "text": [
            "[CV]  C=20, max_iter=100, score=(train=0.999, test=0.410), total=   6.4s\n",
            "[CV] C=20, max_iter=150 ..............................................\n",
            "[CV]  C=20, max_iter=150, score=(train=0.999, test=0.394), total=   8.1s\n",
            "[CV] C=20, max_iter=150 ..............................................\n",
            "[CV]  C=20, max_iter=150, score=(train=0.999, test=0.410), total=   6.8s\n",
            "[CV] C=20, max_iter=200 ..............................................\n",
            "[CV]  C=20, max_iter=200, score=(train=0.999, test=0.394), total=   8.1s\n",
            "[CV] C=20, max_iter=200 ..............................................\n",
            "[CV]  C=20, max_iter=200, score=(train=0.999, test=0.410), total=   6.9s\n",
            "[CV] C=20, max_iter=250 ..............................................\n",
            "[CV]  C=20, max_iter=250, score=(train=0.999, test=0.394), total=   8.0s\n",
            "[CV] C=20, max_iter=250 ..............................................\n",
            "[CV]  C=20, max_iter=250, score=(train=0.999, test=0.410), total=   6.9s\n",
            "[CV] C=20, max_iter=300 ..............................................\n",
            "[CV]  C=20, max_iter=300, score=(train=0.999, test=0.394), total=   8.0s\n",
            "[CV] C=20, max_iter=300 ..............................................\n",
            "[CV]  C=20, max_iter=300, score=(train=0.999, test=0.410), total=   6.9s\n",
            "[CV] C=20, max_iter=350 ..............................................\n",
            "[CV]  C=20, max_iter=350, score=(train=0.999, test=0.394), total=   8.0s\n",
            "[CV] C=20, max_iter=350 ..............................................\n",
            "[CV]  C=20, max_iter=350, score=(train=0.999, test=0.410), total=   6.9s\n",
            "[CV] C=20, max_iter=400 ..............................................\n",
            "[CV]  C=20, max_iter=400, score=(train=0.999, test=0.394), total=   8.0s\n",
            "[CV] C=20, max_iter=400 ..............................................\n",
            "[CV]  C=20, max_iter=400, score=(train=0.999, test=0.410), total=   6.9s\n",
            "[CV] C=30, max_iter=50 ...............................................\n"
          ],
          "name": "stdout"
        },
        {
          "output_type": "stream",
          "text": [
            "/usr/local/lib/python3.6/dist-packages/sklearn/linear_model/_logistic.py:940: ConvergenceWarning: lbfgs failed to converge (status=1):\n",
            "STOP: TOTAL NO. of ITERATIONS REACHED LIMIT.\n",
            "\n",
            "Increase the number of iterations (max_iter) or scale the data as shown in:\n",
            "    https://scikit-learn.org/stable/modules/preprocessing.html\n",
            "Please also refer to the documentation for alternative solver options:\n",
            "    https://scikit-learn.org/stable/modules/linear_model.html#logistic-regression\n",
            "  extra_warning_msg=_LOGISTIC_SOLVER_CONVERGENCE_MSG)\n"
          ],
          "name": "stderr"
        },
        {
          "output_type": "stream",
          "text": [
            "[CV]  C=30, max_iter=50, score=(train=0.999, test=0.395), total=   3.2s\n",
            "[CV] C=30, max_iter=50 ...............................................\n"
          ],
          "name": "stdout"
        },
        {
          "output_type": "stream",
          "text": [
            "/usr/local/lib/python3.6/dist-packages/sklearn/linear_model/_logistic.py:940: ConvergenceWarning: lbfgs failed to converge (status=1):\n",
            "STOP: TOTAL NO. of ITERATIONS REACHED LIMIT.\n",
            "\n",
            "Increase the number of iterations (max_iter) or scale the data as shown in:\n",
            "    https://scikit-learn.org/stable/modules/preprocessing.html\n",
            "Please also refer to the documentation for alternative solver options:\n",
            "    https://scikit-learn.org/stable/modules/linear_model.html#logistic-regression\n",
            "  extra_warning_msg=_LOGISTIC_SOLVER_CONVERGENCE_MSG)\n"
          ],
          "name": "stderr"
        },
        {
          "output_type": "stream",
          "text": [
            "[CV]  C=30, max_iter=50, score=(train=0.999, test=0.414), total=   3.4s\n",
            "[CV] C=30, max_iter=100 ..............................................\n"
          ],
          "name": "stdout"
        },
        {
          "output_type": "stream",
          "text": [
            "/usr/local/lib/python3.6/dist-packages/sklearn/linear_model/_logistic.py:940: ConvergenceWarning: lbfgs failed to converge (status=1):\n",
            "STOP: TOTAL NO. of ITERATIONS REACHED LIMIT.\n",
            "\n",
            "Increase the number of iterations (max_iter) or scale the data as shown in:\n",
            "    https://scikit-learn.org/stable/modules/preprocessing.html\n",
            "Please also refer to the documentation for alternative solver options:\n",
            "    https://scikit-learn.org/stable/modules/linear_model.html#logistic-regression\n",
            "  extra_warning_msg=_LOGISTIC_SOLVER_CONVERGENCE_MSG)\n"
          ],
          "name": "stderr"
        },
        {
          "output_type": "stream",
          "text": [
            "[CV]  C=30, max_iter=100, score=(train=0.999, test=0.395), total=   6.4s\n",
            "[CV] C=30, max_iter=100 ..............................................\n",
            "[CV]  C=30, max_iter=100, score=(train=0.999, test=0.414), total=   5.9s\n",
            "[CV] C=30, max_iter=150 ..............................................\n",
            "[CV]  C=30, max_iter=150, score=(train=0.999, test=0.395), total=   8.3s\n",
            "[CV] C=30, max_iter=150 ..............................................\n",
            "[CV]  C=30, max_iter=150, score=(train=0.999, test=0.414), total=   5.9s\n",
            "[CV] C=30, max_iter=200 ..............................................\n",
            "[CV]  C=30, max_iter=200, score=(train=0.999, test=0.395), total=   8.3s\n",
            "[CV] C=30, max_iter=200 ..............................................\n",
            "[CV]  C=30, max_iter=200, score=(train=0.999, test=0.414), total=   5.9s\n",
            "[CV] C=30, max_iter=250 ..............................................\n",
            "[CV]  C=30, max_iter=250, score=(train=0.999, test=0.395), total=   8.3s\n",
            "[CV] C=30, max_iter=250 ..............................................\n",
            "[CV]  C=30, max_iter=250, score=(train=0.999, test=0.414), total=   6.0s\n",
            "[CV] C=30, max_iter=300 ..............................................\n",
            "[CV]  C=30, max_iter=300, score=(train=0.999, test=0.395), total=   8.3s\n",
            "[CV] C=30, max_iter=300 ..............................................\n",
            "[CV]  C=30, max_iter=300, score=(train=0.999, test=0.414), total=   5.9s\n",
            "[CV] C=30, max_iter=350 ..............................................\n",
            "[CV]  C=30, max_iter=350, score=(train=0.999, test=0.395), total=   8.3s\n",
            "[CV] C=30, max_iter=350 ..............................................\n",
            "[CV]  C=30, max_iter=350, score=(train=0.999, test=0.414), total=   5.9s\n",
            "[CV] C=30, max_iter=400 ..............................................\n",
            "[CV]  C=30, max_iter=400, score=(train=0.999, test=0.395), total=   8.3s\n",
            "[CV] C=30, max_iter=400 ..............................................\n",
            "[CV]  C=30, max_iter=400, score=(train=0.999, test=0.414), total=   5.9s\n",
            "[CV] C=40, max_iter=50 ...............................................\n"
          ],
          "name": "stdout"
        },
        {
          "output_type": "stream",
          "text": [
            "/usr/local/lib/python3.6/dist-packages/sklearn/linear_model/_logistic.py:940: ConvergenceWarning: lbfgs failed to converge (status=1):\n",
            "STOP: TOTAL NO. of ITERATIONS REACHED LIMIT.\n",
            "\n",
            "Increase the number of iterations (max_iter) or scale the data as shown in:\n",
            "    https://scikit-learn.org/stable/modules/preprocessing.html\n",
            "Please also refer to the documentation for alternative solver options:\n",
            "    https://scikit-learn.org/stable/modules/linear_model.html#logistic-regression\n",
            "  extra_warning_msg=_LOGISTIC_SOLVER_CONVERGENCE_MSG)\n"
          ],
          "name": "stderr"
        },
        {
          "output_type": "stream",
          "text": [
            "[CV]  C=40, max_iter=50, score=(train=0.999, test=0.396), total=   3.2s\n",
            "[CV] C=40, max_iter=50 ...............................................\n"
          ],
          "name": "stdout"
        },
        {
          "output_type": "stream",
          "text": [
            "/usr/local/lib/python3.6/dist-packages/sklearn/linear_model/_logistic.py:940: ConvergenceWarning: lbfgs failed to converge (status=1):\n",
            "STOP: TOTAL NO. of ITERATIONS REACHED LIMIT.\n",
            "\n",
            "Increase the number of iterations (max_iter) or scale the data as shown in:\n",
            "    https://scikit-learn.org/stable/modules/preprocessing.html\n",
            "Please also refer to the documentation for alternative solver options:\n",
            "    https://scikit-learn.org/stable/modules/linear_model.html#logistic-regression\n",
            "  extra_warning_msg=_LOGISTIC_SOLVER_CONVERGENCE_MSG)\n"
          ],
          "name": "stderr"
        },
        {
          "output_type": "stream",
          "text": [
            "[CV]  C=40, max_iter=50, score=(train=0.999, test=0.418), total=   3.2s\n",
            "[CV] C=40, max_iter=100 ..............................................\n"
          ],
          "name": "stdout"
        },
        {
          "output_type": "stream",
          "text": [
            "/usr/local/lib/python3.6/dist-packages/sklearn/linear_model/_logistic.py:940: ConvergenceWarning: lbfgs failed to converge (status=1):\n",
            "STOP: TOTAL NO. of ITERATIONS REACHED LIMIT.\n",
            "\n",
            "Increase the number of iterations (max_iter) or scale the data as shown in:\n",
            "    https://scikit-learn.org/stable/modules/preprocessing.html\n",
            "Please also refer to the documentation for alternative solver options:\n",
            "    https://scikit-learn.org/stable/modules/linear_model.html#logistic-regression\n",
            "  extra_warning_msg=_LOGISTIC_SOLVER_CONVERGENCE_MSG)\n"
          ],
          "name": "stderr"
        },
        {
          "output_type": "stream",
          "text": [
            "[CV]  C=40, max_iter=100, score=(train=0.999, test=0.397), total=   6.3s\n",
            "[CV] C=40, max_iter=100 ..............................................\n"
          ],
          "name": "stdout"
        },
        {
          "output_type": "stream",
          "text": [
            "/usr/local/lib/python3.6/dist-packages/sklearn/linear_model/_logistic.py:940: ConvergenceWarning: lbfgs failed to converge (status=1):\n",
            "STOP: TOTAL NO. of ITERATIONS REACHED LIMIT.\n",
            "\n",
            "Increase the number of iterations (max_iter) or scale the data as shown in:\n",
            "    https://scikit-learn.org/stable/modules/preprocessing.html\n",
            "Please also refer to the documentation for alternative solver options:\n",
            "    https://scikit-learn.org/stable/modules/linear_model.html#logistic-regression\n",
            "  extra_warning_msg=_LOGISTIC_SOLVER_CONVERGENCE_MSG)\n"
          ],
          "name": "stderr"
        },
        {
          "output_type": "stream",
          "text": [
            "[CV]  C=40, max_iter=100, score=(train=0.999, test=0.418), total=   6.3s\n",
            "[CV] C=40, max_iter=150 ..............................................\n",
            "[CV]  C=40, max_iter=150, score=(train=0.999, test=0.397), total=   8.3s\n",
            "[CV] C=40, max_iter=150 ..............................................\n",
            "[CV]  C=40, max_iter=150, score=(train=0.999, test=0.418), total=   6.6s\n",
            "[CV] C=40, max_iter=200 ..............................................\n",
            "[CV]  C=40, max_iter=200, score=(train=0.999, test=0.397), total=   8.3s\n",
            "[CV] C=40, max_iter=200 ..............................................\n",
            "[CV]  C=40, max_iter=200, score=(train=0.999, test=0.418), total=   6.5s\n",
            "[CV] C=40, max_iter=250 ..............................................\n",
            "[CV]  C=40, max_iter=250, score=(train=0.999, test=0.397), total=   8.3s\n",
            "[CV] C=40, max_iter=250 ..............................................\n",
            "[CV]  C=40, max_iter=250, score=(train=0.999, test=0.418), total=   6.6s\n",
            "[CV] C=40, max_iter=300 ..............................................\n",
            "[CV]  C=40, max_iter=300, score=(train=0.999, test=0.397), total=   8.3s\n",
            "[CV] C=40, max_iter=300 ..............................................\n",
            "[CV]  C=40, max_iter=300, score=(train=0.999, test=0.418), total=   6.5s\n",
            "[CV] C=40, max_iter=350 ..............................................\n",
            "[CV]  C=40, max_iter=350, score=(train=0.999, test=0.397), total=   8.3s\n",
            "[CV] C=40, max_iter=350 ..............................................\n",
            "[CV]  C=40, max_iter=350, score=(train=0.999, test=0.418), total=   6.5s\n",
            "[CV] C=40, max_iter=400 ..............................................\n",
            "[CV]  C=40, max_iter=400, score=(train=0.999, test=0.397), total=   8.3s\n",
            "[CV] C=40, max_iter=400 ..............................................\n",
            "[CV]  C=40, max_iter=400, score=(train=0.999, test=0.418), total=   6.6s\n",
            "[CV] C=50, max_iter=50 ...............................................\n"
          ],
          "name": "stdout"
        },
        {
          "output_type": "stream",
          "text": [
            "/usr/local/lib/python3.6/dist-packages/sklearn/linear_model/_logistic.py:940: ConvergenceWarning: lbfgs failed to converge (status=1):\n",
            "STOP: TOTAL NO. of ITERATIONS REACHED LIMIT.\n",
            "\n",
            "Increase the number of iterations (max_iter) or scale the data as shown in:\n",
            "    https://scikit-learn.org/stable/modules/preprocessing.html\n",
            "Please also refer to the documentation for alternative solver options:\n",
            "    https://scikit-learn.org/stable/modules/linear_model.html#logistic-regression\n",
            "  extra_warning_msg=_LOGISTIC_SOLVER_CONVERGENCE_MSG)\n"
          ],
          "name": "stderr"
        },
        {
          "output_type": "stream",
          "text": [
            "[CV]  C=50, max_iter=50, score=(train=0.999, test=0.400), total=   3.1s\n",
            "[CV] C=50, max_iter=50 ...............................................\n"
          ],
          "name": "stdout"
        },
        {
          "output_type": "stream",
          "text": [
            "/usr/local/lib/python3.6/dist-packages/sklearn/linear_model/_logistic.py:940: ConvergenceWarning: lbfgs failed to converge (status=1):\n",
            "STOP: TOTAL NO. of ITERATIONS REACHED LIMIT.\n",
            "\n",
            "Increase the number of iterations (max_iter) or scale the data as shown in:\n",
            "    https://scikit-learn.org/stable/modules/preprocessing.html\n",
            "Please also refer to the documentation for alternative solver options:\n",
            "    https://scikit-learn.org/stable/modules/linear_model.html#logistic-regression\n",
            "  extra_warning_msg=_LOGISTIC_SOLVER_CONVERGENCE_MSG)\n"
          ],
          "name": "stderr"
        },
        {
          "output_type": "stream",
          "text": [
            "[CV]  C=50, max_iter=50, score=(train=0.999, test=0.418), total=   3.1s\n",
            "[CV] C=50, max_iter=100 ..............................................\n"
          ],
          "name": "stdout"
        },
        {
          "output_type": "stream",
          "text": [
            "/usr/local/lib/python3.6/dist-packages/sklearn/linear_model/_logistic.py:940: ConvergenceWarning: lbfgs failed to converge (status=1):\n",
            "STOP: TOTAL NO. of ITERATIONS REACHED LIMIT.\n",
            "\n",
            "Increase the number of iterations (max_iter) or scale the data as shown in:\n",
            "    https://scikit-learn.org/stable/modules/preprocessing.html\n",
            "Please also refer to the documentation for alternative solver options:\n",
            "    https://scikit-learn.org/stable/modules/linear_model.html#logistic-regression\n",
            "  extra_warning_msg=_LOGISTIC_SOLVER_CONVERGENCE_MSG)\n"
          ],
          "name": "stderr"
        },
        {
          "output_type": "stream",
          "text": [
            "[CV]  C=50, max_iter=100, score=(train=0.999, test=0.398), total=   6.3s\n",
            "[CV] C=50, max_iter=100 ..............................................\n"
          ],
          "name": "stdout"
        },
        {
          "output_type": "stream",
          "text": [
            "/usr/local/lib/python3.6/dist-packages/sklearn/linear_model/_logistic.py:940: ConvergenceWarning: lbfgs failed to converge (status=1):\n",
            "STOP: TOTAL NO. of ITERATIONS REACHED LIMIT.\n",
            "\n",
            "Increase the number of iterations (max_iter) or scale the data as shown in:\n",
            "    https://scikit-learn.org/stable/modules/preprocessing.html\n",
            "Please also refer to the documentation for alternative solver options:\n",
            "    https://scikit-learn.org/stable/modules/linear_model.html#logistic-regression\n",
            "  extra_warning_msg=_LOGISTIC_SOLVER_CONVERGENCE_MSG)\n"
          ],
          "name": "stderr"
        },
        {
          "output_type": "stream",
          "text": [
            "[CV]  C=50, max_iter=100, score=(train=0.999, test=0.418), total=   6.3s\n",
            "[CV] C=50, max_iter=150 ..............................................\n",
            "[CV]  C=50, max_iter=150, score=(train=0.999, test=0.398), total=   8.5s\n",
            "[CV] C=50, max_iter=150 ..............................................\n"
          ],
          "name": "stdout"
        },
        {
          "output_type": "stream",
          "text": [
            "/usr/local/lib/python3.6/dist-packages/sklearn/linear_model/_logistic.py:940: ConvergenceWarning: lbfgs failed to converge (status=1):\n",
            "STOP: TOTAL NO. of ITERATIONS REACHED LIMIT.\n",
            "\n",
            "Increase the number of iterations (max_iter) or scale the data as shown in:\n",
            "    https://scikit-learn.org/stable/modules/preprocessing.html\n",
            "Please also refer to the documentation for alternative solver options:\n",
            "    https://scikit-learn.org/stable/modules/linear_model.html#logistic-regression\n",
            "  extra_warning_msg=_LOGISTIC_SOLVER_CONVERGENCE_MSG)\n"
          ],
          "name": "stderr"
        },
        {
          "output_type": "stream",
          "text": [
            "[CV]  C=50, max_iter=150, score=(train=0.999, test=0.418), total=   9.3s\n",
            "[CV] C=50, max_iter=200 ..............................................\n",
            "[CV]  C=50, max_iter=200, score=(train=0.999, test=0.398), total=   8.5s\n",
            "[CV] C=50, max_iter=200 ..............................................\n",
            "[CV]  C=50, max_iter=200, score=(train=0.999, test=0.418), total=   9.4s\n",
            "[CV] C=50, max_iter=250 ..............................................\n",
            "[CV]  C=50, max_iter=250, score=(train=0.999, test=0.398), total=   8.4s\n",
            "[CV] C=50, max_iter=250 ..............................................\n",
            "[CV]  C=50, max_iter=250, score=(train=0.999, test=0.418), total=   9.3s\n",
            "[CV] C=50, max_iter=300 ..............................................\n",
            "[CV]  C=50, max_iter=300, score=(train=0.999, test=0.398), total=   8.4s\n",
            "[CV] C=50, max_iter=300 ..............................................\n",
            "[CV]  C=50, max_iter=300, score=(train=0.999, test=0.418), total=   9.4s\n",
            "[CV] C=50, max_iter=350 ..............................................\n",
            "[CV]  C=50, max_iter=350, score=(train=0.999, test=0.398), total=   8.4s\n",
            "[CV] C=50, max_iter=350 ..............................................\n",
            "[CV]  C=50, max_iter=350, score=(train=0.999, test=0.418), total=   9.4s\n",
            "[CV] C=50, max_iter=400 ..............................................\n",
            "[CV]  C=50, max_iter=400, score=(train=0.999, test=0.398), total=   8.4s\n",
            "[CV] C=50, max_iter=400 ..............................................\n",
            "[CV]  C=50, max_iter=400, score=(train=0.999, test=0.418), total=   9.4s\n",
            "[CV] C=70, max_iter=50 ...............................................\n"
          ],
          "name": "stdout"
        },
        {
          "output_type": "stream",
          "text": [
            "/usr/local/lib/python3.6/dist-packages/sklearn/linear_model/_logistic.py:940: ConvergenceWarning: lbfgs failed to converge (status=1):\n",
            "STOP: TOTAL NO. of ITERATIONS REACHED LIMIT.\n",
            "\n",
            "Increase the number of iterations (max_iter) or scale the data as shown in:\n",
            "    https://scikit-learn.org/stable/modules/preprocessing.html\n",
            "Please also refer to the documentation for alternative solver options:\n",
            "    https://scikit-learn.org/stable/modules/linear_model.html#logistic-regression\n",
            "  extra_warning_msg=_LOGISTIC_SOLVER_CONVERGENCE_MSG)\n"
          ],
          "name": "stderr"
        },
        {
          "output_type": "stream",
          "text": [
            "[CV]  C=70, max_iter=50, score=(train=0.999, test=0.403), total=   3.1s\n",
            "[CV] C=70, max_iter=50 ...............................................\n"
          ],
          "name": "stdout"
        },
        {
          "output_type": "stream",
          "text": [
            "/usr/local/lib/python3.6/dist-packages/sklearn/linear_model/_logistic.py:940: ConvergenceWarning: lbfgs failed to converge (status=1):\n",
            "STOP: TOTAL NO. of ITERATIONS REACHED LIMIT.\n",
            "\n",
            "Increase the number of iterations (max_iter) or scale the data as shown in:\n",
            "    https://scikit-learn.org/stable/modules/preprocessing.html\n",
            "Please also refer to the documentation for alternative solver options:\n",
            "    https://scikit-learn.org/stable/modules/linear_model.html#logistic-regression\n",
            "  extra_warning_msg=_LOGISTIC_SOLVER_CONVERGENCE_MSG)\n"
          ],
          "name": "stderr"
        },
        {
          "output_type": "stream",
          "text": [
            "[CV]  C=70, max_iter=50, score=(train=0.999, test=0.420), total=   3.2s\n",
            "[CV] C=70, max_iter=100 ..............................................\n"
          ],
          "name": "stdout"
        },
        {
          "output_type": "stream",
          "text": [
            "/usr/local/lib/python3.6/dist-packages/sklearn/linear_model/_logistic.py:940: ConvergenceWarning: lbfgs failed to converge (status=1):\n",
            "STOP: TOTAL NO. of ITERATIONS REACHED LIMIT.\n",
            "\n",
            "Increase the number of iterations (max_iter) or scale the data as shown in:\n",
            "    https://scikit-learn.org/stable/modules/preprocessing.html\n",
            "Please also refer to the documentation for alternative solver options:\n",
            "    https://scikit-learn.org/stable/modules/linear_model.html#logistic-regression\n",
            "  extra_warning_msg=_LOGISTIC_SOLVER_CONVERGENCE_MSG)\n"
          ],
          "name": "stderr"
        },
        {
          "output_type": "stream",
          "text": [
            "[CV]  C=70, max_iter=100, score=(train=0.999, test=0.404), total=   6.2s\n",
            "[CV] C=70, max_iter=100 ..............................................\n"
          ],
          "name": "stdout"
        },
        {
          "output_type": "stream",
          "text": [
            "/usr/local/lib/python3.6/dist-packages/sklearn/linear_model/_logistic.py:940: ConvergenceWarning: lbfgs failed to converge (status=1):\n",
            "STOP: TOTAL NO. of ITERATIONS REACHED LIMIT.\n",
            "\n",
            "Increase the number of iterations (max_iter) or scale the data as shown in:\n",
            "    https://scikit-learn.org/stable/modules/preprocessing.html\n",
            "Please also refer to the documentation for alternative solver options:\n",
            "    https://scikit-learn.org/stable/modules/linear_model.html#logistic-regression\n",
            "  extra_warning_msg=_LOGISTIC_SOLVER_CONVERGENCE_MSG)\n"
          ],
          "name": "stderr"
        },
        {
          "output_type": "stream",
          "text": [
            "[CV]  C=70, max_iter=100, score=(train=0.999, test=0.421), total=   6.4s\n",
            "[CV] C=70, max_iter=150 ..............................................\n",
            "[CV]  C=70, max_iter=150, score=(train=0.999, test=0.404), total=   9.3s\n",
            "[CV] C=70, max_iter=150 ..............................................\n",
            "[CV]  C=70, max_iter=150, score=(train=0.999, test=0.422), total=   9.0s\n",
            "[CV] C=70, max_iter=200 ..............................................\n",
            "[CV]  C=70, max_iter=200, score=(train=0.999, test=0.404), total=   9.3s\n",
            "[CV] C=70, max_iter=200 ..............................................\n",
            "[CV]  C=70, max_iter=200, score=(train=0.999, test=0.422), total=   9.1s\n",
            "[CV] C=70, max_iter=250 ..............................................\n",
            "[CV]  C=70, max_iter=250, score=(train=0.999, test=0.404), total=   9.3s\n",
            "[CV] C=70, max_iter=250 ..............................................\n",
            "[CV]  C=70, max_iter=250, score=(train=0.999, test=0.422), total=   9.0s\n",
            "[CV] C=70, max_iter=300 ..............................................\n",
            "[CV]  C=70, max_iter=300, score=(train=0.999, test=0.404), total=   9.3s\n",
            "[CV] C=70, max_iter=300 ..............................................\n",
            "[CV]  C=70, max_iter=300, score=(train=0.999, test=0.422), total=   9.0s\n",
            "[CV] C=70, max_iter=350 ..............................................\n",
            "[CV]  C=70, max_iter=350, score=(train=0.999, test=0.404), total=   9.3s\n",
            "[CV] C=70, max_iter=350 ..............................................\n",
            "[CV]  C=70, max_iter=350, score=(train=0.999, test=0.422), total=   9.0s\n",
            "[CV] C=70, max_iter=400 ..............................................\n",
            "[CV]  C=70, max_iter=400, score=(train=0.999, test=0.404), total=   9.3s\n",
            "[CV] C=70, max_iter=400 ..............................................\n",
            "[CV]  C=70, max_iter=400, score=(train=0.999, test=0.422), total=   9.0s\n",
            "[CV] C=80, max_iter=50 ...............................................\n"
          ],
          "name": "stdout"
        },
        {
          "output_type": "stream",
          "text": [
            "/usr/local/lib/python3.6/dist-packages/sklearn/linear_model/_logistic.py:940: ConvergenceWarning: lbfgs failed to converge (status=1):\n",
            "STOP: TOTAL NO. of ITERATIONS REACHED LIMIT.\n",
            "\n",
            "Increase the number of iterations (max_iter) or scale the data as shown in:\n",
            "    https://scikit-learn.org/stable/modules/preprocessing.html\n",
            "Please also refer to the documentation for alternative solver options:\n",
            "    https://scikit-learn.org/stable/modules/linear_model.html#logistic-regression\n",
            "  extra_warning_msg=_LOGISTIC_SOLVER_CONVERGENCE_MSG)\n"
          ],
          "name": "stderr"
        },
        {
          "output_type": "stream",
          "text": [
            "[CV]  C=80, max_iter=50, score=(train=0.999, test=0.406), total=   3.1s\n",
            "[CV] C=80, max_iter=50 ...............................................\n"
          ],
          "name": "stdout"
        },
        {
          "output_type": "stream",
          "text": [
            "/usr/local/lib/python3.6/dist-packages/sklearn/linear_model/_logistic.py:940: ConvergenceWarning: lbfgs failed to converge (status=1):\n",
            "STOP: TOTAL NO. of ITERATIONS REACHED LIMIT.\n",
            "\n",
            "Increase the number of iterations (max_iter) or scale the data as shown in:\n",
            "    https://scikit-learn.org/stable/modules/preprocessing.html\n",
            "Please also refer to the documentation for alternative solver options:\n",
            "    https://scikit-learn.org/stable/modules/linear_model.html#logistic-regression\n",
            "  extra_warning_msg=_LOGISTIC_SOLVER_CONVERGENCE_MSG)\n"
          ],
          "name": "stderr"
        },
        {
          "output_type": "stream",
          "text": [
            "[CV]  C=80, max_iter=50, score=(train=0.999, test=0.435), total=   3.1s\n",
            "[CV] C=80, max_iter=100 ..............................................\n"
          ],
          "name": "stdout"
        },
        {
          "output_type": "stream",
          "text": [
            "/usr/local/lib/python3.6/dist-packages/sklearn/linear_model/_logistic.py:940: ConvergenceWarning: lbfgs failed to converge (status=1):\n",
            "STOP: TOTAL NO. of ITERATIONS REACHED LIMIT.\n",
            "\n",
            "Increase the number of iterations (max_iter) or scale the data as shown in:\n",
            "    https://scikit-learn.org/stable/modules/preprocessing.html\n",
            "Please also refer to the documentation for alternative solver options:\n",
            "    https://scikit-learn.org/stable/modules/linear_model.html#logistic-regression\n",
            "  extra_warning_msg=_LOGISTIC_SOLVER_CONVERGENCE_MSG)\n"
          ],
          "name": "stderr"
        },
        {
          "output_type": "stream",
          "text": [
            "[CV]  C=80, max_iter=100, score=(train=0.999, test=0.406), total=   6.3s\n",
            "[CV] C=80, max_iter=100 ..............................................\n"
          ],
          "name": "stdout"
        },
        {
          "output_type": "stream",
          "text": [
            "/usr/local/lib/python3.6/dist-packages/sklearn/linear_model/_logistic.py:940: ConvergenceWarning: lbfgs failed to converge (status=1):\n",
            "STOP: TOTAL NO. of ITERATIONS REACHED LIMIT.\n",
            "\n",
            "Increase the number of iterations (max_iter) or scale the data as shown in:\n",
            "    https://scikit-learn.org/stable/modules/preprocessing.html\n",
            "Please also refer to the documentation for alternative solver options:\n",
            "    https://scikit-learn.org/stable/modules/linear_model.html#logistic-regression\n",
            "  extra_warning_msg=_LOGISTIC_SOLVER_CONVERGENCE_MSG)\n"
          ],
          "name": "stderr"
        },
        {
          "output_type": "stream",
          "text": [
            "[CV]  C=80, max_iter=100, score=(train=0.999, test=0.425), total=   6.3s\n",
            "[CV] C=80, max_iter=150 ..............................................\n"
          ],
          "name": "stdout"
        },
        {
          "output_type": "stream",
          "text": [
            "/usr/local/lib/python3.6/dist-packages/sklearn/linear_model/_logistic.py:940: ConvergenceWarning: lbfgs failed to converge (status=1):\n",
            "STOP: TOTAL NO. of ITERATIONS REACHED LIMIT.\n",
            "\n",
            "Increase the number of iterations (max_iter) or scale the data as shown in:\n",
            "    https://scikit-learn.org/stable/modules/preprocessing.html\n",
            "Please also refer to the documentation for alternative solver options:\n",
            "    https://scikit-learn.org/stable/modules/linear_model.html#logistic-regression\n",
            "  extra_warning_msg=_LOGISTIC_SOLVER_CONVERGENCE_MSG)\n"
          ],
          "name": "stderr"
        },
        {
          "output_type": "stream",
          "text": [
            "[CV]  C=80, max_iter=150, score=(train=0.999, test=0.406), total=   9.3s\n",
            "[CV] C=80, max_iter=150 ..............................................\n",
            "[CV]  C=80, max_iter=150, score=(train=0.999, test=0.425), total=   8.9s\n",
            "[CV] C=80, max_iter=200 ..............................................\n",
            "[CV]  C=80, max_iter=200, score=(train=0.999, test=0.406), total=   9.6s\n",
            "[CV] C=80, max_iter=200 ..............................................\n",
            "[CV]  C=80, max_iter=200, score=(train=0.999, test=0.425), total=   8.8s\n",
            "[CV] C=80, max_iter=250 ..............................................\n",
            "[CV]  C=80, max_iter=250, score=(train=0.999, test=0.406), total=   9.6s\n",
            "[CV] C=80, max_iter=250 ..............................................\n",
            "[CV]  C=80, max_iter=250, score=(train=0.999, test=0.425), total=   8.9s\n",
            "[CV] C=80, max_iter=300 ..............................................\n",
            "[CV]  C=80, max_iter=300, score=(train=0.999, test=0.406), total=   9.6s\n",
            "[CV] C=80, max_iter=300 ..............................................\n",
            "[CV]  C=80, max_iter=300, score=(train=0.999, test=0.425), total=   8.8s\n",
            "[CV] C=80, max_iter=350 ..............................................\n",
            "[CV]  C=80, max_iter=350, score=(train=0.999, test=0.406), total=   9.6s\n",
            "[CV] C=80, max_iter=350 ..............................................\n",
            "[CV]  C=80, max_iter=350, score=(train=0.999, test=0.425), total=   8.8s\n",
            "[CV] C=80, max_iter=400 ..............................................\n",
            "[CV]  C=80, max_iter=400, score=(train=0.999, test=0.406), total=   9.5s\n",
            "[CV] C=80, max_iter=400 ..............................................\n",
            "[CV]  C=80, max_iter=400, score=(train=0.999, test=0.425), total=   8.8s\n",
            "[CV] C=100, max_iter=50 ..............................................\n"
          ],
          "name": "stdout"
        },
        {
          "output_type": "stream",
          "text": [
            "/usr/local/lib/python3.6/dist-packages/sklearn/linear_model/_logistic.py:940: ConvergenceWarning: lbfgs failed to converge (status=1):\n",
            "STOP: TOTAL NO. of ITERATIONS REACHED LIMIT.\n",
            "\n",
            "Increase the number of iterations (max_iter) or scale the data as shown in:\n",
            "    https://scikit-learn.org/stable/modules/preprocessing.html\n",
            "Please also refer to the documentation for alternative solver options:\n",
            "    https://scikit-learn.org/stable/modules/linear_model.html#logistic-regression\n",
            "  extra_warning_msg=_LOGISTIC_SOLVER_CONVERGENCE_MSG)\n"
          ],
          "name": "stderr"
        },
        {
          "output_type": "stream",
          "text": [
            "[CV]  C=100, max_iter=50, score=(train=0.999, test=0.410), total=   3.1s\n",
            "[CV] C=100, max_iter=50 ..............................................\n"
          ],
          "name": "stdout"
        },
        {
          "output_type": "stream",
          "text": [
            "/usr/local/lib/python3.6/dist-packages/sklearn/linear_model/_logistic.py:940: ConvergenceWarning: lbfgs failed to converge (status=1):\n",
            "STOP: TOTAL NO. of ITERATIONS REACHED LIMIT.\n",
            "\n",
            "Increase the number of iterations (max_iter) or scale the data as shown in:\n",
            "    https://scikit-learn.org/stable/modules/preprocessing.html\n",
            "Please also refer to the documentation for alternative solver options:\n",
            "    https://scikit-learn.org/stable/modules/linear_model.html#logistic-regression\n",
            "  extra_warning_msg=_LOGISTIC_SOLVER_CONVERGENCE_MSG)\n"
          ],
          "name": "stderr"
        },
        {
          "output_type": "stream",
          "text": [
            "[CV]  C=100, max_iter=50, score=(train=0.999, test=0.425), total=   3.1s\n",
            "[CV] C=100, max_iter=100 .............................................\n"
          ],
          "name": "stdout"
        },
        {
          "output_type": "stream",
          "text": [
            "/usr/local/lib/python3.6/dist-packages/sklearn/linear_model/_logistic.py:940: ConvergenceWarning: lbfgs failed to converge (status=1):\n",
            "STOP: TOTAL NO. of ITERATIONS REACHED LIMIT.\n",
            "\n",
            "Increase the number of iterations (max_iter) or scale the data as shown in:\n",
            "    https://scikit-learn.org/stable/modules/preprocessing.html\n",
            "Please also refer to the documentation for alternative solver options:\n",
            "    https://scikit-learn.org/stable/modules/linear_model.html#logistic-regression\n",
            "  extra_warning_msg=_LOGISTIC_SOLVER_CONVERGENCE_MSG)\n"
          ],
          "name": "stderr"
        },
        {
          "output_type": "stream",
          "text": [
            "[CV]  C=100, max_iter=100, score=(train=0.999, test=0.411), total=   6.3s\n",
            "[CV] C=100, max_iter=100 .............................................\n"
          ],
          "name": "stdout"
        },
        {
          "output_type": "stream",
          "text": [
            "/usr/local/lib/python3.6/dist-packages/sklearn/linear_model/_logistic.py:940: ConvergenceWarning: lbfgs failed to converge (status=1):\n",
            "STOP: TOTAL NO. of ITERATIONS REACHED LIMIT.\n",
            "\n",
            "Increase the number of iterations (max_iter) or scale the data as shown in:\n",
            "    https://scikit-learn.org/stable/modules/preprocessing.html\n",
            "Please also refer to the documentation for alternative solver options:\n",
            "    https://scikit-learn.org/stable/modules/linear_model.html#logistic-regression\n",
            "  extra_warning_msg=_LOGISTIC_SOLVER_CONVERGENCE_MSG)\n"
          ],
          "name": "stderr"
        },
        {
          "output_type": "stream",
          "text": [
            "[CV]  C=100, max_iter=100, score=(train=0.999, test=0.426), total=   6.3s\n",
            "[CV] C=100, max_iter=150 .............................................\n",
            "[CV]  C=100, max_iter=150, score=(train=0.999, test=0.411), total=   8.7s\n",
            "[CV] C=100, max_iter=150 .............................................\n",
            "[CV]  C=100, max_iter=150, score=(train=0.999, test=0.426), total=   8.7s\n",
            "[CV] C=100, max_iter=200 .............................................\n",
            "[CV]  C=100, max_iter=200, score=(train=0.999, test=0.411), total=   8.8s\n",
            "[CV] C=100, max_iter=200 .............................................\n",
            "[CV]  C=100, max_iter=200, score=(train=0.999, test=0.426), total=   8.8s\n",
            "[CV] C=100, max_iter=250 .............................................\n",
            "[CV]  C=100, max_iter=250, score=(train=0.999, test=0.411), total=   8.9s\n",
            "[CV] C=100, max_iter=250 .............................................\n",
            "[CV]  C=100, max_iter=250, score=(train=0.999, test=0.426), total=   8.7s\n",
            "[CV] C=100, max_iter=300 .............................................\n",
            "[CV]  C=100, max_iter=300, score=(train=0.999, test=0.411), total=   8.9s\n",
            "[CV] C=100, max_iter=300 .............................................\n",
            "[CV]  C=100, max_iter=300, score=(train=0.999, test=0.426), total=   8.7s\n",
            "[CV] C=100, max_iter=350 .............................................\n",
            "[CV]  C=100, max_iter=350, score=(train=0.999, test=0.411), total=   8.9s\n",
            "[CV] C=100, max_iter=350 .............................................\n",
            "[CV]  C=100, max_iter=350, score=(train=0.999, test=0.426), total=   8.7s\n",
            "[CV] C=100, max_iter=400 .............................................\n",
            "[CV]  C=100, max_iter=400, score=(train=0.999, test=0.411), total=   8.8s\n",
            "[CV] C=100, max_iter=400 .............................................\n",
            "[CV]  C=100, max_iter=400, score=(train=0.999, test=0.426), total=   8.8s\n",
            "[CV] C=130, max_iter=50 ..............................................\n"
          ],
          "name": "stdout"
        },
        {
          "output_type": "stream",
          "text": [
            "/usr/local/lib/python3.6/dist-packages/sklearn/linear_model/_logistic.py:940: ConvergenceWarning: lbfgs failed to converge (status=1):\n",
            "STOP: TOTAL NO. of ITERATIONS REACHED LIMIT.\n",
            "\n",
            "Increase the number of iterations (max_iter) or scale the data as shown in:\n",
            "    https://scikit-learn.org/stable/modules/preprocessing.html\n",
            "Please also refer to the documentation for alternative solver options:\n",
            "    https://scikit-learn.org/stable/modules/linear_model.html#logistic-regression\n",
            "  extra_warning_msg=_LOGISTIC_SOLVER_CONVERGENCE_MSG)\n"
          ],
          "name": "stderr"
        },
        {
          "output_type": "stream",
          "text": [
            "[CV]  C=130, max_iter=50, score=(train=0.999, test=0.407), total=   3.2s\n",
            "[CV] C=130, max_iter=50 ..............................................\n"
          ],
          "name": "stdout"
        },
        {
          "output_type": "stream",
          "text": [
            "/usr/local/lib/python3.6/dist-packages/sklearn/linear_model/_logistic.py:940: ConvergenceWarning: lbfgs failed to converge (status=1):\n",
            "STOP: TOTAL NO. of ITERATIONS REACHED LIMIT.\n",
            "\n",
            "Increase the number of iterations (max_iter) or scale the data as shown in:\n",
            "    https://scikit-learn.org/stable/modules/preprocessing.html\n",
            "Please also refer to the documentation for alternative solver options:\n",
            "    https://scikit-learn.org/stable/modules/linear_model.html#logistic-regression\n",
            "  extra_warning_msg=_LOGISTIC_SOLVER_CONVERGENCE_MSG)\n"
          ],
          "name": "stderr"
        },
        {
          "output_type": "stream",
          "text": [
            "[CV]  C=130, max_iter=50, score=(train=0.999, test=0.430), total=   3.1s\n",
            "[CV] C=130, max_iter=100 .............................................\n"
          ],
          "name": "stdout"
        },
        {
          "output_type": "stream",
          "text": [
            "/usr/local/lib/python3.6/dist-packages/sklearn/linear_model/_logistic.py:940: ConvergenceWarning: lbfgs failed to converge (status=1):\n",
            "STOP: TOTAL NO. of ITERATIONS REACHED LIMIT.\n",
            "\n",
            "Increase the number of iterations (max_iter) or scale the data as shown in:\n",
            "    https://scikit-learn.org/stable/modules/preprocessing.html\n",
            "Please also refer to the documentation for alternative solver options:\n",
            "    https://scikit-learn.org/stable/modules/linear_model.html#logistic-regression\n",
            "  extra_warning_msg=_LOGISTIC_SOLVER_CONVERGENCE_MSG)\n"
          ],
          "name": "stderr"
        },
        {
          "output_type": "stream",
          "text": [
            "[CV]  C=130, max_iter=100, score=(train=0.999, test=0.414), total=   6.5s\n",
            "[CV] C=130, max_iter=100 .............................................\n"
          ],
          "name": "stdout"
        },
        {
          "output_type": "stream",
          "text": [
            "/usr/local/lib/python3.6/dist-packages/sklearn/linear_model/_logistic.py:940: ConvergenceWarning: lbfgs failed to converge (status=1):\n",
            "STOP: TOTAL NO. of ITERATIONS REACHED LIMIT.\n",
            "\n",
            "Increase the number of iterations (max_iter) or scale the data as shown in:\n",
            "    https://scikit-learn.org/stable/modules/preprocessing.html\n",
            "Please also refer to the documentation for alternative solver options:\n",
            "    https://scikit-learn.org/stable/modules/linear_model.html#logistic-regression\n",
            "  extra_warning_msg=_LOGISTIC_SOLVER_CONVERGENCE_MSG)\n"
          ],
          "name": "stderr"
        },
        {
          "output_type": "stream",
          "text": [
            "[CV]  C=130, max_iter=100, score=(train=0.999, test=0.431), total=   6.3s\n",
            "[CV] C=130, max_iter=150 .............................................\n",
            "[CV]  C=130, max_iter=150, score=(train=0.999, test=0.414), total=   8.8s\n",
            "[CV] C=130, max_iter=150 .............................................\n"
          ],
          "name": "stdout"
        },
        {
          "output_type": "stream",
          "text": [
            "/usr/local/lib/python3.6/dist-packages/sklearn/linear_model/_logistic.py:940: ConvergenceWarning: lbfgs failed to converge (status=1):\n",
            "STOP: TOTAL NO. of ITERATIONS REACHED LIMIT.\n",
            "\n",
            "Increase the number of iterations (max_iter) or scale the data as shown in:\n",
            "    https://scikit-learn.org/stable/modules/preprocessing.html\n",
            "Please also refer to the documentation for alternative solver options:\n",
            "    https://scikit-learn.org/stable/modules/linear_model.html#logistic-regression\n",
            "  extra_warning_msg=_LOGISTIC_SOLVER_CONVERGENCE_MSG)\n"
          ],
          "name": "stderr"
        },
        {
          "output_type": "stream",
          "text": [
            "[CV]  C=130, max_iter=150, score=(train=0.999, test=0.431), total=   9.5s\n",
            "[CV] C=130, max_iter=200 .............................................\n",
            "[CV]  C=130, max_iter=200, score=(train=0.999, test=0.414), total=   8.8s\n",
            "[CV] C=130, max_iter=200 .............................................\n",
            "[CV]  C=130, max_iter=200, score=(train=0.999, test=0.431), total=   9.7s\n",
            "[CV] C=130, max_iter=250 .............................................\n",
            "[CV]  C=130, max_iter=250, score=(train=0.999, test=0.414), total=   8.8s\n",
            "[CV] C=130, max_iter=250 .............................................\n",
            "[CV]  C=130, max_iter=250, score=(train=0.999, test=0.431), total=   9.7s\n",
            "[CV] C=130, max_iter=300 .............................................\n",
            "[CV]  C=130, max_iter=300, score=(train=0.999, test=0.414), total=   8.8s\n",
            "[CV] C=130, max_iter=300 .............................................\n",
            "[CV]  C=130, max_iter=300, score=(train=0.999, test=0.431), total=   9.7s\n",
            "[CV] C=130, max_iter=350 .............................................\n",
            "[CV]  C=130, max_iter=350, score=(train=0.999, test=0.414), total=   8.8s\n",
            "[CV] C=130, max_iter=350 .............................................\n",
            "[CV]  C=130, max_iter=350, score=(train=0.999, test=0.431), total=   9.7s\n",
            "[CV] C=130, max_iter=400 .............................................\n",
            "[CV]  C=130, max_iter=400, score=(train=0.999, test=0.414), total=   8.8s\n",
            "[CV] C=130, max_iter=400 .............................................\n",
            "[CV]  C=130, max_iter=400, score=(train=0.999, test=0.431), total=   9.7s\n",
            "[CV] C=160, max_iter=50 ..............................................\n"
          ],
          "name": "stdout"
        },
        {
          "output_type": "stream",
          "text": [
            "/usr/local/lib/python3.6/dist-packages/sklearn/linear_model/_logistic.py:940: ConvergenceWarning: lbfgs failed to converge (status=1):\n",
            "STOP: TOTAL NO. of ITERATIONS REACHED LIMIT.\n",
            "\n",
            "Increase the number of iterations (max_iter) or scale the data as shown in:\n",
            "    https://scikit-learn.org/stable/modules/preprocessing.html\n",
            "Please also refer to the documentation for alternative solver options:\n",
            "    https://scikit-learn.org/stable/modules/linear_model.html#logistic-regression\n",
            "  extra_warning_msg=_LOGISTIC_SOLVER_CONVERGENCE_MSG)\n"
          ],
          "name": "stderr"
        },
        {
          "output_type": "stream",
          "text": [
            "[CV]  C=160, max_iter=50, score=(train=0.999, test=0.414), total=   3.2s\n",
            "[CV] C=160, max_iter=50 ..............................................\n"
          ],
          "name": "stdout"
        },
        {
          "output_type": "stream",
          "text": [
            "/usr/local/lib/python3.6/dist-packages/sklearn/linear_model/_logistic.py:940: ConvergenceWarning: lbfgs failed to converge (status=1):\n",
            "STOP: TOTAL NO. of ITERATIONS REACHED LIMIT.\n",
            "\n",
            "Increase the number of iterations (max_iter) or scale the data as shown in:\n",
            "    https://scikit-learn.org/stable/modules/preprocessing.html\n",
            "Please also refer to the documentation for alternative solver options:\n",
            "    https://scikit-learn.org/stable/modules/linear_model.html#logistic-regression\n",
            "  extra_warning_msg=_LOGISTIC_SOLVER_CONVERGENCE_MSG)\n"
          ],
          "name": "stderr"
        },
        {
          "output_type": "stream",
          "text": [
            "[CV]  C=160, max_iter=50, score=(train=0.999, test=0.441), total=   3.1s\n",
            "[CV] C=160, max_iter=100 .............................................\n"
          ],
          "name": "stdout"
        },
        {
          "output_type": "stream",
          "text": [
            "/usr/local/lib/python3.6/dist-packages/sklearn/linear_model/_logistic.py:940: ConvergenceWarning: lbfgs failed to converge (status=1):\n",
            "STOP: TOTAL NO. of ITERATIONS REACHED LIMIT.\n",
            "\n",
            "Increase the number of iterations (max_iter) or scale the data as shown in:\n",
            "    https://scikit-learn.org/stable/modules/preprocessing.html\n",
            "Please also refer to the documentation for alternative solver options:\n",
            "    https://scikit-learn.org/stable/modules/linear_model.html#logistic-regression\n",
            "  extra_warning_msg=_LOGISTIC_SOLVER_CONVERGENCE_MSG)\n"
          ],
          "name": "stderr"
        },
        {
          "output_type": "stream",
          "text": [
            "[CV]  C=160, max_iter=100, score=(train=0.999, test=0.415), total=   6.3s\n",
            "[CV] C=160, max_iter=100 .............................................\n"
          ],
          "name": "stdout"
        },
        {
          "output_type": "stream",
          "text": [
            "/usr/local/lib/python3.6/dist-packages/sklearn/linear_model/_logistic.py:940: ConvergenceWarning: lbfgs failed to converge (status=1):\n",
            "STOP: TOTAL NO. of ITERATIONS REACHED LIMIT.\n",
            "\n",
            "Increase the number of iterations (max_iter) or scale the data as shown in:\n",
            "    https://scikit-learn.org/stable/modules/preprocessing.html\n",
            "Please also refer to the documentation for alternative solver options:\n",
            "    https://scikit-learn.org/stable/modules/linear_model.html#logistic-regression\n",
            "  extra_warning_msg=_LOGISTIC_SOLVER_CONVERGENCE_MSG)\n"
          ],
          "name": "stderr"
        },
        {
          "output_type": "stream",
          "text": [
            "[CV]  C=160, max_iter=100, score=(train=0.999, test=0.437), total=   6.2s\n",
            "[CV] C=160, max_iter=150 .............................................\n"
          ],
          "name": "stdout"
        },
        {
          "output_type": "stream",
          "text": [
            "/usr/local/lib/python3.6/dist-packages/sklearn/linear_model/_logistic.py:940: ConvergenceWarning: lbfgs failed to converge (status=1):\n",
            "STOP: TOTAL NO. of ITERATIONS REACHED LIMIT.\n",
            "\n",
            "Increase the number of iterations (max_iter) or scale the data as shown in:\n",
            "    https://scikit-learn.org/stable/modules/preprocessing.html\n",
            "Please also refer to the documentation for alternative solver options:\n",
            "    https://scikit-learn.org/stable/modules/linear_model.html#logistic-regression\n",
            "  extra_warning_msg=_LOGISTIC_SOLVER_CONVERGENCE_MSG)\n"
          ],
          "name": "stderr"
        },
        {
          "output_type": "stream",
          "text": [
            "[CV]  C=160, max_iter=150, score=(train=0.999, test=0.415), total=   9.5s\n",
            "[CV] C=160, max_iter=150 .............................................\n"
          ],
          "name": "stdout"
        },
        {
          "output_type": "stream",
          "text": [
            "/usr/local/lib/python3.6/dist-packages/sklearn/linear_model/_logistic.py:940: ConvergenceWarning: lbfgs failed to converge (status=1):\n",
            "STOP: TOTAL NO. of ITERATIONS REACHED LIMIT.\n",
            "\n",
            "Increase the number of iterations (max_iter) or scale the data as shown in:\n",
            "    https://scikit-learn.org/stable/modules/preprocessing.html\n",
            "Please also refer to the documentation for alternative solver options:\n",
            "    https://scikit-learn.org/stable/modules/linear_model.html#logistic-regression\n",
            "  extra_warning_msg=_LOGISTIC_SOLVER_CONVERGENCE_MSG)\n"
          ],
          "name": "stderr"
        },
        {
          "output_type": "stream",
          "text": [
            "[CV]  C=160, max_iter=150, score=(train=0.999, test=0.436), total=   9.3s\n",
            "[CV] C=160, max_iter=200 .............................................\n",
            "[CV]  C=160, max_iter=200, score=(train=0.999, test=0.415), total=   9.5s\n",
            "[CV] C=160, max_iter=200 .............................................\n",
            "[CV]  C=160, max_iter=200, score=(train=0.999, test=0.436), total=   9.4s\n",
            "[CV] C=160, max_iter=250 .............................................\n",
            "[CV]  C=160, max_iter=250, score=(train=0.999, test=0.415), total=   9.4s\n",
            "[CV] C=160, max_iter=250 .............................................\n",
            "[CV]  C=160, max_iter=250, score=(train=0.999, test=0.436), total=   9.4s\n",
            "[CV] C=160, max_iter=300 .............................................\n",
            "[CV]  C=160, max_iter=300, score=(train=0.999, test=0.415), total=   9.5s\n",
            "[CV] C=160, max_iter=300 .............................................\n",
            "[CV]  C=160, max_iter=300, score=(train=0.999, test=0.436), total=   9.4s\n",
            "[CV] C=160, max_iter=350 .............................................\n",
            "[CV]  C=160, max_iter=350, score=(train=0.999, test=0.415), total=   9.5s\n",
            "[CV] C=160, max_iter=350 .............................................\n",
            "[CV]  C=160, max_iter=350, score=(train=0.999, test=0.436), total=   9.4s\n",
            "[CV] C=160, max_iter=400 .............................................\n",
            "[CV]  C=160, max_iter=400, score=(train=0.999, test=0.415), total=   9.5s\n",
            "[CV] C=160, max_iter=400 .............................................\n",
            "[CV]  C=160, max_iter=400, score=(train=0.999, test=0.436), total=   9.4s\n",
            "[CV] C=180, max_iter=50 ..............................................\n"
          ],
          "name": "stdout"
        },
        {
          "output_type": "stream",
          "text": [
            "/usr/local/lib/python3.6/dist-packages/sklearn/linear_model/_logistic.py:940: ConvergenceWarning: lbfgs failed to converge (status=1):\n",
            "STOP: TOTAL NO. of ITERATIONS REACHED LIMIT.\n",
            "\n",
            "Increase the number of iterations (max_iter) or scale the data as shown in:\n",
            "    https://scikit-learn.org/stable/modules/preprocessing.html\n",
            "Please also refer to the documentation for alternative solver options:\n",
            "    https://scikit-learn.org/stable/modules/linear_model.html#logistic-regression\n",
            "  extra_warning_msg=_LOGISTIC_SOLVER_CONVERGENCE_MSG)\n"
          ],
          "name": "stderr"
        },
        {
          "output_type": "stream",
          "text": [
            "[CV]  C=180, max_iter=50, score=(train=0.999, test=0.404), total=   3.1s\n",
            "[CV] C=180, max_iter=50 ..............................................\n"
          ],
          "name": "stdout"
        },
        {
          "output_type": "stream",
          "text": [
            "/usr/local/lib/python3.6/dist-packages/sklearn/linear_model/_logistic.py:940: ConvergenceWarning: lbfgs failed to converge (status=1):\n",
            "STOP: TOTAL NO. of ITERATIONS REACHED LIMIT.\n",
            "\n",
            "Increase the number of iterations (max_iter) or scale the data as shown in:\n",
            "    https://scikit-learn.org/stable/modules/preprocessing.html\n",
            "Please also refer to the documentation for alternative solver options:\n",
            "    https://scikit-learn.org/stable/modules/linear_model.html#logistic-regression\n",
            "  extra_warning_msg=_LOGISTIC_SOLVER_CONVERGENCE_MSG)\n"
          ],
          "name": "stderr"
        },
        {
          "output_type": "stream",
          "text": [
            "[CV]  C=180, max_iter=50, score=(train=0.999, test=0.442), total=   3.2s\n",
            "[CV] C=180, max_iter=100 .............................................\n"
          ],
          "name": "stdout"
        },
        {
          "output_type": "stream",
          "text": [
            "/usr/local/lib/python3.6/dist-packages/sklearn/linear_model/_logistic.py:940: ConvergenceWarning: lbfgs failed to converge (status=1):\n",
            "STOP: TOTAL NO. of ITERATIONS REACHED LIMIT.\n",
            "\n",
            "Increase the number of iterations (max_iter) or scale the data as shown in:\n",
            "    https://scikit-learn.org/stable/modules/preprocessing.html\n",
            "Please also refer to the documentation for alternative solver options:\n",
            "    https://scikit-learn.org/stable/modules/linear_model.html#logistic-regression\n",
            "  extra_warning_msg=_LOGISTIC_SOLVER_CONVERGENCE_MSG)\n"
          ],
          "name": "stderr"
        },
        {
          "output_type": "stream",
          "text": [
            "[CV]  C=180, max_iter=100, score=(train=0.999, test=0.416), total=   6.2s\n",
            "[CV] C=180, max_iter=100 .............................................\n"
          ],
          "name": "stdout"
        },
        {
          "output_type": "stream",
          "text": [
            "/usr/local/lib/python3.6/dist-packages/sklearn/linear_model/_logistic.py:940: ConvergenceWarning: lbfgs failed to converge (status=1):\n",
            "STOP: TOTAL NO. of ITERATIONS REACHED LIMIT.\n",
            "\n",
            "Increase the number of iterations (max_iter) or scale the data as shown in:\n",
            "    https://scikit-learn.org/stable/modules/preprocessing.html\n",
            "Please also refer to the documentation for alternative solver options:\n",
            "    https://scikit-learn.org/stable/modules/linear_model.html#logistic-regression\n",
            "  extra_warning_msg=_LOGISTIC_SOLVER_CONVERGENCE_MSG)\n"
          ],
          "name": "stderr"
        },
        {
          "output_type": "stream",
          "text": [
            "[CV]  C=180, max_iter=100, score=(train=0.999, test=0.439), total=   6.2s\n",
            "[CV] C=180, max_iter=150 .............................................\n"
          ],
          "name": "stdout"
        },
        {
          "output_type": "stream",
          "text": [
            "/usr/local/lib/python3.6/dist-packages/sklearn/linear_model/_logistic.py:940: ConvergenceWarning: lbfgs failed to converge (status=1):\n",
            "STOP: TOTAL NO. of ITERATIONS REACHED LIMIT.\n",
            "\n",
            "Increase the number of iterations (max_iter) or scale the data as shown in:\n",
            "    https://scikit-learn.org/stable/modules/preprocessing.html\n",
            "Please also refer to the documentation for alternative solver options:\n",
            "    https://scikit-learn.org/stable/modules/linear_model.html#logistic-regression\n",
            "  extra_warning_msg=_LOGISTIC_SOLVER_CONVERGENCE_MSG)\n"
          ],
          "name": "stderr"
        },
        {
          "output_type": "stream",
          "text": [
            "[CV]  C=180, max_iter=150, score=(train=0.999, test=0.416), total=   9.4s\n",
            "[CV] C=180, max_iter=150 .............................................\n"
          ],
          "name": "stdout"
        },
        {
          "output_type": "stream",
          "text": [
            "/usr/local/lib/python3.6/dist-packages/sklearn/linear_model/_logistic.py:940: ConvergenceWarning: lbfgs failed to converge (status=1):\n",
            "STOP: TOTAL NO. of ITERATIONS REACHED LIMIT.\n",
            "\n",
            "Increase the number of iterations (max_iter) or scale the data as shown in:\n",
            "    https://scikit-learn.org/stable/modules/preprocessing.html\n",
            "Please also refer to the documentation for alternative solver options:\n",
            "    https://scikit-learn.org/stable/modules/linear_model.html#logistic-regression\n",
            "  extra_warning_msg=_LOGISTIC_SOLVER_CONVERGENCE_MSG)\n"
          ],
          "name": "stderr"
        },
        {
          "output_type": "stream",
          "text": [
            "[CV]  C=180, max_iter=150, score=(train=0.999, test=0.439), total=   9.4s\n",
            "[CV] C=180, max_iter=200 .............................................\n",
            "[CV]  C=180, max_iter=200, score=(train=0.999, test=0.416), total=  10.1s\n",
            "[CV] C=180, max_iter=200 .............................................\n",
            "[CV]  C=180, max_iter=200, score=(train=0.999, test=0.439), total=   9.7s\n",
            "[CV] C=180, max_iter=250 .............................................\n",
            "[CV]  C=180, max_iter=250, score=(train=0.999, test=0.416), total=  10.1s\n",
            "[CV] C=180, max_iter=250 .............................................\n",
            "[CV]  C=180, max_iter=250, score=(train=0.999, test=0.439), total=   9.8s\n",
            "[CV] C=180, max_iter=300 .............................................\n",
            "[CV]  C=180, max_iter=300, score=(train=0.999, test=0.416), total=  10.1s\n",
            "[CV] C=180, max_iter=300 .............................................\n",
            "[CV]  C=180, max_iter=300, score=(train=0.999, test=0.439), total=   9.7s\n",
            "[CV] C=180, max_iter=350 .............................................\n",
            "[CV]  C=180, max_iter=350, score=(train=0.999, test=0.416), total=  10.3s\n",
            "[CV] C=180, max_iter=350 .............................................\n",
            "[CV]  C=180, max_iter=350, score=(train=0.999, test=0.439), total=  10.9s\n",
            "[CV] C=180, max_iter=400 .............................................\n",
            "[CV]  C=180, max_iter=400, score=(train=0.999, test=0.416), total=  10.7s\n",
            "[CV] C=180, max_iter=400 .............................................\n",
            "[CV]  C=180, max_iter=400, score=(train=0.999, test=0.439), total=  10.9s\n",
            "[CV] C=190, max_iter=50 ..............................................\n"
          ],
          "name": "stdout"
        },
        {
          "output_type": "stream",
          "text": [
            "/usr/local/lib/python3.6/dist-packages/sklearn/linear_model/_logistic.py:940: ConvergenceWarning: lbfgs failed to converge (status=1):\n",
            "STOP: TOTAL NO. of ITERATIONS REACHED LIMIT.\n",
            "\n",
            "Increase the number of iterations (max_iter) or scale the data as shown in:\n",
            "    https://scikit-learn.org/stable/modules/preprocessing.html\n",
            "Please also refer to the documentation for alternative solver options:\n",
            "    https://scikit-learn.org/stable/modules/linear_model.html#logistic-regression\n",
            "  extra_warning_msg=_LOGISTIC_SOLVER_CONVERGENCE_MSG)\n"
          ],
          "name": "stderr"
        },
        {
          "output_type": "stream",
          "text": [
            "[CV]  C=190, max_iter=50, score=(train=0.999, test=0.418), total=   3.4s\n",
            "[CV] C=190, max_iter=50 ..............................................\n"
          ],
          "name": "stdout"
        },
        {
          "output_type": "stream",
          "text": [
            "/usr/local/lib/python3.6/dist-packages/sklearn/linear_model/_logistic.py:940: ConvergenceWarning: lbfgs failed to converge (status=1):\n",
            "STOP: TOTAL NO. of ITERATIONS REACHED LIMIT.\n",
            "\n",
            "Increase the number of iterations (max_iter) or scale the data as shown in:\n",
            "    https://scikit-learn.org/stable/modules/preprocessing.html\n",
            "Please also refer to the documentation for alternative solver options:\n",
            "    https://scikit-learn.org/stable/modules/linear_model.html#logistic-regression\n",
            "  extra_warning_msg=_LOGISTIC_SOLVER_CONVERGENCE_MSG)\n"
          ],
          "name": "stderr"
        },
        {
          "output_type": "stream",
          "text": [
            "[CV]  C=190, max_iter=50, score=(train=0.999, test=0.437), total=   3.4s\n",
            "[CV] C=190, max_iter=100 .............................................\n"
          ],
          "name": "stdout"
        },
        {
          "output_type": "stream",
          "text": [
            "/usr/local/lib/python3.6/dist-packages/sklearn/linear_model/_logistic.py:940: ConvergenceWarning: lbfgs failed to converge (status=1):\n",
            "STOP: TOTAL NO. of ITERATIONS REACHED LIMIT.\n",
            "\n",
            "Increase the number of iterations (max_iter) or scale the data as shown in:\n",
            "    https://scikit-learn.org/stable/modules/preprocessing.html\n",
            "Please also refer to the documentation for alternative solver options:\n",
            "    https://scikit-learn.org/stable/modules/linear_model.html#logistic-regression\n",
            "  extra_warning_msg=_LOGISTIC_SOLVER_CONVERGENCE_MSG)\n"
          ],
          "name": "stderr"
        },
        {
          "output_type": "stream",
          "text": [
            "[CV]  C=190, max_iter=100, score=(train=0.999, test=0.417), total=   6.5s\n",
            "[CV] C=190, max_iter=100 .............................................\n"
          ],
          "name": "stdout"
        },
        {
          "output_type": "stream",
          "text": [
            "/usr/local/lib/python3.6/dist-packages/sklearn/linear_model/_logistic.py:940: ConvergenceWarning: lbfgs failed to converge (status=1):\n",
            "STOP: TOTAL NO. of ITERATIONS REACHED LIMIT.\n",
            "\n",
            "Increase the number of iterations (max_iter) or scale the data as shown in:\n",
            "    https://scikit-learn.org/stable/modules/preprocessing.html\n",
            "Please also refer to the documentation for alternative solver options:\n",
            "    https://scikit-learn.org/stable/modules/linear_model.html#logistic-regression\n",
            "  extra_warning_msg=_LOGISTIC_SOLVER_CONVERGENCE_MSG)\n"
          ],
          "name": "stderr"
        },
        {
          "output_type": "stream",
          "text": [
            "[CV]  C=190, max_iter=100, score=(train=0.999, test=0.439), total=   6.3s\n",
            "[CV] C=190, max_iter=150 .............................................\n"
          ],
          "name": "stdout"
        },
        {
          "output_type": "stream",
          "text": [
            "/usr/local/lib/python3.6/dist-packages/sklearn/linear_model/_logistic.py:940: ConvergenceWarning: lbfgs failed to converge (status=1):\n",
            "STOP: TOTAL NO. of ITERATIONS REACHED LIMIT.\n",
            "\n",
            "Increase the number of iterations (max_iter) or scale the data as shown in:\n",
            "    https://scikit-learn.org/stable/modules/preprocessing.html\n",
            "Please also refer to the documentation for alternative solver options:\n",
            "    https://scikit-learn.org/stable/modules/linear_model.html#logistic-regression\n",
            "  extra_warning_msg=_LOGISTIC_SOLVER_CONVERGENCE_MSG)\n"
          ],
          "name": "stderr"
        },
        {
          "output_type": "stream",
          "text": [
            "[CV]  C=190, max_iter=150, score=(train=0.999, test=0.416), total=   9.9s\n",
            "[CV] C=190, max_iter=150 .............................................\n"
          ],
          "name": "stdout"
        },
        {
          "output_type": "stream",
          "text": [
            "/usr/local/lib/python3.6/dist-packages/sklearn/linear_model/_logistic.py:940: ConvergenceWarning: lbfgs failed to converge (status=1):\n",
            "STOP: TOTAL NO. of ITERATIONS REACHED LIMIT.\n",
            "\n",
            "Increase the number of iterations (max_iter) or scale the data as shown in:\n",
            "    https://scikit-learn.org/stable/modules/preprocessing.html\n",
            "Please also refer to the documentation for alternative solver options:\n",
            "    https://scikit-learn.org/stable/modules/linear_model.html#logistic-regression\n",
            "  extra_warning_msg=_LOGISTIC_SOLVER_CONVERGENCE_MSG)\n"
          ],
          "name": "stderr"
        },
        {
          "output_type": "stream",
          "text": [
            "[CV]  C=190, max_iter=150, score=(train=0.999, test=0.439), total=   9.6s\n",
            "[CV] C=190, max_iter=200 .............................................\n",
            "[CV]  C=190, max_iter=200, score=(train=0.999, test=0.416), total=  12.0s\n",
            "[CV] C=190, max_iter=200 .............................................\n",
            "[CV]  C=190, max_iter=200, score=(train=0.999, test=0.439), total=  10.7s\n",
            "[CV] C=190, max_iter=250 .............................................\n",
            "[CV]  C=190, max_iter=250, score=(train=0.999, test=0.416), total=  11.0s\n",
            "[CV] C=190, max_iter=250 .............................................\n",
            "[CV]  C=190, max_iter=250, score=(train=0.999, test=0.439), total=  10.7s\n",
            "[CV] C=190, max_iter=300 .............................................\n",
            "[CV]  C=190, max_iter=300, score=(train=0.999, test=0.416), total=  10.8s\n",
            "[CV] C=190, max_iter=300 .............................................\n",
            "[CV]  C=190, max_iter=300, score=(train=0.999, test=0.439), total=  10.3s\n",
            "[CV] C=190, max_iter=350 .............................................\n",
            "[CV]  C=190, max_iter=350, score=(train=0.999, test=0.416), total=  11.1s\n",
            "[CV] C=190, max_iter=350 .............................................\n",
            "[CV]  C=190, max_iter=350, score=(train=0.999, test=0.439), total=  10.6s\n",
            "[CV] C=190, max_iter=400 .............................................\n",
            "[CV]  C=190, max_iter=400, score=(train=0.999, test=0.416), total=  10.9s\n",
            "[CV] C=190, max_iter=400 .............................................\n",
            "[CV]  C=190, max_iter=400, score=(train=0.999, test=0.439), total=  10.2s\n",
            "[CV] C=200, max_iter=50 ..............................................\n"
          ],
          "name": "stdout"
        },
        {
          "output_type": "stream",
          "text": [
            "/usr/local/lib/python3.6/dist-packages/sklearn/linear_model/_logistic.py:940: ConvergenceWarning: lbfgs failed to converge (status=1):\n",
            "STOP: TOTAL NO. of ITERATIONS REACHED LIMIT.\n",
            "\n",
            "Increase the number of iterations (max_iter) or scale the data as shown in:\n",
            "    https://scikit-learn.org/stable/modules/preprocessing.html\n",
            "Please also refer to the documentation for alternative solver options:\n",
            "    https://scikit-learn.org/stable/modules/linear_model.html#logistic-regression\n",
            "  extra_warning_msg=_LOGISTIC_SOLVER_CONVERGENCE_MSG)\n"
          ],
          "name": "stderr"
        },
        {
          "output_type": "stream",
          "text": [
            "[CV]  C=200, max_iter=50, score=(train=0.999, test=0.414), total=   3.2s\n",
            "[CV] C=200, max_iter=50 ..............................................\n"
          ],
          "name": "stdout"
        },
        {
          "output_type": "stream",
          "text": [
            "/usr/local/lib/python3.6/dist-packages/sklearn/linear_model/_logistic.py:940: ConvergenceWarning: lbfgs failed to converge (status=1):\n",
            "STOP: TOTAL NO. of ITERATIONS REACHED LIMIT.\n",
            "\n",
            "Increase the number of iterations (max_iter) or scale the data as shown in:\n",
            "    https://scikit-learn.org/stable/modules/preprocessing.html\n",
            "Please also refer to the documentation for alternative solver options:\n",
            "    https://scikit-learn.org/stable/modules/linear_model.html#logistic-regression\n",
            "  extra_warning_msg=_LOGISTIC_SOLVER_CONVERGENCE_MSG)\n"
          ],
          "name": "stderr"
        },
        {
          "output_type": "stream",
          "text": [
            "[CV]  C=200, max_iter=50, score=(train=0.999, test=0.437), total=   3.2s\n",
            "[CV] C=200, max_iter=100 .............................................\n"
          ],
          "name": "stdout"
        },
        {
          "output_type": "stream",
          "text": [
            "/usr/local/lib/python3.6/dist-packages/sklearn/linear_model/_logistic.py:940: ConvergenceWarning: lbfgs failed to converge (status=1):\n",
            "STOP: TOTAL NO. of ITERATIONS REACHED LIMIT.\n",
            "\n",
            "Increase the number of iterations (max_iter) or scale the data as shown in:\n",
            "    https://scikit-learn.org/stable/modules/preprocessing.html\n",
            "Please also refer to the documentation for alternative solver options:\n",
            "    https://scikit-learn.org/stable/modules/linear_model.html#logistic-regression\n",
            "  extra_warning_msg=_LOGISTIC_SOLVER_CONVERGENCE_MSG)\n"
          ],
          "name": "stderr"
        },
        {
          "output_type": "stream",
          "text": [
            "[CV]  C=200, max_iter=100, score=(train=0.999, test=0.416), total=   6.3s\n",
            "[CV] C=200, max_iter=100 .............................................\n"
          ],
          "name": "stdout"
        },
        {
          "output_type": "stream",
          "text": [
            "/usr/local/lib/python3.6/dist-packages/sklearn/linear_model/_logistic.py:940: ConvergenceWarning: lbfgs failed to converge (status=1):\n",
            "STOP: TOTAL NO. of ITERATIONS REACHED LIMIT.\n",
            "\n",
            "Increase the number of iterations (max_iter) or scale the data as shown in:\n",
            "    https://scikit-learn.org/stable/modules/preprocessing.html\n",
            "Please also refer to the documentation for alternative solver options:\n",
            "    https://scikit-learn.org/stable/modules/linear_model.html#logistic-regression\n",
            "  extra_warning_msg=_LOGISTIC_SOLVER_CONVERGENCE_MSG)\n"
          ],
          "name": "stderr"
        },
        {
          "output_type": "stream",
          "text": [
            "[CV]  C=200, max_iter=100, score=(train=0.999, test=0.440), total=   6.4s\n",
            "[CV] C=200, max_iter=150 .............................................\n"
          ],
          "name": "stdout"
        },
        {
          "output_type": "stream",
          "text": [
            "/usr/local/lib/python3.6/dist-packages/sklearn/linear_model/_logistic.py:940: ConvergenceWarning: lbfgs failed to converge (status=1):\n",
            "STOP: TOTAL NO. of ITERATIONS REACHED LIMIT.\n",
            "\n",
            "Increase the number of iterations (max_iter) or scale the data as shown in:\n",
            "    https://scikit-learn.org/stable/modules/preprocessing.html\n",
            "Please also refer to the documentation for alternative solver options:\n",
            "    https://scikit-learn.org/stable/modules/linear_model.html#logistic-regression\n",
            "  extra_warning_msg=_LOGISTIC_SOLVER_CONVERGENCE_MSG)\n"
          ],
          "name": "stderr"
        },
        {
          "output_type": "stream",
          "text": [
            "[CV]  C=200, max_iter=150, score=(train=0.999, test=0.418), total=   9.6s\n",
            "[CV] C=200, max_iter=150 .............................................\n",
            "[CV]  C=200, max_iter=150, score=(train=0.999, test=0.441), total=   9.4s\n",
            "[CV] C=200, max_iter=200 .............................................\n",
            "[CV]  C=200, max_iter=200, score=(train=0.999, test=0.418), total=  11.1s\n",
            "[CV] C=200, max_iter=200 .............................................\n",
            "[CV]  C=200, max_iter=200, score=(train=0.999, test=0.441), total=   9.7s\n",
            "[CV] C=200, max_iter=250 .............................................\n",
            "[CV]  C=200, max_iter=250, score=(train=0.999, test=0.418), total=  11.5s\n",
            "[CV] C=200, max_iter=250 .............................................\n",
            "[CV]  C=200, max_iter=250, score=(train=0.999, test=0.441), total=  10.2s\n",
            "[CV] C=200, max_iter=300 .............................................\n",
            "[CV]  C=200, max_iter=300, score=(train=0.999, test=0.418), total=  11.3s\n",
            "[CV] C=200, max_iter=300 .............................................\n",
            "[CV]  C=200, max_iter=300, score=(train=0.999, test=0.441), total=   9.5s\n",
            "[CV] C=200, max_iter=350 .............................................\n",
            "[CV]  C=200, max_iter=350, score=(train=0.999, test=0.418), total=  11.2s\n",
            "[CV] C=200, max_iter=350 .............................................\n",
            "[CV]  C=200, max_iter=350, score=(train=0.999, test=0.441), total=   9.4s\n",
            "[CV] C=200, max_iter=400 .............................................\n",
            "[CV]  C=200, max_iter=400, score=(train=0.999, test=0.418), total=  11.1s\n",
            "[CV] C=200, max_iter=400 .............................................\n",
            "[CV]  C=200, max_iter=400, score=(train=0.999, test=0.441), total=   9.4s\n",
            "[CV] C=250, max_iter=50 ..............................................\n"
          ],
          "name": "stdout"
        },
        {
          "output_type": "stream",
          "text": [
            "/usr/local/lib/python3.6/dist-packages/sklearn/linear_model/_logistic.py:940: ConvergenceWarning: lbfgs failed to converge (status=1):\n",
            "STOP: TOTAL NO. of ITERATIONS REACHED LIMIT.\n",
            "\n",
            "Increase the number of iterations (max_iter) or scale the data as shown in:\n",
            "    https://scikit-learn.org/stable/modules/preprocessing.html\n",
            "Please also refer to the documentation for alternative solver options:\n",
            "    https://scikit-learn.org/stable/modules/linear_model.html#logistic-regression\n",
            "  extra_warning_msg=_LOGISTIC_SOLVER_CONVERGENCE_MSG)\n"
          ],
          "name": "stderr"
        },
        {
          "output_type": "stream",
          "text": [
            "[CV]  C=250, max_iter=50, score=(train=0.999, test=0.416), total=   3.2s\n",
            "[CV] C=250, max_iter=50 ..............................................\n"
          ],
          "name": "stdout"
        },
        {
          "output_type": "stream",
          "text": [
            "/usr/local/lib/python3.6/dist-packages/sklearn/linear_model/_logistic.py:940: ConvergenceWarning: lbfgs failed to converge (status=1):\n",
            "STOP: TOTAL NO. of ITERATIONS REACHED LIMIT.\n",
            "\n",
            "Increase the number of iterations (max_iter) or scale the data as shown in:\n",
            "    https://scikit-learn.org/stable/modules/preprocessing.html\n",
            "Please also refer to the documentation for alternative solver options:\n",
            "    https://scikit-learn.org/stable/modules/linear_model.html#logistic-regression\n",
            "  extra_warning_msg=_LOGISTIC_SOLVER_CONVERGENCE_MSG)\n"
          ],
          "name": "stderr"
        },
        {
          "output_type": "stream",
          "text": [
            "[CV]  C=250, max_iter=50, score=(train=0.999, test=0.445), total=   3.1s\n",
            "[CV] C=250, max_iter=100 .............................................\n"
          ],
          "name": "stdout"
        },
        {
          "output_type": "stream",
          "text": [
            "/usr/local/lib/python3.6/dist-packages/sklearn/linear_model/_logistic.py:940: ConvergenceWarning: lbfgs failed to converge (status=1):\n",
            "STOP: TOTAL NO. of ITERATIONS REACHED LIMIT.\n",
            "\n",
            "Increase the number of iterations (max_iter) or scale the data as shown in:\n",
            "    https://scikit-learn.org/stable/modules/preprocessing.html\n",
            "Please also refer to the documentation for alternative solver options:\n",
            "    https://scikit-learn.org/stable/modules/linear_model.html#logistic-regression\n",
            "  extra_warning_msg=_LOGISTIC_SOLVER_CONVERGENCE_MSG)\n"
          ],
          "name": "stderr"
        },
        {
          "output_type": "stream",
          "text": [
            "[CV]  C=250, max_iter=100, score=(train=0.999, test=0.418), total=   6.3s\n",
            "[CV] C=250, max_iter=100 .............................................\n"
          ],
          "name": "stdout"
        },
        {
          "output_type": "stream",
          "text": [
            "/usr/local/lib/python3.6/dist-packages/sklearn/linear_model/_logistic.py:940: ConvergenceWarning: lbfgs failed to converge (status=1):\n",
            "STOP: TOTAL NO. of ITERATIONS REACHED LIMIT.\n",
            "\n",
            "Increase the number of iterations (max_iter) or scale the data as shown in:\n",
            "    https://scikit-learn.org/stable/modules/preprocessing.html\n",
            "Please also refer to the documentation for alternative solver options:\n",
            "    https://scikit-learn.org/stable/modules/linear_model.html#logistic-regression\n",
            "  extra_warning_msg=_LOGISTIC_SOLVER_CONVERGENCE_MSG)\n"
          ],
          "name": "stderr"
        },
        {
          "output_type": "stream",
          "text": [
            "[CV]  C=250, max_iter=100, score=(train=0.999, test=0.443), total=   6.4s\n",
            "[CV] C=250, max_iter=150 .............................................\n"
          ],
          "name": "stdout"
        },
        {
          "output_type": "stream",
          "text": [
            "/usr/local/lib/python3.6/dist-packages/sklearn/linear_model/_logistic.py:940: ConvergenceWarning: lbfgs failed to converge (status=1):\n",
            "STOP: TOTAL NO. of ITERATIONS REACHED LIMIT.\n",
            "\n",
            "Increase the number of iterations (max_iter) or scale the data as shown in:\n",
            "    https://scikit-learn.org/stable/modules/preprocessing.html\n",
            "Please also refer to the documentation for alternative solver options:\n",
            "    https://scikit-learn.org/stable/modules/linear_model.html#logistic-regression\n",
            "  extra_warning_msg=_LOGISTIC_SOLVER_CONVERGENCE_MSG)\n"
          ],
          "name": "stderr"
        },
        {
          "output_type": "stream",
          "text": [
            "[CV]  C=250, max_iter=150, score=(train=0.999, test=0.418), total=   9.5s\n",
            "[CV] C=250, max_iter=150 .............................................\n"
          ],
          "name": "stdout"
        },
        {
          "output_type": "stream",
          "text": [
            "/usr/local/lib/python3.6/dist-packages/sklearn/linear_model/_logistic.py:940: ConvergenceWarning: lbfgs failed to converge (status=1):\n",
            "STOP: TOTAL NO. of ITERATIONS REACHED LIMIT.\n",
            "\n",
            "Increase the number of iterations (max_iter) or scale the data as shown in:\n",
            "    https://scikit-learn.org/stable/modules/preprocessing.html\n",
            "Please also refer to the documentation for alternative solver options:\n",
            "    https://scikit-learn.org/stable/modules/linear_model.html#logistic-regression\n",
            "  extra_warning_msg=_LOGISTIC_SOLVER_CONVERGENCE_MSG)\n"
          ],
          "name": "stderr"
        },
        {
          "output_type": "stream",
          "text": [
            "[CV]  C=250, max_iter=150, score=(train=0.999, test=0.444), total=   9.5s\n",
            "[CV] C=250, max_iter=200 .............................................\n",
            "[CV]  C=250, max_iter=200, score=(train=0.999, test=0.418), total=  12.4s\n",
            "[CV] C=250, max_iter=200 .............................................\n",
            "[CV]  C=250, max_iter=200, score=(train=0.999, test=0.444), total=  10.6s\n",
            "[CV] C=250, max_iter=250 .............................................\n",
            "[CV]  C=250, max_iter=250, score=(train=0.999, test=0.418), total=  12.3s\n",
            "[CV] C=250, max_iter=250 .............................................\n",
            "[CV]  C=250, max_iter=250, score=(train=0.999, test=0.444), total=  10.5s\n",
            "[CV] C=250, max_iter=300 .............................................\n",
            "[CV]  C=250, max_iter=300, score=(train=0.999, test=0.418), total=  12.3s\n",
            "[CV] C=250, max_iter=300 .............................................\n",
            "[CV]  C=250, max_iter=300, score=(train=0.999, test=0.444), total=  10.5s\n",
            "[CV] C=250, max_iter=350 .............................................\n",
            "[CV]  C=250, max_iter=350, score=(train=0.999, test=0.418), total=  12.4s\n",
            "[CV] C=250, max_iter=350 .............................................\n",
            "[CV]  C=250, max_iter=350, score=(train=0.999, test=0.444), total=  10.5s\n",
            "[CV] C=250, max_iter=400 .............................................\n",
            "[CV]  C=250, max_iter=400, score=(train=0.999, test=0.418), total=  12.3s\n",
            "[CV] C=250, max_iter=400 .............................................\n",
            "[CV]  C=250, max_iter=400, score=(train=0.999, test=0.444), total=  10.5s\n",
            "[CV] C=300, max_iter=50 ..............................................\n"
          ],
          "name": "stdout"
        },
        {
          "output_type": "stream",
          "text": [
            "/usr/local/lib/python3.6/dist-packages/sklearn/linear_model/_logistic.py:940: ConvergenceWarning: lbfgs failed to converge (status=1):\n",
            "STOP: TOTAL NO. of ITERATIONS REACHED LIMIT.\n",
            "\n",
            "Increase the number of iterations (max_iter) or scale the data as shown in:\n",
            "    https://scikit-learn.org/stable/modules/preprocessing.html\n",
            "Please also refer to the documentation for alternative solver options:\n",
            "    https://scikit-learn.org/stable/modules/linear_model.html#logistic-regression\n",
            "  extra_warning_msg=_LOGISTIC_SOLVER_CONVERGENCE_MSG)\n"
          ],
          "name": "stderr"
        },
        {
          "output_type": "stream",
          "text": [
            "[CV]  C=300, max_iter=50, score=(train=0.999, test=0.417), total=   3.2s\n",
            "[CV] C=300, max_iter=50 ..............................................\n"
          ],
          "name": "stdout"
        },
        {
          "output_type": "stream",
          "text": [
            "/usr/local/lib/python3.6/dist-packages/sklearn/linear_model/_logistic.py:940: ConvergenceWarning: lbfgs failed to converge (status=1):\n",
            "STOP: TOTAL NO. of ITERATIONS REACHED LIMIT.\n",
            "\n",
            "Increase the number of iterations (max_iter) or scale the data as shown in:\n",
            "    https://scikit-learn.org/stable/modules/preprocessing.html\n",
            "Please also refer to the documentation for alternative solver options:\n",
            "    https://scikit-learn.org/stable/modules/linear_model.html#logistic-regression\n",
            "  extra_warning_msg=_LOGISTIC_SOLVER_CONVERGENCE_MSG)\n"
          ],
          "name": "stderr"
        },
        {
          "output_type": "stream",
          "text": [
            "[CV]  C=300, max_iter=50, score=(train=0.999, test=0.442), total=   3.2s\n",
            "[CV] C=300, max_iter=100 .............................................\n"
          ],
          "name": "stdout"
        },
        {
          "output_type": "stream",
          "text": [
            "/usr/local/lib/python3.6/dist-packages/sklearn/linear_model/_logistic.py:940: ConvergenceWarning: lbfgs failed to converge (status=1):\n",
            "STOP: TOTAL NO. of ITERATIONS REACHED LIMIT.\n",
            "\n",
            "Increase the number of iterations (max_iter) or scale the data as shown in:\n",
            "    https://scikit-learn.org/stable/modules/preprocessing.html\n",
            "Please also refer to the documentation for alternative solver options:\n",
            "    https://scikit-learn.org/stable/modules/linear_model.html#logistic-regression\n",
            "  extra_warning_msg=_LOGISTIC_SOLVER_CONVERGENCE_MSG)\n"
          ],
          "name": "stderr"
        },
        {
          "output_type": "stream",
          "text": [
            "[CV]  C=300, max_iter=100, score=(train=0.999, test=0.418), total=   6.2s\n",
            "[CV] C=300, max_iter=100 .............................................\n"
          ],
          "name": "stdout"
        },
        {
          "output_type": "stream",
          "text": [
            "/usr/local/lib/python3.6/dist-packages/sklearn/linear_model/_logistic.py:940: ConvergenceWarning: lbfgs failed to converge (status=1):\n",
            "STOP: TOTAL NO. of ITERATIONS REACHED LIMIT.\n",
            "\n",
            "Increase the number of iterations (max_iter) or scale the data as shown in:\n",
            "    https://scikit-learn.org/stable/modules/preprocessing.html\n",
            "Please also refer to the documentation for alternative solver options:\n",
            "    https://scikit-learn.org/stable/modules/linear_model.html#logistic-regression\n",
            "  extra_warning_msg=_LOGISTIC_SOLVER_CONVERGENCE_MSG)\n"
          ],
          "name": "stderr"
        },
        {
          "output_type": "stream",
          "text": [
            "[CV]  C=300, max_iter=100, score=(train=0.999, test=0.444), total=   6.3s\n",
            "[CV] C=300, max_iter=150 .............................................\n"
          ],
          "name": "stdout"
        },
        {
          "output_type": "stream",
          "text": [
            "/usr/local/lib/python3.6/dist-packages/sklearn/linear_model/_logistic.py:940: ConvergenceWarning: lbfgs failed to converge (status=1):\n",
            "STOP: TOTAL NO. of ITERATIONS REACHED LIMIT.\n",
            "\n",
            "Increase the number of iterations (max_iter) or scale the data as shown in:\n",
            "    https://scikit-learn.org/stable/modules/preprocessing.html\n",
            "Please also refer to the documentation for alternative solver options:\n",
            "    https://scikit-learn.org/stable/modules/linear_model.html#logistic-regression\n",
            "  extra_warning_msg=_LOGISTIC_SOLVER_CONVERGENCE_MSG)\n"
          ],
          "name": "stderr"
        },
        {
          "output_type": "stream",
          "text": [
            "[CV]  C=300, max_iter=150, score=(train=0.999, test=0.418), total=   9.4s\n",
            "[CV] C=300, max_iter=150 .............................................\n",
            "[CV]  C=300, max_iter=150, score=(train=0.999, test=0.444), total=   7.0s\n",
            "[CV] C=300, max_iter=200 .............................................\n",
            "[CV]  C=300, max_iter=200, score=(train=0.999, test=0.418), total=  11.0s\n",
            "[CV] C=300, max_iter=200 .............................................\n",
            "[CV]  C=300, max_iter=200, score=(train=0.999, test=0.444), total=   7.0s\n",
            "[CV] C=300, max_iter=250 .............................................\n",
            "[CV]  C=300, max_iter=250, score=(train=0.999, test=0.418), total=  11.0s\n",
            "[CV] C=300, max_iter=250 .............................................\n",
            "[CV]  C=300, max_iter=250, score=(train=0.999, test=0.444), total=   7.0s\n",
            "[CV] C=300, max_iter=300 .............................................\n",
            "[CV]  C=300, max_iter=300, score=(train=0.999, test=0.418), total=  11.1s\n",
            "[CV] C=300, max_iter=300 .............................................\n",
            "[CV]  C=300, max_iter=300, score=(train=0.999, test=0.444), total=   7.1s\n",
            "[CV] C=300, max_iter=350 .............................................\n",
            "[CV]  C=300, max_iter=350, score=(train=0.999, test=0.418), total=  11.1s\n",
            "[CV] C=300, max_iter=350 .............................................\n",
            "[CV]  C=300, max_iter=350, score=(train=0.999, test=0.444), total=   7.0s\n",
            "[CV] C=300, max_iter=400 .............................................\n",
            "[CV]  C=300, max_iter=400, score=(train=0.999, test=0.418), total=  11.0s\n",
            "[CV] C=300, max_iter=400 .............................................\n",
            "[CV]  C=300, max_iter=400, score=(train=0.999, test=0.444), total=   7.0s\n",
            "[CV] C=350, max_iter=50 ..............................................\n"
          ],
          "name": "stdout"
        },
        {
          "output_type": "stream",
          "text": [
            "/usr/local/lib/python3.6/dist-packages/sklearn/linear_model/_logistic.py:940: ConvergenceWarning: lbfgs failed to converge (status=1):\n",
            "STOP: TOTAL NO. of ITERATIONS REACHED LIMIT.\n",
            "\n",
            "Increase the number of iterations (max_iter) or scale the data as shown in:\n",
            "    https://scikit-learn.org/stable/modules/preprocessing.html\n",
            "Please also refer to the documentation for alternative solver options:\n",
            "    https://scikit-learn.org/stable/modules/linear_model.html#logistic-regression\n",
            "  extra_warning_msg=_LOGISTIC_SOLVER_CONVERGENCE_MSG)\n"
          ],
          "name": "stderr"
        },
        {
          "output_type": "stream",
          "text": [
            "[CV]  C=350, max_iter=50, score=(train=0.999, test=0.417), total=   3.2s\n",
            "[CV] C=350, max_iter=50 ..............................................\n"
          ],
          "name": "stdout"
        },
        {
          "output_type": "stream",
          "text": [
            "/usr/local/lib/python3.6/dist-packages/sklearn/linear_model/_logistic.py:940: ConvergenceWarning: lbfgs failed to converge (status=1):\n",
            "STOP: TOTAL NO. of ITERATIONS REACHED LIMIT.\n",
            "\n",
            "Increase the number of iterations (max_iter) or scale the data as shown in:\n",
            "    https://scikit-learn.org/stable/modules/preprocessing.html\n",
            "Please also refer to the documentation for alternative solver options:\n",
            "    https://scikit-learn.org/stable/modules/linear_model.html#logistic-regression\n",
            "  extra_warning_msg=_LOGISTIC_SOLVER_CONVERGENCE_MSG)\n"
          ],
          "name": "stderr"
        },
        {
          "output_type": "stream",
          "text": [
            "[CV]  C=350, max_iter=50, score=(train=0.999, test=0.438), total=   3.2s\n",
            "[CV] C=350, max_iter=100 .............................................\n"
          ],
          "name": "stdout"
        },
        {
          "output_type": "stream",
          "text": [
            "/usr/local/lib/python3.6/dist-packages/sklearn/linear_model/_logistic.py:940: ConvergenceWarning: lbfgs failed to converge (status=1):\n",
            "STOP: TOTAL NO. of ITERATIONS REACHED LIMIT.\n",
            "\n",
            "Increase the number of iterations (max_iter) or scale the data as shown in:\n",
            "    https://scikit-learn.org/stable/modules/preprocessing.html\n",
            "Please also refer to the documentation for alternative solver options:\n",
            "    https://scikit-learn.org/stable/modules/linear_model.html#logistic-regression\n",
            "  extra_warning_msg=_LOGISTIC_SOLVER_CONVERGENCE_MSG)\n"
          ],
          "name": "stderr"
        },
        {
          "output_type": "stream",
          "text": [
            "[CV]  C=350, max_iter=100, score=(train=0.999, test=0.418), total=   6.3s\n",
            "[CV] C=350, max_iter=100 .............................................\n"
          ],
          "name": "stdout"
        },
        {
          "output_type": "stream",
          "text": [
            "/usr/local/lib/python3.6/dist-packages/sklearn/linear_model/_logistic.py:940: ConvergenceWarning: lbfgs failed to converge (status=1):\n",
            "STOP: TOTAL NO. of ITERATIONS REACHED LIMIT.\n",
            "\n",
            "Increase the number of iterations (max_iter) or scale the data as shown in:\n",
            "    https://scikit-learn.org/stable/modules/preprocessing.html\n",
            "Please also refer to the documentation for alternative solver options:\n",
            "    https://scikit-learn.org/stable/modules/linear_model.html#logistic-regression\n",
            "  extra_warning_msg=_LOGISTIC_SOLVER_CONVERGENCE_MSG)\n"
          ],
          "name": "stderr"
        },
        {
          "output_type": "stream",
          "text": [
            "[CV]  C=350, max_iter=100, score=(train=0.999, test=0.445), total=   6.3s\n",
            "[CV] C=350, max_iter=150 .............................................\n"
          ],
          "name": "stdout"
        },
        {
          "output_type": "stream",
          "text": [
            "/usr/local/lib/python3.6/dist-packages/sklearn/linear_model/_logistic.py:940: ConvergenceWarning: lbfgs failed to converge (status=1):\n",
            "STOP: TOTAL NO. of ITERATIONS REACHED LIMIT.\n",
            "\n",
            "Increase the number of iterations (max_iter) or scale the data as shown in:\n",
            "    https://scikit-learn.org/stable/modules/preprocessing.html\n",
            "Please also refer to the documentation for alternative solver options:\n",
            "    https://scikit-learn.org/stable/modules/linear_model.html#logistic-regression\n",
            "  extra_warning_msg=_LOGISTIC_SOLVER_CONVERGENCE_MSG)\n"
          ],
          "name": "stderr"
        },
        {
          "output_type": "stream",
          "text": [
            "[CV]  C=350, max_iter=150, score=(train=0.999, test=0.418), total=   9.4s\n",
            "[CV] C=350, max_iter=150 .............................................\n"
          ],
          "name": "stdout"
        },
        {
          "output_type": "stream",
          "text": [
            "/usr/local/lib/python3.6/dist-packages/sklearn/linear_model/_logistic.py:940: ConvergenceWarning: lbfgs failed to converge (status=1):\n",
            "STOP: TOTAL NO. of ITERATIONS REACHED LIMIT.\n",
            "\n",
            "Increase the number of iterations (max_iter) or scale the data as shown in:\n",
            "    https://scikit-learn.org/stable/modules/preprocessing.html\n",
            "Please also refer to the documentation for alternative solver options:\n",
            "    https://scikit-learn.org/stable/modules/linear_model.html#logistic-regression\n",
            "  extra_warning_msg=_LOGISTIC_SOLVER_CONVERGENCE_MSG)\n"
          ],
          "name": "stderr"
        },
        {
          "output_type": "stream",
          "text": [
            "[CV]  C=350, max_iter=150, score=(train=0.999, test=0.445), total=   9.4s\n",
            "[CV] C=350, max_iter=200 .............................................\n",
            "[CV]  C=350, max_iter=200, score=(train=0.999, test=0.418), total=  11.0s\n",
            "[CV] C=350, max_iter=200 .............................................\n",
            "[CV]  C=350, max_iter=200, score=(train=0.999, test=0.445), total=  12.1s\n",
            "[CV] C=350, max_iter=250 .............................................\n",
            "[CV]  C=350, max_iter=250, score=(train=0.999, test=0.418), total=  11.0s\n",
            "[CV] C=350, max_iter=250 .............................................\n",
            "[CV]  C=350, max_iter=250, score=(train=0.999, test=0.445), total=  11.9s\n",
            "[CV] C=350, max_iter=300 .............................................\n",
            "[CV]  C=350, max_iter=300, score=(train=0.999, test=0.418), total=  11.0s\n",
            "[CV] C=350, max_iter=300 .............................................\n",
            "[CV]  C=350, max_iter=300, score=(train=0.999, test=0.445), total=  11.9s\n",
            "[CV] C=350, max_iter=350 .............................................\n",
            "[CV]  C=350, max_iter=350, score=(train=0.999, test=0.418), total=  10.9s\n",
            "[CV] C=350, max_iter=350 .............................................\n",
            "[CV]  C=350, max_iter=350, score=(train=0.999, test=0.445), total=  11.8s\n",
            "[CV] C=350, max_iter=400 .............................................\n",
            "[CV]  C=350, max_iter=400, score=(train=0.999, test=0.418), total=  11.0s\n",
            "[CV] C=350, max_iter=400 .............................................\n",
            "[CV]  C=350, max_iter=400, score=(train=0.999, test=0.445), total=  11.9s\n",
            "[CV] C=400, max_iter=50 ..............................................\n"
          ],
          "name": "stdout"
        },
        {
          "output_type": "stream",
          "text": [
            "/usr/local/lib/python3.6/dist-packages/sklearn/linear_model/_logistic.py:940: ConvergenceWarning: lbfgs failed to converge (status=1):\n",
            "STOP: TOTAL NO. of ITERATIONS REACHED LIMIT.\n",
            "\n",
            "Increase the number of iterations (max_iter) or scale the data as shown in:\n",
            "    https://scikit-learn.org/stable/modules/preprocessing.html\n",
            "Please also refer to the documentation for alternative solver options:\n",
            "    https://scikit-learn.org/stable/modules/linear_model.html#logistic-regression\n",
            "  extra_warning_msg=_LOGISTIC_SOLVER_CONVERGENCE_MSG)\n"
          ],
          "name": "stderr"
        },
        {
          "output_type": "stream",
          "text": [
            "[CV]  C=400, max_iter=50, score=(train=0.999, test=0.422), total=   3.2s\n",
            "[CV] C=400, max_iter=50 ..............................................\n"
          ],
          "name": "stdout"
        },
        {
          "output_type": "stream",
          "text": [
            "/usr/local/lib/python3.6/dist-packages/sklearn/linear_model/_logistic.py:940: ConvergenceWarning: lbfgs failed to converge (status=1):\n",
            "STOP: TOTAL NO. of ITERATIONS REACHED LIMIT.\n",
            "\n",
            "Increase the number of iterations (max_iter) or scale the data as shown in:\n",
            "    https://scikit-learn.org/stable/modules/preprocessing.html\n",
            "Please also refer to the documentation for alternative solver options:\n",
            "    https://scikit-learn.org/stable/modules/linear_model.html#logistic-regression\n",
            "  extra_warning_msg=_LOGISTIC_SOLVER_CONVERGENCE_MSG)\n"
          ],
          "name": "stderr"
        },
        {
          "output_type": "stream",
          "text": [
            "[CV]  C=400, max_iter=50, score=(train=0.999, test=0.439), total=   3.1s\n",
            "[CV] C=400, max_iter=100 .............................................\n"
          ],
          "name": "stdout"
        },
        {
          "output_type": "stream",
          "text": [
            "/usr/local/lib/python3.6/dist-packages/sklearn/linear_model/_logistic.py:940: ConvergenceWarning: lbfgs failed to converge (status=1):\n",
            "STOP: TOTAL NO. of ITERATIONS REACHED LIMIT.\n",
            "\n",
            "Increase the number of iterations (max_iter) or scale the data as shown in:\n",
            "    https://scikit-learn.org/stable/modules/preprocessing.html\n",
            "Please also refer to the documentation for alternative solver options:\n",
            "    https://scikit-learn.org/stable/modules/linear_model.html#logistic-regression\n",
            "  extra_warning_msg=_LOGISTIC_SOLVER_CONVERGENCE_MSG)\n"
          ],
          "name": "stderr"
        },
        {
          "output_type": "stream",
          "text": [
            "[CV]  C=400, max_iter=100, score=(train=0.999, test=0.420), total=   6.4s\n",
            "[CV] C=400, max_iter=100 .............................................\n"
          ],
          "name": "stdout"
        },
        {
          "output_type": "stream",
          "text": [
            "/usr/local/lib/python3.6/dist-packages/sklearn/linear_model/_logistic.py:940: ConvergenceWarning: lbfgs failed to converge (status=1):\n",
            "STOP: TOTAL NO. of ITERATIONS REACHED LIMIT.\n",
            "\n",
            "Increase the number of iterations (max_iter) or scale the data as shown in:\n",
            "    https://scikit-learn.org/stable/modules/preprocessing.html\n",
            "Please also refer to the documentation for alternative solver options:\n",
            "    https://scikit-learn.org/stable/modules/linear_model.html#logistic-regression\n",
            "  extra_warning_msg=_LOGISTIC_SOLVER_CONVERGENCE_MSG)\n"
          ],
          "name": "stderr"
        },
        {
          "output_type": "stream",
          "text": [
            "[CV]  C=400, max_iter=100, score=(train=0.999, test=0.447), total=   6.3s\n",
            "[CV] C=400, max_iter=150 .............................................\n"
          ],
          "name": "stdout"
        },
        {
          "output_type": "stream",
          "text": [
            "/usr/local/lib/python3.6/dist-packages/sklearn/linear_model/_logistic.py:940: ConvergenceWarning: lbfgs failed to converge (status=1):\n",
            "STOP: TOTAL NO. of ITERATIONS REACHED LIMIT.\n",
            "\n",
            "Increase the number of iterations (max_iter) or scale the data as shown in:\n",
            "    https://scikit-learn.org/stable/modules/preprocessing.html\n",
            "Please also refer to the documentation for alternative solver options:\n",
            "    https://scikit-learn.org/stable/modules/linear_model.html#logistic-regression\n",
            "  extra_warning_msg=_LOGISTIC_SOLVER_CONVERGENCE_MSG)\n"
          ],
          "name": "stderr"
        },
        {
          "output_type": "stream",
          "text": [
            "[CV]  C=400, max_iter=150, score=(train=0.999, test=0.418), total=   9.5s\n",
            "[CV] C=400, max_iter=150 .............................................\n"
          ],
          "name": "stdout"
        },
        {
          "output_type": "stream",
          "text": [
            "/usr/local/lib/python3.6/dist-packages/sklearn/linear_model/_logistic.py:940: ConvergenceWarning: lbfgs failed to converge (status=1):\n",
            "STOP: TOTAL NO. of ITERATIONS REACHED LIMIT.\n",
            "\n",
            "Increase the number of iterations (max_iter) or scale the data as shown in:\n",
            "    https://scikit-learn.org/stable/modules/preprocessing.html\n",
            "Please also refer to the documentation for alternative solver options:\n",
            "    https://scikit-learn.org/stable/modules/linear_model.html#logistic-regression\n",
            "  extra_warning_msg=_LOGISTIC_SOLVER_CONVERGENCE_MSG)\n"
          ],
          "name": "stderr"
        },
        {
          "output_type": "stream",
          "text": [
            "[CV]  C=400, max_iter=150, score=(train=0.999, test=0.447), total=   9.3s\n",
            "[CV] C=400, max_iter=200 .............................................\n"
          ],
          "name": "stdout"
        },
        {
          "output_type": "stream",
          "text": [
            "/usr/local/lib/python3.6/dist-packages/sklearn/linear_model/_logistic.py:940: ConvergenceWarning: lbfgs failed to converge (status=1):\n",
            "STOP: TOTAL NO. of ITERATIONS REACHED LIMIT.\n",
            "\n",
            "Increase the number of iterations (max_iter) or scale the data as shown in:\n",
            "    https://scikit-learn.org/stable/modules/preprocessing.html\n",
            "Please also refer to the documentation for alternative solver options:\n",
            "    https://scikit-learn.org/stable/modules/linear_model.html#logistic-regression\n",
            "  extra_warning_msg=_LOGISTIC_SOLVER_CONVERGENCE_MSG)\n"
          ],
          "name": "stderr"
        },
        {
          "output_type": "stream",
          "text": [
            "[CV]  C=400, max_iter=200, score=(train=0.999, test=0.418), total=  12.6s\n",
            "[CV] C=400, max_iter=200 .............................................\n",
            "[CV]  C=400, max_iter=200, score=(train=0.999, test=0.447), total=  11.2s\n",
            "[CV] C=400, max_iter=250 .............................................\n",
            "[CV]  C=400, max_iter=250, score=(train=0.999, test=0.418), total=  13.3s\n",
            "[CV] C=400, max_iter=250 .............................................\n",
            "[CV]  C=400, max_iter=250, score=(train=0.999, test=0.447), total=  11.1s\n",
            "[CV] C=400, max_iter=300 .............................................\n",
            "[CV]  C=400, max_iter=300, score=(train=0.999, test=0.418), total=  13.2s\n",
            "[CV] C=400, max_iter=300 .............................................\n",
            "[CV]  C=400, max_iter=300, score=(train=0.999, test=0.447), total=  11.1s\n",
            "[CV] C=400, max_iter=350 .............................................\n",
            "[CV]  C=400, max_iter=350, score=(train=0.999, test=0.418), total=  13.3s\n",
            "[CV] C=400, max_iter=350 .............................................\n",
            "[CV]  C=400, max_iter=350, score=(train=0.999, test=0.447), total=  11.1s\n",
            "[CV] C=400, max_iter=400 .............................................\n",
            "[CV]  C=400, max_iter=400, score=(train=0.999, test=0.418), total=  14.5s\n",
            "[CV] C=400, max_iter=400 .............................................\n",
            "[CV]  C=400, max_iter=400, score=(train=0.999, test=0.447), total=  12.2s\n"
          ],
          "name": "stdout"
        },
        {
          "output_type": "stream",
          "text": [
            "[Parallel(n_jobs=1)]: Done 336 out of 336 | elapsed: 40.3min finished\n",
            "/usr/local/lib/python3.6/dist-packages/sklearn/linear_model/_logistic.py:940: ConvergenceWarning: lbfgs failed to converge (status=1):\n",
            "STOP: TOTAL NO. of ITERATIONS REACHED LIMIT.\n",
            "\n",
            "Increase the number of iterations (max_iter) or scale the data as shown in:\n",
            "    https://scikit-learn.org/stable/modules/preprocessing.html\n",
            "Please also refer to the documentation for alternative solver options:\n",
            "    https://scikit-learn.org/stable/modules/linear_model.html#logistic-regression\n",
            "  extra_warning_msg=_LOGISTIC_SOLVER_CONVERGENCE_MSG)\n"
          ],
          "name": "stderr"
        },
        {
          "output_type": "stream",
          "text": [
            "best parameters: {'C': 400, 'max_iter': 100}\n",
            "..tfidf done\n"
          ],
          "name": "stdout"
        },
        {
          "output_type": "stream",
          "text": [
            "/usr/local/lib/python3.6/dist-packages/sklearn/linear_model/_logistic.py:940: ConvergenceWarning: lbfgs failed to converge (status=1):\n",
            "STOP: TOTAL NO. of ITERATIONS REACHED LIMIT.\n",
            "\n",
            "Increase the number of iterations (max_iter) or scale the data as shown in:\n",
            "    https://scikit-learn.org/stable/modules/preprocessing.html\n",
            "Please also refer to the documentation for alternative solver options:\n",
            "    https://scikit-learn.org/stable/modules/linear_model.html#logistic-regression\n",
            "  extra_warning_msg=_LOGISTIC_SOLVER_CONVERGENCE_MSG)\n"
          ],
          "name": "stderr"
        },
        {
          "output_type": "stream",
          "text": [
            "for logistic-regression tfidf\n"
          ],
          "name": "stdout"
        },
        {
          "output_type": "display_data",
          "data": {
            "image/png": "[encoded data removed]",
            "text/plain": [
              "<Figure size 432x288 with 2 Axes>"
            ]
          },
          "metadata": {
            "tags": []
          }
        },
        {
          "output_type": "stream",
          "text": [
            "Fitting 2 folds for each of 168 candidates, totalling 336 fits\n",
            "[CV] C=0.5, max_iter=50 ..............................................\n"
          ],
          "name": "stdout"
        },
        {
          "output_type": "stream",
          "text": [
            "[Parallel(n_jobs=1)]: Using backend SequentialBackend with 1 concurrent workers.\n",
            "/usr/local/lib/python3.6/dist-packages/sklearn/linear_model/_logistic.py:940: ConvergenceWarning: lbfgs failed to converge (status=1):\n",
            "STOP: TOTAL NO. of ITERATIONS REACHED LIMIT.\n",
            "\n",
            "Increase the number of iterations (max_iter) or scale the data as shown in:\n",
            "    https://scikit-learn.org/stable/modules/preprocessing.html\n",
            "Please also refer to the documentation for alternative solver options:\n",
            "    https://scikit-learn.org/stable/modules/linear_model.html#logistic-regression\n",
            "  extra_warning_msg=_LOGISTIC_SOLVER_CONVERGENCE_MSG)\n",
            "[Parallel(n_jobs=1)]: Done   1 out of   1 | elapsed:    0.3s remaining:    0.0s\n"
          ],
          "name": "stderr"
        },
        {
          "output_type": "stream",
          "text": [
            "[CV]  C=0.5, max_iter=50, score=(train=0.732, test=0.518), total=   0.3s\n",
            "[CV] C=0.5, max_iter=50 ..............................................\n"
          ],
          "name": "stdout"
        },
        {
          "output_type": "stream",
          "text": [
            "/usr/local/lib/python3.6/dist-packages/sklearn/linear_model/_logistic.py:940: ConvergenceWarning: lbfgs failed to converge (status=1):\n",
            "STOP: TOTAL NO. of ITERATIONS REACHED LIMIT.\n",
            "\n",
            "Increase the number of iterations (max_iter) or scale the data as shown in:\n",
            "    https://scikit-learn.org/stable/modules/preprocessing.html\n",
            "Please also refer to the documentation for alternative solver options:\n",
            "    https://scikit-learn.org/stable/modules/linear_model.html#logistic-regression\n",
            "  extra_warning_msg=_LOGISTIC_SOLVER_CONVERGENCE_MSG)\n",
            "[Parallel(n_jobs=1)]: Done   2 out of   2 | elapsed:    0.6s remaining:    0.0s\n"
          ],
          "name": "stderr"
        },
        {
          "output_type": "stream",
          "text": [
            "[CV]  C=0.5, max_iter=50, score=(train=0.733, test=0.534), total=   0.3s\n",
            "[CV] C=0.5, max_iter=100 .............................................\n",
            "[CV]  C=0.5, max_iter=100, score=(train=0.732, test=0.518), total=   0.3s\n",
            "[CV] C=0.5, max_iter=100 .............................................\n"
          ],
          "name": "stdout"
        },
        {
          "output_type": "stream",
          "text": [
            "[Parallel(n_jobs=1)]: Done   3 out of   3 | elapsed:    0.9s remaining:    0.0s\n"
          ],
          "name": "stderr"
        },
        {
          "output_type": "stream",
          "text": [
            "[CV]  C=0.5, max_iter=100, score=(train=0.734, test=0.534), total=   0.4s\n",
            "[CV] C=0.5, max_iter=150 .............................................\n"
          ],
          "name": "stdout"
        },
        {
          "output_type": "stream",
          "text": [
            "[Parallel(n_jobs=1)]: Done   4 out of   4 | elapsed:    1.2s remaining:    0.0s\n"
          ],
          "name": "stderr"
        },
        {
          "output_type": "stream",
          "text": [
            "[CV]  C=0.5, max_iter=150, score=(train=0.732, test=0.518), total=   0.3s\n",
            "[CV] C=0.5, max_iter=150 .............................................\n"
          ],
          "name": "stdout"
        },
        {
          "output_type": "stream",
          "text": [
            "[Parallel(n_jobs=1)]: Done   5 out of   5 | elapsed:    1.6s remaining:    0.0s\n"
          ],
          "name": "stderr"
        },
        {
          "output_type": "stream",
          "text": [
            "[CV]  C=0.5, max_iter=150, score=(train=0.734, test=0.534), total=   0.4s\n",
            "[CV] C=0.5, max_iter=200 .............................................\n"
          ],
          "name": "stdout"
        },
        {
          "output_type": "stream",
          "text": [
            "[Parallel(n_jobs=1)]: Done   6 out of   6 | elapsed:    1.9s remaining:    0.0s\n"
          ],
          "name": "stderr"
        },
        {
          "output_type": "stream",
          "text": [
            "[CV]  C=0.5, max_iter=200, score=(train=0.732, test=0.518), total=   0.3s\n",
            "[CV] C=0.5, max_iter=200 .............................................\n"
          ],
          "name": "stdout"
        },
        {
          "output_type": "stream",
          "text": [
            "[Parallel(n_jobs=1)]: Done   7 out of   7 | elapsed:    2.2s remaining:    0.0s\n"
          ],
          "name": "stderr"
        },
        {
          "output_type": "stream",
          "text": [
            "[CV]  C=0.5, max_iter=200, score=(train=0.734, test=0.534), total=   0.4s\n",
            "[CV] C=0.5, max_iter=250 .............................................\n"
          ],
          "name": "stdout"
        },
        {
          "output_type": "stream",
          "text": [
            "[Parallel(n_jobs=1)]: Done   8 out of   8 | elapsed:    2.6s remaining:    0.0s\n"
          ],
          "name": "stderr"
        },
        {
          "output_type": "stream",
          "text": [
            "[CV]  C=0.5, max_iter=250, score=(train=0.732, test=0.518), total=   0.3s\n",
            "[CV] C=0.5, max_iter=250 .............................................\n"
          ],
          "name": "stdout"
        },
        {
          "output_type": "stream",
          "text": [
            "[Parallel(n_jobs=1)]: Done   9 out of   9 | elapsed:    2.9s remaining:    0.0s\n"
          ],
          "name": "stderr"
        },
        {
          "output_type": "stream",
          "text": [
            "[CV]  C=0.5, max_iter=250, score=(train=0.734, test=0.534), total=   0.3s\n",
            "[CV] C=0.5, max_iter=300 .............................................\n",
            "[CV]  C=0.5, max_iter=300, score=(train=0.732, test=0.518), total=   0.3s\n",
            "[CV] C=0.5, max_iter=300 .............................................\n",
            "[CV]  C=0.5, max_iter=300, score=(train=0.734, test=0.534), total=   0.3s\n",
            "[CV] C=0.5, max_iter=350 .............................................\n",
            "[CV]  C=0.5, max_iter=350, score=(train=0.732, test=0.518), total=   0.3s\n",
            "[CV] C=0.5, max_iter=350 .............................................\n",
            "[CV]  C=0.5, max_iter=350, score=(train=0.734, test=0.534), total=   0.4s\n",
            "[CV] C=0.5, max_iter=400 .............................................\n",
            "[CV]  C=0.5, max_iter=400, score=(train=0.732, test=0.518), total=   0.3s\n",
            "[CV] C=0.5, max_iter=400 .............................................\n",
            "[CV]  C=0.5, max_iter=400, score=(train=0.734, test=0.534), total=   0.3s\n",
            "[CV] C=1, max_iter=50 ................................................\n"
          ],
          "name": "stdout"
        },
        {
          "output_type": "stream",
          "text": [
            "/usr/local/lib/python3.6/dist-packages/sklearn/linear_model/_logistic.py:940: ConvergenceWarning: lbfgs failed to converge (status=1):\n",
            "STOP: TOTAL NO. of ITERATIONS REACHED LIMIT.\n",
            "\n",
            "Increase the number of iterations (max_iter) or scale the data as shown in:\n",
            "    https://scikit-learn.org/stable/modules/preprocessing.html\n",
            "Please also refer to the documentation for alternative solver options:\n",
            "    https://scikit-learn.org/stable/modules/linear_model.html#logistic-regression\n",
            "  extra_warning_msg=_LOGISTIC_SOLVER_CONVERGENCE_MSG)\n"
          ],
          "name": "stderr"
        },
        {
          "output_type": "stream",
          "text": [
            "[CV]  C=1, max_iter=50, score=(train=0.834, test=0.566), total=   0.3s\n",
            "[CV] C=1, max_iter=50 ................................................\n"
          ],
          "name": "stdout"
        },
        {
          "output_type": "stream",
          "text": [
            "/usr/local/lib/python3.6/dist-packages/sklearn/linear_model/_logistic.py:940: ConvergenceWarning: lbfgs failed to converge (status=1):\n",
            "STOP: TOTAL NO. of ITERATIONS REACHED LIMIT.\n",
            "\n",
            "Increase the number of iterations (max_iter) or scale the data as shown in:\n",
            "    https://scikit-learn.org/stable/modules/preprocessing.html\n",
            "Please also refer to the documentation for alternative solver options:\n",
            "    https://scikit-learn.org/stable/modules/linear_model.html#logistic-regression\n",
            "  extra_warning_msg=_LOGISTIC_SOLVER_CONVERGENCE_MSG)\n"
          ],
          "name": "stderr"
        },
        {
          "output_type": "stream",
          "text": [
            "[CV]  C=1, max_iter=50, score=(train=0.845, test=0.570), total=   0.2s\n",
            "[CV] C=1, max_iter=100 ...............................................\n",
            "[CV]  C=1, max_iter=100, score=(train=0.834, test=0.566), total=   0.3s\n",
            "[CV] C=1, max_iter=100 ...............................................\n",
            "[CV]  C=1, max_iter=100, score=(train=0.844, test=0.571), total=   0.4s\n",
            "[CV] C=1, max_iter=150 ...............................................\n",
            "[CV]  C=1, max_iter=150, score=(train=0.834, test=0.566), total=   0.4s\n",
            "[CV] C=1, max_iter=150 ...............................................\n",
            "[CV]  C=1, max_iter=150, score=(train=0.844, test=0.571), total=   0.4s\n",
            "[CV] C=1, max_iter=200 ...............................................\n",
            "[CV]  C=1, max_iter=200, score=(train=0.834, test=0.566), total=   0.4s\n",
            "[CV] C=1, max_iter=200 ...............................................\n",
            "[CV]  C=1, max_iter=200, score=(train=0.844, test=0.571), total=   0.4s\n",
            "[CV] C=1, max_iter=250 ...............................................\n",
            "[CV]  C=1, max_iter=250, score=(train=0.834, test=0.566), total=   0.3s\n",
            "[CV] C=1, max_iter=250 ...............................................\n",
            "[CV]  C=1, max_iter=250, score=(train=0.844, test=0.571), total=   0.4s\n",
            "[CV] C=1, max_iter=300 ...............................................\n",
            "[CV]  C=1, max_iter=300, score=(train=0.834, test=0.566), total=   0.3s\n",
            "[CV] C=1, max_iter=300 ...............................................\n",
            "[CV]  C=1, max_iter=300, score=(train=0.844, test=0.571), total=   0.4s\n",
            "[CV] C=1, max_iter=350 ...............................................\n",
            "[CV]  C=1, max_iter=350, score=(train=0.834, test=0.566), total=   0.3s\n",
            "[CV] C=1, max_iter=350 ...............................................\n",
            "[CV]  C=1, max_iter=350, score=(train=0.844, test=0.571), total=   0.4s\n",
            "[CV] C=1, max_iter=400 ...............................................\n",
            "[CV]  C=1, max_iter=400, score=(train=0.834, test=0.566), total=   0.3s\n",
            "[CV] C=1, max_iter=400 ...............................................\n",
            "[CV]  C=1, max_iter=400, score=(train=0.844, test=0.571), total=   0.4s\n",
            "[CV] C=2, max_iter=50 ................................................\n"
          ],
          "name": "stdout"
        },
        {
          "output_type": "stream",
          "text": [
            "/usr/local/lib/python3.6/dist-packages/sklearn/linear_model/_logistic.py:940: ConvergenceWarning: lbfgs failed to converge (status=1):\n",
            "STOP: TOTAL NO. of ITERATIONS REACHED LIMIT.\n",
            "\n",
            "Increase the number of iterations (max_iter) or scale the data as shown in:\n",
            "    https://scikit-learn.org/stable/modules/preprocessing.html\n",
            "Please also refer to the documentation for alternative solver options:\n",
            "    https://scikit-learn.org/stable/modules/linear_model.html#logistic-regression\n",
            "  extra_warning_msg=_LOGISTIC_SOLVER_CONVERGENCE_MSG)\n"
          ],
          "name": "stderr"
        },
        {
          "output_type": "stream",
          "text": [
            "[CV]  C=2, max_iter=50, score=(train=0.901, test=0.604), total=   0.3s\n",
            "[CV] C=2, max_iter=50 ................................................\n"
          ],
          "name": "stdout"
        },
        {
          "output_type": "stream",
          "text": [
            "/usr/local/lib/python3.6/dist-packages/sklearn/linear_model/_logistic.py:940: ConvergenceWarning: lbfgs failed to converge (status=1):\n",
            "STOP: TOTAL NO. of ITERATIONS REACHED LIMIT.\n",
            "\n",
            "Increase the number of iterations (max_iter) or scale the data as shown in:\n",
            "    https://scikit-learn.org/stable/modules/preprocessing.html\n",
            "Please also refer to the documentation for alternative solver options:\n",
            "    https://scikit-learn.org/stable/modules/linear_model.html#logistic-regression\n",
            "  extra_warning_msg=_LOGISTIC_SOLVER_CONVERGENCE_MSG)\n"
          ],
          "name": "stderr"
        },
        {
          "output_type": "stream",
          "text": [
            "[CV]  C=2, max_iter=50, score=(train=0.914, test=0.599), total=   0.3s\n",
            "[CV] C=2, max_iter=100 ...............................................\n",
            "[CV]  C=2, max_iter=100, score=(train=0.901, test=0.603), total=   0.5s\n",
            "[CV] C=2, max_iter=100 ...............................................\n"
          ],
          "name": "stdout"
        },
        {
          "output_type": "stream",
          "text": [
            "/usr/local/lib/python3.6/dist-packages/sklearn/linear_model/_logistic.py:940: ConvergenceWarning: lbfgs failed to converge (status=1):\n",
            "STOP: TOTAL NO. of ITERATIONS REACHED LIMIT.\n",
            "\n",
            "Increase the number of iterations (max_iter) or scale the data as shown in:\n",
            "    https://scikit-learn.org/stable/modules/preprocessing.html\n",
            "Please also refer to the documentation for alternative solver options:\n",
            "    https://scikit-learn.org/stable/modules/linear_model.html#logistic-regression\n",
            "  extra_warning_msg=_LOGISTIC_SOLVER_CONVERGENCE_MSG)\n"
          ],
          "name": "stderr"
        },
        {
          "output_type": "stream",
          "text": [
            "[CV]  C=2, max_iter=100, score=(train=0.914, test=0.597), total=   0.5s\n",
            "[CV] C=2, max_iter=150 ...............................................\n",
            "[CV]  C=2, max_iter=150, score=(train=0.901, test=0.603), total=   0.5s\n",
            "[CV] C=2, max_iter=150 ...............................................\n",
            "[CV]  C=2, max_iter=150, score=(train=0.914, test=0.597), total=   0.5s\n",
            "[CV] C=2, max_iter=200 ...............................................\n",
            "[CV]  C=2, max_iter=200, score=(train=0.901, test=0.603), total=   0.4s\n",
            "[CV] C=2, max_iter=200 ...............................................\n",
            "[CV]  C=2, max_iter=200, score=(train=0.914, test=0.597), total=   0.5s\n",
            "[CV] C=2, max_iter=250 ...............................................\n",
            "[CV]  C=2, max_iter=250, score=(train=0.901, test=0.603), total=   0.5s\n",
            "[CV] C=2, max_iter=250 ...............................................\n",
            "[CV]  C=2, max_iter=250, score=(train=0.914, test=0.597), total=   0.5s\n",
            "[CV] C=2, max_iter=300 ...............................................\n",
            "[CV]  C=2, max_iter=300, score=(train=0.901, test=0.603), total=   0.5s\n",
            "[CV] C=2, max_iter=300 ...............................................\n",
            "[CV]  C=2, max_iter=300, score=(train=0.914, test=0.597), total=   0.5s\n",
            "[CV] C=2, max_iter=350 ...............................................\n",
            "[CV]  C=2, max_iter=350, score=(train=0.901, test=0.603), total=   0.4s\n",
            "[CV] C=2, max_iter=350 ...............................................\n",
            "[CV]  C=2, max_iter=350, score=(train=0.914, test=0.597), total=   0.5s\n",
            "[CV] C=2, max_iter=400 ...............................................\n",
            "[CV]  C=2, max_iter=400, score=(train=0.901, test=0.603), total=   0.5s\n",
            "[CV] C=2, max_iter=400 ...............................................\n",
            "[CV]  C=2, max_iter=400, score=(train=0.914, test=0.597), total=   0.5s\n",
            "[CV] C=4, max_iter=50 ................................................\n"
          ],
          "name": "stdout"
        },
        {
          "output_type": "stream",
          "text": [
            "/usr/local/lib/python3.6/dist-packages/sklearn/linear_model/_logistic.py:940: ConvergenceWarning: lbfgs failed to converge (status=1):\n",
            "STOP: TOTAL NO. of ITERATIONS REACHED LIMIT.\n",
            "\n",
            "Increase the number of iterations (max_iter) or scale the data as shown in:\n",
            "    https://scikit-learn.org/stable/modules/preprocessing.html\n",
            "Please also refer to the documentation for alternative solver options:\n",
            "    https://scikit-learn.org/stable/modules/linear_model.html#logistic-regression\n",
            "  extra_warning_msg=_LOGISTIC_SOLVER_CONVERGENCE_MSG)\n"
          ],
          "name": "stderr"
        },
        {
          "output_type": "stream",
          "text": [
            "[CV]  C=4, max_iter=50, score=(train=0.953, test=0.622), total=   0.2s\n",
            "[CV] C=4, max_iter=50 ................................................\n"
          ],
          "name": "stdout"
        },
        {
          "output_type": "stream",
          "text": [
            "/usr/local/lib/python3.6/dist-packages/sklearn/linear_model/_logistic.py:940: ConvergenceWarning: lbfgs failed to converge (status=1):\n",
            "STOP: TOTAL NO. of ITERATIONS REACHED LIMIT.\n",
            "\n",
            "Increase the number of iterations (max_iter) or scale the data as shown in:\n",
            "    https://scikit-learn.org/stable/modules/preprocessing.html\n",
            "Please also refer to the documentation for alternative solver options:\n",
            "    https://scikit-learn.org/stable/modules/linear_model.html#logistic-regression\n",
            "  extra_warning_msg=_LOGISTIC_SOLVER_CONVERGENCE_MSG)\n"
          ],
          "name": "stderr"
        },
        {
          "output_type": "stream",
          "text": [
            "[CV]  C=4, max_iter=50, score=(train=0.961, test=0.607), total=   0.2s\n",
            "[CV] C=4, max_iter=100 ...............................................\n"
          ],
          "name": "stdout"
        },
        {
          "output_type": "stream",
          "text": [
            "/usr/local/lib/python3.6/dist-packages/sklearn/linear_model/_logistic.py:940: ConvergenceWarning: lbfgs failed to converge (status=1):\n",
            "STOP: TOTAL NO. of ITERATIONS REACHED LIMIT.\n",
            "\n",
            "Increase the number of iterations (max_iter) or scale the data as shown in:\n",
            "    https://scikit-learn.org/stable/modules/preprocessing.html\n",
            "Please also refer to the documentation for alternative solver options:\n",
            "    https://scikit-learn.org/stable/modules/linear_model.html#logistic-regression\n",
            "  extra_warning_msg=_LOGISTIC_SOLVER_CONVERGENCE_MSG)\n"
          ],
          "name": "stderr"
        },
        {
          "output_type": "stream",
          "text": [
            "[CV]  C=4, max_iter=100, score=(train=0.953, test=0.617), total=   0.4s\n",
            "[CV] C=4, max_iter=100 ...............................................\n"
          ],
          "name": "stdout"
        },
        {
          "output_type": "stream",
          "text": [
            "/usr/local/lib/python3.6/dist-packages/sklearn/linear_model/_logistic.py:940: ConvergenceWarning: lbfgs failed to converge (status=1):\n",
            "STOP: TOTAL NO. of ITERATIONS REACHED LIMIT.\n",
            "\n",
            "Increase the number of iterations (max_iter) or scale the data as shown in:\n",
            "    https://scikit-learn.org/stable/modules/preprocessing.html\n",
            "Please also refer to the documentation for alternative solver options:\n",
            "    https://scikit-learn.org/stable/modules/linear_model.html#logistic-regression\n",
            "  extra_warning_msg=_LOGISTIC_SOLVER_CONVERGENCE_MSG)\n"
          ],
          "name": "stderr"
        },
        {
          "output_type": "stream",
          "text": [
            "[CV]  C=4, max_iter=100, score=(train=0.961, test=0.613), total=   0.5s\n",
            "[CV] C=4, max_iter=150 ...............................................\n",
            "[CV]  C=4, max_iter=150, score=(train=0.953, test=0.617), total=   0.7s\n",
            "[CV] C=4, max_iter=150 ...............................................\n",
            "[CV]  C=4, max_iter=150, score=(train=0.961, test=0.613), total=   0.6s\n",
            "[CV] C=4, max_iter=200 ...............................................\n",
            "[CV]  C=4, max_iter=200, score=(train=0.953, test=0.617), total=   0.7s\n",
            "[CV] C=4, max_iter=200 ...............................................\n",
            "[CV]  C=4, max_iter=200, score=(train=0.961, test=0.613), total=   0.6s\n",
            "[CV] C=4, max_iter=250 ...............................................\n",
            "[CV]  C=4, max_iter=250, score=(train=0.953, test=0.617), total=   0.6s\n",
            "[CV] C=4, max_iter=250 ...............................................\n",
            "[CV]  C=4, max_iter=250, score=(train=0.961, test=0.613), total=   0.5s\n",
            "[CV] C=4, max_iter=300 ...............................................\n",
            "[CV]  C=4, max_iter=300, score=(train=0.953, test=0.617), total=   0.6s\n",
            "[CV] C=4, max_iter=300 ...............................................\n",
            "[CV]  C=4, max_iter=300, score=(train=0.961, test=0.613), total=   0.5s\n",
            "[CV] C=4, max_iter=350 ...............................................\n",
            "[CV]  C=4, max_iter=350, score=(train=0.953, test=0.617), total=   0.6s\n",
            "[CV] C=4, max_iter=350 ...............................................\n",
            "[CV]  C=4, max_iter=350, score=(train=0.961, test=0.613), total=   0.5s\n",
            "[CV] C=4, max_iter=400 ...............................................\n",
            "[CV]  C=4, max_iter=400, score=(train=0.953, test=0.617), total=   0.6s\n",
            "[CV] C=4, max_iter=400 ...............................................\n",
            "[CV]  C=4, max_iter=400, score=(train=0.961, test=0.613), total=   0.5s\n",
            "[CV] C=10, max_iter=50 ...............................................\n"
          ],
          "name": "stdout"
        },
        {
          "output_type": "stream",
          "text": [
            "/usr/local/lib/python3.6/dist-packages/sklearn/linear_model/_logistic.py:940: ConvergenceWarning: lbfgs failed to converge (status=1):\n",
            "STOP: TOTAL NO. of ITERATIONS REACHED LIMIT.\n",
            "\n",
            "Increase the number of iterations (max_iter) or scale the data as shown in:\n",
            "    https://scikit-learn.org/stable/modules/preprocessing.html\n",
            "Please also refer to the documentation for alternative solver options:\n",
            "    https://scikit-learn.org/stable/modules/linear_model.html#logistic-regression\n",
            "  extra_warning_msg=_LOGISTIC_SOLVER_CONVERGENCE_MSG)\n"
          ],
          "name": "stderr"
        },
        {
          "output_type": "stream",
          "text": [
            "[CV]  C=10, max_iter=50, score=(train=0.976, test=0.628), total=   0.2s\n",
            "[CV] C=10, max_iter=50 ...............................................\n"
          ],
          "name": "stdout"
        },
        {
          "output_type": "stream",
          "text": [
            "/usr/local/lib/python3.6/dist-packages/sklearn/linear_model/_logistic.py:940: ConvergenceWarning: lbfgs failed to converge (status=1):\n",
            "STOP: TOTAL NO. of ITERATIONS REACHED LIMIT.\n",
            "\n",
            "Increase the number of iterations (max_iter) or scale the data as shown in:\n",
            "    https://scikit-learn.org/stable/modules/preprocessing.html\n",
            "Please also refer to the documentation for alternative solver options:\n",
            "    https://scikit-learn.org/stable/modules/linear_model.html#logistic-regression\n",
            "  extra_warning_msg=_LOGISTIC_SOLVER_CONVERGENCE_MSG)\n"
          ],
          "name": "stderr"
        },
        {
          "output_type": "stream",
          "text": [
            "[CV]  C=10, max_iter=50, score=(train=0.985, test=0.623), total=   0.2s\n",
            "[CV] C=10, max_iter=100 ..............................................\n"
          ],
          "name": "stdout"
        },
        {
          "output_type": "stream",
          "text": [
            "/usr/local/lib/python3.6/dist-packages/sklearn/linear_model/_logistic.py:940: ConvergenceWarning: lbfgs failed to converge (status=1):\n",
            "STOP: TOTAL NO. of ITERATIONS REACHED LIMIT.\n",
            "\n",
            "Increase the number of iterations (max_iter) or scale the data as shown in:\n",
            "    https://scikit-learn.org/stable/modules/preprocessing.html\n",
            "Please also refer to the documentation for alternative solver options:\n",
            "    https://scikit-learn.org/stable/modules/linear_model.html#logistic-regression\n",
            "  extra_warning_msg=_LOGISTIC_SOLVER_CONVERGENCE_MSG)\n"
          ],
          "name": "stderr"
        },
        {
          "output_type": "stream",
          "text": [
            "[CV]  C=10, max_iter=100, score=(train=0.979, test=0.621), total=   0.4s\n",
            "[CV] C=10, max_iter=100 ..............................................\n"
          ],
          "name": "stdout"
        },
        {
          "output_type": "stream",
          "text": [
            "/usr/local/lib/python3.6/dist-packages/sklearn/linear_model/_logistic.py:940: ConvergenceWarning: lbfgs failed to converge (status=1):\n",
            "STOP: TOTAL NO. of ITERATIONS REACHED LIMIT.\n",
            "\n",
            "Increase the number of iterations (max_iter) or scale the data as shown in:\n",
            "    https://scikit-learn.org/stable/modules/preprocessing.html\n",
            "Please also refer to the documentation for alternative solver options:\n",
            "    https://scikit-learn.org/stable/modules/linear_model.html#logistic-regression\n",
            "  extra_warning_msg=_LOGISTIC_SOLVER_CONVERGENCE_MSG)\n"
          ],
          "name": "stderr"
        },
        {
          "output_type": "stream",
          "text": [
            "[CV]  C=10, max_iter=100, score=(train=0.986, test=0.616), total=   0.5s\n",
            "[CV] C=10, max_iter=150 ..............................................\n"
          ],
          "name": "stdout"
        },
        {
          "output_type": "stream",
          "text": [
            "/usr/local/lib/python3.6/dist-packages/sklearn/linear_model/_logistic.py:940: ConvergenceWarning: lbfgs failed to converge (status=1):\n",
            "STOP: TOTAL NO. of ITERATIONS REACHED LIMIT.\n",
            "\n",
            "Increase the number of iterations (max_iter) or scale the data as shown in:\n",
            "    https://scikit-learn.org/stable/modules/preprocessing.html\n",
            "Please also refer to the documentation for alternative solver options:\n",
            "    https://scikit-learn.org/stable/modules/linear_model.html#logistic-regression\n",
            "  extra_warning_msg=_LOGISTIC_SOLVER_CONVERGENCE_MSG)\n"
          ],
          "name": "stderr"
        },
        {
          "output_type": "stream",
          "text": [
            "[CV]  C=10, max_iter=150, score=(train=0.979, test=0.621), total=   0.6s\n",
            "[CV] C=10, max_iter=150 ..............................................\n"
          ],
          "name": "stdout"
        },
        {
          "output_type": "stream",
          "text": [
            "/usr/local/lib/python3.6/dist-packages/sklearn/linear_model/_logistic.py:940: ConvergenceWarning: lbfgs failed to converge (status=1):\n",
            "STOP: TOTAL NO. of ITERATIONS REACHED LIMIT.\n",
            "\n",
            "Increase the number of iterations (max_iter) or scale the data as shown in:\n",
            "    https://scikit-learn.org/stable/modules/preprocessing.html\n",
            "Please also refer to the documentation for alternative solver options:\n",
            "    https://scikit-learn.org/stable/modules/linear_model.html#logistic-regression\n",
            "  extra_warning_msg=_LOGISTIC_SOLVER_CONVERGENCE_MSG)\n"
          ],
          "name": "stderr"
        },
        {
          "output_type": "stream",
          "text": [
            "[CV]  C=10, max_iter=150, score=(train=0.986, test=0.615), total=   0.6s\n",
            "[CV] C=10, max_iter=200 ..............................................\n",
            "[CV]  C=10, max_iter=200, score=(train=0.979, test=0.621), total=   0.6s\n",
            "[CV] C=10, max_iter=200 ..............................................\n",
            "[CV]  C=10, max_iter=200, score=(train=0.986, test=0.615), total=   0.7s\n",
            "[CV] C=10, max_iter=250 ..............................................\n",
            "[CV]  C=10, max_iter=250, score=(train=0.979, test=0.621), total=   0.6s\n",
            "[CV] C=10, max_iter=250 ..............................................\n",
            "[CV]  C=10, max_iter=250, score=(train=0.986, test=0.615), total=   0.6s\n",
            "[CV] C=10, max_iter=300 ..............................................\n",
            "[CV]  C=10, max_iter=300, score=(train=0.979, test=0.621), total=   0.6s\n",
            "[CV] C=10, max_iter=300 ..............................................\n",
            "[CV]  C=10, max_iter=300, score=(train=0.986, test=0.615), total=   0.7s\n",
            "[CV] C=10, max_iter=350 ..............................................\n",
            "[CV]  C=10, max_iter=350, score=(train=0.979, test=0.621), total=   0.7s\n",
            "[CV] C=10, max_iter=350 ..............................................\n",
            "[CV]  C=10, max_iter=350, score=(train=0.986, test=0.615), total=   0.7s\n",
            "[CV] C=10, max_iter=400 ..............................................\n",
            "[CV]  C=10, max_iter=400, score=(train=0.979, test=0.621), total=   0.6s\n",
            "[CV] C=10, max_iter=400 ..............................................\n",
            "[CV]  C=10, max_iter=400, score=(train=0.986, test=0.615), total=   0.6s\n",
            "[CV] C=20, max_iter=50 ...............................................\n"
          ],
          "name": "stdout"
        },
        {
          "output_type": "stream",
          "text": [
            "/usr/local/lib/python3.6/dist-packages/sklearn/linear_model/_logistic.py:940: ConvergenceWarning: lbfgs failed to converge (status=1):\n",
            "STOP: TOTAL NO. of ITERATIONS REACHED LIMIT.\n",
            "\n",
            "Increase the number of iterations (max_iter) or scale the data as shown in:\n",
            "    https://scikit-learn.org/stable/modules/preprocessing.html\n",
            "Please also refer to the documentation for alternative solver options:\n",
            "    https://scikit-learn.org/stable/modules/linear_model.html#logistic-regression\n",
            "  extra_warning_msg=_LOGISTIC_SOLVER_CONVERGENCE_MSG)\n"
          ],
          "name": "stderr"
        },
        {
          "output_type": "stream",
          "text": [
            "[CV]  C=20, max_iter=50, score=(train=0.983, test=0.622), total=   0.2s\n",
            "[CV] C=20, max_iter=50 ...............................................\n"
          ],
          "name": "stdout"
        },
        {
          "output_type": "stream",
          "text": [
            "/usr/local/lib/python3.6/dist-packages/sklearn/linear_model/_logistic.py:940: ConvergenceWarning: lbfgs failed to converge (status=1):\n",
            "STOP: TOTAL NO. of ITERATIONS REACHED LIMIT.\n",
            "\n",
            "Increase the number of iterations (max_iter) or scale the data as shown in:\n",
            "    https://scikit-learn.org/stable/modules/preprocessing.html\n",
            "Please also refer to the documentation for alternative solver options:\n",
            "    https://scikit-learn.org/stable/modules/linear_model.html#logistic-regression\n",
            "  extra_warning_msg=_LOGISTIC_SOLVER_CONVERGENCE_MSG)\n"
          ],
          "name": "stderr"
        },
        {
          "output_type": "stream",
          "text": [
            "[CV]  C=20, max_iter=50, score=(train=0.992, test=0.622), total=   0.2s\n",
            "[CV] C=20, max_iter=100 ..............................................\n"
          ],
          "name": "stdout"
        },
        {
          "output_type": "stream",
          "text": [
            "/usr/local/lib/python3.6/dist-packages/sklearn/linear_model/_logistic.py:940: ConvergenceWarning: lbfgs failed to converge (status=1):\n",
            "STOP: TOTAL NO. of ITERATIONS REACHED LIMIT.\n",
            "\n",
            "Increase the number of iterations (max_iter) or scale the data as shown in:\n",
            "    https://scikit-learn.org/stable/modules/preprocessing.html\n",
            "Please also refer to the documentation for alternative solver options:\n",
            "    https://scikit-learn.org/stable/modules/linear_model.html#logistic-regression\n",
            "  extra_warning_msg=_LOGISTIC_SOLVER_CONVERGENCE_MSG)\n"
          ],
          "name": "stderr"
        },
        {
          "output_type": "stream",
          "text": [
            "[CV]  C=20, max_iter=100, score=(train=0.985, test=0.623), total=   0.5s\n",
            "[CV] C=20, max_iter=100 ..............................................\n"
          ],
          "name": "stdout"
        },
        {
          "output_type": "stream",
          "text": [
            "/usr/local/lib/python3.6/dist-packages/sklearn/linear_model/_logistic.py:940: ConvergenceWarning: lbfgs failed to converge (status=1):\n",
            "STOP: TOTAL NO. of ITERATIONS REACHED LIMIT.\n",
            "\n",
            "Increase the number of iterations (max_iter) or scale the data as shown in:\n",
            "    https://scikit-learn.org/stable/modules/preprocessing.html\n",
            "Please also refer to the documentation for alternative solver options:\n",
            "    https://scikit-learn.org/stable/modules/linear_model.html#logistic-regression\n",
            "  extra_warning_msg=_LOGISTIC_SOLVER_CONVERGENCE_MSG)\n"
          ],
          "name": "stderr"
        },
        {
          "output_type": "stream",
          "text": [
            "[CV]  C=20, max_iter=100, score=(train=0.991, test=0.610), total=   0.4s\n",
            "[CV] C=20, max_iter=150 ..............................................\n"
          ],
          "name": "stdout"
        },
        {
          "output_type": "stream",
          "text": [
            "/usr/local/lib/python3.6/dist-packages/sklearn/linear_model/_logistic.py:940: ConvergenceWarning: lbfgs failed to converge (status=1):\n",
            "STOP: TOTAL NO. of ITERATIONS REACHED LIMIT.\n",
            "\n",
            "Increase the number of iterations (max_iter) or scale the data as shown in:\n",
            "    https://scikit-learn.org/stable/modules/preprocessing.html\n",
            "Please also refer to the documentation for alternative solver options:\n",
            "    https://scikit-learn.org/stable/modules/linear_model.html#logistic-regression\n",
            "  extra_warning_msg=_LOGISTIC_SOLVER_CONVERGENCE_MSG)\n"
          ],
          "name": "stderr"
        },
        {
          "output_type": "stream",
          "text": [
            "[CV]  C=20, max_iter=150, score=(train=0.985, test=0.622), total=   0.7s\n",
            "[CV] C=20, max_iter=150 ..............................................\n"
          ],
          "name": "stdout"
        },
        {
          "output_type": "stream",
          "text": [
            "/usr/local/lib/python3.6/dist-packages/sklearn/linear_model/_logistic.py:940: ConvergenceWarning: lbfgs failed to converge (status=1):\n",
            "STOP: TOTAL NO. of ITERATIONS REACHED LIMIT.\n",
            "\n",
            "Increase the number of iterations (max_iter) or scale the data as shown in:\n",
            "    https://scikit-learn.org/stable/modules/preprocessing.html\n",
            "Please also refer to the documentation for alternative solver options:\n",
            "    https://scikit-learn.org/stable/modules/linear_model.html#logistic-regression\n",
            "  extra_warning_msg=_LOGISTIC_SOLVER_CONVERGENCE_MSG)\n"
          ],
          "name": "stderr"
        },
        {
          "output_type": "stream",
          "text": [
            "[CV]  C=20, max_iter=150, score=(train=0.991, test=0.611), total=   0.7s\n",
            "[CV] C=20, max_iter=200 ..............................................\n"
          ],
          "name": "stdout"
        },
        {
          "output_type": "stream",
          "text": [
            "/usr/local/lib/python3.6/dist-packages/sklearn/linear_model/_logistic.py:940: ConvergenceWarning: lbfgs failed to converge (status=1):\n",
            "STOP: TOTAL NO. of ITERATIONS REACHED LIMIT.\n",
            "\n",
            "Increase the number of iterations (max_iter) or scale the data as shown in:\n",
            "    https://scikit-learn.org/stable/modules/preprocessing.html\n",
            "Please also refer to the documentation for alternative solver options:\n",
            "    https://scikit-learn.org/stable/modules/linear_model.html#logistic-regression\n",
            "  extra_warning_msg=_LOGISTIC_SOLVER_CONVERGENCE_MSG)\n"
          ],
          "name": "stderr"
        },
        {
          "output_type": "stream",
          "text": [
            "[CV]  C=20, max_iter=200, score=(train=0.985, test=0.621), total=   0.9s\n",
            "[CV] C=20, max_iter=200 ..............................................\n",
            "[CV]  C=20, max_iter=200, score=(train=0.991, test=0.611), total=   0.8s\n",
            "[CV] C=20, max_iter=250 ..............................................\n",
            "[CV]  C=20, max_iter=250, score=(train=0.985, test=0.621), total=   0.9s\n",
            "[CV] C=20, max_iter=250 ..............................................\n",
            "[CV]  C=20, max_iter=250, score=(train=0.991, test=0.611), total=   0.8s\n",
            "[CV] C=20, max_iter=300 ..............................................\n",
            "[CV]  C=20, max_iter=300, score=(train=0.985, test=0.621), total=   0.9s\n",
            "[CV] C=20, max_iter=300 ..............................................\n",
            "[CV]  C=20, max_iter=300, score=(train=0.991, test=0.611), total=   0.8s\n",
            "[CV] C=20, max_iter=350 ..............................................\n",
            "[CV]  C=20, max_iter=350, score=(train=0.985, test=0.621), total=   1.0s\n",
            "[CV] C=20, max_iter=350 ..............................................\n",
            "[CV]  C=20, max_iter=350, score=(train=0.991, test=0.611), total=   0.8s\n",
            "[CV] C=20, max_iter=400 ..............................................\n",
            "[CV]  C=20, max_iter=400, score=(train=0.985, test=0.621), total=   0.9s\n",
            "[CV] C=20, max_iter=400 ..............................................\n",
            "[CV]  C=20, max_iter=400, score=(train=0.991, test=0.611), total=   0.8s\n",
            "[CV] C=30, max_iter=50 ...............................................\n"
          ],
          "name": "stdout"
        },
        {
          "output_type": "stream",
          "text": [
            "/usr/local/lib/python3.6/dist-packages/sklearn/linear_model/_logistic.py:940: ConvergenceWarning: lbfgs failed to converge (status=1):\n",
            "STOP: TOTAL NO. of ITERATIONS REACHED LIMIT.\n",
            "\n",
            "Increase the number of iterations (max_iter) or scale the data as shown in:\n",
            "    https://scikit-learn.org/stable/modules/preprocessing.html\n",
            "Please also refer to the documentation for alternative solver options:\n",
            "    https://scikit-learn.org/stable/modules/linear_model.html#logistic-regression\n",
            "  extra_warning_msg=_LOGISTIC_SOLVER_CONVERGENCE_MSG)\n"
          ],
          "name": "stderr"
        },
        {
          "output_type": "stream",
          "text": [
            "[CV]  C=30, max_iter=50, score=(train=0.987, test=0.624), total=   0.3s\n",
            "[CV] C=30, max_iter=50 ...............................................\n"
          ],
          "name": "stdout"
        },
        {
          "output_type": "stream",
          "text": [
            "/usr/local/lib/python3.6/dist-packages/sklearn/linear_model/_logistic.py:940: ConvergenceWarning: lbfgs failed to converge (status=1):\n",
            "STOP: TOTAL NO. of ITERATIONS REACHED LIMIT.\n",
            "\n",
            "Increase the number of iterations (max_iter) or scale the data as shown in:\n",
            "    https://scikit-learn.org/stable/modules/preprocessing.html\n",
            "Please also refer to the documentation for alternative solver options:\n",
            "    https://scikit-learn.org/stable/modules/linear_model.html#logistic-regression\n",
            "  extra_warning_msg=_LOGISTIC_SOLVER_CONVERGENCE_MSG)\n"
          ],
          "name": "stderr"
        },
        {
          "output_type": "stream",
          "text": [
            "[CV]  C=30, max_iter=50, score=(train=0.991, test=0.624), total=   0.2s\n",
            "[CV] C=30, max_iter=100 ..............................................\n"
          ],
          "name": "stdout"
        },
        {
          "output_type": "stream",
          "text": [
            "/usr/local/lib/python3.6/dist-packages/sklearn/linear_model/_logistic.py:940: ConvergenceWarning: lbfgs failed to converge (status=1):\n",
            "STOP: TOTAL NO. of ITERATIONS REACHED LIMIT.\n",
            "\n",
            "Increase the number of iterations (max_iter) or scale the data as shown in:\n",
            "    https://scikit-learn.org/stable/modules/preprocessing.html\n",
            "Please also refer to the documentation for alternative solver options:\n",
            "    https://scikit-learn.org/stable/modules/linear_model.html#logistic-regression\n",
            "  extra_warning_msg=_LOGISTIC_SOLVER_CONVERGENCE_MSG)\n"
          ],
          "name": "stderr"
        },
        {
          "output_type": "stream",
          "text": [
            "[CV]  C=30, max_iter=100, score=(train=0.989, test=0.619), total=   0.4s\n",
            "[CV] C=30, max_iter=100 ..............................................\n"
          ],
          "name": "stdout"
        },
        {
          "output_type": "stream",
          "text": [
            "/usr/local/lib/python3.6/dist-packages/sklearn/linear_model/_logistic.py:940: ConvergenceWarning: lbfgs failed to converge (status=1):\n",
            "STOP: TOTAL NO. of ITERATIONS REACHED LIMIT.\n",
            "\n",
            "Increase the number of iterations (max_iter) or scale the data as shown in:\n",
            "    https://scikit-learn.org/stable/modules/preprocessing.html\n",
            "Please also refer to the documentation for alternative solver options:\n",
            "    https://scikit-learn.org/stable/modules/linear_model.html#logistic-regression\n",
            "  extra_warning_msg=_LOGISTIC_SOLVER_CONVERGENCE_MSG)\n"
          ],
          "name": "stderr"
        },
        {
          "output_type": "stream",
          "text": [
            "[CV]  C=30, max_iter=100, score=(train=0.993, test=0.606), total=   0.5s\n",
            "[CV] C=30, max_iter=150 ..............................................\n"
          ],
          "name": "stdout"
        },
        {
          "output_type": "stream",
          "text": [
            "/usr/local/lib/python3.6/dist-packages/sklearn/linear_model/_logistic.py:940: ConvergenceWarning: lbfgs failed to converge (status=1):\n",
            "STOP: TOTAL NO. of ITERATIONS REACHED LIMIT.\n",
            "\n",
            "Increase the number of iterations (max_iter) or scale the data as shown in:\n",
            "    https://scikit-learn.org/stable/modules/preprocessing.html\n",
            "Please also refer to the documentation for alternative solver options:\n",
            "    https://scikit-learn.org/stable/modules/linear_model.html#logistic-regression\n",
            "  extra_warning_msg=_LOGISTIC_SOLVER_CONVERGENCE_MSG)\n"
          ],
          "name": "stderr"
        },
        {
          "output_type": "stream",
          "text": [
            "[CV]  C=30, max_iter=150, score=(train=0.989, test=0.618), total=   0.6s\n",
            "[CV] C=30, max_iter=150 ..............................................\n"
          ],
          "name": "stdout"
        },
        {
          "output_type": "stream",
          "text": [
            "/usr/local/lib/python3.6/dist-packages/sklearn/linear_model/_logistic.py:940: ConvergenceWarning: lbfgs failed to converge (status=1):\n",
            "STOP: TOTAL NO. of ITERATIONS REACHED LIMIT.\n",
            "\n",
            "Increase the number of iterations (max_iter) or scale the data as shown in:\n",
            "    https://scikit-learn.org/stable/modules/preprocessing.html\n",
            "Please also refer to the documentation for alternative solver options:\n",
            "    https://scikit-learn.org/stable/modules/linear_model.html#logistic-regression\n",
            "  extra_warning_msg=_LOGISTIC_SOLVER_CONVERGENCE_MSG)\n"
          ],
          "name": "stderr"
        },
        {
          "output_type": "stream",
          "text": [
            "[CV]  C=30, max_iter=150, score=(train=0.993, test=0.604), total=   0.7s\n",
            "[CV] C=30, max_iter=200 ..............................................\n"
          ],
          "name": "stdout"
        },
        {
          "output_type": "stream",
          "text": [
            "/usr/local/lib/python3.6/dist-packages/sklearn/linear_model/_logistic.py:940: ConvergenceWarning: lbfgs failed to converge (status=1):\n",
            "STOP: TOTAL NO. of ITERATIONS REACHED LIMIT.\n",
            "\n",
            "Increase the number of iterations (max_iter) or scale the data as shown in:\n",
            "    https://scikit-learn.org/stable/modules/preprocessing.html\n",
            "Please also refer to the documentation for alternative solver options:\n",
            "    https://scikit-learn.org/stable/modules/linear_model.html#logistic-regression\n",
            "  extra_warning_msg=_LOGISTIC_SOLVER_CONVERGENCE_MSG)\n"
          ],
          "name": "stderr"
        },
        {
          "output_type": "stream",
          "text": [
            "[CV]  C=30, max_iter=200, score=(train=0.989, test=0.618), total=   0.9s\n",
            "[CV] C=30, max_iter=200 ..............................................\n"
          ],
          "name": "stdout"
        },
        {
          "output_type": "stream",
          "text": [
            "/usr/local/lib/python3.6/dist-packages/sklearn/linear_model/_logistic.py:940: ConvergenceWarning: lbfgs failed to converge (status=1):\n",
            "STOP: TOTAL NO. of ITERATIONS REACHED LIMIT.\n",
            "\n",
            "Increase the number of iterations (max_iter) or scale the data as shown in:\n",
            "    https://scikit-learn.org/stable/modules/preprocessing.html\n",
            "Please also refer to the documentation for alternative solver options:\n",
            "    https://scikit-learn.org/stable/modules/linear_model.html#logistic-regression\n",
            "  extra_warning_msg=_LOGISTIC_SOLVER_CONVERGENCE_MSG)\n"
          ],
          "name": "stderr"
        },
        {
          "output_type": "stream",
          "text": [
            "[CV]  C=30, max_iter=200, score=(train=0.993, test=0.605), total=   0.9s\n",
            "[CV] C=30, max_iter=250 ..............................................\n",
            "[CV]  C=30, max_iter=250, score=(train=0.989, test=0.618), total=   0.9s\n",
            "[CV] C=30, max_iter=250 ..............................................\n",
            "[CV]  C=30, max_iter=250, score=(train=0.993, test=0.605), total=   0.9s\n",
            "[CV] C=30, max_iter=300 ..............................................\n",
            "[CV]  C=30, max_iter=300, score=(train=0.989, test=0.618), total=   0.9s\n",
            "[CV] C=30, max_iter=300 ..............................................\n",
            "[CV]  C=30, max_iter=300, score=(train=0.993, test=0.605), total=   0.9s\n",
            "[CV] C=30, max_iter=350 ..............................................\n",
            "[CV]  C=30, max_iter=350, score=(train=0.989, test=0.618), total=   0.9s\n",
            "[CV] C=30, max_iter=350 ..............................................\n",
            "[CV]  C=30, max_iter=350, score=(train=0.993, test=0.605), total=   0.9s\n",
            "[CV] C=30, max_iter=400 ..............................................\n",
            "[CV]  C=30, max_iter=400, score=(train=0.989, test=0.618), total=   0.8s\n",
            "[CV] C=30, max_iter=400 ..............................................\n",
            "[CV]  C=30, max_iter=400, score=(train=0.993, test=0.605), total=   0.9s\n",
            "[CV] C=40, max_iter=50 ...............................................\n"
          ],
          "name": "stdout"
        },
        {
          "output_type": "stream",
          "text": [
            "/usr/local/lib/python3.6/dist-packages/sklearn/linear_model/_logistic.py:940: ConvergenceWarning: lbfgs failed to converge (status=1):\n",
            "STOP: TOTAL NO. of ITERATIONS REACHED LIMIT.\n",
            "\n",
            "Increase the number of iterations (max_iter) or scale the data as shown in:\n",
            "    https://scikit-learn.org/stable/modules/preprocessing.html\n",
            "Please also refer to the documentation for alternative solver options:\n",
            "    https://scikit-learn.org/stable/modules/linear_model.html#logistic-regression\n",
            "  extra_warning_msg=_LOGISTIC_SOLVER_CONVERGENCE_MSG)\n"
          ],
          "name": "stderr"
        },
        {
          "output_type": "stream",
          "text": [
            "[CV]  C=40, max_iter=50, score=(train=0.988, test=0.625), total=   0.2s\n",
            "[CV] C=40, max_iter=50 ...............................................\n"
          ],
          "name": "stdout"
        },
        {
          "output_type": "stream",
          "text": [
            "/usr/local/lib/python3.6/dist-packages/sklearn/linear_model/_logistic.py:940: ConvergenceWarning: lbfgs failed to converge (status=1):\n",
            "STOP: TOTAL NO. of ITERATIONS REACHED LIMIT.\n",
            "\n",
            "Increase the number of iterations (max_iter) or scale the data as shown in:\n",
            "    https://scikit-learn.org/stable/modules/preprocessing.html\n",
            "Please also refer to the documentation for alternative solver options:\n",
            "    https://scikit-learn.org/stable/modules/linear_model.html#logistic-regression\n",
            "  extra_warning_msg=_LOGISTIC_SOLVER_CONVERGENCE_MSG)\n"
          ],
          "name": "stderr"
        },
        {
          "output_type": "stream",
          "text": [
            "[CV]  C=40, max_iter=50, score=(train=0.993, test=0.621), total=   0.2s\n",
            "[CV] C=40, max_iter=100 ..............................................\n"
          ],
          "name": "stdout"
        },
        {
          "output_type": "stream",
          "text": [
            "/usr/local/lib/python3.6/dist-packages/sklearn/linear_model/_logistic.py:940: ConvergenceWarning: lbfgs failed to converge (status=1):\n",
            "STOP: TOTAL NO. of ITERATIONS REACHED LIMIT.\n",
            "\n",
            "Increase the number of iterations (max_iter) or scale the data as shown in:\n",
            "    https://scikit-learn.org/stable/modules/preprocessing.html\n",
            "Please also refer to the documentation for alternative solver options:\n",
            "    https://scikit-learn.org/stable/modules/linear_model.html#logistic-regression\n",
            "  extra_warning_msg=_LOGISTIC_SOLVER_CONVERGENCE_MSG)\n"
          ],
          "name": "stderr"
        },
        {
          "output_type": "stream",
          "text": [
            "[CV]  C=40, max_iter=100, score=(train=0.991, test=0.611), total=   0.4s\n",
            "[CV] C=40, max_iter=100 ..............................................\n"
          ],
          "name": "stdout"
        },
        {
          "output_type": "stream",
          "text": [
            "/usr/local/lib/python3.6/dist-packages/sklearn/linear_model/_logistic.py:940: ConvergenceWarning: lbfgs failed to converge (status=1):\n",
            "STOP: TOTAL NO. of ITERATIONS REACHED LIMIT.\n",
            "\n",
            "Increase the number of iterations (max_iter) or scale the data as shown in:\n",
            "    https://scikit-learn.org/stable/modules/preprocessing.html\n",
            "Please also refer to the documentation for alternative solver options:\n",
            "    https://scikit-learn.org/stable/modules/linear_model.html#logistic-regression\n",
            "  extra_warning_msg=_LOGISTIC_SOLVER_CONVERGENCE_MSG)\n"
          ],
          "name": "stderr"
        },
        {
          "output_type": "stream",
          "text": [
            "[CV]  C=40, max_iter=100, score=(train=0.996, test=0.604), total=   0.4s\n",
            "[CV] C=40, max_iter=150 ..............................................\n"
          ],
          "name": "stdout"
        },
        {
          "output_type": "stream",
          "text": [
            "/usr/local/lib/python3.6/dist-packages/sklearn/linear_model/_logistic.py:940: ConvergenceWarning: lbfgs failed to converge (status=1):\n",
            "STOP: TOTAL NO. of ITERATIONS REACHED LIMIT.\n",
            "\n",
            "Increase the number of iterations (max_iter) or scale the data as shown in:\n",
            "    https://scikit-learn.org/stable/modules/preprocessing.html\n",
            "Please also refer to the documentation for alternative solver options:\n",
            "    https://scikit-learn.org/stable/modules/linear_model.html#logistic-regression\n",
            "  extra_warning_msg=_LOGISTIC_SOLVER_CONVERGENCE_MSG)\n"
          ],
          "name": "stderr"
        },
        {
          "output_type": "stream",
          "text": [
            "[CV]  C=40, max_iter=150, score=(train=0.991, test=0.611), total=   0.6s\n",
            "[CV] C=40, max_iter=150 ..............................................\n"
          ],
          "name": "stdout"
        },
        {
          "output_type": "stream",
          "text": [
            "/usr/local/lib/python3.6/dist-packages/sklearn/linear_model/_logistic.py:940: ConvergenceWarning: lbfgs failed to converge (status=1):\n",
            "STOP: TOTAL NO. of ITERATIONS REACHED LIMIT.\n",
            "\n",
            "Increase the number of iterations (max_iter) or scale the data as shown in:\n",
            "    https://scikit-learn.org/stable/modules/preprocessing.html\n",
            "Please also refer to the documentation for alternative solver options:\n",
            "    https://scikit-learn.org/stable/modules/linear_model.html#logistic-regression\n",
            "  extra_warning_msg=_LOGISTIC_SOLVER_CONVERGENCE_MSG)\n"
          ],
          "name": "stderr"
        },
        {
          "output_type": "stream",
          "text": [
            "[CV]  C=40, max_iter=150, score=(train=0.996, test=0.602), total=   0.6s\n",
            "[CV] C=40, max_iter=200 ..............................................\n"
          ],
          "name": "stdout"
        },
        {
          "output_type": "stream",
          "text": [
            "/usr/local/lib/python3.6/dist-packages/sklearn/linear_model/_logistic.py:940: ConvergenceWarning: lbfgs failed to converge (status=1):\n",
            "STOP: TOTAL NO. of ITERATIONS REACHED LIMIT.\n",
            "\n",
            "Increase the number of iterations (max_iter) or scale the data as shown in:\n",
            "    https://scikit-learn.org/stable/modules/preprocessing.html\n",
            "Please also refer to the documentation for alternative solver options:\n",
            "    https://scikit-learn.org/stable/modules/linear_model.html#logistic-regression\n",
            "  extra_warning_msg=_LOGISTIC_SOLVER_CONVERGENCE_MSG)\n"
          ],
          "name": "stderr"
        },
        {
          "output_type": "stream",
          "text": [
            "[CV]  C=40, max_iter=200, score=(train=0.991, test=0.612), total=   0.8s\n",
            "[CV] C=40, max_iter=200 ..............................................\n"
          ],
          "name": "stdout"
        },
        {
          "output_type": "stream",
          "text": [
            "/usr/local/lib/python3.6/dist-packages/sklearn/linear_model/_logistic.py:940: ConvergenceWarning: lbfgs failed to converge (status=1):\n",
            "STOP: TOTAL NO. of ITERATIONS REACHED LIMIT.\n",
            "\n",
            "Increase the number of iterations (max_iter) or scale the data as shown in:\n",
            "    https://scikit-learn.org/stable/modules/preprocessing.html\n",
            "Please also refer to the documentation for alternative solver options:\n",
            "    https://scikit-learn.org/stable/modules/linear_model.html#logistic-regression\n",
            "  extra_warning_msg=_LOGISTIC_SOLVER_CONVERGENCE_MSG)\n"
          ],
          "name": "stderr"
        },
        {
          "output_type": "stream",
          "text": [
            "[CV]  C=40, max_iter=200, score=(train=0.996, test=0.602), total=   0.8s\n",
            "[CV] C=40, max_iter=250 ..............................................\n",
            "[CV]  C=40, max_iter=250, score=(train=0.991, test=0.612), total=   1.0s\n",
            "[CV] C=40, max_iter=250 ..............................................\n",
            "[CV]  C=40, max_iter=250, score=(train=0.996, test=0.602), total=   0.9s\n",
            "[CV] C=40, max_iter=300 ..............................................\n",
            "[CV]  C=40, max_iter=300, score=(train=0.991, test=0.612), total=   0.9s\n",
            "[CV] C=40, max_iter=300 ..............................................\n",
            "[CV]  C=40, max_iter=300, score=(train=0.996, test=0.602), total=   0.9s\n",
            "[CV] C=40, max_iter=350 ..............................................\n",
            "[CV]  C=40, max_iter=350, score=(train=0.991, test=0.612), total=   0.9s\n",
            "[CV] C=40, max_iter=350 ..............................................\n",
            "[CV]  C=40, max_iter=350, score=(train=0.996, test=0.602), total=   0.9s\n",
            "[CV] C=40, max_iter=400 ..............................................\n",
            "[CV]  C=40, max_iter=400, score=(train=0.991, test=0.612), total=   1.0s\n",
            "[CV] C=40, max_iter=400 ..............................................\n",
            "[CV]  C=40, max_iter=400, score=(train=0.996, test=0.602), total=   0.9s\n",
            "[CV] C=50, max_iter=50 ...............................................\n"
          ],
          "name": "stdout"
        },
        {
          "output_type": "stream",
          "text": [
            "/usr/local/lib/python3.6/dist-packages/sklearn/linear_model/_logistic.py:940: ConvergenceWarning: lbfgs failed to converge (status=1):\n",
            "STOP: TOTAL NO. of ITERATIONS REACHED LIMIT.\n",
            "\n",
            "Increase the number of iterations (max_iter) or scale the data as shown in:\n",
            "    https://scikit-learn.org/stable/modules/preprocessing.html\n",
            "Please also refer to the documentation for alternative solver options:\n",
            "    https://scikit-learn.org/stable/modules/linear_model.html#logistic-regression\n",
            "  extra_warning_msg=_LOGISTIC_SOLVER_CONVERGENCE_MSG)\n"
          ],
          "name": "stderr"
        },
        {
          "output_type": "stream",
          "text": [
            "[CV]  C=50, max_iter=50, score=(train=0.989, test=0.619), total=   0.2s\n",
            "[CV] C=50, max_iter=50 ...............................................\n"
          ],
          "name": "stdout"
        },
        {
          "output_type": "stream",
          "text": [
            "/usr/local/lib/python3.6/dist-packages/sklearn/linear_model/_logistic.py:940: ConvergenceWarning: lbfgs failed to converge (status=1):\n",
            "STOP: TOTAL NO. of ITERATIONS REACHED LIMIT.\n",
            "\n",
            "Increase the number of iterations (max_iter) or scale the data as shown in:\n",
            "    https://scikit-learn.org/stable/modules/preprocessing.html\n",
            "Please also refer to the documentation for alternative solver options:\n",
            "    https://scikit-learn.org/stable/modules/linear_model.html#logistic-regression\n",
            "  extra_warning_msg=_LOGISTIC_SOLVER_CONVERGENCE_MSG)\n"
          ],
          "name": "stderr"
        },
        {
          "output_type": "stream",
          "text": [
            "[CV]  C=50, max_iter=50, score=(train=0.994, test=0.619), total=   0.2s\n",
            "[CV] C=50, max_iter=100 ..............................................\n"
          ],
          "name": "stdout"
        },
        {
          "output_type": "stream",
          "text": [
            "/usr/local/lib/python3.6/dist-packages/sklearn/linear_model/_logistic.py:940: ConvergenceWarning: lbfgs failed to converge (status=1):\n",
            "STOP: TOTAL NO. of ITERATIONS REACHED LIMIT.\n",
            "\n",
            "Increase the number of iterations (max_iter) or scale the data as shown in:\n",
            "    https://scikit-learn.org/stable/modules/preprocessing.html\n",
            "Please also refer to the documentation for alternative solver options:\n",
            "    https://scikit-learn.org/stable/modules/linear_model.html#logistic-regression\n",
            "  extra_warning_msg=_LOGISTIC_SOLVER_CONVERGENCE_MSG)\n"
          ],
          "name": "stderr"
        },
        {
          "output_type": "stream",
          "text": [
            "[CV]  C=50, max_iter=100, score=(train=0.991, test=0.608), total=   0.4s\n",
            "[CV] C=50, max_iter=100 ..............................................\n"
          ],
          "name": "stdout"
        },
        {
          "output_type": "stream",
          "text": [
            "/usr/local/lib/python3.6/dist-packages/sklearn/linear_model/_logistic.py:940: ConvergenceWarning: lbfgs failed to converge (status=1):\n",
            "STOP: TOTAL NO. of ITERATIONS REACHED LIMIT.\n",
            "\n",
            "Increase the number of iterations (max_iter) or scale the data as shown in:\n",
            "    https://scikit-learn.org/stable/modules/preprocessing.html\n",
            "Please also refer to the documentation for alternative solver options:\n",
            "    https://scikit-learn.org/stable/modules/linear_model.html#logistic-regression\n",
            "  extra_warning_msg=_LOGISTIC_SOLVER_CONVERGENCE_MSG)\n"
          ],
          "name": "stderr"
        },
        {
          "output_type": "stream",
          "text": [
            "[CV]  C=50, max_iter=100, score=(train=0.996, test=0.603), total=   0.4s\n",
            "[CV] C=50, max_iter=150 ..............................................\n"
          ],
          "name": "stdout"
        },
        {
          "output_type": "stream",
          "text": [
            "/usr/local/lib/python3.6/dist-packages/sklearn/linear_model/_logistic.py:940: ConvergenceWarning: lbfgs failed to converge (status=1):\n",
            "STOP: TOTAL NO. of ITERATIONS REACHED LIMIT.\n",
            "\n",
            "Increase the number of iterations (max_iter) or scale the data as shown in:\n",
            "    https://scikit-learn.org/stable/modules/preprocessing.html\n",
            "Please also refer to the documentation for alternative solver options:\n",
            "    https://scikit-learn.org/stable/modules/linear_model.html#logistic-regression\n",
            "  extra_warning_msg=_LOGISTIC_SOLVER_CONVERGENCE_MSG)\n"
          ],
          "name": "stderr"
        },
        {
          "output_type": "stream",
          "text": [
            "[CV]  C=50, max_iter=150, score=(train=0.991, test=0.608), total=   0.6s\n",
            "[CV] C=50, max_iter=150 ..............................................\n"
          ],
          "name": "stdout"
        },
        {
          "output_type": "stream",
          "text": [
            "/usr/local/lib/python3.6/dist-packages/sklearn/linear_model/_logistic.py:940: ConvergenceWarning: lbfgs failed to converge (status=1):\n",
            "STOP: TOTAL NO. of ITERATIONS REACHED LIMIT.\n",
            "\n",
            "Increase the number of iterations (max_iter) or scale the data as shown in:\n",
            "    https://scikit-learn.org/stable/modules/preprocessing.html\n",
            "Please also refer to the documentation for alternative solver options:\n",
            "    https://scikit-learn.org/stable/modules/linear_model.html#logistic-regression\n",
            "  extra_warning_msg=_LOGISTIC_SOLVER_CONVERGENCE_MSG)\n"
          ],
          "name": "stderr"
        },
        {
          "output_type": "stream",
          "text": [
            "[CV]  C=50, max_iter=150, score=(train=0.997, test=0.606), total=   0.6s\n",
            "[CV] C=50, max_iter=200 ..............................................\n"
          ],
          "name": "stdout"
        },
        {
          "output_type": "stream",
          "text": [
            "/usr/local/lib/python3.6/dist-packages/sklearn/linear_model/_logistic.py:940: ConvergenceWarning: lbfgs failed to converge (status=1):\n",
            "STOP: TOTAL NO. of ITERATIONS REACHED LIMIT.\n",
            "\n",
            "Increase the number of iterations (max_iter) or scale the data as shown in:\n",
            "    https://scikit-learn.org/stable/modules/preprocessing.html\n",
            "Please also refer to the documentation for alternative solver options:\n",
            "    https://scikit-learn.org/stable/modules/linear_model.html#logistic-regression\n",
            "  extra_warning_msg=_LOGISTIC_SOLVER_CONVERGENCE_MSG)\n"
          ],
          "name": "stderr"
        },
        {
          "output_type": "stream",
          "text": [
            "[CV]  C=50, max_iter=200, score=(train=0.991, test=0.607), total=   0.8s\n",
            "[CV] C=50, max_iter=200 ..............................................\n"
          ],
          "name": "stdout"
        },
        {
          "output_type": "stream",
          "text": [
            "/usr/local/lib/python3.6/dist-packages/sklearn/linear_model/_logistic.py:940: ConvergenceWarning: lbfgs failed to converge (status=1):\n",
            "STOP: TOTAL NO. of ITERATIONS REACHED LIMIT.\n",
            "\n",
            "Increase the number of iterations (max_iter) or scale the data as shown in:\n",
            "    https://scikit-learn.org/stable/modules/preprocessing.html\n",
            "Please also refer to the documentation for alternative solver options:\n",
            "    https://scikit-learn.org/stable/modules/linear_model.html#logistic-regression\n",
            "  extra_warning_msg=_LOGISTIC_SOLVER_CONVERGENCE_MSG)\n"
          ],
          "name": "stderr"
        },
        {
          "output_type": "stream",
          "text": [
            "[CV]  C=50, max_iter=200, score=(train=0.997, test=0.605), total=   0.8s\n",
            "[CV] C=50, max_iter=250 ..............................................\n"
          ],
          "name": "stdout"
        },
        {
          "output_type": "stream",
          "text": [
            "/usr/local/lib/python3.6/dist-packages/sklearn/linear_model/_logistic.py:940: ConvergenceWarning: lbfgs failed to converge (status=1):\n",
            "STOP: TOTAL NO. of ITERATIONS REACHED LIMIT.\n",
            "\n",
            "Increase the number of iterations (max_iter) or scale the data as shown in:\n",
            "    https://scikit-learn.org/stable/modules/preprocessing.html\n",
            "Please also refer to the documentation for alternative solver options:\n",
            "    https://scikit-learn.org/stable/modules/linear_model.html#logistic-regression\n",
            "  extra_warning_msg=_LOGISTIC_SOLVER_CONVERGENCE_MSG)\n"
          ],
          "name": "stderr"
        },
        {
          "output_type": "stream",
          "text": [
            "[CV]  C=50, max_iter=250, score=(train=0.991, test=0.606), total=   1.0s\n",
            "[CV] C=50, max_iter=250 ..............................................\n",
            "[CV]  C=50, max_iter=250, score=(train=0.997, test=0.605), total=   1.0s\n",
            "[CV] C=50, max_iter=300 ..............................................\n",
            "[CV]  C=50, max_iter=300, score=(train=0.991, test=0.606), total=   1.1s\n",
            "[CV] C=50, max_iter=300 ..............................................\n",
            "[CV]  C=50, max_iter=300, score=(train=0.997, test=0.605), total=   1.0s\n",
            "[CV] C=50, max_iter=350 ..............................................\n",
            "[CV]  C=50, max_iter=350, score=(train=0.991, test=0.606), total=   1.1s\n",
            "[CV] C=50, max_iter=350 ..............................................\n",
            "[CV]  C=50, max_iter=350, score=(train=0.997, test=0.605), total=   1.0s\n",
            "[CV] C=50, max_iter=400 ..............................................\n",
            "[CV]  C=50, max_iter=400, score=(train=0.991, test=0.606), total=   1.1s\n",
            "[CV] C=50, max_iter=400 ..............................................\n",
            "[CV]  C=50, max_iter=400, score=(train=0.997, test=0.605), total=   1.0s\n",
            "[CV] C=70, max_iter=50 ...............................................\n"
          ],
          "name": "stdout"
        },
        {
          "output_type": "stream",
          "text": [
            "/usr/local/lib/python3.6/dist-packages/sklearn/linear_model/_logistic.py:940: ConvergenceWarning: lbfgs failed to converge (status=1):\n",
            "STOP: TOTAL NO. of ITERATIONS REACHED LIMIT.\n",
            "\n",
            "Increase the number of iterations (max_iter) or scale the data as shown in:\n",
            "    https://scikit-learn.org/stable/modules/preprocessing.html\n",
            "Please also refer to the documentation for alternative solver options:\n",
            "    https://scikit-learn.org/stable/modules/linear_model.html#logistic-regression\n",
            "  extra_warning_msg=_LOGISTIC_SOLVER_CONVERGENCE_MSG)\n"
          ],
          "name": "stderr"
        },
        {
          "output_type": "stream",
          "text": [
            "[CV]  C=70, max_iter=50, score=(train=0.990, test=0.623), total=   0.2s\n",
            "[CV] C=70, max_iter=50 ...............................................\n"
          ],
          "name": "stdout"
        },
        {
          "output_type": "stream",
          "text": [
            "/usr/local/lib/python3.6/dist-packages/sklearn/linear_model/_logistic.py:940: ConvergenceWarning: lbfgs failed to converge (status=1):\n",
            "STOP: TOTAL NO. of ITERATIONS REACHED LIMIT.\n",
            "\n",
            "Increase the number of iterations (max_iter) or scale the data as shown in:\n",
            "    https://scikit-learn.org/stable/modules/preprocessing.html\n",
            "Please also refer to the documentation for alternative solver options:\n",
            "    https://scikit-learn.org/stable/modules/linear_model.html#logistic-regression\n",
            "  extra_warning_msg=_LOGISTIC_SOLVER_CONVERGENCE_MSG)\n"
          ],
          "name": "stderr"
        },
        {
          "output_type": "stream",
          "text": [
            "[CV]  C=70, max_iter=50, score=(train=0.996, test=0.617), total=   0.2s\n",
            "[CV] C=70, max_iter=100 ..............................................\n"
          ],
          "name": "stdout"
        },
        {
          "output_type": "stream",
          "text": [
            "/usr/local/lib/python3.6/dist-packages/sklearn/linear_model/_logistic.py:940: ConvergenceWarning: lbfgs failed to converge (status=1):\n",
            "STOP: TOTAL NO. of ITERATIONS REACHED LIMIT.\n",
            "\n",
            "Increase the number of iterations (max_iter) or scale the data as shown in:\n",
            "    https://scikit-learn.org/stable/modules/preprocessing.html\n",
            "Please also refer to the documentation for alternative solver options:\n",
            "    https://scikit-learn.org/stable/modules/linear_model.html#logistic-regression\n",
            "  extra_warning_msg=_LOGISTIC_SOLVER_CONVERGENCE_MSG)\n"
          ],
          "name": "stderr"
        },
        {
          "output_type": "stream",
          "text": [
            "[CV]  C=70, max_iter=100, score=(train=0.992, test=0.602), total=   0.4s\n",
            "[CV] C=70, max_iter=100 ..............................................\n"
          ],
          "name": "stdout"
        },
        {
          "output_type": "stream",
          "text": [
            "/usr/local/lib/python3.6/dist-packages/sklearn/linear_model/_logistic.py:940: ConvergenceWarning: lbfgs failed to converge (status=1):\n",
            "STOP: TOTAL NO. of ITERATIONS REACHED LIMIT.\n",
            "\n",
            "Increase the number of iterations (max_iter) or scale the data as shown in:\n",
            "    https://scikit-learn.org/stable/modules/preprocessing.html\n",
            "Please also refer to the documentation for alternative solver options:\n",
            "    https://scikit-learn.org/stable/modules/linear_model.html#logistic-regression\n",
            "  extra_warning_msg=_LOGISTIC_SOLVER_CONVERGENCE_MSG)\n"
          ],
          "name": "stderr"
        },
        {
          "output_type": "stream",
          "text": [
            "[CV]  C=70, max_iter=100, score=(train=0.997, test=0.599), total=   0.4s\n",
            "[CV] C=70, max_iter=150 ..............................................\n"
          ],
          "name": "stdout"
        },
        {
          "output_type": "stream",
          "text": [
            "/usr/local/lib/python3.6/dist-packages/sklearn/linear_model/_logistic.py:940: ConvergenceWarning: lbfgs failed to converge (status=1):\n",
            "STOP: TOTAL NO. of ITERATIONS REACHED LIMIT.\n",
            "\n",
            "Increase the number of iterations (max_iter) or scale the data as shown in:\n",
            "    https://scikit-learn.org/stable/modules/preprocessing.html\n",
            "Please also refer to the documentation for alternative solver options:\n",
            "    https://scikit-learn.org/stable/modules/linear_model.html#logistic-regression\n",
            "  extra_warning_msg=_LOGISTIC_SOLVER_CONVERGENCE_MSG)\n"
          ],
          "name": "stderr"
        },
        {
          "output_type": "stream",
          "text": [
            "[CV]  C=70, max_iter=150, score=(train=0.992, test=0.606), total=   0.6s\n",
            "[CV] C=70, max_iter=150 ..............................................\n"
          ],
          "name": "stdout"
        },
        {
          "output_type": "stream",
          "text": [
            "/usr/local/lib/python3.6/dist-packages/sklearn/linear_model/_logistic.py:940: ConvergenceWarning: lbfgs failed to converge (status=1):\n",
            "STOP: TOTAL NO. of ITERATIONS REACHED LIMIT.\n",
            "\n",
            "Increase the number of iterations (max_iter) or scale the data as shown in:\n",
            "    https://scikit-learn.org/stable/modules/preprocessing.html\n",
            "Please also refer to the documentation for alternative solver options:\n",
            "    https://scikit-learn.org/stable/modules/linear_model.html#logistic-regression\n",
            "  extra_warning_msg=_LOGISTIC_SOLVER_CONVERGENCE_MSG)\n"
          ],
          "name": "stderr"
        },
        {
          "output_type": "stream",
          "text": [
            "[CV]  C=70, max_iter=150, score=(train=0.997, test=0.595), total=   0.6s\n",
            "[CV] C=70, max_iter=200 ..............................................\n"
          ],
          "name": "stdout"
        },
        {
          "output_type": "stream",
          "text": [
            "/usr/local/lib/python3.6/dist-packages/sklearn/linear_model/_logistic.py:940: ConvergenceWarning: lbfgs failed to converge (status=1):\n",
            "STOP: TOTAL NO. of ITERATIONS REACHED LIMIT.\n",
            "\n",
            "Increase the number of iterations (max_iter) or scale the data as shown in:\n",
            "    https://scikit-learn.org/stable/modules/preprocessing.html\n",
            "Please also refer to the documentation for alternative solver options:\n",
            "    https://scikit-learn.org/stable/modules/linear_model.html#logistic-regression\n",
            "  extra_warning_msg=_LOGISTIC_SOLVER_CONVERGENCE_MSG)\n"
          ],
          "name": "stderr"
        },
        {
          "output_type": "stream",
          "text": [
            "[CV]  C=70, max_iter=200, score=(train=0.992, test=0.606), total=   0.8s\n",
            "[CV] C=70, max_iter=200 ..............................................\n"
          ],
          "name": "stdout"
        },
        {
          "output_type": "stream",
          "text": [
            "/usr/local/lib/python3.6/dist-packages/sklearn/linear_model/_logistic.py:940: ConvergenceWarning: lbfgs failed to converge (status=1):\n",
            "STOP: TOTAL NO. of ITERATIONS REACHED LIMIT.\n",
            "\n",
            "Increase the number of iterations (max_iter) or scale the data as shown in:\n",
            "    https://scikit-learn.org/stable/modules/preprocessing.html\n",
            "Please also refer to the documentation for alternative solver options:\n",
            "    https://scikit-learn.org/stable/modules/linear_model.html#logistic-regression\n",
            "  extra_warning_msg=_LOGISTIC_SOLVER_CONVERGENCE_MSG)\n"
          ],
          "name": "stderr"
        },
        {
          "output_type": "stream",
          "text": [
            "[CV]  C=70, max_iter=200, score=(train=0.997, test=0.597), total=   0.8s\n",
            "[CV] C=70, max_iter=250 ..............................................\n"
          ],
          "name": "stdout"
        },
        {
          "output_type": "stream",
          "text": [
            "/usr/local/lib/python3.6/dist-packages/sklearn/linear_model/_logistic.py:940: ConvergenceWarning: lbfgs failed to converge (status=1):\n",
            "STOP: TOTAL NO. of ITERATIONS REACHED LIMIT.\n",
            "\n",
            "Increase the number of iterations (max_iter) or scale the data as shown in:\n",
            "    https://scikit-learn.org/stable/modules/preprocessing.html\n",
            "Please also refer to the documentation for alternative solver options:\n",
            "    https://scikit-learn.org/stable/modules/linear_model.html#logistic-regression\n",
            "  extra_warning_msg=_LOGISTIC_SOLVER_CONVERGENCE_MSG)\n"
          ],
          "name": "stderr"
        },
        {
          "output_type": "stream",
          "text": [
            "[CV]  C=70, max_iter=250, score=(train=0.992, test=0.606), total=   1.0s\n",
            "[CV] C=70, max_iter=250 ..............................................\n"
          ],
          "name": "stdout"
        },
        {
          "output_type": "stream",
          "text": [
            "/usr/local/lib/python3.6/dist-packages/sklearn/linear_model/_logistic.py:940: ConvergenceWarning: lbfgs failed to converge (status=1):\n",
            "STOP: TOTAL NO. of ITERATIONS REACHED LIMIT.\n",
            "\n",
            "Increase the number of iterations (max_iter) or scale the data as shown in:\n",
            "    https://scikit-learn.org/stable/modules/preprocessing.html\n",
            "Please also refer to the documentation for alternative solver options:\n",
            "    https://scikit-learn.org/stable/modules/linear_model.html#logistic-regression\n",
            "  extra_warning_msg=_LOGISTIC_SOLVER_CONVERGENCE_MSG)\n"
          ],
          "name": "stderr"
        },
        {
          "output_type": "stream",
          "text": [
            "[CV]  C=70, max_iter=250, score=(train=0.997, test=0.597), total=   1.0s\n",
            "[CV] C=70, max_iter=300 ..............................................\n",
            "[CV]  C=70, max_iter=300, score=(train=0.992, test=0.606), total=   1.1s\n",
            "[CV] C=70, max_iter=300 ..............................................\n",
            "[CV]  C=70, max_iter=300, score=(train=0.997, test=0.597), total=   1.0s\n",
            "[CV] C=70, max_iter=350 ..............................................\n",
            "[CV]  C=70, max_iter=350, score=(train=0.992, test=0.606), total=   1.1s\n",
            "[CV] C=70, max_iter=350 ..............................................\n",
            "[CV]  C=70, max_iter=350, score=(train=0.997, test=0.597), total=   1.0s\n",
            "[CV] C=70, max_iter=400 ..............................................\n",
            "[CV]  C=70, max_iter=400, score=(train=0.992, test=0.606), total=   1.1s\n",
            "[CV] C=70, max_iter=400 ..............................................\n",
            "[CV]  C=70, max_iter=400, score=(train=0.997, test=0.597), total=   1.0s\n",
            "[CV] C=80, max_iter=50 ...............................................\n"
          ],
          "name": "stdout"
        },
        {
          "output_type": "stream",
          "text": [
            "/usr/local/lib/python3.6/dist-packages/sklearn/linear_model/_logistic.py:940: ConvergenceWarning: lbfgs failed to converge (status=1):\n",
            "STOP: TOTAL NO. of ITERATIONS REACHED LIMIT.\n",
            "\n",
            "Increase the number of iterations (max_iter) or scale the data as shown in:\n",
            "    https://scikit-learn.org/stable/modules/preprocessing.html\n",
            "Please also refer to the documentation for alternative solver options:\n",
            "    https://scikit-learn.org/stable/modules/linear_model.html#logistic-regression\n",
            "  extra_warning_msg=_LOGISTIC_SOLVER_CONVERGENCE_MSG)\n"
          ],
          "name": "stderr"
        },
        {
          "output_type": "stream",
          "text": [
            "[CV]  C=80, max_iter=50, score=(train=0.990, test=0.624), total=   0.2s\n",
            "[CV] C=80, max_iter=50 ...............................................\n"
          ],
          "name": "stdout"
        },
        {
          "output_type": "stream",
          "text": [
            "/usr/local/lib/python3.6/dist-packages/sklearn/linear_model/_logistic.py:940: ConvergenceWarning: lbfgs failed to converge (status=1):\n",
            "STOP: TOTAL NO. of ITERATIONS REACHED LIMIT.\n",
            "\n",
            "Increase the number of iterations (max_iter) or scale the data as shown in:\n",
            "    https://scikit-learn.org/stable/modules/preprocessing.html\n",
            "Please also refer to the documentation for alternative solver options:\n",
            "    https://scikit-learn.org/stable/modules/linear_model.html#logistic-regression\n",
            "  extra_warning_msg=_LOGISTIC_SOLVER_CONVERGENCE_MSG)\n"
          ],
          "name": "stderr"
        },
        {
          "output_type": "stream",
          "text": [
            "[CV]  C=80, max_iter=50, score=(train=0.994, test=0.622), total=   0.2s\n",
            "[CV] C=80, max_iter=100 ..............................................\n"
          ],
          "name": "stdout"
        },
        {
          "output_type": "stream",
          "text": [
            "/usr/local/lib/python3.6/dist-packages/sklearn/linear_model/_logistic.py:940: ConvergenceWarning: lbfgs failed to converge (status=1):\n",
            "STOP: TOTAL NO. of ITERATIONS REACHED LIMIT.\n",
            "\n",
            "Increase the number of iterations (max_iter) or scale the data as shown in:\n",
            "    https://scikit-learn.org/stable/modules/preprocessing.html\n",
            "Please also refer to the documentation for alternative solver options:\n",
            "    https://scikit-learn.org/stable/modules/linear_model.html#logistic-regression\n",
            "  extra_warning_msg=_LOGISTIC_SOLVER_CONVERGENCE_MSG)\n"
          ],
          "name": "stderr"
        },
        {
          "output_type": "stream",
          "text": [
            "[CV]  C=80, max_iter=100, score=(train=0.992, test=0.608), total=   0.4s\n",
            "[CV] C=80, max_iter=100 ..............................................\n"
          ],
          "name": "stdout"
        },
        {
          "output_type": "stream",
          "text": [
            "/usr/local/lib/python3.6/dist-packages/sklearn/linear_model/_logistic.py:940: ConvergenceWarning: lbfgs failed to converge (status=1):\n",
            "STOP: TOTAL NO. of ITERATIONS REACHED LIMIT.\n",
            "\n",
            "Increase the number of iterations (max_iter) or scale the data as shown in:\n",
            "    https://scikit-learn.org/stable/modules/preprocessing.html\n",
            "Please also refer to the documentation for alternative solver options:\n",
            "    https://scikit-learn.org/stable/modules/linear_model.html#logistic-regression\n",
            "  extra_warning_msg=_LOGISTIC_SOLVER_CONVERGENCE_MSG)\n"
          ],
          "name": "stderr"
        },
        {
          "output_type": "stream",
          "text": [
            "[CV]  C=80, max_iter=100, score=(train=0.998, test=0.600), total=   0.4s\n",
            "[CV] C=80, max_iter=150 ..............................................\n"
          ],
          "name": "stdout"
        },
        {
          "output_type": "stream",
          "text": [
            "/usr/local/lib/python3.6/dist-packages/sklearn/linear_model/_logistic.py:940: ConvergenceWarning: lbfgs failed to converge (status=1):\n",
            "STOP: TOTAL NO. of ITERATIONS REACHED LIMIT.\n",
            "\n",
            "Increase the number of iterations (max_iter) or scale the data as shown in:\n",
            "    https://scikit-learn.org/stable/modules/preprocessing.html\n",
            "Please also refer to the documentation for alternative solver options:\n",
            "    https://scikit-learn.org/stable/modules/linear_model.html#logistic-regression\n",
            "  extra_warning_msg=_LOGISTIC_SOLVER_CONVERGENCE_MSG)\n"
          ],
          "name": "stderr"
        },
        {
          "output_type": "stream",
          "text": [
            "[CV]  C=80, max_iter=150, score=(train=0.992, test=0.606), total=   0.6s\n",
            "[CV] C=80, max_iter=150 ..............................................\n"
          ],
          "name": "stdout"
        },
        {
          "output_type": "stream",
          "text": [
            "/usr/local/lib/python3.6/dist-packages/sklearn/linear_model/_logistic.py:940: ConvergenceWarning: lbfgs failed to converge (status=1):\n",
            "STOP: TOTAL NO. of ITERATIONS REACHED LIMIT.\n",
            "\n",
            "Increase the number of iterations (max_iter) or scale the data as shown in:\n",
            "    https://scikit-learn.org/stable/modules/preprocessing.html\n",
            "Please also refer to the documentation for alternative solver options:\n",
            "    https://scikit-learn.org/stable/modules/linear_model.html#logistic-regression\n",
            "  extra_warning_msg=_LOGISTIC_SOLVER_CONVERGENCE_MSG)\n"
          ],
          "name": "stderr"
        },
        {
          "output_type": "stream",
          "text": [
            "[CV]  C=80, max_iter=150, score=(train=0.998, test=0.594), total=   0.6s\n",
            "[CV] C=80, max_iter=200 ..............................................\n"
          ],
          "name": "stdout"
        },
        {
          "output_type": "stream",
          "text": [
            "/usr/local/lib/python3.6/dist-packages/sklearn/linear_model/_logistic.py:940: ConvergenceWarning: lbfgs failed to converge (status=1):\n",
            "STOP: TOTAL NO. of ITERATIONS REACHED LIMIT.\n",
            "\n",
            "Increase the number of iterations (max_iter) or scale the data as shown in:\n",
            "    https://scikit-learn.org/stable/modules/preprocessing.html\n",
            "Please also refer to the documentation for alternative solver options:\n",
            "    https://scikit-learn.org/stable/modules/linear_model.html#logistic-regression\n",
            "  extra_warning_msg=_LOGISTIC_SOLVER_CONVERGENCE_MSG)\n"
          ],
          "name": "stderr"
        },
        {
          "output_type": "stream",
          "text": [
            "[CV]  C=80, max_iter=200, score=(train=0.992, test=0.604), total=   0.8s\n",
            "[CV] C=80, max_iter=200 ..............................................\n"
          ],
          "name": "stdout"
        },
        {
          "output_type": "stream",
          "text": [
            "/usr/local/lib/python3.6/dist-packages/sklearn/linear_model/_logistic.py:940: ConvergenceWarning: lbfgs failed to converge (status=1):\n",
            "STOP: TOTAL NO. of ITERATIONS REACHED LIMIT.\n",
            "\n",
            "Increase the number of iterations (max_iter) or scale the data as shown in:\n",
            "    https://scikit-learn.org/stable/modules/preprocessing.html\n",
            "Please also refer to the documentation for alternative solver options:\n",
            "    https://scikit-learn.org/stable/modules/linear_model.html#logistic-regression\n",
            "  extra_warning_msg=_LOGISTIC_SOLVER_CONVERGENCE_MSG)\n"
          ],
          "name": "stderr"
        },
        {
          "output_type": "stream",
          "text": [
            "[CV]  C=80, max_iter=200, score=(train=0.998, test=0.596), total=   0.8s\n",
            "[CV] C=80, max_iter=250 ..............................................\n"
          ],
          "name": "stdout"
        },
        {
          "output_type": "stream",
          "text": [
            "/usr/local/lib/python3.6/dist-packages/sklearn/linear_model/_logistic.py:940: ConvergenceWarning: lbfgs failed to converge (status=1):\n",
            "STOP: TOTAL NO. of ITERATIONS REACHED LIMIT.\n",
            "\n",
            "Increase the number of iterations (max_iter) or scale the data as shown in:\n",
            "    https://scikit-learn.org/stable/modules/preprocessing.html\n",
            "Please also refer to the documentation for alternative solver options:\n",
            "    https://scikit-learn.org/stable/modules/linear_model.html#logistic-regression\n",
            "  extra_warning_msg=_LOGISTIC_SOLVER_CONVERGENCE_MSG)\n"
          ],
          "name": "stderr"
        },
        {
          "output_type": "stream",
          "text": [
            "[CV]  C=80, max_iter=250, score=(train=0.992, test=0.603), total=   1.0s\n",
            "[CV] C=80, max_iter=250 ..............................................\n",
            "[CV]  C=80, max_iter=250, score=(train=0.998, test=0.595), total=   1.0s\n",
            "[CV] C=80, max_iter=300 ..............................................\n"
          ],
          "name": "stdout"
        },
        {
          "output_type": "stream",
          "text": [
            "/usr/local/lib/python3.6/dist-packages/sklearn/linear_model/_logistic.py:940: ConvergenceWarning: lbfgs failed to converge (status=1):\n",
            "STOP: TOTAL NO. of ITERATIONS REACHED LIMIT.\n",
            "\n",
            "Increase the number of iterations (max_iter) or scale the data as shown in:\n",
            "    https://scikit-learn.org/stable/modules/preprocessing.html\n",
            "Please also refer to the documentation for alternative solver options:\n",
            "    https://scikit-learn.org/stable/modules/linear_model.html#logistic-regression\n",
            "  extra_warning_msg=_LOGISTIC_SOLVER_CONVERGENCE_MSG)\n"
          ],
          "name": "stderr"
        },
        {
          "output_type": "stream",
          "text": [
            "[CV]  C=80, max_iter=300, score=(train=0.992, test=0.605), total=   1.2s\n",
            "[CV] C=80, max_iter=300 ..............................................\n",
            "[CV]  C=80, max_iter=300, score=(train=0.998, test=0.595), total=   1.0s\n",
            "[CV] C=80, max_iter=350 ..............................................\n",
            "[CV]  C=80, max_iter=350, score=(train=0.992, test=0.605), total=   1.2s\n",
            "[CV] C=80, max_iter=350 ..............................................\n",
            "[CV]  C=80, max_iter=350, score=(train=0.998, test=0.595), total=   1.0s\n",
            "[CV] C=80, max_iter=400 ..............................................\n",
            "[CV]  C=80, max_iter=400, score=(train=0.992, test=0.605), total=   1.2s\n",
            "[CV] C=80, max_iter=400 ..............................................\n",
            "[CV]  C=80, max_iter=400, score=(train=0.998, test=0.595), total=   1.0s\n",
            "[CV] C=100, max_iter=50 ..............................................\n"
          ],
          "name": "stdout"
        },
        {
          "output_type": "stream",
          "text": [
            "/usr/local/lib/python3.6/dist-packages/sklearn/linear_model/_logistic.py:940: ConvergenceWarning: lbfgs failed to converge (status=1):\n",
            "STOP: TOTAL NO. of ITERATIONS REACHED LIMIT.\n",
            "\n",
            "Increase the number of iterations (max_iter) or scale the data as shown in:\n",
            "    https://scikit-learn.org/stable/modules/preprocessing.html\n",
            "Please also refer to the documentation for alternative solver options:\n",
            "    https://scikit-learn.org/stable/modules/linear_model.html#logistic-regression\n",
            "  extra_warning_msg=_LOGISTIC_SOLVER_CONVERGENCE_MSG)\n"
          ],
          "name": "stderr"
        },
        {
          "output_type": "stream",
          "text": [
            "[CV]  C=100, max_iter=50, score=(train=0.989, test=0.628), total=   0.2s\n",
            "[CV] C=100, max_iter=50 ..............................................\n"
          ],
          "name": "stdout"
        },
        {
          "output_type": "stream",
          "text": [
            "/usr/local/lib/python3.6/dist-packages/sklearn/linear_model/_logistic.py:940: ConvergenceWarning: lbfgs failed to converge (status=1):\n",
            "STOP: TOTAL NO. of ITERATIONS REACHED LIMIT.\n",
            "\n",
            "Increase the number of iterations (max_iter) or scale the data as shown in:\n",
            "    https://scikit-learn.org/stable/modules/preprocessing.html\n",
            "Please also refer to the documentation for alternative solver options:\n",
            "    https://scikit-learn.org/stable/modules/linear_model.html#logistic-regression\n",
            "  extra_warning_msg=_LOGISTIC_SOLVER_CONVERGENCE_MSG)\n"
          ],
          "name": "stderr"
        },
        {
          "output_type": "stream",
          "text": [
            "[CV]  C=100, max_iter=50, score=(train=0.998, test=0.620), total=   0.2s\n",
            "[CV] C=100, max_iter=100 .............................................\n"
          ],
          "name": "stdout"
        },
        {
          "output_type": "stream",
          "text": [
            "/usr/local/lib/python3.6/dist-packages/sklearn/linear_model/_logistic.py:940: ConvergenceWarning: lbfgs failed to converge (status=1):\n",
            "STOP: TOTAL NO. of ITERATIONS REACHED LIMIT.\n",
            "\n",
            "Increase the number of iterations (max_iter) or scale the data as shown in:\n",
            "    https://scikit-learn.org/stable/modules/preprocessing.html\n",
            "Please also refer to the documentation for alternative solver options:\n",
            "    https://scikit-learn.org/stable/modules/linear_model.html#logistic-regression\n",
            "  extra_warning_msg=_LOGISTIC_SOLVER_CONVERGENCE_MSG)\n"
          ],
          "name": "stderr"
        },
        {
          "output_type": "stream",
          "text": [
            "[CV]  C=100, max_iter=100, score=(train=0.993, test=0.607), total=   0.4s\n",
            "[CV] C=100, max_iter=100 .............................................\n"
          ],
          "name": "stdout"
        },
        {
          "output_type": "stream",
          "text": [
            "/usr/local/lib/python3.6/dist-packages/sklearn/linear_model/_logistic.py:940: ConvergenceWarning: lbfgs failed to converge (status=1):\n",
            "STOP: TOTAL NO. of ITERATIONS REACHED LIMIT.\n",
            "\n",
            "Increase the number of iterations (max_iter) or scale the data as shown in:\n",
            "    https://scikit-learn.org/stable/modules/preprocessing.html\n",
            "Please also refer to the documentation for alternative solver options:\n",
            "    https://scikit-learn.org/stable/modules/linear_model.html#logistic-regression\n",
            "  extra_warning_msg=_LOGISTIC_SOLVER_CONVERGENCE_MSG)\n"
          ],
          "name": "stderr"
        },
        {
          "output_type": "stream",
          "text": [
            "[CV]  C=100, max_iter=100, score=(train=0.998, test=0.599), total=   0.4s\n",
            "[CV] C=100, max_iter=150 .............................................\n"
          ],
          "name": "stdout"
        },
        {
          "output_type": "stream",
          "text": [
            "/usr/local/lib/python3.6/dist-packages/sklearn/linear_model/_logistic.py:940: ConvergenceWarning: lbfgs failed to converge (status=1):\n",
            "STOP: TOTAL NO. of ITERATIONS REACHED LIMIT.\n",
            "\n",
            "Increase the number of iterations (max_iter) or scale the data as shown in:\n",
            "    https://scikit-learn.org/stable/modules/preprocessing.html\n",
            "Please also refer to the documentation for alternative solver options:\n",
            "    https://scikit-learn.org/stable/modules/linear_model.html#logistic-regression\n",
            "  extra_warning_msg=_LOGISTIC_SOLVER_CONVERGENCE_MSG)\n"
          ],
          "name": "stderr"
        },
        {
          "output_type": "stream",
          "text": [
            "[CV]  C=100, max_iter=150, score=(train=0.993, test=0.596), total=   0.6s\n",
            "[CV] C=100, max_iter=150 .............................................\n"
          ],
          "name": "stdout"
        },
        {
          "output_type": "stream",
          "text": [
            "/usr/local/lib/python3.6/dist-packages/sklearn/linear_model/_logistic.py:940: ConvergenceWarning: lbfgs failed to converge (status=1):\n",
            "STOP: TOTAL NO. of ITERATIONS REACHED LIMIT.\n",
            "\n",
            "Increase the number of iterations (max_iter) or scale the data as shown in:\n",
            "    https://scikit-learn.org/stable/modules/preprocessing.html\n",
            "Please also refer to the documentation for alternative solver options:\n",
            "    https://scikit-learn.org/stable/modules/linear_model.html#logistic-regression\n",
            "  extra_warning_msg=_LOGISTIC_SOLVER_CONVERGENCE_MSG)\n"
          ],
          "name": "stderr"
        },
        {
          "output_type": "stream",
          "text": [
            "[CV]  C=100, max_iter=150, score=(train=0.998, test=0.595), total=   0.6s\n",
            "[CV] C=100, max_iter=200 .............................................\n"
          ],
          "name": "stdout"
        },
        {
          "output_type": "stream",
          "text": [
            "/usr/local/lib/python3.6/dist-packages/sklearn/linear_model/_logistic.py:940: ConvergenceWarning: lbfgs failed to converge (status=1):\n",
            "STOP: TOTAL NO. of ITERATIONS REACHED LIMIT.\n",
            "\n",
            "Increase the number of iterations (max_iter) or scale the data as shown in:\n",
            "    https://scikit-learn.org/stable/modules/preprocessing.html\n",
            "Please also refer to the documentation for alternative solver options:\n",
            "    https://scikit-learn.org/stable/modules/linear_model.html#logistic-regression\n",
            "  extra_warning_msg=_LOGISTIC_SOLVER_CONVERGENCE_MSG)\n"
          ],
          "name": "stderr"
        },
        {
          "output_type": "stream",
          "text": [
            "[CV]  C=100, max_iter=200, score=(train=0.993, test=0.597), total=   0.8s\n",
            "[CV] C=100, max_iter=200 .............................................\n"
          ],
          "name": "stdout"
        },
        {
          "output_type": "stream",
          "text": [
            "/usr/local/lib/python3.6/dist-packages/sklearn/linear_model/_logistic.py:940: ConvergenceWarning: lbfgs failed to converge (status=1):\n",
            "STOP: TOTAL NO. of ITERATIONS REACHED LIMIT.\n",
            "\n",
            "Increase the number of iterations (max_iter) or scale the data as shown in:\n",
            "    https://scikit-learn.org/stable/modules/preprocessing.html\n",
            "Please also refer to the documentation for alternative solver options:\n",
            "    https://scikit-learn.org/stable/modules/linear_model.html#logistic-regression\n",
            "  extra_warning_msg=_LOGISTIC_SOLVER_CONVERGENCE_MSG)\n"
          ],
          "name": "stderr"
        },
        {
          "output_type": "stream",
          "text": [
            "[CV]  C=100, max_iter=200, score=(train=0.998, test=0.595), total=   0.8s\n",
            "[CV] C=100, max_iter=250 .............................................\n"
          ],
          "name": "stdout"
        },
        {
          "output_type": "stream",
          "text": [
            "/usr/local/lib/python3.6/dist-packages/sklearn/linear_model/_logistic.py:940: ConvergenceWarning: lbfgs failed to converge (status=1):\n",
            "STOP: TOTAL NO. of ITERATIONS REACHED LIMIT.\n",
            "\n",
            "Increase the number of iterations (max_iter) or scale the data as shown in:\n",
            "    https://scikit-learn.org/stable/modules/preprocessing.html\n",
            "Please also refer to the documentation for alternative solver options:\n",
            "    https://scikit-learn.org/stable/modules/linear_model.html#logistic-regression\n",
            "  extra_warning_msg=_LOGISTIC_SOLVER_CONVERGENCE_MSG)\n"
          ],
          "name": "stderr"
        },
        {
          "output_type": "stream",
          "text": [
            "[CV]  C=100, max_iter=250, score=(train=0.993, test=0.597), total=   1.0s\n",
            "[CV] C=100, max_iter=250 .............................................\n",
            "[CV]  C=100, max_iter=250, score=(train=0.998, test=0.595), total=   0.9s\n",
            "[CV] C=100, max_iter=300 .............................................\n"
          ],
          "name": "stdout"
        },
        {
          "output_type": "stream",
          "text": [
            "/usr/local/lib/python3.6/dist-packages/sklearn/linear_model/_logistic.py:940: ConvergenceWarning: lbfgs failed to converge (status=1):\n",
            "STOP: TOTAL NO. of ITERATIONS REACHED LIMIT.\n",
            "\n",
            "Increase the number of iterations (max_iter) or scale the data as shown in:\n",
            "    https://scikit-learn.org/stable/modules/preprocessing.html\n",
            "Please also refer to the documentation for alternative solver options:\n",
            "    https://scikit-learn.org/stable/modules/linear_model.html#logistic-regression\n",
            "  extra_warning_msg=_LOGISTIC_SOLVER_CONVERGENCE_MSG)\n"
          ],
          "name": "stderr"
        },
        {
          "output_type": "stream",
          "text": [
            "[CV]  C=100, max_iter=300, score=(train=0.993, test=0.597), total=   1.2s\n",
            "[CV] C=100, max_iter=300 .............................................\n",
            "[CV]  C=100, max_iter=300, score=(train=0.998, test=0.595), total=   0.9s\n",
            "[CV] C=100, max_iter=350 .............................................\n",
            "[CV]  C=100, max_iter=350, score=(train=0.993, test=0.597), total=   1.2s\n",
            "[CV] C=100, max_iter=350 .............................................\n",
            "[CV]  C=100, max_iter=350, score=(train=0.998, test=0.595), total=   0.9s\n",
            "[CV] C=100, max_iter=400 .............................................\n",
            "[CV]  C=100, max_iter=400, score=(train=0.993, test=0.597), total=   1.3s\n",
            "[CV] C=100, max_iter=400 .............................................\n",
            "[CV]  C=100, max_iter=400, score=(train=0.998, test=0.595), total=   0.9s\n",
            "[CV] C=130, max_iter=50 ..............................................\n"
          ],
          "name": "stdout"
        },
        {
          "output_type": "stream",
          "text": [
            "/usr/local/lib/python3.6/dist-packages/sklearn/linear_model/_logistic.py:940: ConvergenceWarning: lbfgs failed to converge (status=1):\n",
            "STOP: TOTAL NO. of ITERATIONS REACHED LIMIT.\n",
            "\n",
            "Increase the number of iterations (max_iter) or scale the data as shown in:\n",
            "    https://scikit-learn.org/stable/modules/preprocessing.html\n",
            "Please also refer to the documentation for alternative solver options:\n",
            "    https://scikit-learn.org/stable/modules/linear_model.html#logistic-regression\n",
            "  extra_warning_msg=_LOGISTIC_SOLVER_CONVERGENCE_MSG)\n"
          ],
          "name": "stderr"
        },
        {
          "output_type": "stream",
          "text": [
            "[CV]  C=130, max_iter=50, score=(train=0.991, test=0.620), total=   0.2s\n",
            "[CV] C=130, max_iter=50 ..............................................\n"
          ],
          "name": "stdout"
        },
        {
          "output_type": "stream",
          "text": [
            "/usr/local/lib/python3.6/dist-packages/sklearn/linear_model/_logistic.py:940: ConvergenceWarning: lbfgs failed to converge (status=1):\n",
            "STOP: TOTAL NO. of ITERATIONS REACHED LIMIT.\n",
            "\n",
            "Increase the number of iterations (max_iter) or scale the data as shown in:\n",
            "    https://scikit-learn.org/stable/modules/preprocessing.html\n",
            "Please also refer to the documentation for alternative solver options:\n",
            "    https://scikit-learn.org/stable/modules/linear_model.html#logistic-regression\n",
            "  extra_warning_msg=_LOGISTIC_SOLVER_CONVERGENCE_MSG)\n"
          ],
          "name": "stderr"
        },
        {
          "output_type": "stream",
          "text": [
            "[CV]  C=130, max_iter=50, score=(train=0.997, test=0.618), total=   0.2s\n",
            "[CV] C=130, max_iter=100 .............................................\n"
          ],
          "name": "stdout"
        },
        {
          "output_type": "stream",
          "text": [
            "/usr/local/lib/python3.6/dist-packages/sklearn/linear_model/_logistic.py:940: ConvergenceWarning: lbfgs failed to converge (status=1):\n",
            "STOP: TOTAL NO. of ITERATIONS REACHED LIMIT.\n",
            "\n",
            "Increase the number of iterations (max_iter) or scale the data as shown in:\n",
            "    https://scikit-learn.org/stable/modules/preprocessing.html\n",
            "Please also refer to the documentation for alternative solver options:\n",
            "    https://scikit-learn.org/stable/modules/linear_model.html#logistic-regression\n",
            "  extra_warning_msg=_LOGISTIC_SOLVER_CONVERGENCE_MSG)\n"
          ],
          "name": "stderr"
        },
        {
          "output_type": "stream",
          "text": [
            "[CV]  C=130, max_iter=100, score=(train=0.994, test=0.594), total=   0.4s\n",
            "[CV] C=130, max_iter=100 .............................................\n"
          ],
          "name": "stdout"
        },
        {
          "output_type": "stream",
          "text": [
            "/usr/local/lib/python3.6/dist-packages/sklearn/linear_model/_logistic.py:940: ConvergenceWarning: lbfgs failed to converge (status=1):\n",
            "STOP: TOTAL NO. of ITERATIONS REACHED LIMIT.\n",
            "\n",
            "Increase the number of iterations (max_iter) or scale the data as shown in:\n",
            "    https://scikit-learn.org/stable/modules/preprocessing.html\n",
            "Please also refer to the documentation for alternative solver options:\n",
            "    https://scikit-learn.org/stable/modules/linear_model.html#logistic-regression\n",
            "  extra_warning_msg=_LOGISTIC_SOLVER_CONVERGENCE_MSG)\n"
          ],
          "name": "stderr"
        },
        {
          "output_type": "stream",
          "text": [
            "[CV]  C=130, max_iter=100, score=(train=0.999, test=0.602), total=   0.4s\n",
            "[CV] C=130, max_iter=150 .............................................\n"
          ],
          "name": "stdout"
        },
        {
          "output_type": "stream",
          "text": [
            "/usr/local/lib/python3.6/dist-packages/sklearn/linear_model/_logistic.py:940: ConvergenceWarning: lbfgs failed to converge (status=1):\n",
            "STOP: TOTAL NO. of ITERATIONS REACHED LIMIT.\n",
            "\n",
            "Increase the number of iterations (max_iter) or scale the data as shown in:\n",
            "    https://scikit-learn.org/stable/modules/preprocessing.html\n",
            "Please also refer to the documentation for alternative solver options:\n",
            "    https://scikit-learn.org/stable/modules/linear_model.html#logistic-regression\n",
            "  extra_warning_msg=_LOGISTIC_SOLVER_CONVERGENCE_MSG)\n"
          ],
          "name": "stderr"
        },
        {
          "output_type": "stream",
          "text": [
            "[CV]  C=130, max_iter=150, score=(train=0.994, test=0.590), total=   0.6s\n",
            "[CV] C=130, max_iter=150 .............................................\n"
          ],
          "name": "stdout"
        },
        {
          "output_type": "stream",
          "text": [
            "/usr/local/lib/python3.6/dist-packages/sklearn/linear_model/_logistic.py:940: ConvergenceWarning: lbfgs failed to converge (status=1):\n",
            "STOP: TOTAL NO. of ITERATIONS REACHED LIMIT.\n",
            "\n",
            "Increase the number of iterations (max_iter) or scale the data as shown in:\n",
            "    https://scikit-learn.org/stable/modules/preprocessing.html\n",
            "Please also refer to the documentation for alternative solver options:\n",
            "    https://scikit-learn.org/stable/modules/linear_model.html#logistic-regression\n",
            "  extra_warning_msg=_LOGISTIC_SOLVER_CONVERGENCE_MSG)\n"
          ],
          "name": "stderr"
        },
        {
          "output_type": "stream",
          "text": [
            "[CV]  C=130, max_iter=150, score=(train=0.999, test=0.597), total=   0.6s\n",
            "[CV] C=130, max_iter=200 .............................................\n"
          ],
          "name": "stdout"
        },
        {
          "output_type": "stream",
          "text": [
            "/usr/local/lib/python3.6/dist-packages/sklearn/linear_model/_logistic.py:940: ConvergenceWarning: lbfgs failed to converge (status=1):\n",
            "STOP: TOTAL NO. of ITERATIONS REACHED LIMIT.\n",
            "\n",
            "Increase the number of iterations (max_iter) or scale the data as shown in:\n",
            "    https://scikit-learn.org/stable/modules/preprocessing.html\n",
            "Please also refer to the documentation for alternative solver options:\n",
            "    https://scikit-learn.org/stable/modules/linear_model.html#logistic-regression\n",
            "  extra_warning_msg=_LOGISTIC_SOLVER_CONVERGENCE_MSG)\n"
          ],
          "name": "stderr"
        },
        {
          "output_type": "stream",
          "text": [
            "[CV]  C=130, max_iter=200, score=(train=0.994, test=0.587), total=   0.8s\n",
            "[CV] C=130, max_iter=200 .............................................\n"
          ],
          "name": "stdout"
        },
        {
          "output_type": "stream",
          "text": [
            "/usr/local/lib/python3.6/dist-packages/sklearn/linear_model/_logistic.py:940: ConvergenceWarning: lbfgs failed to converge (status=1):\n",
            "STOP: TOTAL NO. of ITERATIONS REACHED LIMIT.\n",
            "\n",
            "Increase the number of iterations (max_iter) or scale the data as shown in:\n",
            "    https://scikit-learn.org/stable/modules/preprocessing.html\n",
            "Please also refer to the documentation for alternative solver options:\n",
            "    https://scikit-learn.org/stable/modules/linear_model.html#logistic-regression\n",
            "  extra_warning_msg=_LOGISTIC_SOLVER_CONVERGENCE_MSG)\n"
          ],
          "name": "stderr"
        },
        {
          "output_type": "stream",
          "text": [
            "[CV]  C=130, max_iter=200, score=(train=0.999, test=0.596), total=   0.8s\n",
            "[CV] C=130, max_iter=250 .............................................\n"
          ],
          "name": "stdout"
        },
        {
          "output_type": "stream",
          "text": [
            "/usr/local/lib/python3.6/dist-packages/sklearn/linear_model/_logistic.py:940: ConvergenceWarning: lbfgs failed to converge (status=1):\n",
            "STOP: TOTAL NO. of ITERATIONS REACHED LIMIT.\n",
            "\n",
            "Increase the number of iterations (max_iter) or scale the data as shown in:\n",
            "    https://scikit-learn.org/stable/modules/preprocessing.html\n",
            "Please also refer to the documentation for alternative solver options:\n",
            "    https://scikit-learn.org/stable/modules/linear_model.html#logistic-regression\n",
            "  extra_warning_msg=_LOGISTIC_SOLVER_CONVERGENCE_MSG)\n"
          ],
          "name": "stderr"
        },
        {
          "output_type": "stream",
          "text": [
            "[CV]  C=130, max_iter=250, score=(train=0.994, test=0.588), total=   1.0s\n",
            "[CV] C=130, max_iter=250 .............................................\n"
          ],
          "name": "stdout"
        },
        {
          "output_type": "stream",
          "text": [
            "/usr/local/lib/python3.6/dist-packages/sklearn/linear_model/_logistic.py:940: ConvergenceWarning: lbfgs failed to converge (status=1):\n",
            "STOP: TOTAL NO. of ITERATIONS REACHED LIMIT.\n",
            "\n",
            "Increase the number of iterations (max_iter) or scale the data as shown in:\n",
            "    https://scikit-learn.org/stable/modules/preprocessing.html\n",
            "Please also refer to the documentation for alternative solver options:\n",
            "    https://scikit-learn.org/stable/modules/linear_model.html#logistic-regression\n",
            "  extra_warning_msg=_LOGISTIC_SOLVER_CONVERGENCE_MSG)\n"
          ],
          "name": "stderr"
        },
        {
          "output_type": "stream",
          "text": [
            "[CV]  C=130, max_iter=250, score=(train=0.999, test=0.596), total=   1.0s\n",
            "[CV] C=130, max_iter=300 .............................................\n"
          ],
          "name": "stdout"
        },
        {
          "output_type": "stream",
          "text": [
            "/usr/local/lib/python3.6/dist-packages/sklearn/linear_model/_logistic.py:940: ConvergenceWarning: lbfgs failed to converge (status=1):\n",
            "STOP: TOTAL NO. of ITERATIONS REACHED LIMIT.\n",
            "\n",
            "Increase the number of iterations (max_iter) or scale the data as shown in:\n",
            "    https://scikit-learn.org/stable/modules/preprocessing.html\n",
            "Please also refer to the documentation for alternative solver options:\n",
            "    https://scikit-learn.org/stable/modules/linear_model.html#logistic-regression\n",
            "  extra_warning_msg=_LOGISTIC_SOLVER_CONVERGENCE_MSG)\n"
          ],
          "name": "stderr"
        },
        {
          "output_type": "stream",
          "text": [
            "[CV]  C=130, max_iter=300, score=(train=0.994, test=0.588), total=   1.2s\n",
            "[CV] C=130, max_iter=300 .............................................\n",
            "[CV]  C=130, max_iter=300, score=(train=0.999, test=0.596), total=   1.0s\n",
            "[CV] C=130, max_iter=350 .............................................\n",
            "[CV]  C=130, max_iter=350, score=(train=0.994, test=0.588), total=   1.2s\n",
            "[CV] C=130, max_iter=350 .............................................\n",
            "[CV]  C=130, max_iter=350, score=(train=0.999, test=0.596), total=   1.0s\n",
            "[CV] C=130, max_iter=400 .............................................\n",
            "[CV]  C=130, max_iter=400, score=(train=0.994, test=0.588), total=   1.2s\n",
            "[CV] C=130, max_iter=400 .............................................\n",
            "[CV]  C=130, max_iter=400, score=(train=0.999, test=0.596), total=   1.1s\n",
            "[CV] C=160, max_iter=50 ..............................................\n"
          ],
          "name": "stdout"
        },
        {
          "output_type": "stream",
          "text": [
            "/usr/local/lib/python3.6/dist-packages/sklearn/linear_model/_logistic.py:940: ConvergenceWarning: lbfgs failed to converge (status=1):\n",
            "STOP: TOTAL NO. of ITERATIONS REACHED LIMIT.\n",
            "\n",
            "Increase the number of iterations (max_iter) or scale the data as shown in:\n",
            "    https://scikit-learn.org/stable/modules/preprocessing.html\n",
            "Please also refer to the documentation for alternative solver options:\n",
            "    https://scikit-learn.org/stable/modules/linear_model.html#logistic-regression\n",
            "  extra_warning_msg=_LOGISTIC_SOLVER_CONVERGENCE_MSG)\n"
          ],
          "name": "stderr"
        },
        {
          "output_type": "stream",
          "text": [
            "[CV]  C=160, max_iter=50, score=(train=0.991, test=0.622), total=   0.2s\n",
            "[CV] C=160, max_iter=50 ..............................................\n"
          ],
          "name": "stdout"
        },
        {
          "output_type": "stream",
          "text": [
            "/usr/local/lib/python3.6/dist-packages/sklearn/linear_model/_logistic.py:940: ConvergenceWarning: lbfgs failed to converge (status=1):\n",
            "STOP: TOTAL NO. of ITERATIONS REACHED LIMIT.\n",
            "\n",
            "Increase the number of iterations (max_iter) or scale the data as shown in:\n",
            "    https://scikit-learn.org/stable/modules/preprocessing.html\n",
            "Please also refer to the documentation for alternative solver options:\n",
            "    https://scikit-learn.org/stable/modules/linear_model.html#logistic-regression\n",
            "  extra_warning_msg=_LOGISTIC_SOLVER_CONVERGENCE_MSG)\n"
          ],
          "name": "stderr"
        },
        {
          "output_type": "stream",
          "text": [
            "[CV]  C=160, max_iter=50, score=(train=0.998, test=0.611), total=   0.2s\n",
            "[CV] C=160, max_iter=100 .............................................\n"
          ],
          "name": "stdout"
        },
        {
          "output_type": "stream",
          "text": [
            "/usr/local/lib/python3.6/dist-packages/sklearn/linear_model/_logistic.py:940: ConvergenceWarning: lbfgs failed to converge (status=1):\n",
            "STOP: TOTAL NO. of ITERATIONS REACHED LIMIT.\n",
            "\n",
            "Increase the number of iterations (max_iter) or scale the data as shown in:\n",
            "    https://scikit-learn.org/stable/modules/preprocessing.html\n",
            "Please also refer to the documentation for alternative solver options:\n",
            "    https://scikit-learn.org/stable/modules/linear_model.html#logistic-regression\n",
            "  extra_warning_msg=_LOGISTIC_SOLVER_CONVERGENCE_MSG)\n"
          ],
          "name": "stderr"
        },
        {
          "output_type": "stream",
          "text": [
            "[CV]  C=160, max_iter=100, score=(train=0.994, test=0.594), total=   0.4s\n",
            "[CV] C=160, max_iter=100 .............................................\n"
          ],
          "name": "stdout"
        },
        {
          "output_type": "stream",
          "text": [
            "/usr/local/lib/python3.6/dist-packages/sklearn/linear_model/_logistic.py:940: ConvergenceWarning: lbfgs failed to converge (status=1):\n",
            "STOP: TOTAL NO. of ITERATIONS REACHED LIMIT.\n",
            "\n",
            "Increase the number of iterations (max_iter) or scale the data as shown in:\n",
            "    https://scikit-learn.org/stable/modules/preprocessing.html\n",
            "Please also refer to the documentation for alternative solver options:\n",
            "    https://scikit-learn.org/stable/modules/linear_model.html#logistic-regression\n",
            "  extra_warning_msg=_LOGISTIC_SOLVER_CONVERGENCE_MSG)\n"
          ],
          "name": "stderr"
        },
        {
          "output_type": "stream",
          "text": [
            "[CV]  C=160, max_iter=100, score=(train=0.999, test=0.598), total=   0.4s\n",
            "[CV] C=160, max_iter=150 .............................................\n"
          ],
          "name": "stdout"
        },
        {
          "output_type": "stream",
          "text": [
            "/usr/local/lib/python3.6/dist-packages/sklearn/linear_model/_logistic.py:940: ConvergenceWarning: lbfgs failed to converge (status=1):\n",
            "STOP: TOTAL NO. of ITERATIONS REACHED LIMIT.\n",
            "\n",
            "Increase the number of iterations (max_iter) or scale the data as shown in:\n",
            "    https://scikit-learn.org/stable/modules/preprocessing.html\n",
            "Please also refer to the documentation for alternative solver options:\n",
            "    https://scikit-learn.org/stable/modules/linear_model.html#logistic-regression\n",
            "  extra_warning_msg=_LOGISTIC_SOLVER_CONVERGENCE_MSG)\n"
          ],
          "name": "stderr"
        },
        {
          "output_type": "stream",
          "text": [
            "[CV]  C=160, max_iter=150, score=(train=0.994, test=0.588), total=   0.6s\n",
            "[CV] C=160, max_iter=150 .............................................\n"
          ],
          "name": "stdout"
        },
        {
          "output_type": "stream",
          "text": [
            "/usr/local/lib/python3.6/dist-packages/sklearn/linear_model/_logistic.py:940: ConvergenceWarning: lbfgs failed to converge (status=1):\n",
            "STOP: TOTAL NO. of ITERATIONS REACHED LIMIT.\n",
            "\n",
            "Increase the number of iterations (max_iter) or scale the data as shown in:\n",
            "    https://scikit-learn.org/stable/modules/preprocessing.html\n",
            "Please also refer to the documentation for alternative solver options:\n",
            "    https://scikit-learn.org/stable/modules/linear_model.html#logistic-regression\n",
            "  extra_warning_msg=_LOGISTIC_SOLVER_CONVERGENCE_MSG)\n"
          ],
          "name": "stderr"
        },
        {
          "output_type": "stream",
          "text": [
            "[CV]  C=160, max_iter=150, score=(train=0.999, test=0.593), total=   0.6s\n",
            "[CV] C=160, max_iter=200 .............................................\n"
          ],
          "name": "stdout"
        },
        {
          "output_type": "stream",
          "text": [
            "/usr/local/lib/python3.6/dist-packages/sklearn/linear_model/_logistic.py:940: ConvergenceWarning: lbfgs failed to converge (status=1):\n",
            "STOP: TOTAL NO. of ITERATIONS REACHED LIMIT.\n",
            "\n",
            "Increase the number of iterations (max_iter) or scale the data as shown in:\n",
            "    https://scikit-learn.org/stable/modules/preprocessing.html\n",
            "Please also refer to the documentation for alternative solver options:\n",
            "    https://scikit-learn.org/stable/modules/linear_model.html#logistic-regression\n",
            "  extra_warning_msg=_LOGISTIC_SOLVER_CONVERGENCE_MSG)\n"
          ],
          "name": "stderr"
        },
        {
          "output_type": "stream",
          "text": [
            "[CV]  C=160, max_iter=200, score=(train=0.994, test=0.583), total=   0.8s\n",
            "[CV] C=160, max_iter=200 .............................................\n"
          ],
          "name": "stdout"
        },
        {
          "output_type": "stream",
          "text": [
            "/usr/local/lib/python3.6/dist-packages/sklearn/linear_model/_logistic.py:940: ConvergenceWarning: lbfgs failed to converge (status=1):\n",
            "STOP: TOTAL NO. of ITERATIONS REACHED LIMIT.\n",
            "\n",
            "Increase the number of iterations (max_iter) or scale the data as shown in:\n",
            "    https://scikit-learn.org/stable/modules/preprocessing.html\n",
            "Please also refer to the documentation for alternative solver options:\n",
            "    https://scikit-learn.org/stable/modules/linear_model.html#logistic-regression\n",
            "  extra_warning_msg=_LOGISTIC_SOLVER_CONVERGENCE_MSG)\n"
          ],
          "name": "stderr"
        },
        {
          "output_type": "stream",
          "text": [
            "[CV]  C=160, max_iter=200, score=(train=0.999, test=0.593), total=   0.8s\n",
            "[CV] C=160, max_iter=250 .............................................\n"
          ],
          "name": "stdout"
        },
        {
          "output_type": "stream",
          "text": [
            "/usr/local/lib/python3.6/dist-packages/sklearn/linear_model/_logistic.py:940: ConvergenceWarning: lbfgs failed to converge (status=1):\n",
            "STOP: TOTAL NO. of ITERATIONS REACHED LIMIT.\n",
            "\n",
            "Increase the number of iterations (max_iter) or scale the data as shown in:\n",
            "    https://scikit-learn.org/stable/modules/preprocessing.html\n",
            "Please also refer to the documentation for alternative solver options:\n",
            "    https://scikit-learn.org/stable/modules/linear_model.html#logistic-regression\n",
            "  extra_warning_msg=_LOGISTIC_SOLVER_CONVERGENCE_MSG)\n"
          ],
          "name": "stderr"
        },
        {
          "output_type": "stream",
          "text": [
            "[CV]  C=160, max_iter=250, score=(train=0.994, test=0.583), total=   1.0s\n",
            "[CV] C=160, max_iter=250 .............................................\n"
          ],
          "name": "stdout"
        },
        {
          "output_type": "stream",
          "text": [
            "/usr/local/lib/python3.6/dist-packages/sklearn/linear_model/_logistic.py:940: ConvergenceWarning: lbfgs failed to converge (status=1):\n",
            "STOP: TOTAL NO. of ITERATIONS REACHED LIMIT.\n",
            "\n",
            "Increase the number of iterations (max_iter) or scale the data as shown in:\n",
            "    https://scikit-learn.org/stable/modules/preprocessing.html\n",
            "Please also refer to the documentation for alternative solver options:\n",
            "    https://scikit-learn.org/stable/modules/linear_model.html#logistic-regression\n",
            "  extra_warning_msg=_LOGISTIC_SOLVER_CONVERGENCE_MSG)\n"
          ],
          "name": "stderr"
        },
        {
          "output_type": "stream",
          "text": [
            "[CV]  C=160, max_iter=250, score=(train=0.999, test=0.595), total=   1.0s\n",
            "[CV] C=160, max_iter=300 .............................................\n"
          ],
          "name": "stdout"
        },
        {
          "output_type": "stream",
          "text": [
            "/usr/local/lib/python3.6/dist-packages/sklearn/linear_model/_logistic.py:940: ConvergenceWarning: lbfgs failed to converge (status=1):\n",
            "STOP: TOTAL NO. of ITERATIONS REACHED LIMIT.\n",
            "\n",
            "Increase the number of iterations (max_iter) or scale the data as shown in:\n",
            "    https://scikit-learn.org/stable/modules/preprocessing.html\n",
            "Please also refer to the documentation for alternative solver options:\n",
            "    https://scikit-learn.org/stable/modules/linear_model.html#logistic-regression\n",
            "  extra_warning_msg=_LOGISTIC_SOLVER_CONVERGENCE_MSG)\n"
          ],
          "name": "stderr"
        },
        {
          "output_type": "stream",
          "text": [
            "[CV]  C=160, max_iter=300, score=(train=0.994, test=0.582), total=   1.2s\n",
            "[CV] C=160, max_iter=300 .............................................\n",
            "[CV]  C=160, max_iter=300, score=(train=0.999, test=0.595), total=   1.1s\n",
            "[CV] C=160, max_iter=350 .............................................\n",
            "[CV]  C=160, max_iter=350, score=(train=0.994, test=0.582), total=   1.4s\n",
            "[CV] C=160, max_iter=350 .............................................\n",
            "[CV]  C=160, max_iter=350, score=(train=0.999, test=0.595), total=   1.1s\n",
            "[CV] C=160, max_iter=400 .............................................\n",
            "[CV]  C=160, max_iter=400, score=(train=0.994, test=0.582), total=   1.4s\n",
            "[CV] C=160, max_iter=400 .............................................\n",
            "[CV]  C=160, max_iter=400, score=(train=0.999, test=0.595), total=   1.1s\n",
            "[CV] C=180, max_iter=50 ..............................................\n"
          ],
          "name": "stdout"
        },
        {
          "output_type": "stream",
          "text": [
            "/usr/local/lib/python3.6/dist-packages/sklearn/linear_model/_logistic.py:940: ConvergenceWarning: lbfgs failed to converge (status=1):\n",
            "STOP: TOTAL NO. of ITERATIONS REACHED LIMIT.\n",
            "\n",
            "Increase the number of iterations (max_iter) or scale the data as shown in:\n",
            "    https://scikit-learn.org/stable/modules/preprocessing.html\n",
            "Please also refer to the documentation for alternative solver options:\n",
            "    https://scikit-learn.org/stable/modules/linear_model.html#logistic-regression\n",
            "  extra_warning_msg=_LOGISTIC_SOLVER_CONVERGENCE_MSG)\n"
          ],
          "name": "stderr"
        },
        {
          "output_type": "stream",
          "text": [
            "[CV]  C=180, max_iter=50, score=(train=0.993, test=0.617), total=   0.2s\n",
            "[CV] C=180, max_iter=50 ..............................................\n"
          ],
          "name": "stdout"
        },
        {
          "output_type": "stream",
          "text": [
            "/usr/local/lib/python3.6/dist-packages/sklearn/linear_model/_logistic.py:940: ConvergenceWarning: lbfgs failed to converge (status=1):\n",
            "STOP: TOTAL NO. of ITERATIONS REACHED LIMIT.\n",
            "\n",
            "Increase the number of iterations (max_iter) or scale the data as shown in:\n",
            "    https://scikit-learn.org/stable/modules/preprocessing.html\n",
            "Please also refer to the documentation for alternative solver options:\n",
            "    https://scikit-learn.org/stable/modules/linear_model.html#logistic-regression\n",
            "  extra_warning_msg=_LOGISTIC_SOLVER_CONVERGENCE_MSG)\n"
          ],
          "name": "stderr"
        },
        {
          "output_type": "stream",
          "text": [
            "[CV]  C=180, max_iter=50, score=(train=0.999, test=0.617), total=   0.2s\n",
            "[CV] C=180, max_iter=100 .............................................\n"
          ],
          "name": "stdout"
        },
        {
          "output_type": "stream",
          "text": [
            "/usr/local/lib/python3.6/dist-packages/sklearn/linear_model/_logistic.py:940: ConvergenceWarning: lbfgs failed to converge (status=1):\n",
            "STOP: TOTAL NO. of ITERATIONS REACHED LIMIT.\n",
            "\n",
            "Increase the number of iterations (max_iter) or scale the data as shown in:\n",
            "    https://scikit-learn.org/stable/modules/preprocessing.html\n",
            "Please also refer to the documentation for alternative solver options:\n",
            "    https://scikit-learn.org/stable/modules/linear_model.html#logistic-regression\n",
            "  extra_warning_msg=_LOGISTIC_SOLVER_CONVERGENCE_MSG)\n"
          ],
          "name": "stderr"
        },
        {
          "output_type": "stream",
          "text": [
            "[CV]  C=180, max_iter=100, score=(train=0.994, test=0.590), total=   0.4s\n",
            "[CV] C=180, max_iter=100 .............................................\n"
          ],
          "name": "stdout"
        },
        {
          "output_type": "stream",
          "text": [
            "/usr/local/lib/python3.6/dist-packages/sklearn/linear_model/_logistic.py:940: ConvergenceWarning: lbfgs failed to converge (status=1):\n",
            "STOP: TOTAL NO. of ITERATIONS REACHED LIMIT.\n",
            "\n",
            "Increase the number of iterations (max_iter) or scale the data as shown in:\n",
            "    https://scikit-learn.org/stable/modules/preprocessing.html\n",
            "Please also refer to the documentation for alternative solver options:\n",
            "    https://scikit-learn.org/stable/modules/linear_model.html#logistic-regression\n",
            "  extra_warning_msg=_LOGISTIC_SOLVER_CONVERGENCE_MSG)\n"
          ],
          "name": "stderr"
        },
        {
          "output_type": "stream",
          "text": [
            "[CV]  C=180, max_iter=100, score=(train=0.999, test=0.598), total=   0.4s\n",
            "[CV] C=180, max_iter=150 .............................................\n"
          ],
          "name": "stdout"
        },
        {
          "output_type": "stream",
          "text": [
            "/usr/local/lib/python3.6/dist-packages/sklearn/linear_model/_logistic.py:940: ConvergenceWarning: lbfgs failed to converge (status=1):\n",
            "STOP: TOTAL NO. of ITERATIONS REACHED LIMIT.\n",
            "\n",
            "Increase the number of iterations (max_iter) or scale the data as shown in:\n",
            "    https://scikit-learn.org/stable/modules/preprocessing.html\n",
            "Please also refer to the documentation for alternative solver options:\n",
            "    https://scikit-learn.org/stable/modules/linear_model.html#logistic-regression\n",
            "  extra_warning_msg=_LOGISTIC_SOLVER_CONVERGENCE_MSG)\n"
          ],
          "name": "stderr"
        },
        {
          "output_type": "stream",
          "text": [
            "[CV]  C=180, max_iter=150, score=(train=0.994, test=0.585), total=   0.6s\n",
            "[CV] C=180, max_iter=150 .............................................\n"
          ],
          "name": "stdout"
        },
        {
          "output_type": "stream",
          "text": [
            "/usr/local/lib/python3.6/dist-packages/sklearn/linear_model/_logistic.py:940: ConvergenceWarning: lbfgs failed to converge (status=1):\n",
            "STOP: TOTAL NO. of ITERATIONS REACHED LIMIT.\n",
            "\n",
            "Increase the number of iterations (max_iter) or scale the data as shown in:\n",
            "    https://scikit-learn.org/stable/modules/preprocessing.html\n",
            "Please also refer to the documentation for alternative solver options:\n",
            "    https://scikit-learn.org/stable/modules/linear_model.html#logistic-regression\n",
            "  extra_warning_msg=_LOGISTIC_SOLVER_CONVERGENCE_MSG)\n"
          ],
          "name": "stderr"
        },
        {
          "output_type": "stream",
          "text": [
            "[CV]  C=180, max_iter=150, score=(train=0.999, test=0.593), total=   0.6s\n",
            "[CV] C=180, max_iter=200 .............................................\n"
          ],
          "name": "stdout"
        },
        {
          "output_type": "stream",
          "text": [
            "/usr/local/lib/python3.6/dist-packages/sklearn/linear_model/_logistic.py:940: ConvergenceWarning: lbfgs failed to converge (status=1):\n",
            "STOP: TOTAL NO. of ITERATIONS REACHED LIMIT.\n",
            "\n",
            "Increase the number of iterations (max_iter) or scale the data as shown in:\n",
            "    https://scikit-learn.org/stable/modules/preprocessing.html\n",
            "Please also refer to the documentation for alternative solver options:\n",
            "    https://scikit-learn.org/stable/modules/linear_model.html#logistic-regression\n",
            "  extra_warning_msg=_LOGISTIC_SOLVER_CONVERGENCE_MSG)\n"
          ],
          "name": "stderr"
        },
        {
          "output_type": "stream",
          "text": [
            "[CV]  C=180, max_iter=200, score=(train=0.994, test=0.582), total=   0.8s\n",
            "[CV] C=180, max_iter=200 .............................................\n"
          ],
          "name": "stdout"
        },
        {
          "output_type": "stream",
          "text": [
            "/usr/local/lib/python3.6/dist-packages/sklearn/linear_model/_logistic.py:940: ConvergenceWarning: lbfgs failed to converge (status=1):\n",
            "STOP: TOTAL NO. of ITERATIONS REACHED LIMIT.\n",
            "\n",
            "Increase the number of iterations (max_iter) or scale the data as shown in:\n",
            "    https://scikit-learn.org/stable/modules/preprocessing.html\n",
            "Please also refer to the documentation for alternative solver options:\n",
            "    https://scikit-learn.org/stable/modules/linear_model.html#logistic-regression\n",
            "  extra_warning_msg=_LOGISTIC_SOLVER_CONVERGENCE_MSG)\n"
          ],
          "name": "stderr"
        },
        {
          "output_type": "stream",
          "text": [
            "[CV]  C=180, max_iter=200, score=(train=0.999, test=0.592), total=   0.8s\n",
            "[CV] C=180, max_iter=250 .............................................\n"
          ],
          "name": "stdout"
        },
        {
          "output_type": "stream",
          "text": [
            "/usr/local/lib/python3.6/dist-packages/sklearn/linear_model/_logistic.py:940: ConvergenceWarning: lbfgs failed to converge (status=1):\n",
            "STOP: TOTAL NO. of ITERATIONS REACHED LIMIT.\n",
            "\n",
            "Increase the number of iterations (max_iter) or scale the data as shown in:\n",
            "    https://scikit-learn.org/stable/modules/preprocessing.html\n",
            "Please also refer to the documentation for alternative solver options:\n",
            "    https://scikit-learn.org/stable/modules/linear_model.html#logistic-regression\n",
            "  extra_warning_msg=_LOGISTIC_SOLVER_CONVERGENCE_MSG)\n"
          ],
          "name": "stderr"
        },
        {
          "output_type": "stream",
          "text": [
            "[CV]  C=180, max_iter=250, score=(train=0.994, test=0.582), total=   1.0s\n",
            "[CV] C=180, max_iter=250 .............................................\n"
          ],
          "name": "stdout"
        },
        {
          "output_type": "stream",
          "text": [
            "/usr/local/lib/python3.6/dist-packages/sklearn/linear_model/_logistic.py:940: ConvergenceWarning: lbfgs failed to converge (status=1):\n",
            "STOP: TOTAL NO. of ITERATIONS REACHED LIMIT.\n",
            "\n",
            "Increase the number of iterations (max_iter) or scale the data as shown in:\n",
            "    https://scikit-learn.org/stable/modules/preprocessing.html\n",
            "Please also refer to the documentation for alternative solver options:\n",
            "    https://scikit-learn.org/stable/modules/linear_model.html#logistic-regression\n",
            "  extra_warning_msg=_LOGISTIC_SOLVER_CONVERGENCE_MSG)\n"
          ],
          "name": "stderr"
        },
        {
          "output_type": "stream",
          "text": [
            "[CV]  C=180, max_iter=250, score=(train=0.999, test=0.592), total=   1.0s\n",
            "[CV] C=180, max_iter=300 .............................................\n"
          ],
          "name": "stdout"
        },
        {
          "output_type": "stream",
          "text": [
            "/usr/local/lib/python3.6/dist-packages/sklearn/linear_model/_logistic.py:940: ConvergenceWarning: lbfgs failed to converge (status=1):\n",
            "STOP: TOTAL NO. of ITERATIONS REACHED LIMIT.\n",
            "\n",
            "Increase the number of iterations (max_iter) or scale the data as shown in:\n",
            "    https://scikit-learn.org/stable/modules/preprocessing.html\n",
            "Please also refer to the documentation for alternative solver options:\n",
            "    https://scikit-learn.org/stable/modules/linear_model.html#logistic-regression\n",
            "  extra_warning_msg=_LOGISTIC_SOLVER_CONVERGENCE_MSG)\n"
          ],
          "name": "stderr"
        },
        {
          "output_type": "stream",
          "text": [
            "[CV]  C=180, max_iter=300, score=(train=0.994, test=0.581), total=   1.2s\n",
            "[CV] C=180, max_iter=300 .............................................\n",
            "[CV]  C=180, max_iter=300, score=(train=0.999, test=0.592), total=   1.0s\n",
            "[CV] C=180, max_iter=350 .............................................\n",
            "[CV]  C=180, max_iter=350, score=(train=0.994, test=0.581), total=   1.3s\n",
            "[CV] C=180, max_iter=350 .............................................\n",
            "[CV]  C=180, max_iter=350, score=(train=0.999, test=0.592), total=   1.0s\n",
            "[CV] C=180, max_iter=400 .............................................\n",
            "[CV]  C=180, max_iter=400, score=(train=0.994, test=0.581), total=   1.3s\n",
            "[CV] C=180, max_iter=400 .............................................\n",
            "[CV]  C=180, max_iter=400, score=(train=0.999, test=0.592), total=   1.0s\n",
            "[CV] C=190, max_iter=50 ..............................................\n"
          ],
          "name": "stdout"
        },
        {
          "output_type": "stream",
          "text": [
            "/usr/local/lib/python3.6/dist-packages/sklearn/linear_model/_logistic.py:940: ConvergenceWarning: lbfgs failed to converge (status=1):\n",
            "STOP: TOTAL NO. of ITERATIONS REACHED LIMIT.\n",
            "\n",
            "Increase the number of iterations (max_iter) or scale the data as shown in:\n",
            "    https://scikit-learn.org/stable/modules/preprocessing.html\n",
            "Please also refer to the documentation for alternative solver options:\n",
            "    https://scikit-learn.org/stable/modules/linear_model.html#logistic-regression\n",
            "  extra_warning_msg=_LOGISTIC_SOLVER_CONVERGENCE_MSG)\n"
          ],
          "name": "stderr"
        },
        {
          "output_type": "stream",
          "text": [
            "[CV]  C=190, max_iter=50, score=(train=0.993, test=0.623), total=   0.2s\n",
            "[CV] C=190, max_iter=50 ..............................................\n"
          ],
          "name": "stdout"
        },
        {
          "output_type": "stream",
          "text": [
            "/usr/local/lib/python3.6/dist-packages/sklearn/linear_model/_logistic.py:940: ConvergenceWarning: lbfgs failed to converge (status=1):\n",
            "STOP: TOTAL NO. of ITERATIONS REACHED LIMIT.\n",
            "\n",
            "Increase the number of iterations (max_iter) or scale the data as shown in:\n",
            "    https://scikit-learn.org/stable/modules/preprocessing.html\n",
            "Please also refer to the documentation for alternative solver options:\n",
            "    https://scikit-learn.org/stable/modules/linear_model.html#logistic-regression\n",
            "  extra_warning_msg=_LOGISTIC_SOLVER_CONVERGENCE_MSG)\n"
          ],
          "name": "stderr"
        },
        {
          "output_type": "stream",
          "text": [
            "[CV]  C=190, max_iter=50, score=(train=0.997, test=0.613), total=   0.2s\n",
            "[CV] C=190, max_iter=100 .............................................\n"
          ],
          "name": "stdout"
        },
        {
          "output_type": "stream",
          "text": [
            "/usr/local/lib/python3.6/dist-packages/sklearn/linear_model/_logistic.py:940: ConvergenceWarning: lbfgs failed to converge (status=1):\n",
            "STOP: TOTAL NO. of ITERATIONS REACHED LIMIT.\n",
            "\n",
            "Increase the number of iterations (max_iter) or scale the data as shown in:\n",
            "    https://scikit-learn.org/stable/modules/preprocessing.html\n",
            "Please also refer to the documentation for alternative solver options:\n",
            "    https://scikit-learn.org/stable/modules/linear_model.html#logistic-regression\n",
            "  extra_warning_msg=_LOGISTIC_SOLVER_CONVERGENCE_MSG)\n"
          ],
          "name": "stderr"
        },
        {
          "output_type": "stream",
          "text": [
            "[CV]  C=190, max_iter=100, score=(train=0.994, test=0.591), total=   0.4s\n",
            "[CV] C=190, max_iter=100 .............................................\n"
          ],
          "name": "stdout"
        },
        {
          "output_type": "stream",
          "text": [
            "/usr/local/lib/python3.6/dist-packages/sklearn/linear_model/_logistic.py:940: ConvergenceWarning: lbfgs failed to converge (status=1):\n",
            "STOP: TOTAL NO. of ITERATIONS REACHED LIMIT.\n",
            "\n",
            "Increase the number of iterations (max_iter) or scale the data as shown in:\n",
            "    https://scikit-learn.org/stable/modules/preprocessing.html\n",
            "Please also refer to the documentation for alternative solver options:\n",
            "    https://scikit-learn.org/stable/modules/linear_model.html#logistic-regression\n",
            "  extra_warning_msg=_LOGISTIC_SOLVER_CONVERGENCE_MSG)\n"
          ],
          "name": "stderr"
        },
        {
          "output_type": "stream",
          "text": [
            "[CV]  C=190, max_iter=100, score=(train=0.999, test=0.602), total=   0.4s\n",
            "[CV] C=190, max_iter=150 .............................................\n"
          ],
          "name": "stdout"
        },
        {
          "output_type": "stream",
          "text": [
            "/usr/local/lib/python3.6/dist-packages/sklearn/linear_model/_logistic.py:940: ConvergenceWarning: lbfgs failed to converge (status=1):\n",
            "STOP: TOTAL NO. of ITERATIONS REACHED LIMIT.\n",
            "\n",
            "Increase the number of iterations (max_iter) or scale the data as shown in:\n",
            "    https://scikit-learn.org/stable/modules/preprocessing.html\n",
            "Please also refer to the documentation for alternative solver options:\n",
            "    https://scikit-learn.org/stable/modules/linear_model.html#logistic-regression\n",
            "  extra_warning_msg=_LOGISTIC_SOLVER_CONVERGENCE_MSG)\n"
          ],
          "name": "stderr"
        },
        {
          "output_type": "stream",
          "text": [
            "[CV]  C=190, max_iter=150, score=(train=0.994, test=0.585), total=   0.6s\n",
            "[CV] C=190, max_iter=150 .............................................\n"
          ],
          "name": "stdout"
        },
        {
          "output_type": "stream",
          "text": [
            "/usr/local/lib/python3.6/dist-packages/sklearn/linear_model/_logistic.py:940: ConvergenceWarning: lbfgs failed to converge (status=1):\n",
            "STOP: TOTAL NO. of ITERATIONS REACHED LIMIT.\n",
            "\n",
            "Increase the number of iterations (max_iter) or scale the data as shown in:\n",
            "    https://scikit-learn.org/stable/modules/preprocessing.html\n",
            "Please also refer to the documentation for alternative solver options:\n",
            "    https://scikit-learn.org/stable/modules/linear_model.html#logistic-regression\n",
            "  extra_warning_msg=_LOGISTIC_SOLVER_CONVERGENCE_MSG)\n"
          ],
          "name": "stderr"
        },
        {
          "output_type": "stream",
          "text": [
            "[CV]  C=190, max_iter=150, score=(train=0.999, test=0.596), total=   0.6s\n",
            "[CV] C=190, max_iter=200 .............................................\n"
          ],
          "name": "stdout"
        },
        {
          "output_type": "stream",
          "text": [
            "/usr/local/lib/python3.6/dist-packages/sklearn/linear_model/_logistic.py:940: ConvergenceWarning: lbfgs failed to converge (status=1):\n",
            "STOP: TOTAL NO. of ITERATIONS REACHED LIMIT.\n",
            "\n",
            "Increase the number of iterations (max_iter) or scale the data as shown in:\n",
            "    https://scikit-learn.org/stable/modules/preprocessing.html\n",
            "Please also refer to the documentation for alternative solver options:\n",
            "    https://scikit-learn.org/stable/modules/linear_model.html#logistic-regression\n",
            "  extra_warning_msg=_LOGISTIC_SOLVER_CONVERGENCE_MSG)\n"
          ],
          "name": "stderr"
        },
        {
          "output_type": "stream",
          "text": [
            "[CV]  C=190, max_iter=200, score=(train=0.994, test=0.581), total=   0.8s\n",
            "[CV] C=190, max_iter=200 .............................................\n"
          ],
          "name": "stdout"
        },
        {
          "output_type": "stream",
          "text": [
            "/usr/local/lib/python3.6/dist-packages/sklearn/linear_model/_logistic.py:940: ConvergenceWarning: lbfgs failed to converge (status=1):\n",
            "STOP: TOTAL NO. of ITERATIONS REACHED LIMIT.\n",
            "\n",
            "Increase the number of iterations (max_iter) or scale the data as shown in:\n",
            "    https://scikit-learn.org/stable/modules/preprocessing.html\n",
            "Please also refer to the documentation for alternative solver options:\n",
            "    https://scikit-learn.org/stable/modules/linear_model.html#logistic-regression\n",
            "  extra_warning_msg=_LOGISTIC_SOLVER_CONVERGENCE_MSG)\n"
          ],
          "name": "stderr"
        },
        {
          "output_type": "stream",
          "text": [
            "[CV]  C=190, max_iter=200, score=(train=0.999, test=0.595), total=   0.8s\n",
            "[CV] C=190, max_iter=250 .............................................\n"
          ],
          "name": "stdout"
        },
        {
          "output_type": "stream",
          "text": [
            "/usr/local/lib/python3.6/dist-packages/sklearn/linear_model/_logistic.py:940: ConvergenceWarning: lbfgs failed to converge (status=1):\n",
            "STOP: TOTAL NO. of ITERATIONS REACHED LIMIT.\n",
            "\n",
            "Increase the number of iterations (max_iter) or scale the data as shown in:\n",
            "    https://scikit-learn.org/stable/modules/preprocessing.html\n",
            "Please also refer to the documentation for alternative solver options:\n",
            "    https://scikit-learn.org/stable/modules/linear_model.html#logistic-regression\n",
            "  extra_warning_msg=_LOGISTIC_SOLVER_CONVERGENCE_MSG)\n"
          ],
          "name": "stderr"
        },
        {
          "output_type": "stream",
          "text": [
            "[CV]  C=190, max_iter=250, score=(train=0.994, test=0.581), total=   1.0s\n",
            "[CV] C=190, max_iter=250 .............................................\n"
          ],
          "name": "stdout"
        },
        {
          "output_type": "stream",
          "text": [
            "/usr/local/lib/python3.6/dist-packages/sklearn/linear_model/_logistic.py:940: ConvergenceWarning: lbfgs failed to converge (status=1):\n",
            "STOP: TOTAL NO. of ITERATIONS REACHED LIMIT.\n",
            "\n",
            "Increase the number of iterations (max_iter) or scale the data as shown in:\n",
            "    https://scikit-learn.org/stable/modules/preprocessing.html\n",
            "Please also refer to the documentation for alternative solver options:\n",
            "    https://scikit-learn.org/stable/modules/linear_model.html#logistic-regression\n",
            "  extra_warning_msg=_LOGISTIC_SOLVER_CONVERGENCE_MSG)\n"
          ],
          "name": "stderr"
        },
        {
          "output_type": "stream",
          "text": [
            "[CV]  C=190, max_iter=250, score=(train=0.999, test=0.593), total=   1.0s\n",
            "[CV] C=190, max_iter=300 .............................................\n"
          ],
          "name": "stdout"
        },
        {
          "output_type": "stream",
          "text": [
            "/usr/local/lib/python3.6/dist-packages/sklearn/linear_model/_logistic.py:940: ConvergenceWarning: lbfgs failed to converge (status=1):\n",
            "STOP: TOTAL NO. of ITERATIONS REACHED LIMIT.\n",
            "\n",
            "Increase the number of iterations (max_iter) or scale the data as shown in:\n",
            "    https://scikit-learn.org/stable/modules/preprocessing.html\n",
            "Please also refer to the documentation for alternative solver options:\n",
            "    https://scikit-learn.org/stable/modules/linear_model.html#logistic-regression\n",
            "  extra_warning_msg=_LOGISTIC_SOLVER_CONVERGENCE_MSG)\n"
          ],
          "name": "stderr"
        },
        {
          "output_type": "stream",
          "text": [
            "[CV]  C=190, max_iter=300, score=(train=0.994, test=0.580), total=   1.2s\n",
            "[CV] C=190, max_iter=300 .............................................\n"
          ],
          "name": "stdout"
        },
        {
          "output_type": "stream",
          "text": [
            "/usr/local/lib/python3.6/dist-packages/sklearn/linear_model/_logistic.py:940: ConvergenceWarning: lbfgs failed to converge (status=1):\n",
            "STOP: TOTAL NO. of ITERATIONS REACHED LIMIT.\n",
            "\n",
            "Increase the number of iterations (max_iter) or scale the data as shown in:\n",
            "    https://scikit-learn.org/stable/modules/preprocessing.html\n",
            "Please also refer to the documentation for alternative solver options:\n",
            "    https://scikit-learn.org/stable/modules/linear_model.html#logistic-regression\n",
            "  extra_warning_msg=_LOGISTIC_SOLVER_CONVERGENCE_MSG)\n"
          ],
          "name": "stderr"
        },
        {
          "output_type": "stream",
          "text": [
            "[CV]  C=190, max_iter=300, score=(train=0.999, test=0.594), total=   1.2s\n",
            "[CV] C=190, max_iter=350 .............................................\n"
          ],
          "name": "stdout"
        },
        {
          "output_type": "stream",
          "text": [
            "/usr/local/lib/python3.6/dist-packages/sklearn/linear_model/_logistic.py:940: ConvergenceWarning: lbfgs failed to converge (status=1):\n",
            "STOP: TOTAL NO. of ITERATIONS REACHED LIMIT.\n",
            "\n",
            "Increase the number of iterations (max_iter) or scale the data as shown in:\n",
            "    https://scikit-learn.org/stable/modules/preprocessing.html\n",
            "Please also refer to the documentation for alternative solver options:\n",
            "    https://scikit-learn.org/stable/modules/linear_model.html#logistic-regression\n",
            "  extra_warning_msg=_LOGISTIC_SOLVER_CONVERGENCE_MSG)\n"
          ],
          "name": "stderr"
        },
        {
          "output_type": "stream",
          "text": [
            "[CV]  C=190, max_iter=350, score=(train=0.994, test=0.580), total=   1.4s\n",
            "[CV] C=190, max_iter=350 .............................................\n",
            "[CV]  C=190, max_iter=350, score=(train=0.999, test=0.594), total=   1.2s\n",
            "[CV] C=190, max_iter=400 .............................................\n"
          ],
          "name": "stdout"
        },
        {
          "output_type": "stream",
          "text": [
            "/usr/local/lib/python3.6/dist-packages/sklearn/linear_model/_logistic.py:940: ConvergenceWarning: lbfgs failed to converge (status=1):\n",
            "STOP: TOTAL NO. of ITERATIONS REACHED LIMIT.\n",
            "\n",
            "Increase the number of iterations (max_iter) or scale the data as shown in:\n",
            "    https://scikit-learn.org/stable/modules/preprocessing.html\n",
            "Please also refer to the documentation for alternative solver options:\n",
            "    https://scikit-learn.org/stable/modules/linear_model.html#logistic-regression\n",
            "  extra_warning_msg=_LOGISTIC_SOLVER_CONVERGENCE_MSG)\n"
          ],
          "name": "stderr"
        },
        {
          "output_type": "stream",
          "text": [
            "[CV]  C=190, max_iter=400, score=(train=0.994, test=0.580), total=   1.5s\n",
            "[CV] C=190, max_iter=400 .............................................\n",
            "[CV]  C=190, max_iter=400, score=(train=0.999, test=0.594), total=   1.2s\n",
            "[CV] C=200, max_iter=50 ..............................................\n"
          ],
          "name": "stdout"
        },
        {
          "output_type": "stream",
          "text": [
            "/usr/local/lib/python3.6/dist-packages/sklearn/linear_model/_logistic.py:940: ConvergenceWarning: lbfgs failed to converge (status=1):\n",
            "STOP: TOTAL NO. of ITERATIONS REACHED LIMIT.\n",
            "\n",
            "Increase the number of iterations (max_iter) or scale the data as shown in:\n",
            "    https://scikit-learn.org/stable/modules/preprocessing.html\n",
            "Please also refer to the documentation for alternative solver options:\n",
            "    https://scikit-learn.org/stable/modules/linear_model.html#logistic-regression\n",
            "  extra_warning_msg=_LOGISTIC_SOLVER_CONVERGENCE_MSG)\n"
          ],
          "name": "stderr"
        },
        {
          "output_type": "stream",
          "text": [
            "[CV]  C=200, max_iter=50, score=(train=0.992, test=0.628), total=   0.2s\n",
            "[CV] C=200, max_iter=50 ..............................................\n"
          ],
          "name": "stdout"
        },
        {
          "output_type": "stream",
          "text": [
            "/usr/local/lib/python3.6/dist-packages/sklearn/linear_model/_logistic.py:940: ConvergenceWarning: lbfgs failed to converge (status=1):\n",
            "STOP: TOTAL NO. of ITERATIONS REACHED LIMIT.\n",
            "\n",
            "Increase the number of iterations (max_iter) or scale the data as shown in:\n",
            "    https://scikit-learn.org/stable/modules/preprocessing.html\n",
            "Please also refer to the documentation for alternative solver options:\n",
            "    https://scikit-learn.org/stable/modules/linear_model.html#logistic-regression\n",
            "  extra_warning_msg=_LOGISTIC_SOLVER_CONVERGENCE_MSG)\n"
          ],
          "name": "stderr"
        },
        {
          "output_type": "stream",
          "text": [
            "[CV]  C=200, max_iter=50, score=(train=0.998, test=0.615), total=   0.2s\n",
            "[CV] C=200, max_iter=100 .............................................\n"
          ],
          "name": "stdout"
        },
        {
          "output_type": "stream",
          "text": [
            "/usr/local/lib/python3.6/dist-packages/sklearn/linear_model/_logistic.py:940: ConvergenceWarning: lbfgs failed to converge (status=1):\n",
            "STOP: TOTAL NO. of ITERATIONS REACHED LIMIT.\n",
            "\n",
            "Increase the number of iterations (max_iter) or scale the data as shown in:\n",
            "    https://scikit-learn.org/stable/modules/preprocessing.html\n",
            "Please also refer to the documentation for alternative solver options:\n",
            "    https://scikit-learn.org/stable/modules/linear_model.html#logistic-regression\n",
            "  extra_warning_msg=_LOGISTIC_SOLVER_CONVERGENCE_MSG)\n"
          ],
          "name": "stderr"
        },
        {
          "output_type": "stream",
          "text": [
            "[CV]  C=200, max_iter=100, score=(train=0.994, test=0.597), total=   0.4s\n",
            "[CV] C=200, max_iter=100 .............................................\n"
          ],
          "name": "stdout"
        },
        {
          "output_type": "stream",
          "text": [
            "/usr/local/lib/python3.6/dist-packages/sklearn/linear_model/_logistic.py:940: ConvergenceWarning: lbfgs failed to converge (status=1):\n",
            "STOP: TOTAL NO. of ITERATIONS REACHED LIMIT.\n",
            "\n",
            "Increase the number of iterations (max_iter) or scale the data as shown in:\n",
            "    https://scikit-learn.org/stable/modules/preprocessing.html\n",
            "Please also refer to the documentation for alternative solver options:\n",
            "    https://scikit-learn.org/stable/modules/linear_model.html#logistic-regression\n",
            "  extra_warning_msg=_LOGISTIC_SOLVER_CONVERGENCE_MSG)\n"
          ],
          "name": "stderr"
        },
        {
          "output_type": "stream",
          "text": [
            "[CV]  C=200, max_iter=100, score=(train=0.999, test=0.597), total=   0.4s\n",
            "[CV] C=200, max_iter=150 .............................................\n"
          ],
          "name": "stdout"
        },
        {
          "output_type": "stream",
          "text": [
            "/usr/local/lib/python3.6/dist-packages/sklearn/linear_model/_logistic.py:940: ConvergenceWarning: lbfgs failed to converge (status=1):\n",
            "STOP: TOTAL NO. of ITERATIONS REACHED LIMIT.\n",
            "\n",
            "Increase the number of iterations (max_iter) or scale the data as shown in:\n",
            "    https://scikit-learn.org/stable/modules/preprocessing.html\n",
            "Please also refer to the documentation for alternative solver options:\n",
            "    https://scikit-learn.org/stable/modules/linear_model.html#logistic-regression\n",
            "  extra_warning_msg=_LOGISTIC_SOLVER_CONVERGENCE_MSG)\n"
          ],
          "name": "stderr"
        },
        {
          "output_type": "stream",
          "text": [
            "[CV]  C=200, max_iter=150, score=(train=0.994, test=0.584), total=   0.6s\n",
            "[CV] C=200, max_iter=150 .............................................\n"
          ],
          "name": "stdout"
        },
        {
          "output_type": "stream",
          "text": [
            "/usr/local/lib/python3.6/dist-packages/sklearn/linear_model/_logistic.py:940: ConvergenceWarning: lbfgs failed to converge (status=1):\n",
            "STOP: TOTAL NO. of ITERATIONS REACHED LIMIT.\n",
            "\n",
            "Increase the number of iterations (max_iter) or scale the data as shown in:\n",
            "    https://scikit-learn.org/stable/modules/preprocessing.html\n",
            "Please also refer to the documentation for alternative solver options:\n",
            "    https://scikit-learn.org/stable/modules/linear_model.html#logistic-regression\n",
            "  extra_warning_msg=_LOGISTIC_SOLVER_CONVERGENCE_MSG)\n"
          ],
          "name": "stderr"
        },
        {
          "output_type": "stream",
          "text": [
            "[CV]  C=200, max_iter=150, score=(train=0.999, test=0.593), total=   0.6s\n",
            "[CV] C=200, max_iter=200 .............................................\n"
          ],
          "name": "stdout"
        },
        {
          "output_type": "stream",
          "text": [
            "/usr/local/lib/python3.6/dist-packages/sklearn/linear_model/_logistic.py:940: ConvergenceWarning: lbfgs failed to converge (status=1):\n",
            "STOP: TOTAL NO. of ITERATIONS REACHED LIMIT.\n",
            "\n",
            "Increase the number of iterations (max_iter) or scale the data as shown in:\n",
            "    https://scikit-learn.org/stable/modules/preprocessing.html\n",
            "Please also refer to the documentation for alternative solver options:\n",
            "    https://scikit-learn.org/stable/modules/linear_model.html#logistic-regression\n",
            "  extra_warning_msg=_LOGISTIC_SOLVER_CONVERGENCE_MSG)\n"
          ],
          "name": "stderr"
        },
        {
          "output_type": "stream",
          "text": [
            "[CV]  C=200, max_iter=200, score=(train=0.994, test=0.580), total=   0.8s\n",
            "[CV] C=200, max_iter=200 .............................................\n"
          ],
          "name": "stdout"
        },
        {
          "output_type": "stream",
          "text": [
            "/usr/local/lib/python3.6/dist-packages/sklearn/linear_model/_logistic.py:940: ConvergenceWarning: lbfgs failed to converge (status=1):\n",
            "STOP: TOTAL NO. of ITERATIONS REACHED LIMIT.\n",
            "\n",
            "Increase the number of iterations (max_iter) or scale the data as shown in:\n",
            "    https://scikit-learn.org/stable/modules/preprocessing.html\n",
            "Please also refer to the documentation for alternative solver options:\n",
            "    https://scikit-learn.org/stable/modules/linear_model.html#logistic-regression\n",
            "  extra_warning_msg=_LOGISTIC_SOLVER_CONVERGENCE_MSG)\n"
          ],
          "name": "stderr"
        },
        {
          "output_type": "stream",
          "text": [
            "[CV]  C=200, max_iter=200, score=(train=0.999, test=0.594), total=   0.8s\n",
            "[CV] C=200, max_iter=250 .............................................\n"
          ],
          "name": "stdout"
        },
        {
          "output_type": "stream",
          "text": [
            "/usr/local/lib/python3.6/dist-packages/sklearn/linear_model/_logistic.py:940: ConvergenceWarning: lbfgs failed to converge (status=1):\n",
            "STOP: TOTAL NO. of ITERATIONS REACHED LIMIT.\n",
            "\n",
            "Increase the number of iterations (max_iter) or scale the data as shown in:\n",
            "    https://scikit-learn.org/stable/modules/preprocessing.html\n",
            "Please also refer to the documentation for alternative solver options:\n",
            "    https://scikit-learn.org/stable/modules/linear_model.html#logistic-regression\n",
            "  extra_warning_msg=_LOGISTIC_SOLVER_CONVERGENCE_MSG)\n"
          ],
          "name": "stderr"
        },
        {
          "output_type": "stream",
          "text": [
            "[CV]  C=200, max_iter=250, score=(train=0.994, test=0.579), total=   1.0s\n",
            "[CV] C=200, max_iter=250 .............................................\n"
          ],
          "name": "stdout"
        },
        {
          "output_type": "stream",
          "text": [
            "/usr/local/lib/python3.6/dist-packages/sklearn/linear_model/_logistic.py:940: ConvergenceWarning: lbfgs failed to converge (status=1):\n",
            "STOP: TOTAL NO. of ITERATIONS REACHED LIMIT.\n",
            "\n",
            "Increase the number of iterations (max_iter) or scale the data as shown in:\n",
            "    https://scikit-learn.org/stable/modules/preprocessing.html\n",
            "Please also refer to the documentation for alternative solver options:\n",
            "    https://scikit-learn.org/stable/modules/linear_model.html#logistic-regression\n",
            "  extra_warning_msg=_LOGISTIC_SOLVER_CONVERGENCE_MSG)\n"
          ],
          "name": "stderr"
        },
        {
          "output_type": "stream",
          "text": [
            "[CV]  C=200, max_iter=250, score=(train=0.999, test=0.594), total=   1.0s\n",
            "[CV] C=200, max_iter=300 .............................................\n"
          ],
          "name": "stdout"
        },
        {
          "output_type": "stream",
          "text": [
            "/usr/local/lib/python3.6/dist-packages/sklearn/linear_model/_logistic.py:940: ConvergenceWarning: lbfgs failed to converge (status=1):\n",
            "STOP: TOTAL NO. of ITERATIONS REACHED LIMIT.\n",
            "\n",
            "Increase the number of iterations (max_iter) or scale the data as shown in:\n",
            "    https://scikit-learn.org/stable/modules/preprocessing.html\n",
            "Please also refer to the documentation for alternative solver options:\n",
            "    https://scikit-learn.org/stable/modules/linear_model.html#logistic-regression\n",
            "  extra_warning_msg=_LOGISTIC_SOLVER_CONVERGENCE_MSG)\n"
          ],
          "name": "stderr"
        },
        {
          "output_type": "stream",
          "text": [
            "[CV]  C=200, max_iter=300, score=(train=0.994, test=0.578), total=   1.2s\n",
            "[CV] C=200, max_iter=300 .............................................\n",
            "[CV]  C=200, max_iter=300, score=(train=0.999, test=0.594), total=   1.1s\n",
            "[CV] C=200, max_iter=350 .............................................\n"
          ],
          "name": "stdout"
        },
        {
          "output_type": "stream",
          "text": [
            "/usr/local/lib/python3.6/dist-packages/sklearn/linear_model/_logistic.py:940: ConvergenceWarning: lbfgs failed to converge (status=1):\n",
            "STOP: TOTAL NO. of ITERATIONS REACHED LIMIT.\n",
            "\n",
            "Increase the number of iterations (max_iter) or scale the data as shown in:\n",
            "    https://scikit-learn.org/stable/modules/preprocessing.html\n",
            "Please also refer to the documentation for alternative solver options:\n",
            "    https://scikit-learn.org/stable/modules/linear_model.html#logistic-regression\n",
            "  extra_warning_msg=_LOGISTIC_SOLVER_CONVERGENCE_MSG)\n"
          ],
          "name": "stderr"
        },
        {
          "output_type": "stream",
          "text": [
            "[CV]  C=200, max_iter=350, score=(train=0.994, test=0.578), total=   1.3s\n",
            "[CV] C=200, max_iter=350 .............................................\n",
            "[CV]  C=200, max_iter=350, score=(train=0.999, test=0.594), total=   1.1s\n",
            "[CV] C=200, max_iter=400 .............................................\n",
            "[CV]  C=200, max_iter=400, score=(train=0.994, test=0.578), total=   1.5s\n",
            "[CV] C=200, max_iter=400 .............................................\n",
            "[CV]  C=200, max_iter=400, score=(train=0.999, test=0.594), total=   1.1s\n",
            "[CV] C=250, max_iter=50 ..............................................\n"
          ],
          "name": "stdout"
        },
        {
          "output_type": "stream",
          "text": [
            "/usr/local/lib/python3.6/dist-packages/sklearn/linear_model/_logistic.py:940: ConvergenceWarning: lbfgs failed to converge (status=1):\n",
            "STOP: TOTAL NO. of ITERATIONS REACHED LIMIT.\n",
            "\n",
            "Increase the number of iterations (max_iter) or scale the data as shown in:\n",
            "    https://scikit-learn.org/stable/modules/preprocessing.html\n",
            "Please also refer to the documentation for alternative solver options:\n",
            "    https://scikit-learn.org/stable/modules/linear_model.html#logistic-regression\n",
            "  extra_warning_msg=_LOGISTIC_SOLVER_CONVERGENCE_MSG)\n"
          ],
          "name": "stderr"
        },
        {
          "output_type": "stream",
          "text": [
            "[CV]  C=250, max_iter=50, score=(train=0.993, test=0.621), total=   0.2s\n",
            "[CV] C=250, max_iter=50 ..............................................\n"
          ],
          "name": "stdout"
        },
        {
          "output_type": "stream",
          "text": [
            "/usr/local/lib/python3.6/dist-packages/sklearn/linear_model/_logistic.py:940: ConvergenceWarning: lbfgs failed to converge (status=1):\n",
            "STOP: TOTAL NO. of ITERATIONS REACHED LIMIT.\n",
            "\n",
            "Increase the number of iterations (max_iter) or scale the data as shown in:\n",
            "    https://scikit-learn.org/stable/modules/preprocessing.html\n",
            "Please also refer to the documentation for alternative solver options:\n",
            "    https://scikit-learn.org/stable/modules/linear_model.html#logistic-regression\n",
            "  extra_warning_msg=_LOGISTIC_SOLVER_CONVERGENCE_MSG)\n"
          ],
          "name": "stderr"
        },
        {
          "output_type": "stream",
          "text": [
            "[CV]  C=250, max_iter=50, score=(train=0.998, test=0.620), total=   0.2s\n",
            "[CV] C=250, max_iter=100 .............................................\n"
          ],
          "name": "stdout"
        },
        {
          "output_type": "stream",
          "text": [
            "/usr/local/lib/python3.6/dist-packages/sklearn/linear_model/_logistic.py:940: ConvergenceWarning: lbfgs failed to converge (status=1):\n",
            "STOP: TOTAL NO. of ITERATIONS REACHED LIMIT.\n",
            "\n",
            "Increase the number of iterations (max_iter) or scale the data as shown in:\n",
            "    https://scikit-learn.org/stable/modules/preprocessing.html\n",
            "Please also refer to the documentation for alternative solver options:\n",
            "    https://scikit-learn.org/stable/modules/linear_model.html#logistic-regression\n",
            "  extra_warning_msg=_LOGISTIC_SOLVER_CONVERGENCE_MSG)\n"
          ],
          "name": "stderr"
        },
        {
          "output_type": "stream",
          "text": [
            "[CV]  C=250, max_iter=100, score=(train=0.994, test=0.589), total=   0.4s\n",
            "[CV] C=250, max_iter=100 .............................................\n"
          ],
          "name": "stdout"
        },
        {
          "output_type": "stream",
          "text": [
            "/usr/local/lib/python3.6/dist-packages/sklearn/linear_model/_logistic.py:940: ConvergenceWarning: lbfgs failed to converge (status=1):\n",
            "STOP: TOTAL NO. of ITERATIONS REACHED LIMIT.\n",
            "\n",
            "Increase the number of iterations (max_iter) or scale the data as shown in:\n",
            "    https://scikit-learn.org/stable/modules/preprocessing.html\n",
            "Please also refer to the documentation for alternative solver options:\n",
            "    https://scikit-learn.org/stable/modules/linear_model.html#logistic-regression\n",
            "  extra_warning_msg=_LOGISTIC_SOLVER_CONVERGENCE_MSG)\n"
          ],
          "name": "stderr"
        },
        {
          "output_type": "stream",
          "text": [
            "[CV]  C=250, max_iter=100, score=(train=0.999, test=0.598), total=   0.4s\n",
            "[CV] C=250, max_iter=150 .............................................\n"
          ],
          "name": "stdout"
        },
        {
          "output_type": "stream",
          "text": [
            "/usr/local/lib/python3.6/dist-packages/sklearn/linear_model/_logistic.py:940: ConvergenceWarning: lbfgs failed to converge (status=1):\n",
            "STOP: TOTAL NO. of ITERATIONS REACHED LIMIT.\n",
            "\n",
            "Increase the number of iterations (max_iter) or scale the data as shown in:\n",
            "    https://scikit-learn.org/stable/modules/preprocessing.html\n",
            "Please also refer to the documentation for alternative solver options:\n",
            "    https://scikit-learn.org/stable/modules/linear_model.html#logistic-regression\n",
            "  extra_warning_msg=_LOGISTIC_SOLVER_CONVERGENCE_MSG)\n"
          ],
          "name": "stderr"
        },
        {
          "output_type": "stream",
          "text": [
            "[CV]  C=250, max_iter=150, score=(train=0.994, test=0.576), total=   0.6s\n",
            "[CV] C=250, max_iter=150 .............................................\n"
          ],
          "name": "stdout"
        },
        {
          "output_type": "stream",
          "text": [
            "/usr/local/lib/python3.6/dist-packages/sklearn/linear_model/_logistic.py:940: ConvergenceWarning: lbfgs failed to converge (status=1):\n",
            "STOP: TOTAL NO. of ITERATIONS REACHED LIMIT.\n",
            "\n",
            "Increase the number of iterations (max_iter) or scale the data as shown in:\n",
            "    https://scikit-learn.org/stable/modules/preprocessing.html\n",
            "Please also refer to the documentation for alternative solver options:\n",
            "    https://scikit-learn.org/stable/modules/linear_model.html#logistic-regression\n",
            "  extra_warning_msg=_LOGISTIC_SOLVER_CONVERGENCE_MSG)\n"
          ],
          "name": "stderr"
        },
        {
          "output_type": "stream",
          "text": [
            "[CV]  C=250, max_iter=150, score=(train=0.999, test=0.591), total=   0.6s\n",
            "[CV] C=250, max_iter=200 .............................................\n"
          ],
          "name": "stdout"
        },
        {
          "output_type": "stream",
          "text": [
            "/usr/local/lib/python3.6/dist-packages/sklearn/linear_model/_logistic.py:940: ConvergenceWarning: lbfgs failed to converge (status=1):\n",
            "STOP: TOTAL NO. of ITERATIONS REACHED LIMIT.\n",
            "\n",
            "Increase the number of iterations (max_iter) or scale the data as shown in:\n",
            "    https://scikit-learn.org/stable/modules/preprocessing.html\n",
            "Please also refer to the documentation for alternative solver options:\n",
            "    https://scikit-learn.org/stable/modules/linear_model.html#logistic-regression\n",
            "  extra_warning_msg=_LOGISTIC_SOLVER_CONVERGENCE_MSG)\n"
          ],
          "name": "stderr"
        },
        {
          "output_type": "stream",
          "text": [
            "[CV]  C=250, max_iter=200, score=(train=0.994, test=0.571), total=   0.8s\n",
            "[CV] C=250, max_iter=200 .............................................\n"
          ],
          "name": "stdout"
        },
        {
          "output_type": "stream",
          "text": [
            "/usr/local/lib/python3.6/dist-packages/sklearn/linear_model/_logistic.py:940: ConvergenceWarning: lbfgs failed to converge (status=1):\n",
            "STOP: TOTAL NO. of ITERATIONS REACHED LIMIT.\n",
            "\n",
            "Increase the number of iterations (max_iter) or scale the data as shown in:\n",
            "    https://scikit-learn.org/stable/modules/preprocessing.html\n",
            "Please also refer to the documentation for alternative solver options:\n",
            "    https://scikit-learn.org/stable/modules/linear_model.html#logistic-regression\n",
            "  extra_warning_msg=_LOGISTIC_SOLVER_CONVERGENCE_MSG)\n"
          ],
          "name": "stderr"
        },
        {
          "output_type": "stream",
          "text": [
            "[CV]  C=250, max_iter=200, score=(train=0.999, test=0.591), total=   0.8s\n",
            "[CV] C=250, max_iter=250 .............................................\n"
          ],
          "name": "stdout"
        },
        {
          "output_type": "stream",
          "text": [
            "/usr/local/lib/python3.6/dist-packages/sklearn/linear_model/_logistic.py:940: ConvergenceWarning: lbfgs failed to converge (status=1):\n",
            "STOP: TOTAL NO. of ITERATIONS REACHED LIMIT.\n",
            "\n",
            "Increase the number of iterations (max_iter) or scale the data as shown in:\n",
            "    https://scikit-learn.org/stable/modules/preprocessing.html\n",
            "Please also refer to the documentation for alternative solver options:\n",
            "    https://scikit-learn.org/stable/modules/linear_model.html#logistic-regression\n",
            "  extra_warning_msg=_LOGISTIC_SOLVER_CONVERGENCE_MSG)\n"
          ],
          "name": "stderr"
        },
        {
          "output_type": "stream",
          "text": [
            "[CV]  C=250, max_iter=250, score=(train=0.994, test=0.572), total=   1.0s\n",
            "[CV] C=250, max_iter=250 .............................................\n"
          ],
          "name": "stdout"
        },
        {
          "output_type": "stream",
          "text": [
            "/usr/local/lib/python3.6/dist-packages/sklearn/linear_model/_logistic.py:940: ConvergenceWarning: lbfgs failed to converge (status=1):\n",
            "STOP: TOTAL NO. of ITERATIONS REACHED LIMIT.\n",
            "\n",
            "Increase the number of iterations (max_iter) or scale the data as shown in:\n",
            "    https://scikit-learn.org/stable/modules/preprocessing.html\n",
            "Please also refer to the documentation for alternative solver options:\n",
            "    https://scikit-learn.org/stable/modules/linear_model.html#logistic-regression\n",
            "  extra_warning_msg=_LOGISTIC_SOLVER_CONVERGENCE_MSG)\n"
          ],
          "name": "stderr"
        },
        {
          "output_type": "stream",
          "text": [
            "[CV]  C=250, max_iter=250, score=(train=0.999, test=0.592), total=   1.0s\n",
            "[CV] C=250, max_iter=300 .............................................\n"
          ],
          "name": "stdout"
        },
        {
          "output_type": "stream",
          "text": [
            "/usr/local/lib/python3.6/dist-packages/sklearn/linear_model/_logistic.py:940: ConvergenceWarning: lbfgs failed to converge (status=1):\n",
            "STOP: TOTAL NO. of ITERATIONS REACHED LIMIT.\n",
            "\n",
            "Increase the number of iterations (max_iter) or scale the data as shown in:\n",
            "    https://scikit-learn.org/stable/modules/preprocessing.html\n",
            "Please also refer to the documentation for alternative solver options:\n",
            "    https://scikit-learn.org/stable/modules/linear_model.html#logistic-regression\n",
            "  extra_warning_msg=_LOGISTIC_SOLVER_CONVERGENCE_MSG)\n"
          ],
          "name": "stderr"
        },
        {
          "output_type": "stream",
          "text": [
            "[CV]  C=250, max_iter=300, score=(train=0.994, test=0.572), total=   1.2s\n",
            "[CV] C=250, max_iter=300 .............................................\n"
          ],
          "name": "stdout"
        },
        {
          "output_type": "stream",
          "text": [
            "/usr/local/lib/python3.6/dist-packages/sklearn/linear_model/_logistic.py:940: ConvergenceWarning: lbfgs failed to converge (status=1):\n",
            "STOP: TOTAL NO. of ITERATIONS REACHED LIMIT.\n",
            "\n",
            "Increase the number of iterations (max_iter) or scale the data as shown in:\n",
            "    https://scikit-learn.org/stable/modules/preprocessing.html\n",
            "Please also refer to the documentation for alternative solver options:\n",
            "    https://scikit-learn.org/stable/modules/linear_model.html#logistic-regression\n",
            "  extra_warning_msg=_LOGISTIC_SOLVER_CONVERGENCE_MSG)\n"
          ],
          "name": "stderr"
        },
        {
          "output_type": "stream",
          "text": [
            "[CV]  C=250, max_iter=300, score=(train=0.999, test=0.592), total=   1.2s\n",
            "[CV] C=250, max_iter=350 .............................................\n"
          ],
          "name": "stdout"
        },
        {
          "output_type": "stream",
          "text": [
            "/usr/local/lib/python3.6/dist-packages/sklearn/linear_model/_logistic.py:940: ConvergenceWarning: lbfgs failed to converge (status=1):\n",
            "STOP: TOTAL NO. of ITERATIONS REACHED LIMIT.\n",
            "\n",
            "Increase the number of iterations (max_iter) or scale the data as shown in:\n",
            "    https://scikit-learn.org/stable/modules/preprocessing.html\n",
            "Please also refer to the documentation for alternative solver options:\n",
            "    https://scikit-learn.org/stable/modules/linear_model.html#logistic-regression\n",
            "  extra_warning_msg=_LOGISTIC_SOLVER_CONVERGENCE_MSG)\n"
          ],
          "name": "stderr"
        },
        {
          "output_type": "stream",
          "text": [
            "[CV]  C=250, max_iter=350, score=(train=0.994, test=0.572), total=   1.3s\n",
            "[CV] C=250, max_iter=350 .............................................\n",
            "[CV]  C=250, max_iter=350, score=(train=0.999, test=0.592), total=   1.2s\n",
            "[CV] C=250, max_iter=400 .............................................\n"
          ],
          "name": "stdout"
        },
        {
          "output_type": "stream",
          "text": [
            "/usr/local/lib/python3.6/dist-packages/sklearn/linear_model/_logistic.py:940: ConvergenceWarning: lbfgs failed to converge (status=1):\n",
            "STOP: TOTAL NO. of ITERATIONS REACHED LIMIT.\n",
            "\n",
            "Increase the number of iterations (max_iter) or scale the data as shown in:\n",
            "    https://scikit-learn.org/stable/modules/preprocessing.html\n",
            "Please also refer to the documentation for alternative solver options:\n",
            "    https://scikit-learn.org/stable/modules/linear_model.html#logistic-regression\n",
            "  extra_warning_msg=_LOGISTIC_SOLVER_CONVERGENCE_MSG)\n"
          ],
          "name": "stderr"
        },
        {
          "output_type": "stream",
          "text": [
            "[CV]  C=250, max_iter=400, score=(train=0.994, test=0.572), total=   1.5s\n",
            "[CV] C=250, max_iter=400 .............................................\n",
            "[CV]  C=250, max_iter=400, score=(train=0.999, test=0.592), total=   1.2s\n",
            "[CV] C=300, max_iter=50 ..............................................\n"
          ],
          "name": "stdout"
        },
        {
          "output_type": "stream",
          "text": [
            "/usr/local/lib/python3.6/dist-packages/sklearn/linear_model/_logistic.py:940: ConvergenceWarning: lbfgs failed to converge (status=1):\n",
            "STOP: TOTAL NO. of ITERATIONS REACHED LIMIT.\n",
            "\n",
            "Increase the number of iterations (max_iter) or scale the data as shown in:\n",
            "    https://scikit-learn.org/stable/modules/preprocessing.html\n",
            "Please also refer to the documentation for alternative solver options:\n",
            "    https://scikit-learn.org/stable/modules/linear_model.html#logistic-regression\n",
            "  extra_warning_msg=_LOGISTIC_SOLVER_CONVERGENCE_MSG)\n"
          ],
          "name": "stderr"
        },
        {
          "output_type": "stream",
          "text": [
            "[CV]  C=300, max_iter=50, score=(train=0.992, test=0.619), total=   0.2s\n",
            "[CV] C=300, max_iter=50 ..............................................\n"
          ],
          "name": "stdout"
        },
        {
          "output_type": "stream",
          "text": [
            "/usr/local/lib/python3.6/dist-packages/sklearn/linear_model/_logistic.py:940: ConvergenceWarning: lbfgs failed to converge (status=1):\n",
            "STOP: TOTAL NO. of ITERATIONS REACHED LIMIT.\n",
            "\n",
            "Increase the number of iterations (max_iter) or scale the data as shown in:\n",
            "    https://scikit-learn.org/stable/modules/preprocessing.html\n",
            "Please also refer to the documentation for alternative solver options:\n",
            "    https://scikit-learn.org/stable/modules/linear_model.html#logistic-regression\n",
            "  extra_warning_msg=_LOGISTIC_SOLVER_CONVERGENCE_MSG)\n"
          ],
          "name": "stderr"
        },
        {
          "output_type": "stream",
          "text": [
            "[CV]  C=300, max_iter=50, score=(train=0.999, test=0.613), total=   0.2s\n",
            "[CV] C=300, max_iter=100 .............................................\n"
          ],
          "name": "stdout"
        },
        {
          "output_type": "stream",
          "text": [
            "/usr/local/lib/python3.6/dist-packages/sklearn/linear_model/_logistic.py:940: ConvergenceWarning: lbfgs failed to converge (status=1):\n",
            "STOP: TOTAL NO. of ITERATIONS REACHED LIMIT.\n",
            "\n",
            "Increase the number of iterations (max_iter) or scale the data as shown in:\n",
            "    https://scikit-learn.org/stable/modules/preprocessing.html\n",
            "Please also refer to the documentation for alternative solver options:\n",
            "    https://scikit-learn.org/stable/modules/linear_model.html#logistic-regression\n",
            "  extra_warning_msg=_LOGISTIC_SOLVER_CONVERGENCE_MSG)\n"
          ],
          "name": "stderr"
        },
        {
          "output_type": "stream",
          "text": [
            "[CV]  C=300, max_iter=100, score=(train=0.995, test=0.591), total=   0.4s\n",
            "[CV] C=300, max_iter=100 .............................................\n"
          ],
          "name": "stdout"
        },
        {
          "output_type": "stream",
          "text": [
            "/usr/local/lib/python3.6/dist-packages/sklearn/linear_model/_logistic.py:940: ConvergenceWarning: lbfgs failed to converge (status=1):\n",
            "STOP: TOTAL NO. of ITERATIONS REACHED LIMIT.\n",
            "\n",
            "Increase the number of iterations (max_iter) or scale the data as shown in:\n",
            "    https://scikit-learn.org/stable/modules/preprocessing.html\n",
            "Please also refer to the documentation for alternative solver options:\n",
            "    https://scikit-learn.org/stable/modules/linear_model.html#logistic-regression\n",
            "  extra_warning_msg=_LOGISTIC_SOLVER_CONVERGENCE_MSG)\n"
          ],
          "name": "stderr"
        },
        {
          "output_type": "stream",
          "text": [
            "[CV]  C=300, max_iter=100, score=(train=0.999, test=0.596), total=   0.4s\n",
            "[CV] C=300, max_iter=150 .............................................\n"
          ],
          "name": "stdout"
        },
        {
          "output_type": "stream",
          "text": [
            "/usr/local/lib/python3.6/dist-packages/sklearn/linear_model/_logistic.py:940: ConvergenceWarning: lbfgs failed to converge (status=1):\n",
            "STOP: TOTAL NO. of ITERATIONS REACHED LIMIT.\n",
            "\n",
            "Increase the number of iterations (max_iter) or scale the data as shown in:\n",
            "    https://scikit-learn.org/stable/modules/preprocessing.html\n",
            "Please also refer to the documentation for alternative solver options:\n",
            "    https://scikit-learn.org/stable/modules/linear_model.html#logistic-regression\n",
            "  extra_warning_msg=_LOGISTIC_SOLVER_CONVERGENCE_MSG)\n"
          ],
          "name": "stderr"
        },
        {
          "output_type": "stream",
          "text": [
            "[CV]  C=300, max_iter=150, score=(train=0.996, test=0.574), total=   0.6s\n",
            "[CV] C=300, max_iter=150 .............................................\n"
          ],
          "name": "stdout"
        },
        {
          "output_type": "stream",
          "text": [
            "/usr/local/lib/python3.6/dist-packages/sklearn/linear_model/_logistic.py:940: ConvergenceWarning: lbfgs failed to converge (status=1):\n",
            "STOP: TOTAL NO. of ITERATIONS REACHED LIMIT.\n",
            "\n",
            "Increase the number of iterations (max_iter) or scale the data as shown in:\n",
            "    https://scikit-learn.org/stable/modules/preprocessing.html\n",
            "Please also refer to the documentation for alternative solver options:\n",
            "    https://scikit-learn.org/stable/modules/linear_model.html#logistic-regression\n",
            "  extra_warning_msg=_LOGISTIC_SOLVER_CONVERGENCE_MSG)\n"
          ],
          "name": "stderr"
        },
        {
          "output_type": "stream",
          "text": [
            "[CV]  C=300, max_iter=150, score=(train=0.999, test=0.592), total=   0.6s\n",
            "[CV] C=300, max_iter=200 .............................................\n"
          ],
          "name": "stdout"
        },
        {
          "output_type": "stream",
          "text": [
            "/usr/local/lib/python3.6/dist-packages/sklearn/linear_model/_logistic.py:940: ConvergenceWarning: lbfgs failed to converge (status=1):\n",
            "STOP: TOTAL NO. of ITERATIONS REACHED LIMIT.\n",
            "\n",
            "Increase the number of iterations (max_iter) or scale the data as shown in:\n",
            "    https://scikit-learn.org/stable/modules/preprocessing.html\n",
            "Please also refer to the documentation for alternative solver options:\n",
            "    https://scikit-learn.org/stable/modules/linear_model.html#logistic-regression\n",
            "  extra_warning_msg=_LOGISTIC_SOLVER_CONVERGENCE_MSG)\n"
          ],
          "name": "stderr"
        },
        {
          "output_type": "stream",
          "text": [
            "[CV]  C=300, max_iter=200, score=(train=0.997, test=0.569), total=   0.8s\n",
            "[CV] C=300, max_iter=200 .............................................\n"
          ],
          "name": "stdout"
        },
        {
          "output_type": "stream",
          "text": [
            "/usr/local/lib/python3.6/dist-packages/sklearn/linear_model/_logistic.py:940: ConvergenceWarning: lbfgs failed to converge (status=1):\n",
            "STOP: TOTAL NO. of ITERATIONS REACHED LIMIT.\n",
            "\n",
            "Increase the number of iterations (max_iter) or scale the data as shown in:\n",
            "    https://scikit-learn.org/stable/modules/preprocessing.html\n",
            "Please also refer to the documentation for alternative solver options:\n",
            "    https://scikit-learn.org/stable/modules/linear_model.html#logistic-regression\n",
            "  extra_warning_msg=_LOGISTIC_SOLVER_CONVERGENCE_MSG)\n"
          ],
          "name": "stderr"
        },
        {
          "output_type": "stream",
          "text": [
            "[CV]  C=300, max_iter=200, score=(train=0.999, test=0.592), total=   0.8s\n",
            "[CV] C=300, max_iter=250 .............................................\n"
          ],
          "name": "stdout"
        },
        {
          "output_type": "stream",
          "text": [
            "/usr/local/lib/python3.6/dist-packages/sklearn/linear_model/_logistic.py:940: ConvergenceWarning: lbfgs failed to converge (status=1):\n",
            "STOP: TOTAL NO. of ITERATIONS REACHED LIMIT.\n",
            "\n",
            "Increase the number of iterations (max_iter) or scale the data as shown in:\n",
            "    https://scikit-learn.org/stable/modules/preprocessing.html\n",
            "Please also refer to the documentation for alternative solver options:\n",
            "    https://scikit-learn.org/stable/modules/linear_model.html#logistic-regression\n",
            "  extra_warning_msg=_LOGISTIC_SOLVER_CONVERGENCE_MSG)\n"
          ],
          "name": "stderr"
        },
        {
          "output_type": "stream",
          "text": [
            "[CV]  C=300, max_iter=250, score=(train=0.997, test=0.570), total=   1.0s\n",
            "[CV] C=300, max_iter=250 .............................................\n"
          ],
          "name": "stdout"
        },
        {
          "output_type": "stream",
          "text": [
            "/usr/local/lib/python3.6/dist-packages/sklearn/linear_model/_logistic.py:940: ConvergenceWarning: lbfgs failed to converge (status=1):\n",
            "STOP: TOTAL NO. of ITERATIONS REACHED LIMIT.\n",
            "\n",
            "Increase the number of iterations (max_iter) or scale the data as shown in:\n",
            "    https://scikit-learn.org/stable/modules/preprocessing.html\n",
            "Please also refer to the documentation for alternative solver options:\n",
            "    https://scikit-learn.org/stable/modules/linear_model.html#logistic-regression\n",
            "  extra_warning_msg=_LOGISTIC_SOLVER_CONVERGENCE_MSG)\n"
          ],
          "name": "stderr"
        },
        {
          "output_type": "stream",
          "text": [
            "[CV]  C=300, max_iter=250, score=(train=0.999, test=0.591), total=   1.0s\n",
            "[CV] C=300, max_iter=300 .............................................\n"
          ],
          "name": "stdout"
        },
        {
          "output_type": "stream",
          "text": [
            "/usr/local/lib/python3.6/dist-packages/sklearn/linear_model/_logistic.py:940: ConvergenceWarning: lbfgs failed to converge (status=1):\n",
            "STOP: TOTAL NO. of ITERATIONS REACHED LIMIT.\n",
            "\n",
            "Increase the number of iterations (max_iter) or scale the data as shown in:\n",
            "    https://scikit-learn.org/stable/modules/preprocessing.html\n",
            "Please also refer to the documentation for alternative solver options:\n",
            "    https://scikit-learn.org/stable/modules/linear_model.html#logistic-regression\n",
            "  extra_warning_msg=_LOGISTIC_SOLVER_CONVERGENCE_MSG)\n"
          ],
          "name": "stderr"
        },
        {
          "output_type": "stream",
          "text": [
            "[CV]  C=300, max_iter=300, score=(train=0.997, test=0.569), total=   1.2s\n",
            "[CV] C=300, max_iter=300 .............................................\n"
          ],
          "name": "stdout"
        },
        {
          "output_type": "stream",
          "text": [
            "/usr/local/lib/python3.6/dist-packages/sklearn/linear_model/_logistic.py:940: ConvergenceWarning: lbfgs failed to converge (status=1):\n",
            "STOP: TOTAL NO. of ITERATIONS REACHED LIMIT.\n",
            "\n",
            "Increase the number of iterations (max_iter) or scale the data as shown in:\n",
            "    https://scikit-learn.org/stable/modules/preprocessing.html\n",
            "Please also refer to the documentation for alternative solver options:\n",
            "    https://scikit-learn.org/stable/modules/linear_model.html#logistic-regression\n",
            "  extra_warning_msg=_LOGISTIC_SOLVER_CONVERGENCE_MSG)\n"
          ],
          "name": "stderr"
        },
        {
          "output_type": "stream",
          "text": [
            "[CV]  C=300, max_iter=300, score=(train=0.999, test=0.591), total=   1.2s\n",
            "[CV] C=300, max_iter=350 .............................................\n"
          ],
          "name": "stdout"
        },
        {
          "output_type": "stream",
          "text": [
            "/usr/local/lib/python3.6/dist-packages/sklearn/linear_model/_logistic.py:940: ConvergenceWarning: lbfgs failed to converge (status=1):\n",
            "STOP: TOTAL NO. of ITERATIONS REACHED LIMIT.\n",
            "\n",
            "Increase the number of iterations (max_iter) or scale the data as shown in:\n",
            "    https://scikit-learn.org/stable/modules/preprocessing.html\n",
            "Please also refer to the documentation for alternative solver options:\n",
            "    https://scikit-learn.org/stable/modules/linear_model.html#logistic-regression\n",
            "  extra_warning_msg=_LOGISTIC_SOLVER_CONVERGENCE_MSG)\n"
          ],
          "name": "stderr"
        },
        {
          "output_type": "stream",
          "text": [
            "[CV]  C=300, max_iter=350, score=(train=0.997, test=0.569), total=   1.4s\n",
            "[CV] C=300, max_iter=350 .............................................\n",
            "[CV]  C=300, max_iter=350, score=(train=0.999, test=0.591), total=   1.3s\n",
            "[CV] C=300, max_iter=400 .............................................\n"
          ],
          "name": "stdout"
        },
        {
          "output_type": "stream",
          "text": [
            "/usr/local/lib/python3.6/dist-packages/sklearn/linear_model/_logistic.py:940: ConvergenceWarning: lbfgs failed to converge (status=1):\n",
            "STOP: TOTAL NO. of ITERATIONS REACHED LIMIT.\n",
            "\n",
            "Increase the number of iterations (max_iter) or scale the data as shown in:\n",
            "    https://scikit-learn.org/stable/modules/preprocessing.html\n",
            "Please also refer to the documentation for alternative solver options:\n",
            "    https://scikit-learn.org/stable/modules/linear_model.html#logistic-regression\n",
            "  extra_warning_msg=_LOGISTIC_SOLVER_CONVERGENCE_MSG)\n"
          ],
          "name": "stderr"
        },
        {
          "output_type": "stream",
          "text": [
            "[CV]  C=300, max_iter=400, score=(train=0.997, test=0.569), total=   1.5s\n",
            "[CV] C=300, max_iter=400 .............................................\n",
            "[CV]  C=300, max_iter=400, score=(train=0.999, test=0.591), total=   1.3s\n",
            "[CV] C=350, max_iter=50 ..............................................\n"
          ],
          "name": "stdout"
        },
        {
          "output_type": "stream",
          "text": [
            "/usr/local/lib/python3.6/dist-packages/sklearn/linear_model/_logistic.py:940: ConvergenceWarning: lbfgs failed to converge (status=1):\n",
            "STOP: TOTAL NO. of ITERATIONS REACHED LIMIT.\n",
            "\n",
            "Increase the number of iterations (max_iter) or scale the data as shown in:\n",
            "    https://scikit-learn.org/stable/modules/preprocessing.html\n",
            "Please also refer to the documentation for alternative solver options:\n",
            "    https://scikit-learn.org/stable/modules/linear_model.html#logistic-regression\n",
            "  extra_warning_msg=_LOGISTIC_SOLVER_CONVERGENCE_MSG)\n"
          ],
          "name": "stderr"
        },
        {
          "output_type": "stream",
          "text": [
            "[CV]  C=350, max_iter=50, score=(train=0.993, test=0.611), total=   0.2s\n",
            "[CV] C=350, max_iter=50 ..............................................\n"
          ],
          "name": "stdout"
        },
        {
          "output_type": "stream",
          "text": [
            "/usr/local/lib/python3.6/dist-packages/sklearn/linear_model/_logistic.py:940: ConvergenceWarning: lbfgs failed to converge (status=1):\n",
            "STOP: TOTAL NO. of ITERATIONS REACHED LIMIT.\n",
            "\n",
            "Increase the number of iterations (max_iter) or scale the data as shown in:\n",
            "    https://scikit-learn.org/stable/modules/preprocessing.html\n",
            "Please also refer to the documentation for alternative solver options:\n",
            "    https://scikit-learn.org/stable/modules/linear_model.html#logistic-regression\n",
            "  extra_warning_msg=_LOGISTIC_SOLVER_CONVERGENCE_MSG)\n"
          ],
          "name": "stderr"
        },
        {
          "output_type": "stream",
          "text": [
            "[CV]  C=350, max_iter=50, score=(train=0.999, test=0.608), total=   0.2s\n",
            "[CV] C=350, max_iter=100 .............................................\n"
          ],
          "name": "stdout"
        },
        {
          "output_type": "stream",
          "text": [
            "/usr/local/lib/python3.6/dist-packages/sklearn/linear_model/_logistic.py:940: ConvergenceWarning: lbfgs failed to converge (status=1):\n",
            "STOP: TOTAL NO. of ITERATIONS REACHED LIMIT.\n",
            "\n",
            "Increase the number of iterations (max_iter) or scale the data as shown in:\n",
            "    https://scikit-learn.org/stable/modules/preprocessing.html\n",
            "Please also refer to the documentation for alternative solver options:\n",
            "    https://scikit-learn.org/stable/modules/linear_model.html#logistic-regression\n",
            "  extra_warning_msg=_LOGISTIC_SOLVER_CONVERGENCE_MSG)\n"
          ],
          "name": "stderr"
        },
        {
          "output_type": "stream",
          "text": [
            "[CV]  C=350, max_iter=100, score=(train=0.996, test=0.589), total=   0.4s\n",
            "[CV] C=350, max_iter=100 .............................................\n"
          ],
          "name": "stdout"
        },
        {
          "output_type": "stream",
          "text": [
            "/usr/local/lib/python3.6/dist-packages/sklearn/linear_model/_logistic.py:940: ConvergenceWarning: lbfgs failed to converge (status=1):\n",
            "STOP: TOTAL NO. of ITERATIONS REACHED LIMIT.\n",
            "\n",
            "Increase the number of iterations (max_iter) or scale the data as shown in:\n",
            "    https://scikit-learn.org/stable/modules/preprocessing.html\n",
            "Please also refer to the documentation for alternative solver options:\n",
            "    https://scikit-learn.org/stable/modules/linear_model.html#logistic-regression\n",
            "  extra_warning_msg=_LOGISTIC_SOLVER_CONVERGENCE_MSG)\n"
          ],
          "name": "stderr"
        },
        {
          "output_type": "stream",
          "text": [
            "[CV]  C=350, max_iter=100, score=(train=0.999, test=0.595), total=   0.4s\n",
            "[CV] C=350, max_iter=150 .............................................\n"
          ],
          "name": "stdout"
        },
        {
          "output_type": "stream",
          "text": [
            "/usr/local/lib/python3.6/dist-packages/sklearn/linear_model/_logistic.py:940: ConvergenceWarning: lbfgs failed to converge (status=1):\n",
            "STOP: TOTAL NO. of ITERATIONS REACHED LIMIT.\n",
            "\n",
            "Increase the number of iterations (max_iter) or scale the data as shown in:\n",
            "    https://scikit-learn.org/stable/modules/preprocessing.html\n",
            "Please also refer to the documentation for alternative solver options:\n",
            "    https://scikit-learn.org/stable/modules/linear_model.html#logistic-regression\n",
            "  extra_warning_msg=_LOGISTIC_SOLVER_CONVERGENCE_MSG)\n"
          ],
          "name": "stderr"
        },
        {
          "output_type": "stream",
          "text": [
            "[CV]  C=350, max_iter=150, score=(train=0.997, test=0.574), total=   0.6s\n",
            "[CV] C=350, max_iter=150 .............................................\n"
          ],
          "name": "stdout"
        },
        {
          "output_type": "stream",
          "text": [
            "/usr/local/lib/python3.6/dist-packages/sklearn/linear_model/_logistic.py:940: ConvergenceWarning: lbfgs failed to converge (status=1):\n",
            "STOP: TOTAL NO. of ITERATIONS REACHED LIMIT.\n",
            "\n",
            "Increase the number of iterations (max_iter) or scale the data as shown in:\n",
            "    https://scikit-learn.org/stable/modules/preprocessing.html\n",
            "Please also refer to the documentation for alternative solver options:\n",
            "    https://scikit-learn.org/stable/modules/linear_model.html#logistic-regression\n",
            "  extra_warning_msg=_LOGISTIC_SOLVER_CONVERGENCE_MSG)\n"
          ],
          "name": "stderr"
        },
        {
          "output_type": "stream",
          "text": [
            "[CV]  C=350, max_iter=150, score=(train=0.999, test=0.593), total=   0.6s\n",
            "[CV] C=350, max_iter=200 .............................................\n"
          ],
          "name": "stdout"
        },
        {
          "output_type": "stream",
          "text": [
            "/usr/local/lib/python3.6/dist-packages/sklearn/linear_model/_logistic.py:940: ConvergenceWarning: lbfgs failed to converge (status=1):\n",
            "STOP: TOTAL NO. of ITERATIONS REACHED LIMIT.\n",
            "\n",
            "Increase the number of iterations (max_iter) or scale the data as shown in:\n",
            "    https://scikit-learn.org/stable/modules/preprocessing.html\n",
            "Please also refer to the documentation for alternative solver options:\n",
            "    https://scikit-learn.org/stable/modules/linear_model.html#logistic-regression\n",
            "  extra_warning_msg=_LOGISTIC_SOLVER_CONVERGENCE_MSG)\n"
          ],
          "name": "stderr"
        },
        {
          "output_type": "stream",
          "text": [
            "[CV]  C=350, max_iter=200, score=(train=0.997, test=0.567), total=   0.8s\n",
            "[CV] C=350, max_iter=200 .............................................\n"
          ],
          "name": "stdout"
        },
        {
          "output_type": "stream",
          "text": [
            "/usr/local/lib/python3.6/dist-packages/sklearn/linear_model/_logistic.py:940: ConvergenceWarning: lbfgs failed to converge (status=1):\n",
            "STOP: TOTAL NO. of ITERATIONS REACHED LIMIT.\n",
            "\n",
            "Increase the number of iterations (max_iter) or scale the data as shown in:\n",
            "    https://scikit-learn.org/stable/modules/preprocessing.html\n",
            "Please also refer to the documentation for alternative solver options:\n",
            "    https://scikit-learn.org/stable/modules/linear_model.html#logistic-regression\n",
            "  extra_warning_msg=_LOGISTIC_SOLVER_CONVERGENCE_MSG)\n"
          ],
          "name": "stderr"
        },
        {
          "output_type": "stream",
          "text": [
            "[CV]  C=350, max_iter=200, score=(train=0.999, test=0.593), total=   0.8s\n",
            "[CV] C=350, max_iter=250 .............................................\n"
          ],
          "name": "stdout"
        },
        {
          "output_type": "stream",
          "text": [
            "/usr/local/lib/python3.6/dist-packages/sklearn/linear_model/_logistic.py:940: ConvergenceWarning: lbfgs failed to converge (status=1):\n",
            "STOP: TOTAL NO. of ITERATIONS REACHED LIMIT.\n",
            "\n",
            "Increase the number of iterations (max_iter) or scale the data as shown in:\n",
            "    https://scikit-learn.org/stable/modules/preprocessing.html\n",
            "Please also refer to the documentation for alternative solver options:\n",
            "    https://scikit-learn.org/stable/modules/linear_model.html#logistic-regression\n",
            "  extra_warning_msg=_LOGISTIC_SOLVER_CONVERGENCE_MSG)\n"
          ],
          "name": "stderr"
        },
        {
          "output_type": "stream",
          "text": [
            "[CV]  C=350, max_iter=250, score=(train=0.997, test=0.569), total=   1.0s\n",
            "[CV] C=350, max_iter=250 .............................................\n"
          ],
          "name": "stdout"
        },
        {
          "output_type": "stream",
          "text": [
            "/usr/local/lib/python3.6/dist-packages/sklearn/linear_model/_logistic.py:940: ConvergenceWarning: lbfgs failed to converge (status=1):\n",
            "STOP: TOTAL NO. of ITERATIONS REACHED LIMIT.\n",
            "\n",
            "Increase the number of iterations (max_iter) or scale the data as shown in:\n",
            "    https://scikit-learn.org/stable/modules/preprocessing.html\n",
            "Please also refer to the documentation for alternative solver options:\n",
            "    https://scikit-learn.org/stable/modules/linear_model.html#logistic-regression\n",
            "  extra_warning_msg=_LOGISTIC_SOLVER_CONVERGENCE_MSG)\n"
          ],
          "name": "stderr"
        },
        {
          "output_type": "stream",
          "text": [
            "[CV]  C=350, max_iter=250, score=(train=0.999, test=0.591), total=   1.0s\n",
            "[CV] C=350, max_iter=300 .............................................\n"
          ],
          "name": "stdout"
        },
        {
          "output_type": "stream",
          "text": [
            "/usr/local/lib/python3.6/dist-packages/sklearn/linear_model/_logistic.py:940: ConvergenceWarning: lbfgs failed to converge (status=1):\n",
            "STOP: TOTAL NO. of ITERATIONS REACHED LIMIT.\n",
            "\n",
            "Increase the number of iterations (max_iter) or scale the data as shown in:\n",
            "    https://scikit-learn.org/stable/modules/preprocessing.html\n",
            "Please also refer to the documentation for alternative solver options:\n",
            "    https://scikit-learn.org/stable/modules/linear_model.html#logistic-regression\n",
            "  extra_warning_msg=_LOGISTIC_SOLVER_CONVERGENCE_MSG)\n"
          ],
          "name": "stderr"
        },
        {
          "output_type": "stream",
          "text": [
            "[CV]  C=350, max_iter=300, score=(train=0.997, test=0.569), total=   1.2s\n",
            "[CV] C=350, max_iter=300 .............................................\n"
          ],
          "name": "stdout"
        },
        {
          "output_type": "stream",
          "text": [
            "/usr/local/lib/python3.6/dist-packages/sklearn/linear_model/_logistic.py:940: ConvergenceWarning: lbfgs failed to converge (status=1):\n",
            "STOP: TOTAL NO. of ITERATIONS REACHED LIMIT.\n",
            "\n",
            "Increase the number of iterations (max_iter) or scale the data as shown in:\n",
            "    https://scikit-learn.org/stable/modules/preprocessing.html\n",
            "Please also refer to the documentation for alternative solver options:\n",
            "    https://scikit-learn.org/stable/modules/linear_model.html#logistic-regression\n",
            "  extra_warning_msg=_LOGISTIC_SOLVER_CONVERGENCE_MSG)\n"
          ],
          "name": "stderr"
        },
        {
          "output_type": "stream",
          "text": [
            "[CV]  C=350, max_iter=300, score=(train=0.999, test=0.591), total=   1.2s\n",
            "[CV] C=350, max_iter=350 .............................................\n"
          ],
          "name": "stdout"
        },
        {
          "output_type": "stream",
          "text": [
            "/usr/local/lib/python3.6/dist-packages/sklearn/linear_model/_logistic.py:940: ConvergenceWarning: lbfgs failed to converge (status=1):\n",
            "STOP: TOTAL NO. of ITERATIONS REACHED LIMIT.\n",
            "\n",
            "Increase the number of iterations (max_iter) or scale the data as shown in:\n",
            "    https://scikit-learn.org/stable/modules/preprocessing.html\n",
            "Please also refer to the documentation for alternative solver options:\n",
            "    https://scikit-learn.org/stable/modules/linear_model.html#logistic-regression\n",
            "  extra_warning_msg=_LOGISTIC_SOLVER_CONVERGENCE_MSG)\n"
          ],
          "name": "stderr"
        },
        {
          "output_type": "stream",
          "text": [
            "[CV]  C=350, max_iter=350, score=(train=0.997, test=0.569), total=   1.4s\n",
            "[CV] C=350, max_iter=350 .............................................\n",
            "[CV]  C=350, max_iter=350, score=(train=0.999, test=0.591), total=   1.2s\n",
            "[CV] C=350, max_iter=400 .............................................\n"
          ],
          "name": "stdout"
        },
        {
          "output_type": "stream",
          "text": [
            "/usr/local/lib/python3.6/dist-packages/sklearn/linear_model/_logistic.py:940: ConvergenceWarning: lbfgs failed to converge (status=1):\n",
            "STOP: TOTAL NO. of ITERATIONS REACHED LIMIT.\n",
            "\n",
            "Increase the number of iterations (max_iter) or scale the data as shown in:\n",
            "    https://scikit-learn.org/stable/modules/preprocessing.html\n",
            "Please also refer to the documentation for alternative solver options:\n",
            "    https://scikit-learn.org/stable/modules/linear_model.html#logistic-regression\n",
            "  extra_warning_msg=_LOGISTIC_SOLVER_CONVERGENCE_MSG)\n"
          ],
          "name": "stderr"
        },
        {
          "output_type": "stream",
          "text": [
            "[CV]  C=350, max_iter=400, score=(train=0.997, test=0.569), total=   1.6s\n",
            "[CV] C=350, max_iter=400 .............................................\n",
            "[CV]  C=350, max_iter=400, score=(train=0.999, test=0.591), total=   1.2s\n",
            "[CV] C=400, max_iter=50 ..............................................\n"
          ],
          "name": "stdout"
        },
        {
          "output_type": "stream",
          "text": [
            "/usr/local/lib/python3.6/dist-packages/sklearn/linear_model/_logistic.py:940: ConvergenceWarning: lbfgs failed to converge (status=1):\n",
            "STOP: TOTAL NO. of ITERATIONS REACHED LIMIT.\n",
            "\n",
            "Increase the number of iterations (max_iter) or scale the data as shown in:\n",
            "    https://scikit-learn.org/stable/modules/preprocessing.html\n",
            "Please also refer to the documentation for alternative solver options:\n",
            "    https://scikit-learn.org/stable/modules/linear_model.html#logistic-regression\n",
            "  extra_warning_msg=_LOGISTIC_SOLVER_CONVERGENCE_MSG)\n"
          ],
          "name": "stderr"
        },
        {
          "output_type": "stream",
          "text": [
            "[CV]  C=400, max_iter=50, score=(train=0.993, test=0.618), total=   0.2s\n",
            "[CV] C=400, max_iter=50 ..............................................\n"
          ],
          "name": "stdout"
        },
        {
          "output_type": "stream",
          "text": [
            "/usr/local/lib/python3.6/dist-packages/sklearn/linear_model/_logistic.py:940: ConvergenceWarning: lbfgs failed to converge (status=1):\n",
            "STOP: TOTAL NO. of ITERATIONS REACHED LIMIT.\n",
            "\n",
            "Increase the number of iterations (max_iter) or scale the data as shown in:\n",
            "    https://scikit-learn.org/stable/modules/preprocessing.html\n",
            "Please also refer to the documentation for alternative solver options:\n",
            "    https://scikit-learn.org/stable/modules/linear_model.html#logistic-regression\n",
            "  extra_warning_msg=_LOGISTIC_SOLVER_CONVERGENCE_MSG)\n"
          ],
          "name": "stderr"
        },
        {
          "output_type": "stream",
          "text": [
            "[CV]  C=400, max_iter=50, score=(train=0.999, test=0.619), total=   0.2s\n",
            "[CV] C=400, max_iter=100 .............................................\n"
          ],
          "name": "stdout"
        },
        {
          "output_type": "stream",
          "text": [
            "/usr/local/lib/python3.6/dist-packages/sklearn/linear_model/_logistic.py:940: ConvergenceWarning: lbfgs failed to converge (status=1):\n",
            "STOP: TOTAL NO. of ITERATIONS REACHED LIMIT.\n",
            "\n",
            "Increase the number of iterations (max_iter) or scale the data as shown in:\n",
            "    https://scikit-learn.org/stable/modules/preprocessing.html\n",
            "Please also refer to the documentation for alternative solver options:\n",
            "    https://scikit-learn.org/stable/modules/linear_model.html#logistic-regression\n",
            "  extra_warning_msg=_LOGISTIC_SOLVER_CONVERGENCE_MSG)\n"
          ],
          "name": "stderr"
        },
        {
          "output_type": "stream",
          "text": [
            "[CV]  C=400, max_iter=100, score=(train=0.996, test=0.591), total=   0.4s\n",
            "[CV] C=400, max_iter=100 .............................................\n"
          ],
          "name": "stdout"
        },
        {
          "output_type": "stream",
          "text": [
            "/usr/local/lib/python3.6/dist-packages/sklearn/linear_model/_logistic.py:940: ConvergenceWarning: lbfgs failed to converge (status=1):\n",
            "STOP: TOTAL NO. of ITERATIONS REACHED LIMIT.\n",
            "\n",
            "Increase the number of iterations (max_iter) or scale the data as shown in:\n",
            "    https://scikit-learn.org/stable/modules/preprocessing.html\n",
            "Please also refer to the documentation for alternative solver options:\n",
            "    https://scikit-learn.org/stable/modules/linear_model.html#logistic-regression\n",
            "  extra_warning_msg=_LOGISTIC_SOLVER_CONVERGENCE_MSG)\n"
          ],
          "name": "stderr"
        },
        {
          "output_type": "stream",
          "text": [
            "[CV]  C=400, max_iter=100, score=(train=0.999, test=0.596), total=   0.4s\n",
            "[CV] C=400, max_iter=150 .............................................\n"
          ],
          "name": "stdout"
        },
        {
          "output_type": "stream",
          "text": [
            "/usr/local/lib/python3.6/dist-packages/sklearn/linear_model/_logistic.py:940: ConvergenceWarning: lbfgs failed to converge (status=1):\n",
            "STOP: TOTAL NO. of ITERATIONS REACHED LIMIT.\n",
            "\n",
            "Increase the number of iterations (max_iter) or scale the data as shown in:\n",
            "    https://scikit-learn.org/stable/modules/preprocessing.html\n",
            "Please also refer to the documentation for alternative solver options:\n",
            "    https://scikit-learn.org/stable/modules/linear_model.html#logistic-regression\n",
            "  extra_warning_msg=_LOGISTIC_SOLVER_CONVERGENCE_MSG)\n"
          ],
          "name": "stderr"
        },
        {
          "output_type": "stream",
          "text": [
            "[CV]  C=400, max_iter=150, score=(train=0.997, test=0.572), total=   0.6s\n",
            "[CV] C=400, max_iter=150 .............................................\n"
          ],
          "name": "stdout"
        },
        {
          "output_type": "stream",
          "text": [
            "/usr/local/lib/python3.6/dist-packages/sklearn/linear_model/_logistic.py:940: ConvergenceWarning: lbfgs failed to converge (status=1):\n",
            "STOP: TOTAL NO. of ITERATIONS REACHED LIMIT.\n",
            "\n",
            "Increase the number of iterations (max_iter) or scale the data as shown in:\n",
            "    https://scikit-learn.org/stable/modules/preprocessing.html\n",
            "Please also refer to the documentation for alternative solver options:\n",
            "    https://scikit-learn.org/stable/modules/linear_model.html#logistic-regression\n",
            "  extra_warning_msg=_LOGISTIC_SOLVER_CONVERGENCE_MSG)\n"
          ],
          "name": "stderr"
        },
        {
          "output_type": "stream",
          "text": [
            "[CV]  C=400, max_iter=150, score=(train=0.999, test=0.592), total=   0.6s\n",
            "[CV] C=400, max_iter=200 .............................................\n"
          ],
          "name": "stdout"
        },
        {
          "output_type": "stream",
          "text": [
            "/usr/local/lib/python3.6/dist-packages/sklearn/linear_model/_logistic.py:940: ConvergenceWarning: lbfgs failed to converge (status=1):\n",
            "STOP: TOTAL NO. of ITERATIONS REACHED LIMIT.\n",
            "\n",
            "Increase the number of iterations (max_iter) or scale the data as shown in:\n",
            "    https://scikit-learn.org/stable/modules/preprocessing.html\n",
            "Please also refer to the documentation for alternative solver options:\n",
            "    https://scikit-learn.org/stable/modules/linear_model.html#logistic-regression\n",
            "  extra_warning_msg=_LOGISTIC_SOLVER_CONVERGENCE_MSG)\n"
          ],
          "name": "stderr"
        },
        {
          "output_type": "stream",
          "text": [
            "[CV]  C=400, max_iter=200, score=(train=0.997, test=0.568), total=   0.8s\n",
            "[CV] C=400, max_iter=200 .............................................\n"
          ],
          "name": "stdout"
        },
        {
          "output_type": "stream",
          "text": [
            "/usr/local/lib/python3.6/dist-packages/sklearn/linear_model/_logistic.py:940: ConvergenceWarning: lbfgs failed to converge (status=1):\n",
            "STOP: TOTAL NO. of ITERATIONS REACHED LIMIT.\n",
            "\n",
            "Increase the number of iterations (max_iter) or scale the data as shown in:\n",
            "    https://scikit-learn.org/stable/modules/preprocessing.html\n",
            "Please also refer to the documentation for alternative solver options:\n",
            "    https://scikit-learn.org/stable/modules/linear_model.html#logistic-regression\n",
            "  extra_warning_msg=_LOGISTIC_SOLVER_CONVERGENCE_MSG)\n"
          ],
          "name": "stderr"
        },
        {
          "output_type": "stream",
          "text": [
            "[CV]  C=400, max_iter=200, score=(train=0.999, test=0.592), total=   0.8s\n",
            "[CV] C=400, max_iter=250 .............................................\n"
          ],
          "name": "stdout"
        },
        {
          "output_type": "stream",
          "text": [
            "/usr/local/lib/python3.6/dist-packages/sklearn/linear_model/_logistic.py:940: ConvergenceWarning: lbfgs failed to converge (status=1):\n",
            "STOP: TOTAL NO. of ITERATIONS REACHED LIMIT.\n",
            "\n",
            "Increase the number of iterations (max_iter) or scale the data as shown in:\n",
            "    https://scikit-learn.org/stable/modules/preprocessing.html\n",
            "Please also refer to the documentation for alternative solver options:\n",
            "    https://scikit-learn.org/stable/modules/linear_model.html#logistic-regression\n",
            "  extra_warning_msg=_LOGISTIC_SOLVER_CONVERGENCE_MSG)\n"
          ],
          "name": "stderr"
        },
        {
          "output_type": "stream",
          "text": [
            "[CV]  C=400, max_iter=250, score=(train=0.997, test=0.568), total=   1.0s\n",
            "[CV] C=400, max_iter=250 .............................................\n"
          ],
          "name": "stdout"
        },
        {
          "output_type": "stream",
          "text": [
            "/usr/local/lib/python3.6/dist-packages/sklearn/linear_model/_logistic.py:940: ConvergenceWarning: lbfgs failed to converge (status=1):\n",
            "STOP: TOTAL NO. of ITERATIONS REACHED LIMIT.\n",
            "\n",
            "Increase the number of iterations (max_iter) or scale the data as shown in:\n",
            "    https://scikit-learn.org/stable/modules/preprocessing.html\n",
            "Please also refer to the documentation for alternative solver options:\n",
            "    https://scikit-learn.org/stable/modules/linear_model.html#logistic-regression\n",
            "  extra_warning_msg=_LOGISTIC_SOLVER_CONVERGENCE_MSG)\n"
          ],
          "name": "stderr"
        },
        {
          "output_type": "stream",
          "text": [
            "[CV]  C=400, max_iter=250, score=(train=0.999, test=0.592), total=   1.0s\n",
            "[CV] C=400, max_iter=300 .............................................\n"
          ],
          "name": "stdout"
        },
        {
          "output_type": "stream",
          "text": [
            "/usr/local/lib/python3.6/dist-packages/sklearn/linear_model/_logistic.py:940: ConvergenceWarning: lbfgs failed to converge (status=1):\n",
            "STOP: TOTAL NO. of ITERATIONS REACHED LIMIT.\n",
            "\n",
            "Increase the number of iterations (max_iter) or scale the data as shown in:\n",
            "    https://scikit-learn.org/stable/modules/preprocessing.html\n",
            "Please also refer to the documentation for alternative solver options:\n",
            "    https://scikit-learn.org/stable/modules/linear_model.html#logistic-regression\n",
            "  extra_warning_msg=_LOGISTIC_SOLVER_CONVERGENCE_MSG)\n"
          ],
          "name": "stderr"
        },
        {
          "output_type": "stream",
          "text": [
            "[CV]  C=400, max_iter=300, score=(train=0.997, test=0.569), total=   1.2s\n",
            "[CV] C=400, max_iter=300 .............................................\n"
          ],
          "name": "stdout"
        },
        {
          "output_type": "stream",
          "text": [
            "/usr/local/lib/python3.6/dist-packages/sklearn/linear_model/_logistic.py:940: ConvergenceWarning: lbfgs failed to converge (status=1):\n",
            "STOP: TOTAL NO. of ITERATIONS REACHED LIMIT.\n",
            "\n",
            "Increase the number of iterations (max_iter) or scale the data as shown in:\n",
            "    https://scikit-learn.org/stable/modules/preprocessing.html\n",
            "Please also refer to the documentation for alternative solver options:\n",
            "    https://scikit-learn.org/stable/modules/linear_model.html#logistic-regression\n",
            "  extra_warning_msg=_LOGISTIC_SOLVER_CONVERGENCE_MSG)\n"
          ],
          "name": "stderr"
        },
        {
          "output_type": "stream",
          "text": [
            "[CV]  C=400, max_iter=300, score=(train=0.999, test=0.592), total=   1.2s\n",
            "[CV] C=400, max_iter=350 .............................................\n"
          ],
          "name": "stdout"
        },
        {
          "output_type": "stream",
          "text": [
            "/usr/local/lib/python3.6/dist-packages/sklearn/linear_model/_logistic.py:940: ConvergenceWarning: lbfgs failed to converge (status=1):\n",
            "STOP: TOTAL NO. of ITERATIONS REACHED LIMIT.\n",
            "\n",
            "Increase the number of iterations (max_iter) or scale the data as shown in:\n",
            "    https://scikit-learn.org/stable/modules/preprocessing.html\n",
            "Please also refer to the documentation for alternative solver options:\n",
            "    https://scikit-learn.org/stable/modules/linear_model.html#logistic-regression\n",
            "  extra_warning_msg=_LOGISTIC_SOLVER_CONVERGENCE_MSG)\n"
          ],
          "name": "stderr"
        },
        {
          "output_type": "stream",
          "text": [
            "[CV]  C=400, max_iter=350, score=(train=0.997, test=0.568), total=   1.4s\n",
            "[CV] C=400, max_iter=350 .............................................\n",
            "[CV]  C=400, max_iter=350, score=(train=0.999, test=0.592), total=   1.2s\n",
            "[CV] C=400, max_iter=400 .............................................\n",
            "[CV]  C=400, max_iter=400, score=(train=0.997, test=0.568), total=   1.5s\n",
            "[CV] C=400, max_iter=400 .............................................\n",
            "[CV]  C=400, max_iter=400, score=(train=0.999, test=0.592), total=   1.2s\n"
          ],
          "name": "stdout"
        },
        {
          "output_type": "stream",
          "text": [
            "[Parallel(n_jobs=1)]: Done 336 out of 336 | elapsed:  4.1min finished\n",
            "/usr/local/lib/python3.6/dist-packages/sklearn/linear_model/_logistic.py:940: ConvergenceWarning: lbfgs failed to converge (status=1):\n",
            "STOP: TOTAL NO. of ITERATIONS REACHED LIMIT.\n",
            "\n",
            "Increase the number of iterations (max_iter) or scale the data as shown in:\n",
            "    https://scikit-learn.org/stable/modules/preprocessing.html\n",
            "Please also refer to the documentation for alternative solver options:\n",
            "    https://scikit-learn.org/stable/modules/linear_model.html#logistic-regression\n",
            "  extra_warning_msg=_LOGISTIC_SOLVER_CONVERGENCE_MSG)\n"
          ],
          "name": "stderr"
        },
        {
          "output_type": "stream",
          "text": [
            "best parameters: {'C': 10, 'max_iter': 50}\n"
          ],
          "name": "stdout"
        },
        {
          "output_type": "stream",
          "text": [
            "/usr/local/lib/python3.6/dist-packages/sklearn/linear_model/_logistic.py:940: ConvergenceWarning: lbfgs failed to converge (status=1):\n",
            "STOP: TOTAL NO. of ITERATIONS REACHED LIMIT.\n",
            "\n",
            "Increase the number of iterations (max_iter) or scale the data as shown in:\n",
            "    https://scikit-learn.org/stable/modules/preprocessing.html\n",
            "Please also refer to the documentation for alternative solver options:\n",
            "    https://scikit-learn.org/stable/modules/linear_model.html#logistic-regression\n",
            "  extra_warning_msg=_LOGISTIC_SOLVER_CONVERGENCE_MSG)\n"
          ],
          "name": "stderr"
        },
        {
          "output_type": "stream",
          "text": [
            "for logistic-regression bow\n"
          ],
          "name": "stdout"
        },
        {
          "output_type": "display_data",
          "data": {
            "image/png": "[encoded data removed]",
            "text/plain": [
              "<Figure size 432x288 with 2 Axes>"
            ]
          },
          "metadata": {
            "tags": []
          }
        },
        {
          "output_type": "stream",
          "text": [
            "+------------------+------------------------------+--------------------+--------------------+\n",
            "|      Model       |          best_param          |      F1_score      |      Accuracy      |\n",
            "+------------------+------------------------------+--------------------+--------------------+\n",
            "| linear-svm-tfidf | {'C': 2, 'kernel': 'linear'} | 0.7488151658767774 | 0.9668387298607852 |\n",
            "|  linear-svm-bow  | {'C': 1, 'kernel': 'linear'} | 0.7100737100737101 | 0.9630846238072892 |\n",
            "|     LR-tfidf     | {'C': 400, 'max_iter': 100}  | 0.7327690447400241 | 0.9654309400907243 |\n",
            "|     LR-tfidf     |  {'C': 10, 'max_iter': 50}   | 0.7055900621118012 | 0.9629282027217269 |\n",
            "+------------------+------------------------------+--------------------+--------------------+\n"
          ],
          "name": "stdout"
        }
      ]
    },
    {
      "cell_type": "markdown",
      "metadata": {
        "id": "4iFTbtXgEfWp",
        "colab_type": "text"
      },
      "source": [
        "###`random forest`"
      ]
    },
    {
      "cell_type": "code",
      "metadata": {
        "id": "RBj3lrneWNwX",
        "colab_type": "code",
        "outputId": "96a5044c-ad11-4c2a-fae0-e05b8ea339e5",
        "colab": {
          "base_uri": "https://localhost:8080/",
          "height": 1000
        }
      },
      "source": [
        "grid={\"n_estimators\":[1,2,4,5,10,20,40, 50,60,70,80,100, 150, 200, 300, 500, 1000], \"max_depth\":[None,2, 3, 4, 5, 6, 7, 8, 9, 10]}\n",
        "\n",
        "#tfidf\n",
        "clf_random_forest = RandomForestClassifier(random_state=345)\n",
        "rf_cv=gridsearch(X_train_tfidf,y_train,clf_random_forest,grid,scorer)\n",
        "params=rf_cv.best_params_\n",
        "clf_random_forest = RandomForestClassifier(random_state=345,n_estimators = params['n_estimators'],max_depth=params['max_depth']).fit(X_train_tfidf,y_train)\n"
      ],
      "execution_count": 0,
      "outputs": [
        {
          "output_type": "stream",
          "text": [
            "Fitting 2 folds for each of 170 candidates, totalling 340 fits\n",
            "[CV] max_depth=None, n_estimators=1 ..................................\n"
          ],
          "name": "stdout"
        },
        {
          "output_type": "stream",
          "text": [
            "[Parallel(n_jobs=1)]: Using backend SequentialBackend with 1 concurrent workers.\n"
          ],
          "name": "stderr"
        },
        {
          "output_type": "stream",
          "text": [
            "[CV]  max_depth=None, n_estimators=1, score=(train=0.825, test=0.413), total=   2.2s\n",
            "[CV] max_depth=None, n_estimators=1 ..................................\n"
          ],
          "name": "stdout"
        },
        {
          "output_type": "stream",
          "text": [
            "[Parallel(n_jobs=1)]: Done   1 out of   1 | elapsed:    2.2s remaining:    0.0s\n"
          ],
          "name": "stderr"
        },
        {
          "output_type": "stream",
          "text": [
            "[CV]  max_depth=None, n_estimators=1, score=(train=0.815, test=0.394), total=   2.2s\n",
            "[CV] max_depth=None, n_estimators=2 ..................................\n"
          ],
          "name": "stdout"
        },
        {
          "output_type": "stream",
          "text": [
            "[Parallel(n_jobs=1)]: Done   2 out of   2 | elapsed:    4.4s remaining:    0.0s\n"
          ],
          "name": "stderr"
        },
        {
          "output_type": "stream",
          "text": [
            "[CV]  max_depth=None, n_estimators=2, score=(train=0.735, test=0.329), total=   4.5s\n",
            "[CV] max_depth=None, n_estimators=2 ..................................\n"
          ],
          "name": "stdout"
        },
        {
          "output_type": "stream",
          "text": [
            "[Parallel(n_jobs=1)]: Done   3 out of   3 | elapsed:    9.0s remaining:    0.0s\n"
          ],
          "name": "stderr"
        },
        {
          "output_type": "stream",
          "text": [
            "[CV]  max_depth=None, n_estimators=2, score=(train=0.707, test=0.306), total=   4.5s\n",
            "[CV] max_depth=None, n_estimators=4 ..................................\n"
          ],
          "name": "stdout"
        },
        {
          "output_type": "stream",
          "text": [
            "[Parallel(n_jobs=1)]: Done   4 out of   4 | elapsed:   13.6s remaining:    0.0s\n"
          ],
          "name": "stderr"
        },
        {
          "output_type": "stream",
          "text": [
            "[CV]  max_depth=None, n_estimators=4, score=(train=0.831, test=0.360), total=   9.0s\n",
            "[CV] max_depth=None, n_estimators=4 ..................................\n"
          ],
          "name": "stdout"
        },
        {
          "output_type": "stream",
          "text": [
            "[Parallel(n_jobs=1)]: Done   5 out of   5 | elapsed:   22.7s remaining:    0.0s\n"
          ],
          "name": "stderr"
        },
        {
          "output_type": "stream",
          "text": [
            "[CV]  max_depth=None, n_estimators=4, score=(train=0.826, test=0.327), total=   8.9s\n",
            "[CV] max_depth=None, n_estimators=5 ..................................\n"
          ],
          "name": "stdout"
        },
        {
          "output_type": "stream",
          "text": [
            "[Parallel(n_jobs=1)]: Done   6 out of   6 | elapsed:   31.7s remaining:    0.0s\n"
          ],
          "name": "stderr"
        },
        {
          "output_type": "stream",
          "text": [
            "[CV]  max_depth=None, n_estimators=5, score=(train=0.921, test=0.423), total=  11.4s\n",
            "[CV] max_depth=None, n_estimators=5 ..................................\n"
          ],
          "name": "stdout"
        },
        {
          "output_type": "stream",
          "text": [
            "[Parallel(n_jobs=1)]: Done   7 out of   7 | elapsed:   43.2s remaining:    0.0s\n"
          ],
          "name": "stderr"
        },
        {
          "output_type": "stream",
          "text": [
            "[CV]  max_depth=None, n_estimators=5, score=(train=0.922, test=0.391), total=  11.1s\n",
            "[CV] max_depth=None, n_estimators=10 .................................\n"
          ],
          "name": "stdout"
        },
        {
          "output_type": "stream",
          "text": [
            "[Parallel(n_jobs=1)]: Done   8 out of   8 | elapsed:   54.5s remaining:    0.0s\n"
          ],
          "name": "stderr"
        },
        {
          "output_type": "stream",
          "text": [
            "[CV]  max_depth=None, n_estimators=10, score=(train=0.926, test=0.382), total=  22.6s\n",
            "[CV] max_depth=None, n_estimators=10 .................................\n"
          ],
          "name": "stdout"
        },
        {
          "output_type": "stream",
          "text": [
            "[Parallel(n_jobs=1)]: Done   9 out of   9 | elapsed:  1.3min remaining:    0.0s\n"
          ],
          "name": "stderr"
        },
        {
          "output_type": "stream",
          "text": [
            "[CV]  max_depth=None, n_estimators=10, score=(train=0.936, test=0.384), total=  22.5s\n",
            "[CV] max_depth=None, n_estimators=20 .................................\n",
            "[CV]  max_depth=None, n_estimators=20, score=(train=0.971, test=0.385), total=  43.3s\n",
            "[CV] max_depth=None, n_estimators=20 .................................\n",
            "[CV]  max_depth=None, n_estimators=20, score=(train=0.976, test=0.387), total=  43.7s\n",
            "[CV] max_depth=None, n_estimators=40 .................................\n",
            "[CV]  max_depth=None, n_estimators=40, score=(train=0.992, test=0.382), total= 1.4min\n",
            "[CV] max_depth=None, n_estimators=40 .................................\n",
            "[CV]  max_depth=None, n_estimators=40, score=(train=0.992, test=0.398), total= 1.5min\n",
            "[CV] max_depth=None, n_estimators=50 .................................\n",
            "[CV]  max_depth=None, n_estimators=50, score=(train=0.995, test=0.383), total= 1.8min\n",
            "[CV] max_depth=None, n_estimators=50 .................................\n",
            "[CV]  max_depth=None, n_estimators=50, score=(train=0.994, test=0.400), total= 1.8min\n",
            "[CV] max_depth=None, n_estimators=60 .................................\n",
            "[CV]  max_depth=None, n_estimators=60, score=(train=0.996, test=0.389), total= 2.2min\n",
            "[CV] max_depth=None, n_estimators=60 .................................\n",
            "[CV]  max_depth=None, n_estimators=60, score=(train=0.998, test=0.398), total= 2.2min\n",
            "[CV] max_depth=None, n_estimators=70 .................................\n",
            "[CV]  max_depth=None, n_estimators=70, score=(train=0.998, test=0.391), total= 2.5min\n",
            "[CV] max_depth=None, n_estimators=70 .................................\n",
            "[CV]  max_depth=None, n_estimators=70, score=(train=0.998, test=0.390), total= 2.5min\n",
            "[CV] max_depth=None, n_estimators=80 .................................\n",
            "[CV]  max_depth=None, n_estimators=80, score=(train=0.999, test=0.395), total= 2.9min\n",
            "[CV] max_depth=None, n_estimators=80 .................................\n",
            "[CV]  max_depth=None, n_estimators=80, score=(train=0.999, test=0.395), total= 2.9min\n",
            "[CV] max_depth=None, n_estimators=100 ................................\n",
            "[CV]  max_depth=None, n_estimators=100, score=(train=0.999, test=0.393), total= 3.6min\n",
            "[CV] max_depth=None, n_estimators=100 ................................\n",
            "[CV]  max_depth=None, n_estimators=100, score=(train=0.999, test=0.400), total= 3.7min\n",
            "[CV] max_depth=None, n_estimators=150 ................................\n",
            "[CV]  max_depth=None, n_estimators=150, score=(train=0.999, test=0.401), total= 5.3min\n",
            "[CV] max_depth=None, n_estimators=150 ................................\n",
            "[CV]  max_depth=None, n_estimators=150, score=(train=0.999, test=0.402), total= 5.4min\n",
            "[CV] max_depth=None, n_estimators=200 ................................\n",
            "[CV]  max_depth=None, n_estimators=200, score=(train=0.999, test=0.398), total= 7.1min\n",
            "[CV] max_depth=None, n_estimators=200 ................................\n",
            "[CV]  max_depth=None, n_estimators=200, score=(train=0.999, test=0.398), total= 7.3min\n",
            "[CV] max_depth=None, n_estimators=300 ................................\n",
            "[CV]  max_depth=None, n_estimators=300, score=(train=0.999, test=0.395), total=10.8min\n",
            "[CV] max_depth=None, n_estimators=300 ................................\n",
            "[CV]  max_depth=None, n_estimators=300, score=(train=0.999, test=0.397), total=11.0min\n",
            "[CV] max_depth=None, n_estimators=500 ................................\n",
            "[CV]  max_depth=None, n_estimators=500, score=(train=0.999, test=0.395), total=18.0min\n",
            "[CV] max_depth=None, n_estimators=500 ................................\n",
            "[CV]  max_depth=None, n_estimators=500, score=(train=0.999, test=0.397), total=18.5min\n",
            "[CV] max_depth=None, n_estimators=1000 ...............................\n",
            "[CV]  max_depth=None, n_estimators=1000, score=(train=0.999, test=0.394), total=36.5min\n",
            "[CV] max_depth=None, n_estimators=1000 ...............................\n",
            "[CV]  max_depth=None, n_estimators=1000, score=(train=0.999, test=0.397), total=37.0min\n",
            "[CV] max_depth=2, n_estimators=1 .....................................\n",
            "[CV]  max_depth=2, n_estimators=1, score=(train=0.011, test=0.002), total=   0.1s\n",
            "[CV] max_depth=2, n_estimators=1 .....................................\n",
            "[CV]  max_depth=2, n_estimators=1, score=(train=0.015, test=0.007), total=   0.0s\n",
            "[CV] max_depth=2, n_estimators=2 .....................................\n",
            "[CV]  max_depth=2, n_estimators=2, score=(train=0.022, test=0.007), total=   0.1s\n",
            "[CV] max_depth=2, n_estimators=2 .....................................\n",
            "[CV]  max_depth=2, n_estimators=2, score=(train=0.024, test=0.013), total=   0.1s\n",
            "[CV] max_depth=2, n_estimators=4 .....................................\n",
            "[CV]  max_depth=2, n_estimators=4, score=(train=0.000, test=0.000), total=   0.1s\n",
            "[CV] max_depth=2, n_estimators=4 .....................................\n",
            "[CV]  max_depth=2, n_estimators=4, score=(train=0.018, test=0.022), total=   0.1s\n",
            "[CV] max_depth=2, n_estimators=5 .....................................\n",
            "[CV]  max_depth=2, n_estimators=5, score=(train=0.000, test=0.000), total=   0.1s\n",
            "[CV] max_depth=2, n_estimators=5 .....................................\n",
            "[CV]  max_depth=2, n_estimators=5, score=(train=0.018, test=0.018), total=   0.1s\n",
            "[CV] max_depth=2, n_estimators=10 ....................................\n",
            "[CV]  max_depth=2, n_estimators=10, score=(train=0.000, test=0.000), total=   0.2s\n",
            "[CV] max_depth=2, n_estimators=10 ....................................\n",
            "[CV]  max_depth=2, n_estimators=10, score=(train=0.000, test=0.000), total=   0.2s\n",
            "[CV] max_depth=2, n_estimators=20 ....................................\n",
            "[CV]  max_depth=2, n_estimators=20, score=(train=0.000, test=0.000), total=   0.3s\n",
            "[CV] max_depth=2, n_estimators=20 ....................................\n",
            "[CV]  max_depth=2, n_estimators=20, score=(train=0.000, test=0.000), total=   0.3s\n",
            "[CV] max_depth=2, n_estimators=40 ....................................\n",
            "[CV]  max_depth=2, n_estimators=40, score=(train=0.000, test=0.000), total=   0.6s\n",
            "[CV] max_depth=2, n_estimators=40 ....................................\n",
            "[CV]  max_depth=2, n_estimators=40, score=(train=0.000, test=0.000), total=   0.6s\n",
            "[CV] max_depth=2, n_estimators=50 ....................................\n",
            "[CV]  max_depth=2, n_estimators=50, score=(train=0.000, test=0.000), total=   0.7s\n",
            "[CV] max_depth=2, n_estimators=50 ....................................\n",
            "[CV]  max_depth=2, n_estimators=50, score=(train=0.000, test=0.000), total=   0.7s\n",
            "[CV] max_depth=2, n_estimators=60 ....................................\n",
            "[CV]  max_depth=2, n_estimators=60, score=(train=0.000, test=0.000), total=   0.9s\n",
            "[CV] max_depth=2, n_estimators=60 ....................................\n",
            "[CV]  max_depth=2, n_estimators=60, score=(train=0.000, test=0.000), total=   0.9s\n",
            "[CV] max_depth=2, n_estimators=70 ....................................\n",
            "[CV]  max_depth=2, n_estimators=70, score=(train=0.000, test=0.000), total=   1.0s\n",
            "[CV] max_depth=2, n_estimators=70 ....................................\n",
            "[CV]  max_depth=2, n_estimators=70, score=(train=0.000, test=0.000), total=   1.0s\n",
            "[CV] max_depth=2, n_estimators=80 ....................................\n",
            "[CV]  max_depth=2, n_estimators=80, score=(train=0.000, test=0.000), total=   1.2s\n",
            "[CV] max_depth=2, n_estimators=80 ....................................\n",
            "[CV]  max_depth=2, n_estimators=80, score=(train=0.000, test=0.000), total=   1.2s\n",
            "[CV] max_depth=2, n_estimators=100 ...................................\n",
            "[CV]  max_depth=2, n_estimators=100, score=(train=0.000, test=0.000), total=   1.4s\n",
            "[CV] max_depth=2, n_estimators=100 ...................................\n",
            "[CV]  max_depth=2, n_estimators=100, score=(train=0.000, test=0.000), total=   1.4s\n",
            "[CV] max_depth=2, n_estimators=150 ...................................\n",
            "[CV]  max_depth=2, n_estimators=150, score=(train=0.000, test=0.000), total=   2.1s\n",
            "[CV] max_depth=2, n_estimators=150 ...................................\n",
            "[CV]  max_depth=2, n_estimators=150, score=(train=0.000, test=0.000), total=   2.1s\n",
            "[CV] max_depth=2, n_estimators=200 ...................................\n",
            "[CV]  max_depth=2, n_estimators=200, score=(train=0.000, test=0.000), total=   2.8s\n",
            "[CV] max_depth=2, n_estimators=200 ...................................\n",
            "[CV]  max_depth=2, n_estimators=200, score=(train=0.000, test=0.000), total=   2.9s\n",
            "[CV] max_depth=2, n_estimators=300 ...................................\n",
            "[CV]  max_depth=2, n_estimators=300, score=(train=0.000, test=0.000), total=   4.2s\n",
            "[CV] max_depth=2, n_estimators=300 ...................................\n",
            "[CV]  max_depth=2, n_estimators=300, score=(train=0.000, test=0.000), total=   4.1s\n",
            "[CV] max_depth=2, n_estimators=500 ...................................\n",
            "[CV]  max_depth=2, n_estimators=500, score=(train=0.000, test=0.000), total=   6.9s\n",
            "[CV] max_depth=2, n_estimators=500 ...................................\n",
            "[CV]  max_depth=2, n_estimators=500, score=(train=0.000, test=0.000), total=   6.9s\n",
            "[CV] max_depth=2, n_estimators=1000 ..................................\n",
            "[CV]  max_depth=2, n_estimators=1000, score=(train=0.000, test=0.000), total=  13.7s\n",
            "[CV] max_depth=2, n_estimators=1000 ..................................\n",
            "[CV]  max_depth=2, n_estimators=1000, score=(train=0.000, test=0.000), total=  13.8s\n",
            "[CV] max_depth=3, n_estimators=1 .....................................\n",
            "[CV]  max_depth=3, n_estimators=1, score=(train=0.015, test=0.004), total=   0.0s\n",
            "[CV] max_depth=3, n_estimators=1 .....................................\n",
            "[CV]  max_depth=3, n_estimators=1, score=(train=0.026, test=0.015), total=   0.0s\n",
            "[CV] max_depth=3, n_estimators=2 .....................................\n",
            "[CV]  max_depth=3, n_estimators=2, score=(train=0.041, test=0.020), total=   0.1s\n",
            "[CV] max_depth=3, n_estimators=2 .....................................\n",
            "[CV]  max_depth=3, n_estimators=2, score=(train=0.037, test=0.022), total=   0.1s\n",
            "[CV] max_depth=3, n_estimators=4 .....................................\n",
            "[CV]  max_depth=3, n_estimators=4, score=(train=0.000, test=0.000), total=   0.1s\n",
            "[CV] max_depth=3, n_estimators=4 .....................................\n",
            "[CV]  max_depth=3, n_estimators=4, score=(train=0.018, test=0.018), total=   0.1s\n",
            "[CV] max_depth=3, n_estimators=5 .....................................\n",
            "[CV]  max_depth=3, n_estimators=5, score=(train=0.000, test=0.000), total=   0.1s\n",
            "[CV] max_depth=3, n_estimators=5 .....................................\n",
            "[CV]  max_depth=3, n_estimators=5, score=(train=0.018, test=0.018), total=   0.1s\n",
            "[CV] max_depth=3, n_estimators=10 ....................................\n",
            "[CV]  max_depth=3, n_estimators=10, score=(train=0.000, test=0.000), total=   0.2s\n",
            "[CV] max_depth=3, n_estimators=10 ....................................\n",
            "[CV]  max_depth=3, n_estimators=10, score=(train=0.000, test=0.000), total=   0.2s\n",
            "[CV] max_depth=3, n_estimators=20 ....................................\n",
            "[CV]  max_depth=3, n_estimators=20, score=(train=0.000, test=0.000), total=   0.4s\n",
            "[CV] max_depth=3, n_estimators=20 ....................................\n",
            "[CV]  max_depth=3, n_estimators=20, score=(train=0.000, test=0.000), total=   0.4s\n",
            "[CV] max_depth=3, n_estimators=40 ....................................\n",
            "[CV]  max_depth=3, n_estimators=40, score=(train=0.000, test=0.000), total=   0.8s\n",
            "[CV] max_depth=3, n_estimators=40 ....................................\n",
            "[CV]  max_depth=3, n_estimators=40, score=(train=0.000, test=0.000), total=   0.8s\n",
            "[CV] max_depth=3, n_estimators=50 ....................................\n",
            "[CV]  max_depth=3, n_estimators=50, score=(train=0.000, test=0.000), total=   1.0s\n",
            "[CV] max_depth=3, n_estimators=50 ....................................\n",
            "[CV]  max_depth=3, n_estimators=50, score=(train=0.000, test=0.000), total=   1.0s\n",
            "[CV] max_depth=3, n_estimators=60 ....................................\n",
            "[CV]  max_depth=3, n_estimators=60, score=(train=0.000, test=0.000), total=   1.1s\n",
            "[CV] max_depth=3, n_estimators=60 ....................................\n",
            "[CV]  max_depth=3, n_estimators=60, score=(train=0.000, test=0.000), total=   1.1s\n",
            "[CV] max_depth=3, n_estimators=70 ....................................\n",
            "[CV]  max_depth=3, n_estimators=70, score=(train=0.000, test=0.000), total=   1.3s\n",
            "[CV] max_depth=3, n_estimators=70 ....................................\n",
            "[CV]  max_depth=3, n_estimators=70, score=(train=0.000, test=0.000), total=   1.3s\n",
            "[CV] max_depth=3, n_estimators=80 ....................................\n",
            "[CV]  max_depth=3, n_estimators=80, score=(train=0.000, test=0.000), total=   1.5s\n",
            "[CV] max_depth=3, n_estimators=80 ....................................\n",
            "[CV]  max_depth=3, n_estimators=80, score=(train=0.000, test=0.000), total=   1.5s\n",
            "[CV] max_depth=3, n_estimators=100 ...................................\n",
            "[CV]  max_depth=3, n_estimators=100, score=(train=0.000, test=0.000), total=   1.8s\n",
            "[CV] max_depth=3, n_estimators=100 ...................................\n",
            "[CV]  max_depth=3, n_estimators=100, score=(train=0.000, test=0.000), total=   1.8s\n",
            "[CV] max_depth=3, n_estimators=150 ...................................\n",
            "[CV]  max_depth=3, n_estimators=150, score=(train=0.000, test=0.000), total=   2.7s\n",
            "[CV] max_depth=3, n_estimators=150 ...................................\n",
            "[CV]  max_depth=3, n_estimators=150, score=(train=0.000, test=0.000), total=   2.8s\n",
            "[CV] max_depth=3, n_estimators=200 ...................................\n",
            "[CV]  max_depth=3, n_estimators=200, score=(train=0.000, test=0.000), total=   3.6s\n",
            "[CV] max_depth=3, n_estimators=200 ...................................\n",
            "[CV]  max_depth=3, n_estimators=200, score=(train=0.000, test=0.000), total=   3.6s\n",
            "[CV] max_depth=3, n_estimators=300 ...................................\n",
            "[CV]  max_depth=3, n_estimators=300, score=(train=0.000, test=0.000), total=   5.4s\n",
            "[CV] max_depth=3, n_estimators=300 ...................................\n",
            "[CV]  max_depth=3, n_estimators=300, score=(train=0.000, test=0.000), total=   5.4s\n",
            "[CV] max_depth=3, n_estimators=500 ...................................\n",
            "[CV]  max_depth=3, n_estimators=500, score=(train=0.000, test=0.000), total=   9.0s\n",
            "[CV] max_depth=3, n_estimators=500 ...................................\n",
            "[CV]  max_depth=3, n_estimators=500, score=(train=0.000, test=0.000), total=   9.1s\n",
            "[CV] max_depth=3, n_estimators=1000 ..................................\n",
            "[CV]  max_depth=3, n_estimators=1000, score=(train=0.000, test=0.000), total=  17.9s\n",
            "[CV] max_depth=3, n_estimators=1000 ..................................\n",
            "[CV]  max_depth=3, n_estimators=1000, score=(train=0.000, test=0.000), total=  17.8s\n",
            "[CV] max_depth=4, n_estimators=1 .....................................\n",
            "[CV]  max_depth=4, n_estimators=1, score=(train=0.015, test=0.004), total=   0.0s\n",
            "[CV] max_depth=4, n_estimators=1 .....................................\n",
            "[CV]  max_depth=4, n_estimators=1, score=(train=0.029, test=0.015), total=   0.0s\n",
            "[CV] max_depth=4, n_estimators=2 .....................................\n",
            "[CV]  max_depth=4, n_estimators=2, score=(train=0.041, test=0.018), total=   0.1s\n",
            "[CV] max_depth=4, n_estimators=2 .....................................\n",
            "[CV]  max_depth=4, n_estimators=2, score=(train=0.041, test=0.022), total=   0.1s\n",
            "[CV] max_depth=4, n_estimators=4 .....................................\n",
            "[CV]  max_depth=4, n_estimators=4, score=(train=0.000, test=0.000), total=   0.1s\n",
            "[CV] max_depth=4, n_estimators=4 .....................................\n",
            "[CV]  max_depth=4, n_estimators=4, score=(train=0.018, test=0.022), total=   0.1s\n",
            "[CV] max_depth=4, n_estimators=5 .....................................\n",
            "[CV]  max_depth=4, n_estimators=5, score=(train=0.000, test=0.000), total=   0.2s\n",
            "[CV] max_depth=4, n_estimators=5 .....................................\n",
            "[CV]  max_depth=4, n_estimators=5, score=(train=0.018, test=0.018), total=   0.1s\n",
            "[CV] max_depth=4, n_estimators=10 ....................................\n",
            "[CV]  max_depth=4, n_estimators=10, score=(train=0.000, test=0.000), total=   0.3s\n",
            "[CV] max_depth=4, n_estimators=10 ....................................\n",
            "[CV]  max_depth=4, n_estimators=10, score=(train=0.000, test=0.000), total=   0.2s\n",
            "[CV] max_depth=4, n_estimators=20 ....................................\n",
            "[CV]  max_depth=4, n_estimators=20, score=(train=0.000, test=0.000), total=   0.5s\n",
            "[CV] max_depth=4, n_estimators=20 ....................................\n",
            "[CV]  max_depth=4, n_estimators=20, score=(train=0.000, test=0.000), total=   0.5s\n",
            "[CV] max_depth=4, n_estimators=40 ....................................\n",
            "[CV]  max_depth=4, n_estimators=40, score=(train=0.000, test=0.000), total=   0.9s\n",
            "[CV] max_depth=4, n_estimators=40 ....................................\n",
            "[CV]  max_depth=4, n_estimators=40, score=(train=0.000, test=0.000), total=   0.9s\n",
            "[CV] max_depth=4, n_estimators=50 ....................................\n",
            "[CV]  max_depth=4, n_estimators=50, score=(train=0.000, test=0.000), total=   1.1s\n",
            "[CV] max_depth=4, n_estimators=50 ....................................\n",
            "[CV]  max_depth=4, n_estimators=50, score=(train=0.000, test=0.000), total=   1.1s\n",
            "[CV] max_depth=4, n_estimators=60 ....................................\n",
            "[CV]  max_depth=4, n_estimators=60, score=(train=0.000, test=0.000), total=   1.4s\n",
            "[CV] max_depth=4, n_estimators=60 ....................................\n",
            "[CV]  max_depth=4, n_estimators=60, score=(train=0.000, test=0.000), total=   1.3s\n",
            "[CV] max_depth=4, n_estimators=70 ....................................\n",
            "[CV]  max_depth=4, n_estimators=70, score=(train=0.000, test=0.000), total=   1.6s\n",
            "[CV] max_depth=4, n_estimators=70 ....................................\n",
            "[CV]  max_depth=4, n_estimators=70, score=(train=0.000, test=0.000), total=   1.6s\n",
            "[CV] max_depth=4, n_estimators=80 ....................................\n",
            "[CV]  max_depth=4, n_estimators=80, score=(train=0.000, test=0.000), total=   1.8s\n",
            "[CV] max_depth=4, n_estimators=80 ....................................\n",
            "[CV]  max_depth=4, n_estimators=80, score=(train=0.000, test=0.000), total=   1.8s\n",
            "[CV] max_depth=4, n_estimators=100 ...................................\n",
            "[CV]  max_depth=4, n_estimators=100, score=(train=0.000, test=0.000), total=   2.2s\n",
            "[CV] max_depth=4, n_estimators=100 ...................................\n",
            "[CV]  max_depth=4, n_estimators=100, score=(train=0.000, test=0.000), total=   2.2s\n",
            "[CV] max_depth=4, n_estimators=150 ...................................\n",
            "[CV]  max_depth=4, n_estimators=150, score=(train=0.000, test=0.000), total=   3.3s\n",
            "[CV] max_depth=4, n_estimators=150 ...................................\n",
            "[CV]  max_depth=4, n_estimators=150, score=(train=0.000, test=0.000), total=   3.3s\n",
            "[CV] max_depth=4, n_estimators=200 ...................................\n",
            "[CV]  max_depth=4, n_estimators=200, score=(train=0.000, test=0.000), total=   4.4s\n",
            "[CV] max_depth=4, n_estimators=200 ...................................\n",
            "[CV]  max_depth=4, n_estimators=200, score=(train=0.000, test=0.000), total=   4.5s\n",
            "[CV] max_depth=4, n_estimators=300 ...................................\n",
            "[CV]  max_depth=4, n_estimators=300, score=(train=0.000, test=0.000), total=   6.6s\n",
            "[CV] max_depth=4, n_estimators=300 ...................................\n",
            "[CV]  max_depth=4, n_estimators=300, score=(train=0.000, test=0.000), total=   6.6s\n",
            "[CV] max_depth=4, n_estimators=500 ...................................\n",
            "[CV]  max_depth=4, n_estimators=500, score=(train=0.000, test=0.000), total=  11.0s\n",
            "[CV] max_depth=4, n_estimators=500 ...................................\n",
            "[CV]  max_depth=4, n_estimators=500, score=(train=0.000, test=0.000), total=  11.0s\n",
            "[CV] max_depth=4, n_estimators=1000 ..................................\n",
            "[CV]  max_depth=4, n_estimators=1000, score=(train=0.000, test=0.000), total=  21.7s\n",
            "[CV] max_depth=4, n_estimators=1000 ..................................\n",
            "[CV]  max_depth=4, n_estimators=1000, score=(train=0.000, test=0.000), total=  21.8s\n",
            "[CV] max_depth=5, n_estimators=1 .....................................\n",
            "[CV]  max_depth=5, n_estimators=1, score=(train=0.020, test=0.002), total=   0.1s\n",
            "[CV] max_depth=5, n_estimators=1 .....................................\n",
            "[CV]  max_depth=5, n_estimators=1, score=(train=0.033, test=0.015), total=   0.1s\n",
            "[CV] max_depth=5, n_estimators=2 .....................................\n",
            "[CV]  max_depth=5, n_estimators=2, score=(train=0.054, test=0.020), total=   0.1s\n",
            "[CV] max_depth=5, n_estimators=2 .....................................\n",
            "[CV]  max_depth=5, n_estimators=2, score=(train=0.041, test=0.022), total=   0.1s\n",
            "[CV] max_depth=5, n_estimators=4 .....................................\n",
            "[CV]  max_depth=5, n_estimators=4, score=(train=0.000, test=0.000), total=   0.1s\n",
            "[CV] max_depth=5, n_estimators=4 .....................................\n",
            "[CV]  max_depth=5, n_estimators=4, score=(train=0.018, test=0.022), total=   0.1s\n",
            "[CV] max_depth=5, n_estimators=5 .....................................\n",
            "[CV]  max_depth=5, n_estimators=5, score=(train=0.000, test=0.000), total=   0.2s\n",
            "[CV] max_depth=5, n_estimators=5 .....................................\n",
            "[CV]  max_depth=5, n_estimators=5, score=(train=0.018, test=0.018), total=   0.2s\n",
            "[CV] max_depth=5, n_estimators=10 ....................................\n",
            "[CV]  max_depth=5, n_estimators=10, score=(train=0.000, test=0.000), total=   0.3s\n",
            "[CV] max_depth=5, n_estimators=10 ....................................\n",
            "[CV]  max_depth=5, n_estimators=10, score=(train=0.000, test=0.000), total=   0.3s\n",
            "[CV] max_depth=5, n_estimators=20 ....................................\n",
            "[CV]  max_depth=5, n_estimators=20, score=(train=0.000, test=0.000), total=   0.6s\n",
            "[CV] max_depth=5, n_estimators=20 ....................................\n",
            "[CV]  max_depth=5, n_estimators=20, score=(train=0.000, test=0.000), total=   0.5s\n",
            "[CV] max_depth=5, n_estimators=40 ....................................\n",
            "[CV]  max_depth=5, n_estimators=40, score=(train=0.000, test=0.000), total=   1.1s\n",
            "[CV] max_depth=5, n_estimators=40 ....................................\n",
            "[CV]  max_depth=5, n_estimators=40, score=(train=0.000, test=0.000), total=   1.1s\n",
            "[CV] max_depth=5, n_estimators=50 ....................................\n",
            "[CV]  max_depth=5, n_estimators=50, score=(train=0.000, test=0.000), total=   1.3s\n",
            "[CV] max_depth=5, n_estimators=50 ....................................\n",
            "[CV]  max_depth=5, n_estimators=50, score=(train=0.000, test=0.000), total=   1.3s\n",
            "[CV] max_depth=5, n_estimators=60 ....................................\n",
            "[CV]  max_depth=5, n_estimators=60, score=(train=0.000, test=0.000), total=   1.6s\n",
            "[CV] max_depth=5, n_estimators=60 ....................................\n",
            "[CV]  max_depth=5, n_estimators=60, score=(train=0.000, test=0.000), total=   1.6s\n",
            "[CV] max_depth=5, n_estimators=70 ....................................\n",
            "[CV]  max_depth=5, n_estimators=70, score=(train=0.000, test=0.000), total=   1.8s\n",
            "[CV] max_depth=5, n_estimators=70 ....................................\n",
            "[CV]  max_depth=5, n_estimators=70, score=(train=0.000, test=0.000), total=   1.9s\n",
            "[CV] max_depth=5, n_estimators=80 ....................................\n",
            "[CV]  max_depth=5, n_estimators=80, score=(train=0.000, test=0.000), total=   2.1s\n",
            "[CV] max_depth=5, n_estimators=80 ....................................\n",
            "[CV]  max_depth=5, n_estimators=80, score=(train=0.000, test=0.000), total=   2.1s\n",
            "[CV] max_depth=5, n_estimators=100 ...................................\n",
            "[CV]  max_depth=5, n_estimators=100, score=(train=0.000, test=0.000), total=   2.6s\n",
            "[CV] max_depth=5, n_estimators=100 ...................................\n",
            "[CV]  max_depth=5, n_estimators=100, score=(train=0.000, test=0.000), total=   2.7s\n",
            "[CV] max_depth=5, n_estimators=150 ...................................\n",
            "[CV]  max_depth=5, n_estimators=150, score=(train=0.000, test=0.000), total=   3.9s\n",
            "[CV] max_depth=5, n_estimators=150 ...................................\n",
            "[CV]  max_depth=5, n_estimators=150, score=(train=0.000, test=0.000), total=   3.9s\n",
            "[CV] max_depth=5, n_estimators=200 ...................................\n",
            "[CV]  max_depth=5, n_estimators=200, score=(train=0.000, test=0.000), total=   5.2s\n",
            "[CV] max_depth=5, n_estimators=200 ...................................\n",
            "[CV]  max_depth=5, n_estimators=200, score=(train=0.000, test=0.000), total=   5.3s\n",
            "[CV] max_depth=5, n_estimators=300 ...................................\n",
            "[CV]  max_depth=5, n_estimators=300, score=(train=0.000, test=0.000), total=   7.8s\n",
            "[CV] max_depth=5, n_estimators=300 ...................................\n",
            "[CV]  max_depth=5, n_estimators=300, score=(train=0.000, test=0.000), total=   7.8s\n",
            "[CV] max_depth=5, n_estimators=500 ...................................\n",
            "[CV]  max_depth=5, n_estimators=500, score=(train=0.000, test=0.000), total=  13.0s\n",
            "[CV] max_depth=5, n_estimators=500 ...................................\n",
            "[CV]  max_depth=5, n_estimators=500, score=(train=0.000, test=0.000), total=  13.0s\n",
            "[CV] max_depth=5, n_estimators=1000 ..................................\n",
            "[CV]  max_depth=5, n_estimators=1000, score=(train=0.000, test=0.000), total=  25.8s\n",
            "[CV] max_depth=5, n_estimators=1000 ..................................\n",
            "[CV]  max_depth=5, n_estimators=1000, score=(train=0.000, test=0.000), total=  25.9s\n",
            "[CV] max_depth=6, n_estimators=1 .....................................\n",
            "[CV]  max_depth=6, n_estimators=1, score=(train=0.022, test=0.002), total=   0.1s\n",
            "[CV] max_depth=6, n_estimators=1 .....................................\n",
            "[CV]  max_depth=6, n_estimators=1, score=(train=0.035, test=0.015), total=   0.1s\n",
            "[CV] max_depth=6, n_estimators=2 .....................................\n",
            "[CV]  max_depth=6, n_estimators=2, score=(train=0.071, test=0.026), total=   0.1s\n",
            "[CV] max_depth=6, n_estimators=2 .....................................\n",
            "[CV]  max_depth=6, n_estimators=2, score=(train=0.067, test=0.039), total=   0.1s\n",
            "[CV] max_depth=6, n_estimators=4 .....................................\n",
            "[CV]  max_depth=6, n_estimators=4, score=(train=0.000, test=0.000), total=   0.2s\n",
            "[CV] max_depth=6, n_estimators=4 .....................................\n",
            "[CV]  max_depth=6, n_estimators=4, score=(train=0.018, test=0.022), total=   0.2s\n",
            "[CV] max_depth=6, n_estimators=5 .....................................\n",
            "[CV]  max_depth=6, n_estimators=5, score=(train=0.000, test=0.000), total=   0.2s\n",
            "[CV] max_depth=6, n_estimators=5 .....................................\n",
            "[CV]  max_depth=6, n_estimators=5, score=(train=0.018, test=0.018), total=   0.2s\n",
            "[CV] max_depth=6, n_estimators=10 ....................................\n",
            "[CV]  max_depth=6, n_estimators=10, score=(train=0.000, test=0.000), total=   0.3s\n",
            "[CV] max_depth=6, n_estimators=10 ....................................\n",
            "[CV]  max_depth=6, n_estimators=10, score=(train=0.018, test=0.018), total=   0.3s\n",
            "[CV] max_depth=6, n_estimators=20 ....................................\n",
            "[CV]  max_depth=6, n_estimators=20, score=(train=0.000, test=0.000), total=   0.6s\n",
            "[CV] max_depth=6, n_estimators=20 ....................................\n",
            "[CV]  max_depth=6, n_estimators=20, score=(train=0.000, test=0.000), total=   0.6s\n",
            "[CV] max_depth=6, n_estimators=40 ....................................\n",
            "[CV]  max_depth=6, n_estimators=40, score=(train=0.000, test=0.000), total=   1.2s\n",
            "[CV] max_depth=6, n_estimators=40 ....................................\n",
            "[CV]  max_depth=6, n_estimators=40, score=(train=0.000, test=0.000), total=   1.2s\n",
            "[CV] max_depth=6, n_estimators=50 ....................................\n",
            "[CV]  max_depth=6, n_estimators=50, score=(train=0.000, test=0.000), total=   1.5s\n",
            "[CV] max_depth=6, n_estimators=50 ....................................\n",
            "[CV]  max_depth=6, n_estimators=50, score=(train=0.000, test=0.000), total=   1.5s\n",
            "[CV] max_depth=6, n_estimators=60 ....................................\n",
            "[CV]  max_depth=6, n_estimators=60, score=(train=0.000, test=0.000), total=   1.8s\n",
            "[CV] max_depth=6, n_estimators=60 ....................................\n",
            "[CV]  max_depth=6, n_estimators=60, score=(train=0.000, test=0.000), total=   1.8s\n",
            "[CV] max_depth=6, n_estimators=70 ....................................\n",
            "[CV]  max_depth=6, n_estimators=70, score=(train=0.000, test=0.000), total=   2.1s\n",
            "[CV] max_depth=6, n_estimators=70 ....................................\n",
            "[CV]  max_depth=6, n_estimators=70, score=(train=0.000, test=0.000), total=   2.1s\n",
            "[CV] max_depth=6, n_estimators=80 ....................................\n",
            "[CV]  max_depth=6, n_estimators=80, score=(train=0.000, test=0.000), total=   2.4s\n",
            "[CV] max_depth=6, n_estimators=80 ....................................\n",
            "[CV]  max_depth=6, n_estimators=80, score=(train=0.000, test=0.000), total=   2.4s\n",
            "[CV] max_depth=6, n_estimators=100 ...................................\n",
            "[CV]  max_depth=6, n_estimators=100, score=(train=0.000, test=0.000), total=   3.0s\n",
            "[CV] max_depth=6, n_estimators=100 ...................................\n",
            "[CV]  max_depth=6, n_estimators=100, score=(train=0.000, test=0.000), total=   3.0s\n",
            "[CV] max_depth=6, n_estimators=150 ...................................\n",
            "[CV]  max_depth=6, n_estimators=150, score=(train=0.000, test=0.000), total=   4.5s\n",
            "[CV] max_depth=6, n_estimators=150 ...................................\n",
            "[CV]  max_depth=6, n_estimators=150, score=(train=0.000, test=0.000), total=   4.5s\n",
            "[CV] max_depth=6, n_estimators=200 ...................................\n",
            "[CV]  max_depth=6, n_estimators=200, score=(train=0.000, test=0.000), total=   6.0s\n",
            "[CV] max_depth=6, n_estimators=200 ...................................\n",
            "[CV]  max_depth=6, n_estimators=200, score=(train=0.000, test=0.000), total=   6.0s\n",
            "[CV] max_depth=6, n_estimators=300 ...................................\n",
            "[CV]  max_depth=6, n_estimators=300, score=(train=0.000, test=0.000), total=   9.0s\n",
            "[CV] max_depth=6, n_estimators=300 ...................................\n",
            "[CV]  max_depth=6, n_estimators=300, score=(train=0.000, test=0.000), total=   9.0s\n",
            "[CV] max_depth=6, n_estimators=500 ...................................\n",
            "[CV]  max_depth=6, n_estimators=500, score=(train=0.000, test=0.000), total=  14.9s\n",
            "[CV] max_depth=6, n_estimators=500 ...................................\n",
            "[CV]  max_depth=6, n_estimators=500, score=(train=0.000, test=0.000), total=  15.0s\n",
            "[CV] max_depth=6, n_estimators=1000 ..................................\n",
            "[CV]  max_depth=6, n_estimators=1000, score=(train=0.000, test=0.000), total=  30.2s\n",
            "[CV] max_depth=6, n_estimators=1000 ..................................\n",
            "[CV]  max_depth=6, n_estimators=1000, score=(train=0.000, test=0.000), total=  30.1s\n",
            "[CV] max_depth=7, n_estimators=1 .....................................\n",
            "[CV]  max_depth=7, n_estimators=1, score=(train=0.026, test=0.004), total=   0.1s\n",
            "[CV] max_depth=7, n_estimators=1 .....................................\n",
            "[CV]  max_depth=7, n_estimators=1, score=(train=0.039, test=0.015), total=   0.1s\n",
            "[CV] max_depth=7, n_estimators=2 .....................................\n",
            "[CV]  max_depth=7, n_estimators=2, score=(train=0.077, test=0.029), total=   0.1s\n",
            "[CV] max_depth=7, n_estimators=2 .....................................\n",
            "[CV]  max_depth=7, n_estimators=2, score=(train=0.077, test=0.039), total=   0.1s\n",
            "[CV] max_depth=7, n_estimators=4 .....................................\n",
            "[CV]  max_depth=7, n_estimators=4, score=(train=0.002, test=0.000), total=   0.2s\n",
            "[CV] max_depth=7, n_estimators=4 .....................................\n",
            "[CV]  max_depth=7, n_estimators=4, score=(train=0.022, test=0.022), total=   0.2s\n",
            "[CV] max_depth=7, n_estimators=5 .....................................\n",
            "[CV]  max_depth=7, n_estimators=5, score=(train=0.000, test=0.000), total=   0.2s\n",
            "[CV] max_depth=7, n_estimators=5 .....................................\n",
            "[CV]  max_depth=7, n_estimators=5, score=(train=0.018, test=0.018), total=   0.2s\n",
            "[CV] max_depth=7, n_estimators=10 ....................................\n",
            "[CV]  max_depth=7, n_estimators=10, score=(train=0.000, test=0.000), total=   0.4s\n",
            "[CV] max_depth=7, n_estimators=10 ....................................\n",
            "[CV]  max_depth=7, n_estimators=10, score=(train=0.018, test=0.018), total=   0.4s\n",
            "[CV] max_depth=7, n_estimators=20 ....................................\n",
            "[CV]  max_depth=7, n_estimators=20, score=(train=0.000, test=0.000), total=   0.7s\n",
            "[CV] max_depth=7, n_estimators=20 ....................................\n",
            "[CV]  max_depth=7, n_estimators=20, score=(train=0.000, test=0.000), total=   0.7s\n",
            "[CV] max_depth=7, n_estimators=40 ....................................\n",
            "[CV]  max_depth=7, n_estimators=40, score=(train=0.000, test=0.000), total=   1.4s\n",
            "[CV] max_depth=7, n_estimators=40 ....................................\n",
            "[CV]  max_depth=7, n_estimators=40, score=(train=0.000, test=0.000), total=   1.4s\n",
            "[CV] max_depth=7, n_estimators=50 ....................................\n",
            "[CV]  max_depth=7, n_estimators=50, score=(train=0.000, test=0.000), total=   1.8s\n",
            "[CV] max_depth=7, n_estimators=50 ....................................\n",
            "[CV]  max_depth=7, n_estimators=50, score=(train=0.000, test=0.000), total=   1.7s\n",
            "[CV] max_depth=7, n_estimators=60 ....................................\n",
            "[CV]  max_depth=7, n_estimators=60, score=(train=0.000, test=0.000), total=   2.1s\n",
            "[CV] max_depth=7, n_estimators=60 ....................................\n",
            "[CV]  max_depth=7, n_estimators=60, score=(train=0.000, test=0.000), total=   2.1s\n",
            "[CV] max_depth=7, n_estimators=70 ....................................\n",
            "[CV]  max_depth=7, n_estimators=70, score=(train=0.000, test=0.000), total=   2.4s\n",
            "[CV] max_depth=7, n_estimators=70 ....................................\n",
            "[CV]  max_depth=7, n_estimators=70, score=(train=0.000, test=0.000), total=   2.4s\n",
            "[CV] max_depth=7, n_estimators=80 ....................................\n",
            "[CV]  max_depth=7, n_estimators=80, score=(train=0.000, test=0.000), total=   2.8s\n",
            "[CV] max_depth=7, n_estimators=80 ....................................\n",
            "[CV]  max_depth=7, n_estimators=80, score=(train=0.000, test=0.000), total=   2.8s\n",
            "[CV] max_depth=7, n_estimators=100 ...................................\n",
            "[CV]  max_depth=7, n_estimators=100, score=(train=0.000, test=0.000), total=   3.5s\n",
            "[CV] max_depth=7, n_estimators=100 ...................................\n",
            "[CV]  max_depth=7, n_estimators=100, score=(train=0.000, test=0.000), total=   3.5s\n",
            "[CV] max_depth=7, n_estimators=150 ...................................\n",
            "[CV]  max_depth=7, n_estimators=150, score=(train=0.000, test=0.000), total=   5.2s\n",
            "[CV] max_depth=7, n_estimators=150 ...................................\n",
            "[CV]  max_depth=7, n_estimators=150, score=(train=0.000, test=0.000), total=   5.2s\n",
            "[CV] max_depth=7, n_estimators=200 ...................................\n",
            "[CV]  max_depth=7, n_estimators=200, score=(train=0.000, test=0.000), total=   6.9s\n",
            "[CV] max_depth=7, n_estimators=200 ...................................\n",
            "[CV]  max_depth=7, n_estimators=200, score=(train=0.000, test=0.000), total=   6.9s\n",
            "[CV] max_depth=7, n_estimators=300 ...................................\n",
            "[CV]  max_depth=7, n_estimators=300, score=(train=0.000, test=0.000), total=  10.4s\n",
            "[CV] max_depth=7, n_estimators=300 ...................................\n",
            "[CV]  max_depth=7, n_estimators=300, score=(train=0.000, test=0.000), total=  10.5s\n",
            "[CV] max_depth=7, n_estimators=500 ...................................\n",
            "[CV]  max_depth=7, n_estimators=500, score=(train=0.000, test=0.000), total=  17.1s\n",
            "[CV] max_depth=7, n_estimators=500 ...................................\n",
            "[CV]  max_depth=7, n_estimators=500, score=(train=0.000, test=0.000), total=  17.3s\n",
            "[CV] max_depth=7, n_estimators=1000 ..................................\n",
            "[CV]  max_depth=7, n_estimators=1000, score=(train=0.000, test=0.000), total=  34.3s\n",
            "[CV] max_depth=7, n_estimators=1000 ..................................\n",
            "[CV]  max_depth=7, n_estimators=1000, score=(train=0.000, test=0.000), total=  34.2s\n",
            "[CV] max_depth=8, n_estimators=1 .....................................\n",
            "[CV]  max_depth=8, n_estimators=1, score=(train=0.026, test=0.002), total=   0.1s\n",
            "[CV] max_depth=8, n_estimators=1 .....................................\n",
            "[CV]  max_depth=8, n_estimators=1, score=(train=0.041, test=0.015), total=   0.1s\n",
            "[CV] max_depth=8, n_estimators=2 .....................................\n",
            "[CV]  max_depth=8, n_estimators=2, score=(train=0.081, test=0.026), total=   0.1s\n",
            "[CV] max_depth=8, n_estimators=2 .....................................\n",
            "[CV]  max_depth=8, n_estimators=2, score=(train=0.085, test=0.039), total=   0.1s\n",
            "[CV] max_depth=8, n_estimators=4 .....................................\n",
            "[CV]  max_depth=8, n_estimators=4, score=(train=0.002, test=0.000), total=   0.2s\n",
            "[CV] max_depth=8, n_estimators=4 .....................................\n",
            "[CV]  max_depth=8, n_estimators=4, score=(train=0.022, test=0.022), total=   0.2s\n",
            "[CV] max_depth=8, n_estimators=5 .....................................\n",
            "[CV]  max_depth=8, n_estimators=5, score=(train=0.000, test=0.000), total=   0.2s\n",
            "[CV] max_depth=8, n_estimators=5 .....................................\n",
            "[CV]  max_depth=8, n_estimators=5, score=(train=0.018, test=0.018), total=   0.2s\n",
            "[CV] max_depth=8, n_estimators=10 ....................................\n",
            "[CV]  max_depth=8, n_estimators=10, score=(train=0.000, test=0.000), total=   0.4s\n",
            "[CV] max_depth=8, n_estimators=10 ....................................\n",
            "[CV]  max_depth=8, n_estimators=10, score=(train=0.018, test=0.018), total=   0.4s\n",
            "[CV] max_depth=8, n_estimators=20 ....................................\n",
            "[CV]  max_depth=8, n_estimators=20, score=(train=0.000, test=0.000), total=   0.8s\n",
            "[CV] max_depth=8, n_estimators=20 ....................................\n",
            "[CV]  max_depth=8, n_estimators=20, score=(train=0.000, test=0.000), total=   0.8s\n",
            "[CV] max_depth=8, n_estimators=40 ....................................\n",
            "[CV]  max_depth=8, n_estimators=40, score=(train=0.000, test=0.000), total=   1.6s\n",
            "[CV] max_depth=8, n_estimators=40 ....................................\n",
            "[CV]  max_depth=8, n_estimators=40, score=(train=0.000, test=0.000), total=   1.6s\n",
            "[CV] max_depth=8, n_estimators=50 ....................................\n",
            "[CV]  max_depth=8, n_estimators=50, score=(train=0.000, test=0.000), total=   2.0s\n",
            "[CV] max_depth=8, n_estimators=50 ....................................\n",
            "[CV]  max_depth=8, n_estimators=50, score=(train=0.000, test=0.000), total=   2.0s\n",
            "[CV] max_depth=8, n_estimators=60 ....................................\n",
            "[CV]  max_depth=8, n_estimators=60, score=(train=0.000, test=0.000), total=   2.3s\n",
            "[CV] max_depth=8, n_estimators=60 ....................................\n",
            "[CV]  max_depth=8, n_estimators=60, score=(train=0.000, test=0.000), total=   2.3s\n",
            "[CV] max_depth=8, n_estimators=70 ....................................\n",
            "[CV]  max_depth=8, n_estimators=70, score=(train=0.000, test=0.000), total=   2.7s\n",
            "[CV] max_depth=8, n_estimators=70 ....................................\n",
            "[CV]  max_depth=8, n_estimators=70, score=(train=0.000, test=0.000), total=   2.8s\n",
            "[CV] max_depth=8, n_estimators=80 ....................................\n",
            "[CV]  max_depth=8, n_estimators=80, score=(train=0.000, test=0.000), total=   3.1s\n",
            "[CV] max_depth=8, n_estimators=80 ....................................\n",
            "[CV]  max_depth=8, n_estimators=80, score=(train=0.000, test=0.000), total=   3.1s\n",
            "[CV] max_depth=8, n_estimators=100 ...................................\n",
            "[CV]  max_depth=8, n_estimators=100, score=(train=0.000, test=0.000), total=   3.9s\n",
            "[CV] max_depth=8, n_estimators=100 ...................................\n",
            "[CV]  max_depth=8, n_estimators=100, score=(train=0.000, test=0.000), total=   3.9s\n",
            "[CV] max_depth=8, n_estimators=150 ...................................\n",
            "[CV]  max_depth=8, n_estimators=150, score=(train=0.000, test=0.000), total=   5.8s\n",
            "[CV] max_depth=8, n_estimators=150 ...................................\n",
            "[CV]  max_depth=8, n_estimators=150, score=(train=0.000, test=0.000), total=   5.8s\n",
            "[CV] max_depth=8, n_estimators=200 ...................................\n",
            "[CV]  max_depth=8, n_estimators=200, score=(train=0.000, test=0.000), total=   7.8s\n",
            "[CV] max_depth=8, n_estimators=200 ...................................\n",
            "[CV]  max_depth=8, n_estimators=200, score=(train=0.000, test=0.000), total=   7.8s\n",
            "[CV] max_depth=8, n_estimators=300 ...................................\n",
            "[CV]  max_depth=8, n_estimators=300, score=(train=0.000, test=0.000), total=  11.5s\n",
            "[CV] max_depth=8, n_estimators=300 ...................................\n",
            "[CV]  max_depth=8, n_estimators=300, score=(train=0.000, test=0.000), total=  11.6s\n",
            "[CV] max_depth=8, n_estimators=500 ...................................\n",
            "[CV]  max_depth=8, n_estimators=500, score=(train=0.000, test=0.000), total=  19.2s\n",
            "[CV] max_depth=8, n_estimators=500 ...................................\n",
            "[CV]  max_depth=8, n_estimators=500, score=(train=0.000, test=0.000), total=  19.3s\n",
            "[CV] max_depth=8, n_estimators=1000 ..................................\n",
            "[CV]  max_depth=8, n_estimators=1000, score=(train=0.000, test=0.000), total=  38.7s\n",
            "[CV] max_depth=8, n_estimators=1000 ..................................\n",
            "[CV]  max_depth=8, n_estimators=1000, score=(train=0.000, test=0.000), total=  38.6s\n",
            "[CV] max_depth=9, n_estimators=1 .....................................\n",
            "[CV]  max_depth=9, n_estimators=1, score=(train=0.085, test=0.067), total=   0.1s\n",
            "[CV] max_depth=9, n_estimators=1 .....................................\n",
            "[CV]  max_depth=9, n_estimators=1, score=(train=0.058, test=0.039), total=   0.1s\n",
            "[CV] max_depth=9, n_estimators=2 .....................................\n",
            "[CV]  max_depth=9, n_estimators=2, score=(train=0.140, test=0.089), total=   0.1s\n",
            "[CV] max_depth=9, n_estimators=2 .....................................\n",
            "[CV]  max_depth=9, n_estimators=2, score=(train=0.098, test=0.054), total=   0.1s\n",
            "[CV] max_depth=9, n_estimators=4 .....................................\n",
            "[CV]  max_depth=9, n_estimators=4, score=(train=0.002, test=0.000), total=   0.2s\n",
            "[CV] max_depth=9, n_estimators=4 .....................................\n",
            "[CV]  max_depth=9, n_estimators=4, score=(train=0.022, test=0.024), total=   0.2s\n",
            "[CV] max_depth=9, n_estimators=5 .....................................\n",
            "[CV]  max_depth=9, n_estimators=5, score=(train=0.000, test=0.000), total=   0.3s\n",
            "[CV] max_depth=9, n_estimators=5 .....................................\n",
            "[CV]  max_depth=9, n_estimators=5, score=(train=0.018, test=0.022), total=   0.2s\n",
            "[CV] max_depth=9, n_estimators=10 ....................................\n",
            "[CV]  max_depth=9, n_estimators=10, score=(train=0.000, test=0.000), total=   0.5s\n",
            "[CV] max_depth=9, n_estimators=10 ....................................\n",
            "[CV]  max_depth=9, n_estimators=10, score=(train=0.048, test=0.056), total=   0.5s\n",
            "[CV] max_depth=9, n_estimators=20 ....................................\n",
            "[CV]  max_depth=9, n_estimators=20, score=(train=0.000, test=0.000), total=   0.9s\n",
            "[CV] max_depth=9, n_estimators=20 ....................................\n",
            "[CV]  max_depth=9, n_estimators=20, score=(train=0.000, test=0.000), total=   0.9s\n",
            "[CV] max_depth=9, n_estimators=40 ....................................\n",
            "[CV]  max_depth=9, n_estimators=40, score=(train=0.000, test=0.000), total=   1.7s\n",
            "[CV] max_depth=9, n_estimators=40 ....................................\n",
            "[CV]  max_depth=9, n_estimators=40, score=(train=0.000, test=0.000), total=   1.7s\n",
            "[CV] max_depth=9, n_estimators=50 ....................................\n",
            "[CV]  max_depth=9, n_estimators=50, score=(train=0.000, test=0.000), total=   2.2s\n",
            "[CV] max_depth=9, n_estimators=50 ....................................\n",
            "[CV]  max_depth=9, n_estimators=50, score=(train=0.000, test=0.000), total=   2.2s\n",
            "[CV] max_depth=9, n_estimators=60 ....................................\n",
            "[CV]  max_depth=9, n_estimators=60, score=(train=0.000, test=0.000), total=   2.7s\n",
            "[CV] max_depth=9, n_estimators=60 ....................................\n",
            "[CV]  max_depth=9, n_estimators=60, score=(train=0.000, test=0.000), total=   2.6s\n",
            "[CV] max_depth=9, n_estimators=70 ....................................\n",
            "[CV]  max_depth=9, n_estimators=70, score=(train=0.000, test=0.000), total=   3.0s\n",
            "[CV] max_depth=9, n_estimators=70 ....................................\n",
            "[CV]  max_depth=9, n_estimators=70, score=(train=0.000, test=0.000), total=   3.0s\n",
            "[CV] max_depth=9, n_estimators=80 ....................................\n",
            "[CV]  max_depth=9, n_estimators=80, score=(train=0.000, test=0.000), total=   3.4s\n",
            "[CV] max_depth=9, n_estimators=80 ....................................\n",
            "[CV]  max_depth=9, n_estimators=80, score=(train=0.000, test=0.000), total=   3.5s\n",
            "[CV] max_depth=9, n_estimators=100 ...................................\n",
            "[CV]  max_depth=9, n_estimators=100, score=(train=0.000, test=0.000), total=   4.3s\n",
            "[CV] max_depth=9, n_estimators=100 ...................................\n",
            "[CV]  max_depth=9, n_estimators=100, score=(train=0.000, test=0.000), total=   4.4s\n",
            "[CV] max_depth=9, n_estimators=150 ...................................\n",
            "[CV]  max_depth=9, n_estimators=150, score=(train=0.000, test=0.000), total=   6.5s\n",
            "[CV] max_depth=9, n_estimators=150 ...................................\n",
            "[CV]  max_depth=9, n_estimators=150, score=(train=0.000, test=0.000), total=   6.5s\n",
            "[CV] max_depth=9, n_estimators=200 ...................................\n",
            "[CV]  max_depth=9, n_estimators=200, score=(train=0.000, test=0.000), total=   8.6s\n",
            "[CV] max_depth=9, n_estimators=200 ...................................\n",
            "[CV]  max_depth=9, n_estimators=200, score=(train=0.000, test=0.000), total=   8.7s\n",
            "[CV] max_depth=9, n_estimators=300 ...................................\n",
            "[CV]  max_depth=9, n_estimators=300, score=(train=0.000, test=0.000), total=  12.8s\n",
            "[CV] max_depth=9, n_estimators=300 ...................................\n",
            "[CV]  max_depth=9, n_estimators=300, score=(train=0.000, test=0.000), total=  12.9s\n",
            "[CV] max_depth=9, n_estimators=500 ...................................\n",
            "[CV]  max_depth=9, n_estimators=500, score=(train=0.000, test=0.000), total=  21.4s\n",
            "[CV] max_depth=9, n_estimators=500 ...................................\n",
            "[CV]  max_depth=9, n_estimators=500, score=(train=0.000, test=0.000), total=  25.9s\n",
            "[CV] max_depth=9, n_estimators=1000 ..................................\n",
            "[CV]  max_depth=9, n_estimators=1000, score=(train=0.000, test=0.000), total=  43.3s\n",
            "[CV] max_depth=9, n_estimators=1000 ..................................\n",
            "[CV]  max_depth=9, n_estimators=1000, score=(train=0.000, test=0.000), total=  42.9s\n",
            "[CV] max_depth=10, n_estimators=1 ....................................\n",
            "[CV]  max_depth=10, n_estimators=1, score=(train=0.089, test=0.067), total=   0.1s\n",
            "[CV] max_depth=10, n_estimators=1 ....................................\n",
            "[CV]  max_depth=10, n_estimators=1, score=(train=0.061, test=0.039), total=   0.1s\n",
            "[CV] max_depth=10, n_estimators=2 ....................................\n",
            "[CV]  max_depth=10, n_estimators=2, score=(train=0.144, test=0.089), total=   0.1s\n",
            "[CV] max_depth=10, n_estimators=2 ....................................\n",
            "[CV]  max_depth=10, n_estimators=2, score=(train=0.100, test=0.054), total=   0.1s\n",
            "[CV] max_depth=10, n_estimators=4 ....................................\n",
            "[CV]  max_depth=10, n_estimators=4, score=(train=0.009, test=0.002), total=   0.2s\n",
            "[CV] max_depth=10, n_estimators=4 ....................................\n",
            "[CV]  max_depth=10, n_estimators=4, score=(train=0.022, test=0.026), total=   0.2s\n",
            "[CV] max_depth=10, n_estimators=5 ....................................\n",
            "[CV]  max_depth=10, n_estimators=5, score=(train=0.007, test=0.002), total=   0.3s\n",
            "[CV] max_depth=10, n_estimators=5 ....................................\n",
            "[CV]  max_depth=10, n_estimators=5, score=(train=0.018, test=0.022), total=   0.3s\n",
            "[CV] max_depth=10, n_estimators=10 ...................................\n",
            "[CV]  max_depth=10, n_estimators=10, score=(train=0.000, test=0.000), total=   0.5s\n",
            "[CV] max_depth=10, n_estimators=10 ...................................\n",
            "[CV]  max_depth=10, n_estimators=10, score=(train=0.048, test=0.056), total=   0.5s\n",
            "[CV] max_depth=10, n_estimators=20 ...................................\n",
            "[CV]  max_depth=10, n_estimators=20, score=(train=0.000, test=0.000), total=   1.0s\n",
            "[CV] max_depth=10, n_estimators=20 ...................................\n",
            "[CV]  max_depth=10, n_estimators=20, score=(train=0.000, test=0.000), total=   1.0s\n",
            "[CV] max_depth=10, n_estimators=40 ...................................\n",
            "[CV]  max_depth=10, n_estimators=40, score=(train=0.000, test=0.000), total=   1.9s\n",
            "[CV] max_depth=10, n_estimators=40 ...................................\n",
            "[CV]  max_depth=10, n_estimators=40, score=(train=0.024, test=0.024), total=   1.9s\n",
            "[CV] max_depth=10, n_estimators=50 ...................................\n",
            "[CV]  max_depth=10, n_estimators=50, score=(train=0.000, test=0.000), total=   2.4s\n",
            "[CV] max_depth=10, n_estimators=50 ...................................\n",
            "[CV]  max_depth=10, n_estimators=50, score=(train=0.000, test=0.000), total=   2.4s\n",
            "[CV] max_depth=10, n_estimators=60 ...................................\n",
            "[CV]  max_depth=10, n_estimators=60, score=(train=0.000, test=0.000), total=   2.8s\n",
            "[CV] max_depth=10, n_estimators=60 ...................................\n",
            "[CV]  max_depth=10, n_estimators=60, score=(train=0.000, test=0.000), total=   2.9s\n",
            "[CV] max_depth=10, n_estimators=70 ...................................\n",
            "[CV]  max_depth=10, n_estimators=70, score=(train=0.000, test=0.000), total=   3.3s\n",
            "[CV] max_depth=10, n_estimators=70 ...................................\n",
            "[CV]  max_depth=10, n_estimators=70, score=(train=0.000, test=0.000), total=   3.3s\n",
            "[CV] max_depth=10, n_estimators=80 ...................................\n",
            "[CV]  max_depth=10, n_estimators=80, score=(train=0.000, test=0.000), total=   3.8s\n",
            "[CV] max_depth=10, n_estimators=80 ...................................\n",
            "[CV]  max_depth=10, n_estimators=80, score=(train=0.000, test=0.000), total=   3.9s\n",
            "[CV] max_depth=10, n_estimators=100 ..................................\n",
            "[CV]  max_depth=10, n_estimators=100, score=(train=0.000, test=0.000), total=   4.8s\n",
            "[CV] max_depth=10, n_estimators=100 ..................................\n",
            "[CV]  max_depth=10, n_estimators=100, score=(train=0.000, test=0.000), total=   4.8s\n",
            "[CV] max_depth=10, n_estimators=150 ..................................\n",
            "[CV]  max_depth=10, n_estimators=150, score=(train=0.000, test=0.000), total=   7.0s\n",
            "[CV] max_depth=10, n_estimators=150 ..................................\n",
            "[CV]  max_depth=10, n_estimators=150, score=(train=0.000, test=0.000), total=   7.1s\n",
            "[CV] max_depth=10, n_estimators=200 ..................................\n",
            "[CV]  max_depth=10, n_estimators=200, score=(train=0.000, test=0.000), total=   9.4s\n",
            "[CV] max_depth=10, n_estimators=200 ..................................\n",
            "[CV]  max_depth=10, n_estimators=200, score=(train=0.000, test=0.000), total=   9.6s\n",
            "[CV] max_depth=10, n_estimators=300 ..................................\n",
            "[CV]  max_depth=10, n_estimators=300, score=(train=0.000, test=0.000), total=  14.1s\n",
            "[CV] max_depth=10, n_estimators=300 ..................................\n",
            "[CV]  max_depth=10, n_estimators=300, score=(train=0.000, test=0.000), total=  14.2s\n",
            "[CV] max_depth=10, n_estimators=500 ..................................\n",
            "[CV]  max_depth=10, n_estimators=500, score=(train=0.000, test=0.000), total=  23.5s\n",
            "[CV] max_depth=10, n_estimators=500 ..................................\n",
            "[CV]  max_depth=10, n_estimators=500, score=(train=0.000, test=0.000), total=  23.6s\n",
            "[CV] max_depth=10, n_estimators=1000 .................................\n",
            "[CV]  max_depth=10, n_estimators=1000, score=(train=0.000, test=0.000), total=  47.2s\n",
            "[CV] max_depth=10, n_estimators=1000 .................................\n",
            "[CV]  max_depth=10, n_estimators=1000, score=(train=0.000, test=0.000), total=  47.0s\n"
          ],
          "name": "stdout"
        },
        {
          "output_type": "stream",
          "text": [
            "[Parallel(n_jobs=1)]: Done 340 out of 340 | elapsed: 217.6min finished\n"
          ],
          "name": "stderr"
        },
        {
          "output_type": "stream",
          "text": [
            "best parameters: {'max_depth': None, 'n_estimators': 5}\n"
          ],
          "name": "stdout"
        }
      ]
    },
    {
      "cell_type": "code",
      "metadata": {
        "id": "MeuiOdXRanaf",
        "colab_type": "code",
        "outputId": "2a1cbba8-4761-4aee-e4a3-02ef9dccbd2d",
        "colab": {
          "base_uri": "https://localhost:8080/",
          "height": 314
        }
      },
      "source": [
        "clf_random_forest = RandomForestClassifier(random_state=345,n_estimators = 5,max_depth=None).fit(X_train_tfidf,y_train)\n",
        "y_pred = clf_random_forest.predict(X_test_tfidf)\n",
        "print(\"for random forest tfidf\")\n",
        "plt_confusion_matrix(y_test,y_pred) \n",
        "table.add_row(['RF-tfidf',{'max_depth': None, 'n_estimators': 5},f1_score(y_test,y_pred),clf_random_forest.score(X_test_tfidf,y_test)])\n"
      ],
      "execution_count": 0,
      "outputs": [
        {
          "output_type": "stream",
          "text": [
            "for random forest tfidf\n"
          ],
          "name": "stdout"
        },
        {
          "output_type": "display_data",
          "data": {
            "image/png": "[encoded data removed]",
            "text/plain": [
              "<Figure size 432x288 with 2 Axes>"
            ]
          },
          "metadata": {
            "tags": []
          }
        }
      ]
    },
    {
      "cell_type": "code",
      "metadata": {
        "id": "CAhF4x3vsxu4",
        "colab_type": "code",
        "outputId": "41397222-30ba-4cd0-cec3-944250461faf",
        "colab": {
          "base_uri": "https://localhost:8080/",
          "height": 1000
        }
      },
      "source": [
        "grid={\"n_estimators\":[1,2,4,5,10,20,40, 50,60,70,80,100, 150, 200, 300, 500, 1000], \"max_depth\":[None,2, 3, 4, 5, 6, 7, 8, 9, 10]}\n",
        "#bow\n",
        "clf_random_forest = RandomForestClassifier(random_state=345)\n",
        "rf_cv=gridsearch(X_train_bow,y_train,clf_random_forest,grid,scorer)\n",
        "params=rf_cv.best_params_\n",
        "clf_random_forest = RandomForestClassifier(random_state=345,n_estimators = params['n_estimators'],max_depth=params['max_depth']).fit(X_train_bow,y_train)\n",
        "y_pred = clf_random_forest.predict(X_test_bow)\n",
        "print(\"for random forest bow\")\n",
        "plt_confusion_matrix(y_test,y_pred) \n",
        "table.add_row(['RF-bow',rf_cv.best_params_,f1_score(y_test,y_pred),clf_random_forest.score(X_test_bow,y_test)])\n",
        "print(table)"
      ],
      "execution_count": 0,
      "outputs": [
        {
          "output_type": "stream",
          "text": [
            "Fitting 2 folds for each of 170 candidates, totalling 340 fits\n",
            "[CV] max_depth=None, n_estimators=1 ..................................\n"
          ],
          "name": "stdout"
        },
        {
          "output_type": "stream",
          "text": [
            "[Parallel(n_jobs=1)]: Using backend SequentialBackend with 1 concurrent workers.\n"
          ],
          "name": "stderr"
        },
        {
          "output_type": "stream",
          "text": [
            "[CV]  max_depth=None, n_estimators=1, score=(train=0.811, test=0.491), total=   0.3s\n",
            "[CV] max_depth=None, n_estimators=1 ..................................\n"
          ],
          "name": "stdout"
        },
        {
          "output_type": "stream",
          "text": [
            "[Parallel(n_jobs=1)]: Done   1 out of   1 | elapsed:    0.3s remaining:    0.0s\n"
          ],
          "name": "stderr"
        },
        {
          "output_type": "stream",
          "text": [
            "[CV]  max_depth=None, n_estimators=1, score=(train=0.821, test=0.494), total=   0.2s\n",
            "[CV] max_depth=None, n_estimators=2 ..................................\n"
          ],
          "name": "stdout"
        },
        {
          "output_type": "stream",
          "text": [
            "[Parallel(n_jobs=1)]: Done   2 out of   2 | elapsed:    0.5s remaining:    0.0s\n"
          ],
          "name": "stderr"
        },
        {
          "output_type": "stream",
          "text": [
            "[CV]  max_depth=None, n_estimators=2, score=(train=0.787, test=0.424), total=   0.5s\n",
            "[CV] max_depth=None, n_estimators=2 ..................................\n"
          ],
          "name": "stdout"
        },
        {
          "output_type": "stream",
          "text": [
            "[Parallel(n_jobs=1)]: Done   3 out of   3 | elapsed:    1.0s remaining:    0.0s\n"
          ],
          "name": "stderr"
        },
        {
          "output_type": "stream",
          "text": [
            "[CV]  max_depth=None, n_estimators=2, score=(train=0.788, test=0.450), total=   0.5s\n",
            "[CV] max_depth=None, n_estimators=4 ..................................\n"
          ],
          "name": "stdout"
        },
        {
          "output_type": "stream",
          "text": [
            "[Parallel(n_jobs=1)]: Done   4 out of   4 | elapsed:    1.5s remaining:    0.0s\n"
          ],
          "name": "stderr"
        },
        {
          "output_type": "stream",
          "text": [
            "[CV]  max_depth=None, n_estimators=4, score=(train=0.883, test=0.481), total=   0.9s\n",
            "[CV] max_depth=None, n_estimators=4 ..................................\n"
          ],
          "name": "stdout"
        },
        {
          "output_type": "stream",
          "text": [
            "[Parallel(n_jobs=1)]: Done   5 out of   5 | elapsed:    2.5s remaining:    0.0s\n"
          ],
          "name": "stderr"
        },
        {
          "output_type": "stream",
          "text": [
            "[CV]  max_depth=None, n_estimators=4, score=(train=0.884, test=0.524), total=   0.9s\n",
            "[CV] max_depth=None, n_estimators=5 ..................................\n"
          ],
          "name": "stdout"
        },
        {
          "output_type": "stream",
          "text": [
            "[Parallel(n_jobs=1)]: Done   6 out of   6 | elapsed:    3.4s remaining:    0.0s\n"
          ],
          "name": "stderr"
        },
        {
          "output_type": "stream",
          "text": [
            "[CV]  max_depth=None, n_estimators=5, score=(train=0.943, test=0.525), total=   1.1s\n",
            "[CV] max_depth=None, n_estimators=5 ..................................\n"
          ],
          "name": "stdout"
        },
        {
          "output_type": "stream",
          "text": [
            "[Parallel(n_jobs=1)]: Done   7 out of   7 | elapsed:    4.6s remaining:    0.0s\n"
          ],
          "name": "stderr"
        },
        {
          "output_type": "stream",
          "text": [
            "[CV]  max_depth=None, n_estimators=5, score=(train=0.946, test=0.583), total=   1.1s\n",
            "[CV] max_depth=None, n_estimators=10 .................................\n"
          ],
          "name": "stdout"
        },
        {
          "output_type": "stream",
          "text": [
            "[Parallel(n_jobs=1)]: Done   8 out of   8 | elapsed:    5.8s remaining:    0.0s\n"
          ],
          "name": "stderr"
        },
        {
          "output_type": "stream",
          "text": [
            "[CV]  max_depth=None, n_estimators=10, score=(train=0.955, test=0.545), total=   2.2s\n",
            "[CV] max_depth=None, n_estimators=10 .................................\n"
          ],
          "name": "stdout"
        },
        {
          "output_type": "stream",
          "text": [
            "[Parallel(n_jobs=1)]: Done   9 out of   9 | elapsed:    8.1s remaining:    0.0s\n"
          ],
          "name": "stderr"
        },
        {
          "output_type": "stream",
          "text": [
            "[CV]  max_depth=None, n_estimators=10, score=(train=0.966, test=0.579), total=   2.2s\n",
            "[CV] max_depth=None, n_estimators=20 .................................\n",
            "[CV]  max_depth=None, n_estimators=20, score=(train=0.984, test=0.558), total=   4.5s\n",
            "[CV] max_depth=None, n_estimators=20 .................................\n",
            "[CV]  max_depth=None, n_estimators=20, score=(train=0.988, test=0.598), total=   4.5s\n",
            "[CV] max_depth=None, n_estimators=40 .................................\n",
            "[CV]  max_depth=None, n_estimators=40, score=(train=0.998, test=0.569), total=   9.1s\n",
            "[CV] max_depth=None, n_estimators=40 .................................\n",
            "[CV]  max_depth=None, n_estimators=40, score=(train=0.997, test=0.597), total=   9.1s\n",
            "[CV] max_depth=None, n_estimators=50 .................................\n",
            "[CV]  max_depth=None, n_estimators=50, score=(train=0.998, test=0.561), total=  11.4s\n",
            "[CV] max_depth=None, n_estimators=50 .................................\n",
            "[CV]  max_depth=None, n_estimators=50, score=(train=0.998, test=0.594), total=  11.4s\n",
            "[CV] max_depth=None, n_estimators=60 .................................\n",
            "[CV]  max_depth=None, n_estimators=60, score=(train=0.998, test=0.561), total=  13.6s\n",
            "[CV] max_depth=None, n_estimators=60 .................................\n",
            "[CV]  max_depth=None, n_estimators=60, score=(train=0.998, test=0.598), total=  13.6s\n",
            "[CV] max_depth=None, n_estimators=70 .................................\n",
            "[CV]  max_depth=None, n_estimators=70, score=(train=0.998, test=0.558), total=  16.1s\n",
            "[CV] max_depth=None, n_estimators=70 .................................\n",
            "[CV]  max_depth=None, n_estimators=70, score=(train=0.999, test=0.602), total=  15.8s\n",
            "[CV] max_depth=None, n_estimators=80 .................................\n",
            "[CV]  max_depth=None, n_estimators=80, score=(train=0.998, test=0.566), total=  18.2s\n",
            "[CV] max_depth=None, n_estimators=80 .................................\n",
            "[CV]  max_depth=None, n_estimators=80, score=(train=0.999, test=0.605), total=  18.0s\n",
            "[CV] max_depth=None, n_estimators=100 ................................\n",
            "[CV]  max_depth=None, n_estimators=100, score=(train=0.998, test=0.573), total=  23.0s\n",
            "[CV] max_depth=None, n_estimators=100 ................................\n",
            "[CV]  max_depth=None, n_estimators=100, score=(train=0.998, test=0.605), total=  22.6s\n",
            "[CV] max_depth=None, n_estimators=150 ................................\n",
            "[CV]  max_depth=None, n_estimators=150, score=(train=0.998, test=0.571), total=  34.4s\n",
            "[CV] max_depth=None, n_estimators=150 ................................\n",
            "[CV]  max_depth=None, n_estimators=150, score=(train=0.999, test=0.605), total=  34.3s\n",
            "[CV] max_depth=None, n_estimators=200 ................................\n",
            "[CV]  max_depth=None, n_estimators=200, score=(train=0.998, test=0.568), total=  45.4s\n",
            "[CV] max_depth=None, n_estimators=200 ................................\n",
            "[CV]  max_depth=None, n_estimators=200, score=(train=0.999, test=0.605), total=  45.5s\n",
            "[CV] max_depth=None, n_estimators=300 ................................\n",
            "[CV]  max_depth=None, n_estimators=300, score=(train=0.998, test=0.571), total= 1.1min\n",
            "[CV] max_depth=None, n_estimators=300 ................................\n",
            "[CV]  max_depth=None, n_estimators=300, score=(train=0.999, test=0.599), total= 1.1min\n",
            "[CV] max_depth=None, n_estimators=500 ................................\n",
            "[CV]  max_depth=None, n_estimators=500, score=(train=0.998, test=0.569), total= 1.9min\n",
            "[CV] max_depth=None, n_estimators=500 ................................\n",
            "[CV]  max_depth=None, n_estimators=500, score=(train=0.999, test=0.601), total= 1.9min\n",
            "[CV] max_depth=None, n_estimators=1000 ...............................\n",
            "[CV]  max_depth=None, n_estimators=1000, score=(train=0.998, test=0.568), total= 3.8min\n",
            "[CV] max_depth=None, n_estimators=1000 ...............................\n",
            "[CV]  max_depth=None, n_estimators=1000, score=(train=0.999, test=0.610), total= 3.8min\n",
            "[CV] max_depth=2, n_estimators=1 .....................................\n",
            "[CV]  max_depth=2, n_estimators=1, score=(train=0.033, test=0.029), total=   0.0s\n",
            "[CV] max_depth=2, n_estimators=1 .....................................\n",
            "[CV]  max_depth=2, n_estimators=1, score=(train=0.024, test=0.009), total=   0.0s\n",
            "[CV] max_depth=2, n_estimators=2 .....................................\n",
            "[CV]  max_depth=2, n_estimators=2, score=(train=0.033, test=0.031), total=   0.0s\n",
            "[CV] max_depth=2, n_estimators=2 .....................................\n",
            "[CV]  max_depth=2, n_estimators=2, score=(train=0.039, test=0.035), total=   0.0s\n",
            "[CV] max_depth=2, n_estimators=4 .....................................\n",
            "[CV]  max_depth=2, n_estimators=4, score=(train=0.000, test=0.000), total=   0.0s\n",
            "[CV] max_depth=2, n_estimators=4 .....................................\n",
            "[CV]  max_depth=2, n_estimators=4, score=(train=0.002, test=0.000), total=   0.0s\n",
            "[CV] max_depth=2, n_estimators=5 .....................................\n",
            "[CV]  max_depth=2, n_estimators=5, score=(train=0.000, test=0.000), total=   0.0s\n",
            "[CV] max_depth=2, n_estimators=5 .....................................\n",
            "[CV]  max_depth=2, n_estimators=5, score=(train=0.000, test=0.000), total=   0.0s\n",
            "[CV] max_depth=2, n_estimators=10 ....................................\n",
            "[CV]  max_depth=2, n_estimators=10, score=(train=0.000, test=0.000), total=   0.1s\n",
            "[CV] max_depth=2, n_estimators=10 ....................................\n",
            "[CV]  max_depth=2, n_estimators=10, score=(train=0.000, test=0.000), total=   0.1s\n",
            "[CV] max_depth=2, n_estimators=20 ....................................\n",
            "[CV]  max_depth=2, n_estimators=20, score=(train=0.000, test=0.000), total=   0.1s\n",
            "[CV] max_depth=2, n_estimators=20 ....................................\n",
            "[CV]  max_depth=2, n_estimators=20, score=(train=0.000, test=0.000), total=   0.1s\n",
            "[CV] max_depth=2, n_estimators=40 ....................................\n",
            "[CV]  max_depth=2, n_estimators=40, score=(train=0.000, test=0.000), total=   0.2s\n",
            "[CV] max_depth=2, n_estimators=40 ....................................\n",
            "[CV]  max_depth=2, n_estimators=40, score=(train=0.000, test=0.000), total=   0.2s\n",
            "[CV] max_depth=2, n_estimators=50 ....................................\n",
            "[CV]  max_depth=2, n_estimators=50, score=(train=0.000, test=0.000), total=   0.2s\n",
            "[CV] max_depth=2, n_estimators=50 ....................................\n",
            "[CV]  max_depth=2, n_estimators=50, score=(train=0.000, test=0.000), total=   0.2s\n",
            "[CV] max_depth=2, n_estimators=60 ....................................\n",
            "[CV]  max_depth=2, n_estimators=60, score=(train=0.000, test=0.000), total=   0.3s\n",
            "[CV] max_depth=2, n_estimators=60 ....................................\n",
            "[CV]  max_depth=2, n_estimators=60, score=(train=0.000, test=0.000), total=   0.3s\n",
            "[CV] max_depth=2, n_estimators=70 ....................................\n",
            "[CV]  max_depth=2, n_estimators=70, score=(train=0.000, test=0.000), total=   0.3s\n",
            "[CV] max_depth=2, n_estimators=70 ....................................\n",
            "[CV]  max_depth=2, n_estimators=70, score=(train=0.000, test=0.000), total=   0.3s\n",
            "[CV] max_depth=2, n_estimators=80 ....................................\n",
            "[CV]  max_depth=2, n_estimators=80, score=(train=0.000, test=0.000), total=   0.4s\n",
            "[CV] max_depth=2, n_estimators=80 ....................................\n",
            "[CV]  max_depth=2, n_estimators=80, score=(train=0.000, test=0.000), total=   0.4s\n",
            "[CV] max_depth=2, n_estimators=100 ...................................\n",
            "[CV]  max_depth=2, n_estimators=100, score=(train=0.000, test=0.000), total=   0.4s\n",
            "[CV] max_depth=2, n_estimators=100 ...................................\n",
            "[CV]  max_depth=2, n_estimators=100, score=(train=0.000, test=0.000), total=   0.4s\n",
            "[CV] max_depth=2, n_estimators=150 ...................................\n",
            "[CV]  max_depth=2, n_estimators=150, score=(train=0.000, test=0.000), total=   0.6s\n",
            "[CV] max_depth=2, n_estimators=150 ...................................\n",
            "[CV]  max_depth=2, n_estimators=150, score=(train=0.000, test=0.000), total=   0.7s\n",
            "[CV] max_depth=2, n_estimators=200 ...................................\n",
            "[CV]  max_depth=2, n_estimators=200, score=(train=0.000, test=0.000), total=   0.9s\n",
            "[CV] max_depth=2, n_estimators=200 ...................................\n",
            "[CV]  max_depth=2, n_estimators=200, score=(train=0.000, test=0.000), total=   0.9s\n",
            "[CV] max_depth=2, n_estimators=300 ...................................\n",
            "[CV]  max_depth=2, n_estimators=300, score=(train=0.000, test=0.000), total=   1.3s\n",
            "[CV] max_depth=2, n_estimators=300 ...................................\n",
            "[CV]  max_depth=2, n_estimators=300, score=(train=0.000, test=0.000), total=   1.3s\n",
            "[CV] max_depth=2, n_estimators=500 ...................................\n",
            "[CV]  max_depth=2, n_estimators=500, score=(train=0.000, test=0.000), total=   2.1s\n",
            "[CV] max_depth=2, n_estimators=500 ...................................\n",
            "[CV]  max_depth=2, n_estimators=500, score=(train=0.000, test=0.000), total=   2.1s\n",
            "[CV] max_depth=2, n_estimators=1000 ..................................\n",
            "[CV]  max_depth=2, n_estimators=1000, score=(train=0.000, test=0.000), total=   4.1s\n",
            "[CV] max_depth=2, n_estimators=1000 ..................................\n",
            "[CV]  max_depth=2, n_estimators=1000, score=(train=0.000, test=0.000), total=   4.2s\n",
            "[CV] max_depth=3, n_estimators=1 .....................................\n",
            "[CV]  max_depth=3, n_estimators=1, score=(train=0.052, test=0.043), total=   0.0s\n",
            "[CV] max_depth=3, n_estimators=1 .....................................\n",
            "[CV]  max_depth=3, n_estimators=1, score=(train=0.033, test=0.018), total=   0.0s\n",
            "[CV] max_depth=3, n_estimators=2 .....................................\n",
            "[CV]  max_depth=3, n_estimators=2, score=(train=0.050, test=0.039), total=   0.0s\n",
            "[CV] max_depth=3, n_estimators=2 .....................................\n",
            "[CV]  max_depth=3, n_estimators=2, score=(train=0.052, test=0.046), total=   0.0s\n",
            "[CV] max_depth=3, n_estimators=4 .....................................\n",
            "[CV]  max_depth=3, n_estimators=4, score=(train=0.000, test=0.000), total=   0.0s\n",
            "[CV] max_depth=3, n_estimators=4 .....................................\n",
            "[CV]  max_depth=3, n_estimators=4, score=(train=0.002, test=0.000), total=   0.0s\n",
            "[CV] max_depth=3, n_estimators=5 .....................................\n",
            "[CV]  max_depth=3, n_estimators=5, score=(train=0.000, test=0.000), total=   0.0s\n",
            "[CV] max_depth=3, n_estimators=5 .....................................\n",
            "[CV]  max_depth=3, n_estimators=5, score=(train=0.000, test=0.000), total=   0.0s\n",
            "[CV] max_depth=3, n_estimators=10 ....................................\n",
            "[CV]  max_depth=3, n_estimators=10, score=(train=0.000, test=0.000), total=   0.1s\n",
            "[CV] max_depth=3, n_estimators=10 ....................................\n",
            "[CV]  max_depth=3, n_estimators=10, score=(train=0.000, test=0.000), total=   0.1s\n",
            "[CV] max_depth=3, n_estimators=20 ....................................\n",
            "[CV]  max_depth=3, n_estimators=20, score=(train=0.000, test=0.000), total=   0.1s\n",
            "[CV] max_depth=3, n_estimators=20 ....................................\n",
            "[CV]  max_depth=3, n_estimators=20, score=(train=0.000, test=0.000), total=   0.1s\n",
            "[CV] max_depth=3, n_estimators=40 ....................................\n",
            "[CV]  max_depth=3, n_estimators=40, score=(train=0.000, test=0.000), total=   0.2s\n",
            "[CV] max_depth=3, n_estimators=40 ....................................\n",
            "[CV]  max_depth=3, n_estimators=40, score=(train=0.000, test=0.000), total=   0.2s\n",
            "[CV] max_depth=3, n_estimators=50 ....................................\n",
            "[CV]  max_depth=3, n_estimators=50, score=(train=0.000, test=0.000), total=   0.3s\n",
            "[CV] max_depth=3, n_estimators=50 ....................................\n",
            "[CV]  max_depth=3, n_estimators=50, score=(train=0.000, test=0.000), total=   0.3s\n",
            "[CV] max_depth=3, n_estimators=60 ....................................\n",
            "[CV]  max_depth=3, n_estimators=60, score=(train=0.000, test=0.000), total=   0.3s\n",
            "[CV] max_depth=3, n_estimators=60 ....................................\n",
            "[CV]  max_depth=3, n_estimators=60, score=(train=0.000, test=0.000), total=   0.3s\n",
            "[CV] max_depth=3, n_estimators=70 ....................................\n",
            "[CV]  max_depth=3, n_estimators=70, score=(train=0.000, test=0.000), total=   0.4s\n",
            "[CV] max_depth=3, n_estimators=70 ....................................\n",
            "[CV]  max_depth=3, n_estimators=70, score=(train=0.000, test=0.000), total=   0.4s\n",
            "[CV] max_depth=3, n_estimators=80 ....................................\n",
            "[CV]  max_depth=3, n_estimators=80, score=(train=0.000, test=0.000), total=   0.4s\n",
            "[CV] max_depth=3, n_estimators=80 ....................................\n",
            "[CV]  max_depth=3, n_estimators=80, score=(train=0.000, test=0.000), total=   0.4s\n",
            "[CV] max_depth=3, n_estimators=100 ...................................\n",
            "[CV]  max_depth=3, n_estimators=100, score=(train=0.000, test=0.000), total=   0.5s\n",
            "[CV] max_depth=3, n_estimators=100 ...................................\n",
            "[CV]  max_depth=3, n_estimators=100, score=(train=0.000, test=0.000), total=   0.5s\n",
            "[CV] max_depth=3, n_estimators=150 ...................................\n",
            "[CV]  max_depth=3, n_estimators=150, score=(train=0.000, test=0.000), total=   0.7s\n",
            "[CV] max_depth=3, n_estimators=150 ...................................\n",
            "[CV]  max_depth=3, n_estimators=150, score=(train=0.000, test=0.000), total=   0.8s\n",
            "[CV] max_depth=3, n_estimators=200 ...................................\n",
            "[CV]  max_depth=3, n_estimators=200, score=(train=0.000, test=0.000), total=   1.0s\n",
            "[CV] max_depth=3, n_estimators=200 ...................................\n",
            "[CV]  max_depth=3, n_estimators=200, score=(train=0.000, test=0.000), total=   1.0s\n",
            "[CV] max_depth=3, n_estimators=300 ...................................\n",
            "[CV]  max_depth=3, n_estimators=300, score=(train=0.000, test=0.000), total=   1.5s\n",
            "[CV] max_depth=3, n_estimators=300 ...................................\n",
            "[CV]  max_depth=3, n_estimators=300, score=(train=0.000, test=0.000), total=   1.5s\n",
            "[CV] max_depth=3, n_estimators=500 ...................................\n",
            "[CV]  max_depth=3, n_estimators=500, score=(train=0.000, test=0.000), total=   2.5s\n",
            "[CV] max_depth=3, n_estimators=500 ...................................\n",
            "[CV]  max_depth=3, n_estimators=500, score=(train=0.000, test=0.000), total=   2.5s\n",
            "[CV] max_depth=3, n_estimators=1000 ..................................\n",
            "[CV]  max_depth=3, n_estimators=1000, score=(train=0.000, test=0.000), total=   4.9s\n",
            "[CV] max_depth=3, n_estimators=1000 ..................................\n",
            "[CV]  max_depth=3, n_estimators=1000, score=(train=0.000, test=0.000), total=   4.9s\n",
            "[CV] max_depth=4, n_estimators=1 .....................................\n",
            "[CV]  max_depth=4, n_estimators=1, score=(train=0.062, test=0.058), total=   0.0s\n",
            "[CV] max_depth=4, n_estimators=1 .....................................\n",
            "[CV]  max_depth=4, n_estimators=1, score=(train=0.056, test=0.024), total=   0.0s\n",
            "[CV] max_depth=4, n_estimators=2 .....................................\n",
            "[CV]  max_depth=4, n_estimators=2, score=(train=0.087, test=0.060), total=   0.0s\n",
            "[CV] max_depth=4, n_estimators=2 .....................................\n",
            "[CV]  max_depth=4, n_estimators=2, score=(train=0.075, test=0.052), total=   0.0s\n",
            "[CV] max_depth=4, n_estimators=4 .....................................\n",
            "[CV]  max_depth=4, n_estimators=4, score=(train=0.029, test=0.026), total=   0.0s\n",
            "[CV] max_depth=4, n_estimators=4 .....................................\n",
            "[CV]  max_depth=4, n_estimators=4, score=(train=0.002, test=0.000), total=   0.0s\n",
            "[CV] max_depth=4, n_estimators=5 .....................................\n",
            "[CV]  max_depth=4, n_estimators=5, score=(train=0.000, test=0.000), total=   0.0s\n",
            "[CV] max_depth=4, n_estimators=5 .....................................\n",
            "[CV]  max_depth=4, n_estimators=5, score=(train=0.000, test=0.000), total=   0.0s\n",
            "[CV] max_depth=4, n_estimators=10 ....................................\n",
            "[CV]  max_depth=4, n_estimators=10, score=(train=0.000, test=0.000), total=   0.1s\n",
            "[CV] max_depth=4, n_estimators=10 ....................................\n",
            "[CV]  max_depth=4, n_estimators=10, score=(train=0.000, test=0.000), total=   0.1s\n",
            "[CV] max_depth=4, n_estimators=20 ....................................\n",
            "[CV]  max_depth=4, n_estimators=20, score=(train=0.000, test=0.000), total=   0.1s\n",
            "[CV] max_depth=4, n_estimators=20 ....................................\n",
            "[CV]  max_depth=4, n_estimators=20, score=(train=0.000, test=0.000), total=   0.1s\n",
            "[CV] max_depth=4, n_estimators=40 ....................................\n",
            "[CV]  max_depth=4, n_estimators=40, score=(train=0.000, test=0.000), total=   0.2s\n",
            "[CV] max_depth=4, n_estimators=40 ....................................\n",
            "[CV]  max_depth=4, n_estimators=40, score=(train=0.000, test=0.000), total=   0.3s\n",
            "[CV] max_depth=4, n_estimators=50 ....................................\n",
            "[CV]  max_depth=4, n_estimators=50, score=(train=0.000, test=0.000), total=   0.3s\n",
            "[CV] max_depth=4, n_estimators=50 ....................................\n",
            "[CV]  max_depth=4, n_estimators=50, score=(train=0.000, test=0.000), total=   0.3s\n",
            "[CV] max_depth=4, n_estimators=60 ....................................\n",
            "[CV]  max_depth=4, n_estimators=60, score=(train=0.000, test=0.000), total=   0.4s\n",
            "[CV] max_depth=4, n_estimators=60 ....................................\n",
            "[CV]  max_depth=4, n_estimators=60, score=(train=0.000, test=0.000), total=   0.4s\n",
            "[CV] max_depth=4, n_estimators=70 ....................................\n",
            "[CV]  max_depth=4, n_estimators=70, score=(train=0.000, test=0.000), total=   0.4s\n",
            "[CV] max_depth=4, n_estimators=70 ....................................\n",
            "[CV]  max_depth=4, n_estimators=70, score=(train=0.000, test=0.000), total=   0.4s\n",
            "[CV] max_depth=4, n_estimators=80 ....................................\n",
            "[CV]  max_depth=4, n_estimators=80, score=(train=0.000, test=0.000), total=   0.5s\n",
            "[CV] max_depth=4, n_estimators=80 ....................................\n",
            "[CV]  max_depth=4, n_estimators=80, score=(train=0.000, test=0.000), total=   0.5s\n",
            "[CV] max_depth=4, n_estimators=100 ...................................\n",
            "[CV]  max_depth=4, n_estimators=100, score=(train=0.000, test=0.000), total=   0.6s\n",
            "[CV] max_depth=4, n_estimators=100 ...................................\n",
            "[CV]  max_depth=4, n_estimators=100, score=(train=0.000, test=0.000), total=   0.6s\n",
            "[CV] max_depth=4, n_estimators=150 ...................................\n",
            "[CV]  max_depth=4, n_estimators=150, score=(train=0.000, test=0.000), total=   0.9s\n",
            "[CV] max_depth=4, n_estimators=150 ...................................\n",
            "[CV]  max_depth=4, n_estimators=150, score=(train=0.000, test=0.000), total=   0.9s\n",
            "[CV] max_depth=4, n_estimators=200 ...................................\n",
            "[CV]  max_depth=4, n_estimators=200, score=(train=0.000, test=0.000), total=   1.2s\n",
            "[CV] max_depth=4, n_estimators=200 ...................................\n",
            "[CV]  max_depth=4, n_estimators=200, score=(train=0.000, test=0.000), total=   1.2s\n",
            "[CV] max_depth=4, n_estimators=300 ...................................\n",
            "[CV]  max_depth=4, n_estimators=300, score=(train=0.000, test=0.000), total=   1.7s\n",
            "[CV] max_depth=4, n_estimators=300 ...................................\n",
            "[CV]  max_depth=4, n_estimators=300, score=(train=0.000, test=0.000), total=   1.7s\n",
            "[CV] max_depth=4, n_estimators=500 ...................................\n",
            "[CV]  max_depth=4, n_estimators=500, score=(train=0.000, test=0.000), total=   2.9s\n",
            "[CV] max_depth=4, n_estimators=500 ...................................\n",
            "[CV]  max_depth=4, n_estimators=500, score=(train=0.000, test=0.000), total=   2.9s\n",
            "[CV] max_depth=4, n_estimators=1000 ..................................\n",
            "[CV]  max_depth=4, n_estimators=1000, score=(train=0.000, test=0.000), total=   5.7s\n",
            "[CV] max_depth=4, n_estimators=1000 ..................................\n",
            "[CV]  max_depth=4, n_estimators=1000, score=(train=0.000, test=0.000), total=   5.9s\n",
            "[CV] max_depth=5, n_estimators=1 .....................................\n",
            "[CV]  max_depth=5, n_estimators=1, score=(train=0.076, test=0.068), total=   0.0s\n",
            "[CV] max_depth=5, n_estimators=1 .....................................\n",
            "[CV]  max_depth=5, n_estimators=1, score=(train=0.068, test=0.035), total=   0.0s\n",
            "[CV] max_depth=5, n_estimators=2 .....................................\n",
            "[CV]  max_depth=5, n_estimators=2, score=(train=0.105, test=0.088), total=   0.0s\n",
            "[CV] max_depth=5, n_estimators=2 .....................................\n",
            "[CV]  max_depth=5, n_estimators=2, score=(train=0.093, test=0.064), total=   0.0s\n",
            "[CV] max_depth=5, n_estimators=4 .....................................\n",
            "[CV]  max_depth=5, n_estimators=4, score=(train=0.007, test=0.000), total=   0.0s\n",
            "[CV] max_depth=5, n_estimators=4 .....................................\n",
            "[CV]  max_depth=5, n_estimators=4, score=(train=0.007, test=0.000), total=   0.0s\n",
            "[CV] max_depth=5, n_estimators=5 .....................................\n",
            "[CV]  max_depth=5, n_estimators=5, score=(train=0.000, test=0.000), total=   0.0s\n",
            "[CV] max_depth=5, n_estimators=5 .....................................\n",
            "[CV]  max_depth=5, n_estimators=5, score=(train=0.000, test=0.000), total=   0.0s\n",
            "[CV] max_depth=5, n_estimators=10 ....................................\n",
            "[CV]  max_depth=5, n_estimators=10, score=(train=0.000, test=0.000), total=   0.1s\n",
            "[CV] max_depth=5, n_estimators=10 ....................................\n",
            "[CV]  max_depth=5, n_estimators=10, score=(train=0.000, test=0.000), total=   0.1s\n",
            "[CV] max_depth=5, n_estimators=20 ....................................\n",
            "[CV]  max_depth=5, n_estimators=20, score=(train=0.000, test=0.000), total=   0.1s\n",
            "[CV] max_depth=5, n_estimators=20 ....................................\n",
            "[CV]  max_depth=5, n_estimators=20, score=(train=0.000, test=0.000), total=   0.1s\n",
            "[CV] max_depth=5, n_estimators=40 ....................................\n",
            "[CV]  max_depth=5, n_estimators=40, score=(train=0.000, test=0.000), total=   0.3s\n",
            "[CV] max_depth=5, n_estimators=40 ....................................\n",
            "[CV]  max_depth=5, n_estimators=40, score=(train=0.000, test=0.000), total=   0.3s\n",
            "[CV] max_depth=5, n_estimators=50 ....................................\n",
            "[CV]  max_depth=5, n_estimators=50, score=(train=0.000, test=0.000), total=   0.3s\n",
            "[CV] max_depth=5, n_estimators=50 ....................................\n",
            "[CV]  max_depth=5, n_estimators=50, score=(train=0.000, test=0.000), total=   0.4s\n",
            "[CV] max_depth=5, n_estimators=60 ....................................\n",
            "[CV]  max_depth=5, n_estimators=60, score=(train=0.000, test=0.000), total=   0.4s\n",
            "[CV] max_depth=5, n_estimators=60 ....................................\n",
            "[CV]  max_depth=5, n_estimators=60, score=(train=0.000, test=0.000), total=   0.4s\n",
            "[CV] max_depth=5, n_estimators=70 ....................................\n",
            "[CV]  max_depth=5, n_estimators=70, score=(train=0.000, test=0.000), total=   0.5s\n",
            "[CV] max_depth=5, n_estimators=70 ....................................\n",
            "[CV]  max_depth=5, n_estimators=70, score=(train=0.000, test=0.000), total=   0.5s\n",
            "[CV] max_depth=5, n_estimators=80 ....................................\n",
            "[CV]  max_depth=5, n_estimators=80, score=(train=0.000, test=0.000), total=   0.5s\n",
            "[CV] max_depth=5, n_estimators=80 ....................................\n",
            "[CV]  max_depth=5, n_estimators=80, score=(train=0.000, test=0.000), total=   0.5s\n",
            "[CV] max_depth=5, n_estimators=100 ...................................\n",
            "[CV]  max_depth=5, n_estimators=100, score=(train=0.000, test=0.000), total=   0.7s\n",
            "[CV] max_depth=5, n_estimators=100 ...................................\n",
            "[CV]  max_depth=5, n_estimators=100, score=(train=0.000, test=0.000), total=   0.7s\n",
            "[CV] max_depth=5, n_estimators=150 ...................................\n",
            "[CV]  max_depth=5, n_estimators=150, score=(train=0.000, test=0.000), total=   1.0s\n",
            "[CV] max_depth=5, n_estimators=150 ...................................\n",
            "[CV]  max_depth=5, n_estimators=150, score=(train=0.000, test=0.000), total=   1.0s\n",
            "[CV] max_depth=5, n_estimators=200 ...................................\n",
            "[CV]  max_depth=5, n_estimators=200, score=(train=0.000, test=0.000), total=   1.3s\n",
            "[CV] max_depth=5, n_estimators=200 ...................................\n",
            "[CV]  max_depth=5, n_estimators=200, score=(train=0.000, test=0.000), total=   1.3s\n",
            "[CV] max_depth=5, n_estimators=300 ...................................\n",
            "[CV]  max_depth=5, n_estimators=300, score=(train=0.000, test=0.000), total=   2.0s\n",
            "[CV] max_depth=5, n_estimators=300 ...................................\n",
            "[CV]  max_depth=5, n_estimators=300, score=(train=0.000, test=0.000), total=   2.0s\n",
            "[CV] max_depth=5, n_estimators=500 ...................................\n",
            "[CV]  max_depth=5, n_estimators=500, score=(train=0.000, test=0.000), total=   3.3s\n",
            "[CV] max_depth=5, n_estimators=500 ...................................\n",
            "[CV]  max_depth=5, n_estimators=500, score=(train=0.000, test=0.000), total=   3.3s\n",
            "[CV] max_depth=5, n_estimators=1000 ..................................\n",
            "[CV]  max_depth=5, n_estimators=1000, score=(train=0.000, test=0.000), total=   6.6s\n",
            "[CV] max_depth=5, n_estimators=1000 ..................................\n",
            "[CV]  max_depth=5, n_estimators=1000, score=(train=0.000, test=0.000), total=   6.6s\n",
            "[CV] max_depth=6, n_estimators=1 .....................................\n",
            "[CV]  max_depth=6, n_estimators=1, score=(train=0.078, test=0.068), total=   0.0s\n",
            "[CV] max_depth=6, n_estimators=1 .....................................\n",
            "[CV]  max_depth=6, n_estimators=1, score=(train=0.148, test=0.126), total=   0.0s\n",
            "[CV] max_depth=6, n_estimators=2 .....................................\n",
            "[CV]  max_depth=6, n_estimators=2, score=(train=0.134, test=0.112), total=   0.0s\n",
            "[CV] max_depth=6, n_estimators=2 .....................................\n",
            "[CV]  max_depth=6, n_estimators=2, score=(train=0.124, test=0.114), total=   0.0s\n",
            "[CV] max_depth=6, n_estimators=4 .....................................\n",
            "[CV]  max_depth=6, n_estimators=4, score=(train=0.007, test=0.000), total=   0.0s\n",
            "[CV] max_depth=6, n_estimators=4 .....................................\n",
            "[CV]  max_depth=6, n_estimators=4, score=(train=0.041, test=0.054), total=   0.0s\n",
            "[CV] max_depth=6, n_estimators=5 .....................................\n",
            "[CV]  max_depth=6, n_estimators=5, score=(train=0.000, test=0.000), total=   0.0s\n",
            "[CV] max_depth=6, n_estimators=5 .....................................\n",
            "[CV]  max_depth=6, n_estimators=5, score=(train=0.020, test=0.035), total=   0.0s\n",
            "[CV] max_depth=6, n_estimators=10 ....................................\n",
            "[CV]  max_depth=6, n_estimators=10, score=(train=0.000, test=0.000), total=   0.1s\n",
            "[CV] max_depth=6, n_estimators=10 ....................................\n",
            "[CV]  max_depth=6, n_estimators=10, score=(train=0.020, test=0.035), total=   0.1s\n",
            "[CV] max_depth=6, n_estimators=20 ....................................\n",
            "[CV]  max_depth=6, n_estimators=20, score=(train=0.000, test=0.000), total=   0.2s\n",
            "[CV] max_depth=6, n_estimators=20 ....................................\n",
            "[CV]  max_depth=6, n_estimators=20, score=(train=0.000, test=0.000), total=   0.2s\n",
            "[CV] max_depth=6, n_estimators=40 ....................................\n",
            "[CV]  max_depth=6, n_estimators=40, score=(train=0.000, test=0.000), total=   0.3s\n",
            "[CV] max_depth=6, n_estimators=40 ....................................\n",
            "[CV]  max_depth=6, n_estimators=40, score=(train=0.000, test=0.000), total=   0.3s\n",
            "[CV] max_depth=6, n_estimators=50 ....................................\n",
            "[CV]  max_depth=6, n_estimators=50, score=(train=0.000, test=0.000), total=   0.4s\n",
            "[CV] max_depth=6, n_estimators=50 ....................................\n",
            "[CV]  max_depth=6, n_estimators=50, score=(train=0.000, test=0.000), total=   0.4s\n",
            "[CV] max_depth=6, n_estimators=60 ....................................\n",
            "[CV]  max_depth=6, n_estimators=60, score=(train=0.000, test=0.000), total=   0.5s\n",
            "[CV] max_depth=6, n_estimators=60 ....................................\n",
            "[CV]  max_depth=6, n_estimators=60, score=(train=0.000, test=0.000), total=   0.5s\n",
            "[CV] max_depth=6, n_estimators=70 ....................................\n",
            "[CV]  max_depth=6, n_estimators=70, score=(train=0.000, test=0.000), total=   0.5s\n",
            "[CV] max_depth=6, n_estimators=70 ....................................\n",
            "[CV]  max_depth=6, n_estimators=70, score=(train=0.000, test=0.000), total=   0.5s\n",
            "[CV] max_depth=6, n_estimators=80 ....................................\n",
            "[CV]  max_depth=6, n_estimators=80, score=(train=0.000, test=0.000), total=   0.6s\n",
            "[CV] max_depth=6, n_estimators=80 ....................................\n",
            "[CV]  max_depth=6, n_estimators=80, score=(train=0.000, test=0.000), total=   0.6s\n",
            "[CV] max_depth=6, n_estimators=100 ...................................\n",
            "[CV]  max_depth=6, n_estimators=100, score=(train=0.000, test=0.000), total=   0.8s\n",
            "[CV] max_depth=6, n_estimators=100 ...................................\n",
            "[CV]  max_depth=6, n_estimators=100, score=(train=0.000, test=0.000), total=   0.8s\n",
            "[CV] max_depth=6, n_estimators=150 ...................................\n",
            "[CV]  max_depth=6, n_estimators=150, score=(train=0.000, test=0.000), total=   1.1s\n",
            "[CV] max_depth=6, n_estimators=150 ...................................\n",
            "[CV]  max_depth=6, n_estimators=150, score=(train=0.000, test=0.000), total=   1.1s\n",
            "[CV] max_depth=6, n_estimators=200 ...................................\n",
            "[CV]  max_depth=6, n_estimators=200, score=(train=0.000, test=0.000), total=   1.5s\n",
            "[CV] max_depth=6, n_estimators=200 ...................................\n",
            "[CV]  max_depth=6, n_estimators=200, score=(train=0.000, test=0.000), total=   1.5s\n",
            "[CV] max_depth=6, n_estimators=300 ...................................\n",
            "[CV]  max_depth=6, n_estimators=300, score=(train=0.000, test=0.000), total=   2.2s\n",
            "[CV] max_depth=6, n_estimators=300 ...................................\n",
            "[CV]  max_depth=6, n_estimators=300, score=(train=0.000, test=0.000), total=   2.3s\n",
            "[CV] max_depth=6, n_estimators=500 ...................................\n",
            "[CV]  max_depth=6, n_estimators=500, score=(train=0.000, test=0.000), total=   3.7s\n",
            "[CV] max_depth=6, n_estimators=500 ...................................\n",
            "[CV]  max_depth=6, n_estimators=500, score=(train=0.000, test=0.000), total=   3.7s\n",
            "[CV] max_depth=6, n_estimators=1000 ..................................\n",
            "[CV]  max_depth=6, n_estimators=1000, score=(train=0.000, test=0.000), total=   7.5s\n",
            "[CV] max_depth=6, n_estimators=1000 ..................................\n",
            "[CV]  max_depth=6, n_estimators=1000, score=(train=0.000, test=0.000), total=   7.5s\n",
            "[CV] max_depth=7, n_estimators=1 .....................................\n",
            "[CV]  max_depth=7, n_estimators=1, score=(train=0.079, test=0.068), total=   0.0s\n",
            "[CV] max_depth=7, n_estimators=1 .....................................\n",
            "[CV]  max_depth=7, n_estimators=1, score=(train=0.154, test=0.128), total=   0.0s\n",
            "[CV] max_depth=7, n_estimators=2 .....................................\n",
            "[CV]  max_depth=7, n_estimators=2, score=(train=0.149, test=0.115), total=   0.0s\n",
            "[CV] max_depth=7, n_estimators=2 .....................................\n",
            "[CV]  max_depth=7, n_estimators=2, score=(train=0.143, test=0.122), total=   0.0s\n",
            "[CV] max_depth=7, n_estimators=4 .....................................\n",
            "[CV]  max_depth=7, n_estimators=4, score=(train=0.039, test=0.029), total=   0.0s\n",
            "[CV] max_depth=7, n_estimators=4 .....................................\n",
            "[CV]  max_depth=7, n_estimators=4, score=(train=0.037, test=0.048), total=   0.0s\n",
            "[CV] max_depth=7, n_estimators=5 .....................................\n",
            "[CV]  max_depth=7, n_estimators=5, score=(train=0.000, test=0.000), total=   0.1s\n",
            "[CV] max_depth=7, n_estimators=5 .....................................\n",
            "[CV]  max_depth=7, n_estimators=5, score=(train=0.031, test=0.048), total=   0.1s\n",
            "[CV] max_depth=7, n_estimators=10 ....................................\n",
            "[CV]  max_depth=7, n_estimators=10, score=(train=0.000, test=0.000), total=   0.1s\n",
            "[CV] max_depth=7, n_estimators=10 ....................................\n",
            "[CV]  max_depth=7, n_estimators=10, score=(train=0.020, test=0.035), total=   0.1s\n",
            "[CV] max_depth=7, n_estimators=20 ....................................\n",
            "[CV]  max_depth=7, n_estimators=20, score=(train=0.000, test=0.000), total=   0.2s\n",
            "[CV] max_depth=7, n_estimators=20 ....................................\n",
            "[CV]  max_depth=7, n_estimators=20, score=(train=0.000, test=0.000), total=   0.2s\n",
            "[CV] max_depth=7, n_estimators=40 ....................................\n",
            "[CV]  max_depth=7, n_estimators=40, score=(train=0.000, test=0.000), total=   0.4s\n",
            "[CV] max_depth=7, n_estimators=40 ....................................\n",
            "[CV]  max_depth=7, n_estimators=40, score=(train=0.000, test=0.000), total=   0.4s\n",
            "[CV] max_depth=7, n_estimators=50 ....................................\n",
            "[CV]  max_depth=7, n_estimators=50, score=(train=0.000, test=0.000), total=   0.4s\n",
            "[CV] max_depth=7, n_estimators=50 ....................................\n",
            "[CV]  max_depth=7, n_estimators=50, score=(train=0.000, test=0.000), total=   0.4s\n",
            "[CV] max_depth=7, n_estimators=60 ....................................\n",
            "[CV]  max_depth=7, n_estimators=60, score=(train=0.000, test=0.000), total=   0.5s\n",
            "[CV] max_depth=7, n_estimators=60 ....................................\n",
            "[CV]  max_depth=7, n_estimators=60, score=(train=0.000, test=0.000), total=   0.5s\n",
            "[CV] max_depth=7, n_estimators=70 ....................................\n",
            "[CV]  max_depth=7, n_estimators=70, score=(train=0.000, test=0.000), total=   0.6s\n",
            "[CV] max_depth=7, n_estimators=70 ....................................\n",
            "[CV]  max_depth=7, n_estimators=70, score=(train=0.000, test=0.000), total=   0.6s\n",
            "[CV] max_depth=7, n_estimators=80 ....................................\n",
            "[CV]  max_depth=7, n_estimators=80, score=(train=0.000, test=0.000), total=   0.7s\n",
            "[CV] max_depth=7, n_estimators=80 ....................................\n",
            "[CV]  max_depth=7, n_estimators=80, score=(train=0.000, test=0.000), total=   0.7s\n",
            "[CV] max_depth=7, n_estimators=100 ...................................\n",
            "[CV]  max_depth=7, n_estimators=100, score=(train=0.000, test=0.000), total=   0.8s\n",
            "[CV] max_depth=7, n_estimators=100 ...................................\n",
            "[CV]  max_depth=7, n_estimators=100, score=(train=0.000, test=0.000), total=   0.9s\n",
            "[CV] max_depth=7, n_estimators=150 ...................................\n",
            "[CV]  max_depth=7, n_estimators=150, score=(train=0.000, test=0.000), total=   1.3s\n",
            "[CV] max_depth=7, n_estimators=150 ...................................\n",
            "[CV]  max_depth=7, n_estimators=150, score=(train=0.000, test=0.000), total=   1.3s\n",
            "[CV] max_depth=7, n_estimators=200 ...................................\n",
            "[CV]  max_depth=7, n_estimators=200, score=(train=0.000, test=0.000), total=   1.7s\n",
            "[CV] max_depth=7, n_estimators=200 ...................................\n",
            "[CV]  max_depth=7, n_estimators=200, score=(train=0.000, test=0.000), total=   1.7s\n",
            "[CV] max_depth=7, n_estimators=300 ...................................\n",
            "[CV]  max_depth=7, n_estimators=300, score=(train=0.000, test=0.000), total=   2.5s\n",
            "[CV] max_depth=7, n_estimators=300 ...................................\n",
            "[CV]  max_depth=7, n_estimators=300, score=(train=0.000, test=0.000), total=   2.5s\n",
            "[CV] max_depth=7, n_estimators=500 ...................................\n",
            "[CV]  max_depth=7, n_estimators=500, score=(train=0.000, test=0.000), total=   4.2s\n",
            "[CV] max_depth=7, n_estimators=500 ...................................\n",
            "[CV]  max_depth=7, n_estimators=500, score=(train=0.000, test=0.000), total=   4.2s\n",
            "[CV] max_depth=7, n_estimators=1000 ..................................\n",
            "[CV]  max_depth=7, n_estimators=1000, score=(train=0.000, test=0.000), total=   8.3s\n",
            "[CV] max_depth=7, n_estimators=1000 ..................................\n",
            "[CV]  max_depth=7, n_estimators=1000, score=(train=0.000, test=0.000), total=   8.3s\n",
            "[CV] max_depth=8, n_estimators=1 .....................................\n",
            "[CV]  max_depth=8, n_estimators=1, score=(train=0.081, test=0.068), total=   0.0s\n",
            "[CV] max_depth=8, n_estimators=1 .....................................\n",
            "[CV]  max_depth=8, n_estimators=1, score=(train=0.157, test=0.145), total=   0.0s\n",
            "[CV] max_depth=8, n_estimators=2 .....................................\n",
            "[CV]  max_depth=8, n_estimators=2, score=(train=0.173, test=0.132), total=   0.0s\n",
            "[CV] max_depth=8, n_estimators=2 .....................................\n",
            "[CV]  max_depth=8, n_estimators=2, score=(train=0.142, test=0.116), total=   0.0s\n",
            "[CV] max_depth=8, n_estimators=4 .....................................\n",
            "[CV]  max_depth=8, n_estimators=4, score=(train=0.004, test=0.000), total=   0.1s\n",
            "[CV] max_depth=8, n_estimators=4 .....................................\n",
            "[CV]  max_depth=8, n_estimators=4, score=(train=0.039, test=0.048), total=   0.1s\n",
            "[CV] max_depth=8, n_estimators=5 .....................................\n",
            "[CV]  max_depth=8, n_estimators=5, score=(train=0.000, test=0.000), total=   0.1s\n",
            "[CV] max_depth=8, n_estimators=5 .....................................\n",
            "[CV]  max_depth=8, n_estimators=5, score=(train=0.020, test=0.035), total=   0.1s\n",
            "[CV] max_depth=8, n_estimators=10 ....................................\n",
            "[CV]  max_depth=8, n_estimators=10, score=(train=0.000, test=0.000), total=   0.1s\n",
            "[CV] max_depth=8, n_estimators=10 ....................................\n",
            "[CV]  max_depth=8, n_estimators=10, score=(train=0.024, test=0.041), total=   0.1s\n",
            "[CV] max_depth=8, n_estimators=20 ....................................\n",
            "[CV]  max_depth=8, n_estimators=20, score=(train=0.000, test=0.000), total=   0.2s\n",
            "[CV] max_depth=8, n_estimators=20 ....................................\n",
            "[CV]  max_depth=8, n_estimators=20, score=(train=0.000, test=0.000), total=   0.2s\n",
            "[CV] max_depth=8, n_estimators=40 ....................................\n",
            "[CV]  max_depth=8, n_estimators=40, score=(train=0.000, test=0.000), total=   0.4s\n",
            "[CV] max_depth=8, n_estimators=40 ....................................\n",
            "[CV]  max_depth=8, n_estimators=40, score=(train=0.000, test=0.000), total=   0.4s\n",
            "[CV] max_depth=8, n_estimators=50 ....................................\n",
            "[CV]  max_depth=8, n_estimators=50, score=(train=0.000, test=0.000), total=   0.5s\n",
            "[CV] max_depth=8, n_estimators=50 ....................................\n",
            "[CV]  max_depth=8, n_estimators=50, score=(train=0.000, test=0.000), total=   0.5s\n",
            "[CV] max_depth=8, n_estimators=60 ....................................\n",
            "[CV]  max_depth=8, n_estimators=60, score=(train=0.000, test=0.000), total=   0.6s\n",
            "[CV] max_depth=8, n_estimators=60 ....................................\n",
            "[CV]  max_depth=8, n_estimators=60, score=(train=0.000, test=0.000), total=   0.6s\n",
            "[CV] max_depth=8, n_estimators=70 ....................................\n",
            "[CV]  max_depth=8, n_estimators=70, score=(train=0.000, test=0.000), total=   0.7s\n",
            "[CV] max_depth=8, n_estimators=70 ....................................\n",
            "[CV]  max_depth=8, n_estimators=70, score=(train=0.000, test=0.000), total=   0.7s\n",
            "[CV] max_depth=8, n_estimators=80 ....................................\n",
            "[CV]  max_depth=8, n_estimators=80, score=(train=0.000, test=0.000), total=   0.8s\n",
            "[CV] max_depth=8, n_estimators=80 ....................................\n",
            "[CV]  max_depth=8, n_estimators=80, score=(train=0.000, test=0.000), total=   0.8s\n",
            "[CV] max_depth=8, n_estimators=100 ...................................\n",
            "[CV]  max_depth=8, n_estimators=100, score=(train=0.000, test=0.000), total=   0.9s\n",
            "[CV] max_depth=8, n_estimators=100 ...................................\n",
            "[CV]  max_depth=8, n_estimators=100, score=(train=0.000, test=0.000), total=   0.9s\n",
            "[CV] max_depth=8, n_estimators=150 ...................................\n",
            "[CV]  max_depth=8, n_estimators=150, score=(train=0.000, test=0.000), total=   1.4s\n",
            "[CV] max_depth=8, n_estimators=150 ...................................\n",
            "[CV]  max_depth=8, n_estimators=150, score=(train=0.000, test=0.000), total=   1.4s\n",
            "[CV] max_depth=8, n_estimators=200 ...................................\n",
            "[CV]  max_depth=8, n_estimators=200, score=(train=0.000, test=0.000), total=   1.9s\n",
            "[CV] max_depth=8, n_estimators=200 ...................................\n",
            "[CV]  max_depth=8, n_estimators=200, score=(train=0.000, test=0.000), total=   1.9s\n",
            "[CV] max_depth=8, n_estimators=300 ...................................\n",
            "[CV]  max_depth=8, n_estimators=300, score=(train=0.000, test=0.000), total=   2.8s\n",
            "[CV] max_depth=8, n_estimators=300 ...................................\n",
            "[CV]  max_depth=8, n_estimators=300, score=(train=0.000, test=0.000), total=   2.8s\n",
            "[CV] max_depth=8, n_estimators=500 ...................................\n",
            "[CV]  max_depth=8, n_estimators=500, score=(train=0.000, test=0.000), total=   4.6s\n",
            "[CV] max_depth=8, n_estimators=500 ...................................\n",
            "[CV]  max_depth=8, n_estimators=500, score=(train=0.000, test=0.000), total=   4.6s\n",
            "[CV] max_depth=8, n_estimators=1000 ..................................\n",
            "[CV]  max_depth=8, n_estimators=1000, score=(train=0.000, test=0.000), total=   9.2s\n",
            "[CV] max_depth=8, n_estimators=1000 ..................................\n",
            "[CV]  max_depth=8, n_estimators=1000, score=(train=0.000, test=0.000), total=   9.4s\n",
            "[CV] max_depth=9, n_estimators=1 .....................................\n",
            "[CV]  max_depth=9, n_estimators=1, score=(train=0.087, test=0.067), total=   0.0s\n",
            "[CV] max_depth=9, n_estimators=1 .....................................\n",
            "[CV]  max_depth=9, n_estimators=1, score=(train=0.172, test=0.159), total=   0.0s\n",
            "[CV] max_depth=9, n_estimators=2 .....................................\n",
            "[CV]  max_depth=9, n_estimators=2, score=(train=0.182, test=0.134), total=   0.0s\n",
            "[CV] max_depth=9, n_estimators=2 .....................................\n",
            "[CV]  max_depth=9, n_estimators=2, score=(train=0.213, test=0.192), total=   0.0s\n",
            "[CV] max_depth=9, n_estimators=4 .....................................\n",
            "[CV]  max_depth=9, n_estimators=4, score=(train=0.002, test=0.000), total=   0.1s\n",
            "[CV] max_depth=9, n_estimators=4 .....................................\n",
            "[CV]  max_depth=9, n_estimators=4, score=(train=0.044, test=0.050), total=   0.1s\n",
            "[CV] max_depth=9, n_estimators=5 .....................................\n",
            "[CV]  max_depth=9, n_estimators=5, score=(train=0.000, test=0.000), total=   0.1s\n",
            "[CV] max_depth=9, n_estimators=5 .....................................\n",
            "[CV]  max_depth=9, n_estimators=5, score=(train=0.033, test=0.048), total=   0.1s\n",
            "[CV] max_depth=9, n_estimators=10 ....................................\n",
            "[CV]  max_depth=9, n_estimators=10, score=(train=0.000, test=0.000), total=   0.1s\n",
            "[CV] max_depth=9, n_estimators=10 ....................................\n",
            "[CV]  max_depth=9, n_estimators=10, score=(train=0.026, test=0.044), total=   0.1s\n",
            "[CV] max_depth=9, n_estimators=20 ....................................\n",
            "[CV]  max_depth=9, n_estimators=20, score=(train=0.000, test=0.000), total=   0.2s\n",
            "[CV] max_depth=9, n_estimators=20 ....................................\n",
            "[CV]  max_depth=9, n_estimators=20, score=(train=0.000, test=0.000), total=   0.2s\n",
            "[CV] max_depth=9, n_estimators=40 ....................................\n",
            "[CV]  max_depth=9, n_estimators=40, score=(train=0.000, test=0.000), total=   0.4s\n",
            "[CV] max_depth=9, n_estimators=40 ....................................\n",
            "[CV]  max_depth=9, n_estimators=40, score=(train=0.000, test=0.000), total=   0.4s\n",
            "[CV] max_depth=9, n_estimators=50 ....................................\n",
            "[CV]  max_depth=9, n_estimators=50, score=(train=0.000, test=0.000), total=   0.5s\n",
            "[CV] max_depth=9, n_estimators=50 ....................................\n",
            "[CV]  max_depth=9, n_estimators=50, score=(train=0.000, test=0.000), total=   0.5s\n",
            "[CV] max_depth=9, n_estimators=60 ....................................\n",
            "[CV]  max_depth=9, n_estimators=60, score=(train=0.000, test=0.000), total=   0.6s\n",
            "[CV] max_depth=9, n_estimators=60 ....................................\n",
            "[CV]  max_depth=9, n_estimators=60, score=(train=0.000, test=0.000), total=   0.6s\n",
            "[CV] max_depth=9, n_estimators=70 ....................................\n",
            "[CV]  max_depth=9, n_estimators=70, score=(train=0.000, test=0.000), total=   0.7s\n",
            "[CV] max_depth=9, n_estimators=70 ....................................\n",
            "[CV]  max_depth=9, n_estimators=70, score=(train=0.000, test=0.000), total=   0.7s\n",
            "[CV] max_depth=9, n_estimators=80 ....................................\n",
            "[CV]  max_depth=9, n_estimators=80, score=(train=0.000, test=0.000), total=   0.8s\n",
            "[CV] max_depth=9, n_estimators=80 ....................................\n",
            "[CV]  max_depth=9, n_estimators=80, score=(train=0.000, test=0.000), total=   0.8s\n",
            "[CV] max_depth=9, n_estimators=100 ...................................\n",
            "[CV]  max_depth=9, n_estimators=100, score=(train=0.000, test=0.000), total=   1.0s\n",
            "[CV] max_depth=9, n_estimators=100 ...................................\n",
            "[CV]  max_depth=9, n_estimators=100, score=(train=0.000, test=0.000), total=   1.0s\n",
            "[CV] max_depth=9, n_estimators=150 ...................................\n",
            "[CV]  max_depth=9, n_estimators=150, score=(train=0.000, test=0.000), total=   1.5s\n",
            "[CV] max_depth=9, n_estimators=150 ...................................\n",
            "[CV]  max_depth=9, n_estimators=150, score=(train=0.000, test=0.000), total=   1.6s\n",
            "[CV] max_depth=9, n_estimators=200 ...................................\n",
            "[CV]  max_depth=9, n_estimators=200, score=(train=0.000, test=0.000), total=   2.0s\n",
            "[CV] max_depth=9, n_estimators=200 ...................................\n",
            "[CV]  max_depth=9, n_estimators=200, score=(train=0.000, test=0.000), total=   2.1s\n",
            "[CV] max_depth=9, n_estimators=300 ...................................\n",
            "[CV]  max_depth=9, n_estimators=300, score=(train=0.000, test=0.000), total=   3.1s\n",
            "[CV] max_depth=9, n_estimators=300 ...................................\n",
            "[CV]  max_depth=9, n_estimators=300, score=(train=0.000, test=0.000), total=   3.2s\n",
            "[CV] max_depth=9, n_estimators=500 ...................................\n",
            "[CV]  max_depth=9, n_estimators=500, score=(train=0.000, test=0.000), total=   5.1s\n",
            "[CV] max_depth=9, n_estimators=500 ...................................\n",
            "[CV]  max_depth=9, n_estimators=500, score=(train=0.000, test=0.000), total=   5.2s\n",
            "[CV] max_depth=9, n_estimators=1000 ..................................\n",
            "[CV]  max_depth=9, n_estimators=1000, score=(train=0.000, test=0.000), total=  10.2s\n",
            "[CV] max_depth=9, n_estimators=1000 ..................................\n",
            "[CV]  max_depth=9, n_estimators=1000, score=(train=0.000, test=0.000), total=  10.2s\n",
            "[CV] max_depth=10, n_estimators=1 ....................................\n",
            "[CV]  max_depth=10, n_estimators=1, score=(train=0.103, test=0.082), total=   0.0s\n",
            "[CV] max_depth=10, n_estimators=1 ....................................\n",
            "[CV]  max_depth=10, n_estimators=1, score=(train=0.178, test=0.170), total=   0.0s\n",
            "[CV] max_depth=10, n_estimators=2 ....................................\n",
            "[CV]  max_depth=10, n_estimators=2, score=(train=0.220, test=0.162), total=   0.0s\n",
            "[CV] max_depth=10, n_estimators=2 ....................................\n",
            "[CV]  max_depth=10, n_estimators=2, score=(train=0.235, test=0.217), total=   0.0s\n",
            "[CV] max_depth=10, n_estimators=4 ....................................\n",
            "[CV]  max_depth=10, n_estimators=4, score=(train=0.056, test=0.044), total=   0.1s\n",
            "[CV] max_depth=10, n_estimators=4 ....................................\n",
            "[CV]  max_depth=10, n_estimators=4, score=(train=0.133, test=0.135), total=   0.1s\n",
            "[CV] max_depth=10, n_estimators=5 ....................................\n",
            "[CV]  max_depth=10, n_estimators=5, score=(train=0.002, test=0.002), total=   0.1s\n",
            "[CV] max_depth=10, n_estimators=5 ....................................\n",
            "[CV]  max_depth=10, n_estimators=5, score=(train=0.054, test=0.071), total=   0.1s\n",
            "[CV] max_depth=10, n_estimators=10 ...................................\n",
            "[CV]  max_depth=10, n_estimators=10, score=(train=0.000, test=0.000), total=   0.1s\n",
            "[CV] max_depth=10, n_estimators=10 ...................................\n",
            "[CV]  max_depth=10, n_estimators=10, score=(train=0.024, test=0.037), total=   0.1s\n",
            "[CV] max_depth=10, n_estimators=20 ...................................\n",
            "[CV]  max_depth=10, n_estimators=20, score=(train=0.000, test=0.000), total=   0.2s\n",
            "[CV] max_depth=10, n_estimators=20 ...................................\n",
            "[CV]  max_depth=10, n_estimators=20, score=(train=0.044, test=0.058), total=   0.2s\n",
            "[CV] max_depth=10, n_estimators=40 ...................................\n",
            "[CV]  max_depth=10, n_estimators=40, score=(train=0.000, test=0.000), total=   0.5s\n",
            "[CV] max_depth=10, n_estimators=40 ...................................\n",
            "[CV]  max_depth=10, n_estimators=40, score=(train=0.000, test=0.000), total=   0.5s\n",
            "[CV] max_depth=10, n_estimators=50 ...................................\n",
            "[CV]  max_depth=10, n_estimators=50, score=(train=0.000, test=0.000), total=   0.6s\n",
            "[CV] max_depth=10, n_estimators=50 ...................................\n",
            "[CV]  max_depth=10, n_estimators=50, score=(train=0.000, test=0.000), total=   0.6s\n",
            "[CV] max_depth=10, n_estimators=60 ...................................\n",
            "[CV]  max_depth=10, n_estimators=60, score=(train=0.000, test=0.000), total=   0.7s\n",
            "[CV] max_depth=10, n_estimators=60 ...................................\n",
            "[CV]  max_depth=10, n_estimators=60, score=(train=0.000, test=0.000), total=   0.7s\n",
            "[CV] max_depth=10, n_estimators=70 ...................................\n",
            "[CV]  max_depth=10, n_estimators=70, score=(train=0.000, test=0.000), total=   0.8s\n",
            "[CV] max_depth=10, n_estimators=70 ...................................\n",
            "[CV]  max_depth=10, n_estimators=70, score=(train=0.000, test=0.000), total=   0.8s\n",
            "[CV] max_depth=10, n_estimators=80 ...................................\n",
            "[CV]  max_depth=10, n_estimators=80, score=(train=0.000, test=0.000), total=   0.9s\n",
            "[CV] max_depth=10, n_estimators=80 ...................................\n",
            "[CV]  max_depth=10, n_estimators=80, score=(train=0.000, test=0.000), total=   0.9s\n",
            "[CV] max_depth=10, n_estimators=100 ..................................\n",
            "[CV]  max_depth=10, n_estimators=100, score=(train=0.000, test=0.000), total=   1.1s\n",
            "[CV] max_depth=10, n_estimators=100 ..................................\n",
            "[CV]  max_depth=10, n_estimators=100, score=(train=0.000, test=0.000), total=   1.1s\n",
            "[CV] max_depth=10, n_estimators=150 ..................................\n",
            "[CV]  max_depth=10, n_estimators=150, score=(train=0.000, test=0.000), total=   1.7s\n",
            "[CV] max_depth=10, n_estimators=150 ..................................\n",
            "[CV]  max_depth=10, n_estimators=150, score=(train=0.000, test=0.000), total=   1.7s\n",
            "[CV] max_depth=10, n_estimators=200 ..................................\n",
            "[CV]  max_depth=10, n_estimators=200, score=(train=0.000, test=0.000), total=   2.4s\n",
            "[CV] max_depth=10, n_estimators=200 ..................................\n",
            "[CV]  max_depth=10, n_estimators=200, score=(train=0.000, test=0.000), total=   2.3s\n",
            "[CV] max_depth=10, n_estimators=300 ..................................\n",
            "[CV]  max_depth=10, n_estimators=300, score=(train=0.000, test=0.000), total=   3.3s\n",
            "[CV] max_depth=10, n_estimators=300 ..................................\n",
            "[CV]  max_depth=10, n_estimators=300, score=(train=0.000, test=0.000), total=   3.4s\n",
            "[CV] max_depth=10, n_estimators=500 ..................................\n",
            "[CV]  max_depth=10, n_estimators=500, score=(train=0.000, test=0.000), total=   5.6s\n",
            "[CV] max_depth=10, n_estimators=500 ..................................\n",
            "[CV]  max_depth=10, n_estimators=500, score=(train=0.000, test=0.000), total=   5.6s\n",
            "[CV] max_depth=10, n_estimators=1000 .................................\n",
            "[CV]  max_depth=10, n_estimators=1000, score=(train=0.000, test=0.000), total=  11.2s\n",
            "[CV] max_depth=10, n_estimators=1000 .................................\n",
            "[CV]  max_depth=10, n_estimators=1000, score=(train=0.000, test=0.000), total=  11.3s\n"
          ],
          "name": "stdout"
        },
        {
          "output_type": "stream",
          "text": [
            "[Parallel(n_jobs=1)]: Done 340 out of 340 | elapsed: 27.2min finished\n"
          ],
          "name": "stderr"
        },
        {
          "output_type": "stream",
          "text": [
            "best parameters: {'max_depth': None, 'n_estimators': 1000}\n",
            "for random forest bow\n"
          ],
          "name": "stdout"
        },
        {
          "output_type": "display_data",
          "data": {
            "image/png": "[encoded data removed]",
            "text/plain": [
              "<Figure size 432x288 with 2 Axes>"
            ]
          },
          "metadata": {
            "tags": []
          }
        },
        {
          "output_type": "stream",
          "text": [
            "+----------+-------------------------------------------+--------------------+--------------------+\n",
            "|  Model   |                 best_param                |      F1_score      |      Accuracy      |\n",
            "+----------+-------------------------------------------+--------------------+--------------------+\n",
            "| RF-tfidf |   {'max_depth': None, 'n_estimators': 5}  | 0.5432473444613051 | 0.9529172532457375 |\n",
            "|  RF-bow  | {'max_depth': None, 'n_estimators': 1000} | 0.6840659340659341 | 0.9640231503206632 |\n",
            "+----------+-------------------------------------------+--------------------+--------------------+\n"
          ],
          "name": "stdout"
        }
      ]
    },
    {
      "cell_type": "markdown",
      "metadata": {
        "id": "_dgq99HlEm-O",
        "colab_type": "text"
      },
      "source": [
        "#Summary"
      ]
    },
    {
      "cell_type": "code",
      "metadata": {
        "id": "kGvHpHtgTb7Y",
        "colab_type": "code",
        "outputId": "3e411873-1afe-4ba0-e0b2-4f6594f67757",
        "colab": {
          "base_uri": "https://localhost:8080/",
          "height": 391
        }
      },
      "source": [
        "table = PrettyTable() \n",
        "table.field_names = ['Model','F1_score','Accuracy']\n",
        "table.add_row(['linear-svm-tfidf',0.463245492371706,0.9515705168314353])\n",
        "table.add_row(['linear-svm-bow',0.4693042291950887,0.9535727693655363])\n",
        "table.add_row(['LR-tfidf',0.28483920367534454,0.941559254160931])\n",
        "table.add_row(['LR-bow',0.6383928571428571,0.9594543861844576])\n",
        "table.add_row(['RF-tfidf',0.5380577427821522,0.955950444249781])\n",
        "table.add_row(['RF-bow',0.6159420289855072,0.9602052308847453])\n",
        "print(table)\n",
        "\n",
        "table = PrettyTable() \n",
        "table.field_names = ['Model','best_param','F1_score','Accuracy']\n",
        "\n",
        "table.add_row(['linear-svm-tfidf',{'C': 2, 'kernel': 'linear'},0.7182662538699691,0.965836566136904])\n",
        "table.add_row(['linear-svm-bow',{'C': 1, 'kernel': 'linear'},0.6596638655462185,0.9594543861844576])\n",
        "table.add_row(['LR-tfidf',{'C': 400, 'max_iter': 50},0.700836820083682,0.964209735952947])\n",
        "table.add_row(['LR-bow',{'C': 20, 'max_iter': 50},0.6805845511482254,0.961706920285321])\n",
        "table.add_row(['RF-tfidf',{'max_depth': None, 'n_estimators': 1},0.39955604883462814,0.9322988361907145])\n",
        "table.add_row(['RF-bow',{'max_depth': None, 'n_estimators': 150},0.6631578947368422,0.9599549493179828])\n",
        "\n",
        "print(table)"
      ],
      "execution_count": 0,
      "outputs": [
        {
          "output_type": "stream",
          "text": [
            "+------------------+---------------------+--------------------+\n",
            "|      Model       |       F1_score      |      Accuracy      |\n",
            "+------------------+---------------------+--------------------+\n",
            "| linear-svm-tfidf |  0.463245492371706  | 0.9515705168314353 |\n",
            "|  linear-svm-bow  |  0.4693042291950887 | 0.9535727693655363 |\n",
            "|     LR-tfidf     | 0.28483920367534454 | 0.941559254160931  |\n",
            "|      LR-bow      |  0.6383928571428571 | 0.9594543861844576 |\n",
            "|     RF-tfidf     |  0.5380577427821522 | 0.955950444249781  |\n",
            "|      RF-bow      |  0.6159420289855072 | 0.9602052308847453 |\n",
            "+------------------+---------------------+--------------------+\n",
            "+------------------+------------------------------------------+---------------------+--------------------+\n",
            "|      Model       |                best_param                |       F1_score      |      Accuracy      |\n",
            "+------------------+------------------------------------------+---------------------+--------------------+\n",
            "| linear-svm-tfidf |       {'C': 2, 'kernel': 'linear'}       |  0.7182662538699691 | 0.965836566136904  |\n",
            "|  linear-svm-bow  |       {'C': 1, 'kernel': 'linear'}       |  0.6596638655462185 | 0.9594543861844576 |\n",
            "|     LR-tfidf     |        {'C': 400, 'max_iter': 50}        |  0.700836820083682  | 0.964209735952947  |\n",
            "|      LR-bow      |        {'C': 20, 'max_iter': 50}         |  0.6805845511482254 | 0.961706920285321  |\n",
            "|     RF-tfidf     |  {'max_depth': None, 'n_estimators': 1}  | 0.39955604883462814 | 0.9322988361907145 |\n",
            "|      RF-bow      | {'max_depth': None, 'n_estimators': 150} |  0.6631578947368422 | 0.9599549493179828 |\n",
            "+------------------+------------------------------------------+---------------------+--------------------+\n"
          ],
          "name": "stdout"
        }
      ]
    },
    {
      "cell_type": "code",
      "metadata": {
        "id": "xxemqOrarNge",
        "colab_type": "code",
        "colab": {}
      },
      "source": [
        ""
      ],
      "execution_count": 0,
      "outputs": []
    }
  ]
}